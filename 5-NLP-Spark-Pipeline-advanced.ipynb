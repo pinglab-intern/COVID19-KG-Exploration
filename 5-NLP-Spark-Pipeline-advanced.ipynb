{
 "cells": [
  {
   "cell_type": "markdown",
   "metadata": {},
   "source": [
    "### Spark Pipeline Advanced"
   ]
  },
  {
   "cell_type": "markdown",
   "metadata": {},
   "source": [
    "In this notebook, we will discuss how to search documents based on the Disease described in the CVD tree."
   ]
  },
  {
   "cell_type": "code",
   "execution_count": 1,
   "metadata": {},
   "outputs": [],
   "source": [
    "import pandas as pd\n",
    "import json\n",
    "from neo4j import GraphDatabase\n",
    "import csv"
   ]
  },
  {
   "cell_type": "markdown",
   "metadata": {},
   "source": [
    "#### Authentication to access covidgraph.org graph"
   ]
  },
  {
   "cell_type": "code",
   "execution_count": 2,
   "metadata": {},
   "outputs": [],
   "source": [
    "covid_browser = \"https://db.covidgraph.org/browser/\"\n",
    "covid_url = \"bolt://db.covidgraph.org:7687\"\n",
    "user = \"public\"\n",
    "password = \"corona\"\n",
    "\n",
    "#driver = GraphDatabase.driver(uri, auth=(user, password))\n",
    "driver = GraphDatabase.driver(uri = covid_url,\\\n",
    "                              auth = (user,password))"
   ]
  },
  {
   "cell_type": "markdown",
   "metadata": {},
   "source": [
    "##### Example of a paper node in the covid graph"
   ]
  },
  {
   "cell_type": "code",
   "execution_count": 9,
   "metadata": {},
   "outputs": [
    {
     "name": "stdout",
     "output_type": "stream",
     "text": [
      "<Record n=<Node id=2385529 labels={'Paper'} properties={'cord_uid': 'ocp6yodg', 'cord19-fulltext_hash': 'b8957d48b6bcf17b7b51e004d19314ce77f653a1', 'journal': 'BMC Infect Dis', 'publish_time': '2011-12-28', 'source': 'PMC', 'title': 'Timeliness of contact tracing among flight passengers for influenza A/H1N1 2009', '_hash_id': '84b069ab23fb0ecebe6925af9c2b18ae', 'url': 'https://www.ncbi.nlm.nih.gov/pmc/articles/PMC3265549/'}>>\n"
     ]
    }
   ],
   "source": [
    "paper_query = \"MATCH (n:Paper) RETURN n LIMIT 1\"\n",
    "Data = []\n",
    "with driver.session() as session:\n",
    "    info = session.run(paper_query)\n",
    "    for item in info:\n",
    "        print(item)"
   ]
  },
  {
   "cell_type": "markdown",
   "metadata": {},
   "source": [
    "#### Extract Fragments"
   ]
  },
  {
   "cell_type": "code",
   "execution_count": 80,
   "metadata": {},
   "outputs": [],
   "source": [
    "TEXT = []\n",
    "query = \"MATCH (p:Paper)-[:PAPER_HAS_BODYTEXTCOLLECTION]-(:BodyTextCollection)\\\n",
    "        -[:BODYTEXTCOLLECTION_HAS_BODYTEXT]-(a:BodyText)-[:HAS_FRAGMENT]\\\n",
    "        -(f:Fragment)-[:MENTIONS]->(g:GeneSymbol) RETURN p.cord_uid, g.taxid, f.text, a.text limit 100\"\n",
    "\n",
    "with driver.session() as session:\n",
    "    info = session.run(query)\n",
    "    for item in info:\n",
    "        #print(item)\n",
    "        TEXT.append({\"chord_id\" : item.values()[0],\\\n",
    "                     \"gene_id\":item.values()[1],\n",
    "                     \"fragment\":item.values()[2],\n",
    "                     \"text\":item.values()[3]})"
   ]
  },
  {
   "cell_type": "code",
   "execution_count": 81,
   "metadata": {},
   "outputs": [
    {
     "data": {
      "text/plain": [
       "[{'chord_id': 'ocp6yodg',\n",
       "  'fragment': 'SARS and viral hemorrhagic fevers)',\n",
       "  'gene_id': '9606',\n",
       "  'text': 'In hindsight, the limited burden of disease of influenza A/H1N1 2009 did not justify contact tracing efforts. The main reason for flight contact tracing is raising alertness for possible exposure to uncommon infectious diseases, enabling early recognition and treatment of the disease and timely installation of control measures (e.g. SARS and viral hemorrhagic fevers). For some diseases, PEP is indicated as well. The risk assessment upon which the decision to install contact tracing is based should incorporate -apart from an evaluation of the severity and rarity of disease -an assessment of the required timeliness of effective control measures [23] . The expected time for laboratory confirmation of index cases and identification and tracing of contacts should be related to the maximum period during which quarantine, PEP or other control measures are effective in order to decide on the benefit of this time consuming procedure. Lastly, also cabin crew should be aware of their role of signaling infectious patients. In consultation with medical professionals, direct control measures can be installed, as well as medical evaluation after landing.'},\n",
       " {'chord_id': 'ocp6yodg',\n",
       "  'fragment': \"Other nation's health authorities will make a request to the CIb in case they diagnosed a patient which arrived at Schiphol airport for transit while being infectious\",\n",
       "  'gene_id': '9606',\n",
       "  'text': \"The procedure for contact tracing is complex, see Figure 1 . Requests for contact tracing to the CIb for Dutch index patients originate from any Dutch MHS which identifies a patient who traveled by plane while being contagious for an infectious disease which requires contact tracing. Other nation's health authorities will make a request to the CIb in case they diagnosed a patient which arrived at Schiphol airport for transit while being infectious. Requests for CT in the last group are submitted to the National Focal Point (NFP) or through the Early Warning and Response system of the EU (EWRS). The CIb verifies laboratory confirmation, and the indication for contact tracing regarding flight duration. The MHS of the airport where the specific flight landed coordinates contact tracing for flight passengers. In case of Schiphol, MHS Kennemerland approaches the involved airline company requesting the passenger list. The airline provides passenger lists with at least passenger names, seat numbers and booking or contact details. MHS Kennemerland then completes contact details through booking offices or using other search methods. Close contacts living in the Netherlands are traced by the respective Dutch MHS's. For tracing foreign contacts, the CIb sends a notification with contact details to the NFP of the country of final destination, or through the EWRS system for EU countries.\"}]"
      ]
     },
     "execution_count": 81,
     "metadata": {},
     "output_type": "execute_result"
    }
   ],
   "source": [
    "TEXT[0:2]"
   ]
  },
  {
   "cell_type": "markdown",
   "metadata": {},
   "source": [
    "### Spark Pipeline"
   ]
  },
  {
   "cell_type": "code",
   "execution_count": 82,
   "metadata": {},
   "outputs": [],
   "source": [
    "import pyspark\n",
    "from pyspark import SparkConf\n",
    "from pyspark.sql import SparkSession\n",
    "from pyspark.sql import functions as fun\n",
    "from pyspark.sql.types import *"
   ]
  },
  {
   "cell_type": "code",
   "execution_count": 83,
   "metadata": {},
   "outputs": [],
   "source": [
    "from sparknlp.base import DocumentAssembler, Finisher"
   ]
  },
  {
   "cell_type": "markdown",
   "metadata": {},
   "source": [
    "#### Create Spark Session"
   ]
  },
  {
   "cell_type": "code",
   "execution_count": 84,
   "metadata": {},
   "outputs": [],
   "source": [
    "packages = ','.join([\n",
    "    \"com.johnsnowlabs.nlp:spark-nlp_2.11:2.5.1\",\n",
    "])\n",
    "\n",
    "spark_conf = SparkConf()\n",
    "spark_conf = spark_conf.setAppName('spark1')\n",
    "spark_conf = spark_conf.setAppName('master[*]')\n",
    "spark_conf = spark_conf.set(\"spark.jars.packages\", packages)\n",
    "\n",
    "spark = SparkSession.builder.config(conf=spark_conf).getOrCreate()"
   ]
  },
  {
   "cell_type": "code",
   "execution_count": 87,
   "metadata": {},
   "outputs": [],
   "source": [
    "schema = StructType([\n",
    "    StructField('chord_id', StringType()),\n",
    "    StructField('gene_id', StringType()),\n",
    "    StructField('fragment', StringType()),\n",
    "    StructField('text', StringType()),\n",
    "    \n",
    "])\n",
    "texts_df = spark.createDataFrame(TEXT, schema)"
   ]
  },
  {
   "cell_type": "code",
   "execution_count": 88,
   "metadata": {},
   "outputs": [
    {
     "name": "stdout",
     "output_type": "stream",
     "text": [
      "+--------+-------+--------------------+--------------------+\n",
      "|chord_id|gene_id|            fragment|                text|\n",
      "+--------+-------+--------------------+--------------------+\n",
      "|ocp6yodg|   9606|SARS and viral he...|In hindsight, the...|\n",
      "|ocp6yodg|   9606|Other nation's he...|The procedure for...|\n",
      "|ocp6yodg|   9606|MHS Kennemerland ...|The procedure for...|\n",
      "|ocp6yodg|   9606|Requests for cont...|The procedure for...|\n",
      "|ocp6yodg|   9606|Requests for cont...|The procedure for...|\n",
      "|ocp6yodg|   9606|In case of Schiph...|The procedure for...|\n",
      "|ocp6yodg|   9606|The CIb verifies ...|The procedure for...|\n",
      "|ocp6yodg|   9606|The MHS of the ai...|The procedure for...|\n",
      "|ocp6yodg|   9606|For tracing forei...|The procedure for...|\n",
      "|ocp6yodg|   9606|The other interva...|For the 17 comple...|\n",
      "|ocp6yodg|   9606|For the 17 comple...|For the 17 comple...|\n",
      "|ocp6yodg|   9606|After acceptance ...|For the 17 comple...|\n",
      "|ocp6yodg|   9606|Interval III of t...|For the 17 comple...|\n",
      "|ocp6yodg|   9606|Interval III of t...|For the 17 comple...|\n",
      "|ocp6yodg|   9606|Overall delay in ...|For the 17 comple...|\n",
      "|ocp6yodg|   9606|Although one migh...|Although one migh...|\n",
      "|ocp6yodg|   9606|Of the 21 request...|In the period Apr...|\n",
      "|ruba65p5|   9606|This random-effec...|Previous studies ...|\n",
      "|ruba65p5|   9606|This random-effec...|Previous studies ...|\n",
      "|ruba65p5|   9606|For influenza B, ...|Among subjects wi...|\n",
      "+--------+-------+--------------------+--------------------+\n",
      "only showing top 20 rows\n",
      "\n"
     ]
    }
   ],
   "source": [
    "texts_df.show()"
   ]
  },
  {
   "cell_type": "markdown",
   "metadata": {},
   "source": [
    "#### Document Accembler"
   ]
  },
  {
   "cell_type": "code",
   "execution_count": 89,
   "metadata": {},
   "outputs": [],
   "source": [
    "document_assembler = DocumentAssembler()\\\n",
    "    .setInputCol('fragment')\\\n",
    "    .setOutputCol('document')\\\n",
    "    .setIdCol('chord_id')"
   ]
  },
  {
   "cell_type": "code",
   "execution_count": 90,
   "metadata": {},
   "outputs": [],
   "source": [
    "docs = document_assembler.transform(texts_df)"
   ]
  },
  {
   "cell_type": "code",
   "execution_count": 91,
   "metadata": {},
   "outputs": [
    {
     "data": {
      "text/html": [
       "<div>\n",
       "<style scoped>\n",
       "    .dataframe tbody tr th:only-of-type {\n",
       "        vertical-align: middle;\n",
       "    }\n",
       "\n",
       "    .dataframe tbody tr th {\n",
       "        vertical-align: top;\n",
       "    }\n",
       "\n",
       "    .dataframe thead th {\n",
       "        text-align: right;\n",
       "    }\n",
       "</style>\n",
       "<table border=\"1\" class=\"dataframe\">\n",
       "  <thead>\n",
       "    <tr style=\"text-align: right;\">\n",
       "      <th></th>\n",
       "      <th>chord_id</th>\n",
       "      <th>gene_id</th>\n",
       "      <th>fragment</th>\n",
       "      <th>text</th>\n",
       "      <th>document</th>\n",
       "    </tr>\n",
       "  </thead>\n",
       "  <tbody>\n",
       "    <tr>\n",
       "      <th>0</th>\n",
       "      <td>ocp6yodg</td>\n",
       "      <td>9606</td>\n",
       "      <td>SARS and viral hemorrhagic fevers)</td>\n",
       "      <td>In hindsight, the limited burden of disease of...</td>\n",
       "      <td>[(document, 0, 33, SARS and viral hemorrhagic ...</td>\n",
       "    </tr>\n",
       "    <tr>\n",
       "      <th>1</th>\n",
       "      <td>ocp6yodg</td>\n",
       "      <td>9606</td>\n",
       "      <td>Other nation's health authorities will make a ...</td>\n",
       "      <td>The procedure for contact tracing is complex, ...</td>\n",
       "      <td>[(document, 0, 165, Other nation's health auth...</td>\n",
       "    </tr>\n",
       "    <tr>\n",
       "      <th>2</th>\n",
       "      <td>ocp6yodg</td>\n",
       "      <td>9606</td>\n",
       "      <td>MHS Kennemerland then completes contact detail...</td>\n",
       "      <td>The procedure for contact tracing is complex, ...</td>\n",
       "      <td>[(document, 0, 100, MHS Kennemerland then comp...</td>\n",
       "    </tr>\n",
       "    <tr>\n",
       "      <th>3</th>\n",
       "      <td>ocp6yodg</td>\n",
       "      <td>9606</td>\n",
       "      <td>Requests for contact tracing to the CIb for Du...</td>\n",
       "      <td>The procedure for contact tracing is complex, ...</td>\n",
       "      <td>[(document, 0, 221, Requests for contact traci...</td>\n",
       "    </tr>\n",
       "    <tr>\n",
       "      <th>4</th>\n",
       "      <td>ocp6yodg</td>\n",
       "      <td>9606</td>\n",
       "      <td>Requests for contact tracing to the CIb for Du...</td>\n",
       "      <td>The procedure for contact tracing is complex, ...</td>\n",
       "      <td>[(document, 0, 221, Requests for contact traci...</td>\n",
       "    </tr>\n",
       "  </tbody>\n",
       "</table>\n",
       "</div>"
      ],
      "text/plain": [
       "   chord_id gene_id                                           fragment  \\\n",
       "0  ocp6yodg    9606                 SARS and viral hemorrhagic fevers)   \n",
       "1  ocp6yodg    9606  Other nation's health authorities will make a ...   \n",
       "2  ocp6yodg    9606  MHS Kennemerland then completes contact detail...   \n",
       "3  ocp6yodg    9606  Requests for contact tracing to the CIb for Du...   \n",
       "4  ocp6yodg    9606  Requests for contact tracing to the CIb for Du...   \n",
       "\n",
       "                                                text  \\\n",
       "0  In hindsight, the limited burden of disease of...   \n",
       "1  The procedure for contact tracing is complex, ...   \n",
       "2  The procedure for contact tracing is complex, ...   \n",
       "3  The procedure for contact tracing is complex, ...   \n",
       "4  The procedure for contact tracing is complex, ...   \n",
       "\n",
       "                                            document  \n",
       "0  [(document, 0, 33, SARS and viral hemorrhagic ...  \n",
       "1  [(document, 0, 165, Other nation's health auth...  \n",
       "2  [(document, 0, 100, MHS Kennemerland then comp...  \n",
       "3  [(document, 0, 221, Requests for contact traci...  \n",
       "4  [(document, 0, 221, Requests for contact traci...  "
      ]
     },
     "execution_count": 91,
     "metadata": {},
     "output_type": "execute_result"
    }
   ],
   "source": [
    "docs.limit(5).toPandas()"
   ]
  },
  {
   "cell_type": "code",
   "execution_count": 92,
   "metadata": {},
   "outputs": [
    {
     "data": {
      "text/plain": [
       "{'annotatorType': 'document',\n",
       " 'begin': 0,\n",
       " 'embeddings': [],\n",
       " 'end': 33,\n",
       " 'metadata': {'id': 'ocp6yodg', 'sentence': '0'},\n",
       " 'result': 'SARS and viral hemorrhagic fevers)'}"
      ]
     },
     "execution_count": 92,
     "metadata": {},
     "output_type": "execute_result"
    }
   ],
   "source": [
    "docs.first()['document'][0].asDict()"
   ]
  },
  {
   "cell_type": "markdown",
   "metadata": {},
   "source": [
    "#### Sentence Detector"
   ]
  },
  {
   "cell_type": "code",
   "execution_count": 93,
   "metadata": {},
   "outputs": [],
   "source": [
    "from sparknlp.annotator import SentenceDetector\n",
    "\n",
    "sent_detector = SentenceDetector()\\\n",
    "    .setInputCols(['document'])\\\n",
    "    .setOutputCol('sentences')"
   ]
  },
  {
   "cell_type": "code",
   "execution_count": 94,
   "metadata": {},
   "outputs": [],
   "source": [
    "sentences = sent_detector.transform(docs)"
   ]
  },
  {
   "cell_type": "code",
   "execution_count": 95,
   "metadata": {},
   "outputs": [
    {
     "data": {
      "text/html": [
       "<div>\n",
       "<style scoped>\n",
       "    .dataframe tbody tr th:only-of-type {\n",
       "        vertical-align: middle;\n",
       "    }\n",
       "\n",
       "    .dataframe tbody tr th {\n",
       "        vertical-align: top;\n",
       "    }\n",
       "\n",
       "    .dataframe thead th {\n",
       "        text-align: right;\n",
       "    }\n",
       "</style>\n",
       "<table border=\"1\" class=\"dataframe\">\n",
       "  <thead>\n",
       "    <tr style=\"text-align: right;\">\n",
       "      <th></th>\n",
       "      <th>chord_id</th>\n",
       "      <th>gene_id</th>\n",
       "      <th>fragment</th>\n",
       "      <th>text</th>\n",
       "      <th>document</th>\n",
       "      <th>sentences</th>\n",
       "    </tr>\n",
       "  </thead>\n",
       "  <tbody>\n",
       "    <tr>\n",
       "      <th>0</th>\n",
       "      <td>ocp6yodg</td>\n",
       "      <td>9606</td>\n",
       "      <td>SARS and viral hemorrhagic fevers)</td>\n",
       "      <td>In hindsight, the limited burden of disease of...</td>\n",
       "      <td>[(document, 0, 33, SARS and viral hemorrhagic ...</td>\n",
       "      <td>[(document, 0, 33, SARS and viral hemorrhagic ...</td>\n",
       "    </tr>\n",
       "    <tr>\n",
       "      <th>1</th>\n",
       "      <td>ocp6yodg</td>\n",
       "      <td>9606</td>\n",
       "      <td>Other nation's health authorities will make a ...</td>\n",
       "      <td>The procedure for contact tracing is complex, ...</td>\n",
       "      <td>[(document, 0, 165, Other nation's health auth...</td>\n",
       "      <td>[(document, 0, 165, Other nation's health auth...</td>\n",
       "    </tr>\n",
       "    <tr>\n",
       "      <th>2</th>\n",
       "      <td>ocp6yodg</td>\n",
       "      <td>9606</td>\n",
       "      <td>MHS Kennemerland then completes contact detail...</td>\n",
       "      <td>The procedure for contact tracing is complex, ...</td>\n",
       "      <td>[(document, 0, 100, MHS Kennemerland then comp...</td>\n",
       "      <td>[(document, 0, 100, MHS Kennemerland then comp...</td>\n",
       "    </tr>\n",
       "    <tr>\n",
       "      <th>3</th>\n",
       "      <td>ocp6yodg</td>\n",
       "      <td>9606</td>\n",
       "      <td>Requests for contact tracing to the CIb for Du...</td>\n",
       "      <td>The procedure for contact tracing is complex, ...</td>\n",
       "      <td>[(document, 0, 221, Requests for contact traci...</td>\n",
       "      <td>[(document, 0, 221, Requests for contact traci...</td>\n",
       "    </tr>\n",
       "    <tr>\n",
       "      <th>4</th>\n",
       "      <td>ocp6yodg</td>\n",
       "      <td>9606</td>\n",
       "      <td>Requests for contact tracing to the CIb for Du...</td>\n",
       "      <td>The procedure for contact tracing is complex, ...</td>\n",
       "      <td>[(document, 0, 221, Requests for contact traci...</td>\n",
       "      <td>[(document, 0, 221, Requests for contact traci...</td>\n",
       "    </tr>\n",
       "  </tbody>\n",
       "</table>\n",
       "</div>"
      ],
      "text/plain": [
       "   chord_id gene_id                                           fragment  \\\n",
       "0  ocp6yodg    9606                 SARS and viral hemorrhagic fevers)   \n",
       "1  ocp6yodg    9606  Other nation's health authorities will make a ...   \n",
       "2  ocp6yodg    9606  MHS Kennemerland then completes contact detail...   \n",
       "3  ocp6yodg    9606  Requests for contact tracing to the CIb for Du...   \n",
       "4  ocp6yodg    9606  Requests for contact tracing to the CIb for Du...   \n",
       "\n",
       "                                                text  \\\n",
       "0  In hindsight, the limited burden of disease of...   \n",
       "1  The procedure for contact tracing is complex, ...   \n",
       "2  The procedure for contact tracing is complex, ...   \n",
       "3  The procedure for contact tracing is complex, ...   \n",
       "4  The procedure for contact tracing is complex, ...   \n",
       "\n",
       "                                            document  \\\n",
       "0  [(document, 0, 33, SARS and viral hemorrhagic ...   \n",
       "1  [(document, 0, 165, Other nation's health auth...   \n",
       "2  [(document, 0, 100, MHS Kennemerland then comp...   \n",
       "3  [(document, 0, 221, Requests for contact traci...   \n",
       "4  [(document, 0, 221, Requests for contact traci...   \n",
       "\n",
       "                                           sentences  \n",
       "0  [(document, 0, 33, SARS and viral hemorrhagic ...  \n",
       "1  [(document, 0, 165, Other nation's health auth...  \n",
       "2  [(document, 0, 100, MHS Kennemerland then comp...  \n",
       "3  [(document, 0, 221, Requests for contact traci...  \n",
       "4  [(document, 0, 221, Requests for contact traci...  "
      ]
     },
     "execution_count": 95,
     "metadata": {},
     "output_type": "execute_result"
    }
   ],
   "source": [
    "sentences.limit(5).toPandas()"
   ]
  },
  {
   "cell_type": "markdown",
   "metadata": {},
   "source": [
    "#### Tockenizer"
   ]
  },
  {
   "cell_type": "code",
   "execution_count": 96,
   "metadata": {},
   "outputs": [],
   "source": [
    "from sparknlp.annotator import Tokenizer\n",
    "\n",
    "tokenizer = Tokenizer()\\\n",
    "    .setInputCols(['sentences'])\\\n",
    "    .setOutputCol('tokens')\\\n",
    "    .fit(sentences)"
   ]
  },
  {
   "cell_type": "code",
   "execution_count": 97,
   "metadata": {},
   "outputs": [
    {
     "data": {
      "text/html": [
       "<div>\n",
       "<style scoped>\n",
       "    .dataframe tbody tr th:only-of-type {\n",
       "        vertical-align: middle;\n",
       "    }\n",
       "\n",
       "    .dataframe tbody tr th {\n",
       "        vertical-align: top;\n",
       "    }\n",
       "\n",
       "    .dataframe thead th {\n",
       "        text-align: right;\n",
       "    }\n",
       "</style>\n",
       "<table border=\"1\" class=\"dataframe\">\n",
       "  <thead>\n",
       "    <tr style=\"text-align: right;\">\n",
       "      <th></th>\n",
       "      <th>chord_id</th>\n",
       "      <th>gene_id</th>\n",
       "      <th>fragment</th>\n",
       "      <th>text</th>\n",
       "      <th>document</th>\n",
       "      <th>sentences</th>\n",
       "      <th>tokens</th>\n",
       "    </tr>\n",
       "  </thead>\n",
       "  <tbody>\n",
       "    <tr>\n",
       "      <th>0</th>\n",
       "      <td>ocp6yodg</td>\n",
       "      <td>9606</td>\n",
       "      <td>SARS and viral hemorrhagic fevers)</td>\n",
       "      <td>In hindsight, the limited burden of disease of...</td>\n",
       "      <td>[(document, 0, 33, SARS and viral hemorrhagic ...</td>\n",
       "      <td>[(document, 0, 33, SARS and viral hemorrhagic ...</td>\n",
       "      <td>[(token, 0, 3, SARS, {'sentence': '0'}, []), (...</td>\n",
       "    </tr>\n",
       "    <tr>\n",
       "      <th>1</th>\n",
       "      <td>ocp6yodg</td>\n",
       "      <td>9606</td>\n",
       "      <td>Other nation's health authorities will make a ...</td>\n",
       "      <td>The procedure for contact tracing is complex, ...</td>\n",
       "      <td>[(document, 0, 165, Other nation's health auth...</td>\n",
       "      <td>[(document, 0, 165, Other nation's health auth...</td>\n",
       "      <td>[(token, 0, 4, Other, {'sentence': '0'}, []), ...</td>\n",
       "    </tr>\n",
       "    <tr>\n",
       "      <th>2</th>\n",
       "      <td>ocp6yodg</td>\n",
       "      <td>9606</td>\n",
       "      <td>MHS Kennemerland then completes contact detail...</td>\n",
       "      <td>The procedure for contact tracing is complex, ...</td>\n",
       "      <td>[(document, 0, 100, MHS Kennemerland then comp...</td>\n",
       "      <td>[(document, 0, 100, MHS Kennemerland then comp...</td>\n",
       "      <td>[(token, 0, 2, MHS, {'sentence': '0'}, []), (t...</td>\n",
       "    </tr>\n",
       "    <tr>\n",
       "      <th>3</th>\n",
       "      <td>ocp6yodg</td>\n",
       "      <td>9606</td>\n",
       "      <td>Requests for contact tracing to the CIb for Du...</td>\n",
       "      <td>The procedure for contact tracing is complex, ...</td>\n",
       "      <td>[(document, 0, 221, Requests for contact traci...</td>\n",
       "      <td>[(document, 0, 221, Requests for contact traci...</td>\n",
       "      <td>[(token, 0, 7, Requests, {'sentence': '0'}, []...</td>\n",
       "    </tr>\n",
       "    <tr>\n",
       "      <th>4</th>\n",
       "      <td>ocp6yodg</td>\n",
       "      <td>9606</td>\n",
       "      <td>Requests for contact tracing to the CIb for Du...</td>\n",
       "      <td>The procedure for contact tracing is complex, ...</td>\n",
       "      <td>[(document, 0, 221, Requests for contact traci...</td>\n",
       "      <td>[(document, 0, 221, Requests for contact traci...</td>\n",
       "      <td>[(token, 0, 7, Requests, {'sentence': '0'}, []...</td>\n",
       "    </tr>\n",
       "  </tbody>\n",
       "</table>\n",
       "</div>"
      ],
      "text/plain": [
       "   chord_id gene_id                                           fragment  \\\n",
       "0  ocp6yodg    9606                 SARS and viral hemorrhagic fevers)   \n",
       "1  ocp6yodg    9606  Other nation's health authorities will make a ...   \n",
       "2  ocp6yodg    9606  MHS Kennemerland then completes contact detail...   \n",
       "3  ocp6yodg    9606  Requests for contact tracing to the CIb for Du...   \n",
       "4  ocp6yodg    9606  Requests for contact tracing to the CIb for Du...   \n",
       "\n",
       "                                                text  \\\n",
       "0  In hindsight, the limited burden of disease of...   \n",
       "1  The procedure for contact tracing is complex, ...   \n",
       "2  The procedure for contact tracing is complex, ...   \n",
       "3  The procedure for contact tracing is complex, ...   \n",
       "4  The procedure for contact tracing is complex, ...   \n",
       "\n",
       "                                            document  \\\n",
       "0  [(document, 0, 33, SARS and viral hemorrhagic ...   \n",
       "1  [(document, 0, 165, Other nation's health auth...   \n",
       "2  [(document, 0, 100, MHS Kennemerland then comp...   \n",
       "3  [(document, 0, 221, Requests for contact traci...   \n",
       "4  [(document, 0, 221, Requests for contact traci...   \n",
       "\n",
       "                                           sentences  \\\n",
       "0  [(document, 0, 33, SARS and viral hemorrhagic ...   \n",
       "1  [(document, 0, 165, Other nation's health auth...   \n",
       "2  [(document, 0, 100, MHS Kennemerland then comp...   \n",
       "3  [(document, 0, 221, Requests for contact traci...   \n",
       "4  [(document, 0, 221, Requests for contact traci...   \n",
       "\n",
       "                                              tokens  \n",
       "0  [(token, 0, 3, SARS, {'sentence': '0'}, []), (...  \n",
       "1  [(token, 0, 4, Other, {'sentence': '0'}, []), ...  \n",
       "2  [(token, 0, 2, MHS, {'sentence': '0'}, []), (t...  \n",
       "3  [(token, 0, 7, Requests, {'sentence': '0'}, []...  \n",
       "4  [(token, 0, 7, Requests, {'sentence': '0'}, []...  "
      ]
     },
     "execution_count": 97,
     "metadata": {},
     "output_type": "execute_result"
    }
   ],
   "source": [
    "tokens = tokenizer.transform(sentences)\n",
    "tokens.limit(5).toPandas()"
   ]
  },
  {
   "cell_type": "markdown",
   "metadata": {},
   "source": [
    "#### Lemmatizer"
   ]
  },
  {
   "cell_type": "code",
   "execution_count": 98,
   "metadata": {},
   "outputs": [],
   "source": [
    "! touch en_lemmas.txt"
   ]
  },
  {
   "cell_type": "code",
   "execution_count": 99,
   "metadata": {},
   "outputs": [],
   "source": [
    "from sparknlp.annotator import Lemmatizer\n",
    "\n",
    "lemmatizer = Lemmatizer() \\\n",
    "  .setInputCols([\"tokens\"]) \\\n",
    "  .setOutputCol(\"lemma\") \\\n",
    "  .setDictionary('en_lemmas.txt', '\\t', ',')\\\n",
    "  .fit(tokens)"
   ]
  },
  {
   "cell_type": "code",
   "execution_count": 100,
   "metadata": {},
   "outputs": [
    {
     "data": {
      "text/html": [
       "<div>\n",
       "<style scoped>\n",
       "    .dataframe tbody tr th:only-of-type {\n",
       "        vertical-align: middle;\n",
       "    }\n",
       "\n",
       "    .dataframe tbody tr th {\n",
       "        vertical-align: top;\n",
       "    }\n",
       "\n",
       "    .dataframe thead th {\n",
       "        text-align: right;\n",
       "    }\n",
       "</style>\n",
       "<table border=\"1\" class=\"dataframe\">\n",
       "  <thead>\n",
       "    <tr style=\"text-align: right;\">\n",
       "      <th></th>\n",
       "      <th>chord_id</th>\n",
       "      <th>gene_id</th>\n",
       "      <th>fragment</th>\n",
       "      <th>text</th>\n",
       "      <th>document</th>\n",
       "      <th>sentences</th>\n",
       "      <th>tokens</th>\n",
       "      <th>lemma</th>\n",
       "    </tr>\n",
       "  </thead>\n",
       "  <tbody>\n",
       "    <tr>\n",
       "      <th>0</th>\n",
       "      <td>ocp6yodg</td>\n",
       "      <td>9606</td>\n",
       "      <td>SARS and viral hemorrhagic fevers)</td>\n",
       "      <td>In hindsight, the limited burden of disease of...</td>\n",
       "      <td>[(document, 0, 33, SARS and viral hemorrhagic ...</td>\n",
       "      <td>[(document, 0, 33, SARS and viral hemorrhagic ...</td>\n",
       "      <td>[(token, 0, 3, SARS, {'sentence': '0'}, []), (...</td>\n",
       "      <td>[(token, 0, 3, SARS, {'sentence': '0'}, []), (...</td>\n",
       "    </tr>\n",
       "    <tr>\n",
       "      <th>1</th>\n",
       "      <td>ocp6yodg</td>\n",
       "      <td>9606</td>\n",
       "      <td>Other nation's health authorities will make a ...</td>\n",
       "      <td>The procedure for contact tracing is complex, ...</td>\n",
       "      <td>[(document, 0, 165, Other nation's health auth...</td>\n",
       "      <td>[(document, 0, 165, Other nation's health auth...</td>\n",
       "      <td>[(token, 0, 4, Other, {'sentence': '0'}, []), ...</td>\n",
       "      <td>[(token, 0, 4, Other, {'sentence': '0'}, []), ...</td>\n",
       "    </tr>\n",
       "    <tr>\n",
       "      <th>2</th>\n",
       "      <td>ocp6yodg</td>\n",
       "      <td>9606</td>\n",
       "      <td>MHS Kennemerland then completes contact detail...</td>\n",
       "      <td>The procedure for contact tracing is complex, ...</td>\n",
       "      <td>[(document, 0, 100, MHS Kennemerland then comp...</td>\n",
       "      <td>[(document, 0, 100, MHS Kennemerland then comp...</td>\n",
       "      <td>[(token, 0, 2, MHS, {'sentence': '0'}, []), (t...</td>\n",
       "      <td>[(token, 0, 2, MHS, {'sentence': '0'}, []), (t...</td>\n",
       "    </tr>\n",
       "    <tr>\n",
       "      <th>3</th>\n",
       "      <td>ocp6yodg</td>\n",
       "      <td>9606</td>\n",
       "      <td>Requests for contact tracing to the CIb for Du...</td>\n",
       "      <td>The procedure for contact tracing is complex, ...</td>\n",
       "      <td>[(document, 0, 221, Requests for contact traci...</td>\n",
       "      <td>[(document, 0, 221, Requests for contact traci...</td>\n",
       "      <td>[(token, 0, 7, Requests, {'sentence': '0'}, []...</td>\n",
       "      <td>[(token, 0, 7, Requests, {'sentence': '0'}, []...</td>\n",
       "    </tr>\n",
       "    <tr>\n",
       "      <th>4</th>\n",
       "      <td>ocp6yodg</td>\n",
       "      <td>9606</td>\n",
       "      <td>Requests for contact tracing to the CIb for Du...</td>\n",
       "      <td>The procedure for contact tracing is complex, ...</td>\n",
       "      <td>[(document, 0, 221, Requests for contact traci...</td>\n",
       "      <td>[(document, 0, 221, Requests for contact traci...</td>\n",
       "      <td>[(token, 0, 7, Requests, {'sentence': '0'}, []...</td>\n",
       "      <td>[(token, 0, 7, Requests, {'sentence': '0'}, []...</td>\n",
       "    </tr>\n",
       "  </tbody>\n",
       "</table>\n",
       "</div>"
      ],
      "text/plain": [
       "   chord_id gene_id                                           fragment  \\\n",
       "0  ocp6yodg    9606                 SARS and viral hemorrhagic fevers)   \n",
       "1  ocp6yodg    9606  Other nation's health authorities will make a ...   \n",
       "2  ocp6yodg    9606  MHS Kennemerland then completes contact detail...   \n",
       "3  ocp6yodg    9606  Requests for contact tracing to the CIb for Du...   \n",
       "4  ocp6yodg    9606  Requests for contact tracing to the CIb for Du...   \n",
       "\n",
       "                                                text  \\\n",
       "0  In hindsight, the limited burden of disease of...   \n",
       "1  The procedure for contact tracing is complex, ...   \n",
       "2  The procedure for contact tracing is complex, ...   \n",
       "3  The procedure for contact tracing is complex, ...   \n",
       "4  The procedure for contact tracing is complex, ...   \n",
       "\n",
       "                                            document  \\\n",
       "0  [(document, 0, 33, SARS and viral hemorrhagic ...   \n",
       "1  [(document, 0, 165, Other nation's health auth...   \n",
       "2  [(document, 0, 100, MHS Kennemerland then comp...   \n",
       "3  [(document, 0, 221, Requests for contact traci...   \n",
       "4  [(document, 0, 221, Requests for contact traci...   \n",
       "\n",
       "                                           sentences  \\\n",
       "0  [(document, 0, 33, SARS and viral hemorrhagic ...   \n",
       "1  [(document, 0, 165, Other nation's health auth...   \n",
       "2  [(document, 0, 100, MHS Kennemerland then comp...   \n",
       "3  [(document, 0, 221, Requests for contact traci...   \n",
       "4  [(document, 0, 221, Requests for contact traci...   \n",
       "\n",
       "                                              tokens  \\\n",
       "0  [(token, 0, 3, SARS, {'sentence': '0'}, []), (...   \n",
       "1  [(token, 0, 4, Other, {'sentence': '0'}, []), ...   \n",
       "2  [(token, 0, 2, MHS, {'sentence': '0'}, []), (t...   \n",
       "3  [(token, 0, 7, Requests, {'sentence': '0'}, []...   \n",
       "4  [(token, 0, 7, Requests, {'sentence': '0'}, []...   \n",
       "\n",
       "                                               lemma  \n",
       "0  [(token, 0, 3, SARS, {'sentence': '0'}, []), (...  \n",
       "1  [(token, 0, 4, Other, {'sentence': '0'}, []), ...  \n",
       "2  [(token, 0, 2, MHS, {'sentence': '0'}, []), (t...  \n",
       "3  [(token, 0, 7, Requests, {'sentence': '0'}, []...  \n",
       "4  [(token, 0, 7, Requests, {'sentence': '0'}, []...  "
      ]
     },
     "execution_count": 100,
     "metadata": {},
     "output_type": "execute_result"
    }
   ],
   "source": [
    "lemmas = lemmatizer.transform(tokens)\n",
    "lemmas.limit(5).toPandas()"
   ]
  },
  {
   "cell_type": "markdown",
   "metadata": {},
   "source": [
    "#### POS Tagger"
   ]
  },
  {
   "cell_type": "code",
   "execution_count": 101,
   "metadata": {},
   "outputs": [],
   "source": [
    "from sparknlp.annotator import PerceptronModel"
   ]
  },
  {
   "cell_type": "code",
   "execution_count": 102,
   "metadata": {},
   "outputs": [
    {
     "name": "stdout",
     "output_type": "stream",
     "text": [
      "pos_anc download started this may take some time.\n",
      "Approximate size to download 4.3 MB\n",
      "[OK!]\n"
     ]
    }
   ],
   "source": [
    "pos_tagger = PerceptronModel.pretrained() \\\n",
    "  .setInputCols([\"tokens\", \"sentences\"]) \\\n",
    "  .setOutputCol(\"pos\")"
   ]
  },
  {
   "cell_type": "code",
   "execution_count": 103,
   "metadata": {},
   "outputs": [
    {
     "data": {
      "text/html": [
       "<div>\n",
       "<style scoped>\n",
       "    .dataframe tbody tr th:only-of-type {\n",
       "        vertical-align: middle;\n",
       "    }\n",
       "\n",
       "    .dataframe tbody tr th {\n",
       "        vertical-align: top;\n",
       "    }\n",
       "\n",
       "    .dataframe thead th {\n",
       "        text-align: right;\n",
       "    }\n",
       "</style>\n",
       "<table border=\"1\" class=\"dataframe\">\n",
       "  <thead>\n",
       "    <tr style=\"text-align: right;\">\n",
       "      <th></th>\n",
       "      <th>chord_id</th>\n",
       "      <th>gene_id</th>\n",
       "      <th>fragment</th>\n",
       "      <th>text</th>\n",
       "      <th>document</th>\n",
       "      <th>sentences</th>\n",
       "      <th>tokens</th>\n",
       "      <th>lemma</th>\n",
       "      <th>pos</th>\n",
       "    </tr>\n",
       "  </thead>\n",
       "  <tbody>\n",
       "    <tr>\n",
       "      <th>0</th>\n",
       "      <td>ocp6yodg</td>\n",
       "      <td>9606</td>\n",
       "      <td>SARS and viral hemorrhagic fevers)</td>\n",
       "      <td>In hindsight, the limited burden of disease of...</td>\n",
       "      <td>[(document, 0, 33, SARS and viral hemorrhagic ...</td>\n",
       "      <td>[(document, 0, 33, SARS and viral hemorrhagic ...</td>\n",
       "      <td>[(token, 0, 3, SARS, {'sentence': '0'}, []), (...</td>\n",
       "      <td>[(token, 0, 3, SARS, {'sentence': '0'}, []), (...</td>\n",
       "      <td>[(pos, 0, 3, NNP, {'word': 'SARS'}, []), (pos,...</td>\n",
       "    </tr>\n",
       "    <tr>\n",
       "      <th>1</th>\n",
       "      <td>ocp6yodg</td>\n",
       "      <td>9606</td>\n",
       "      <td>Other nation's health authorities will make a ...</td>\n",
       "      <td>The procedure for contact tracing is complex, ...</td>\n",
       "      <td>[(document, 0, 165, Other nation's health auth...</td>\n",
       "      <td>[(document, 0, 165, Other nation's health auth...</td>\n",
       "      <td>[(token, 0, 4, Other, {'sentence': '0'}, []), ...</td>\n",
       "      <td>[(token, 0, 4, Other, {'sentence': '0'}, []), ...</td>\n",
       "      <td>[(pos, 0, 4, JJ, {'word': 'Other'}, []), (pos,...</td>\n",
       "    </tr>\n",
       "    <tr>\n",
       "      <th>2</th>\n",
       "      <td>ocp6yodg</td>\n",
       "      <td>9606</td>\n",
       "      <td>MHS Kennemerland then completes contact detail...</td>\n",
       "      <td>The procedure for contact tracing is complex, ...</td>\n",
       "      <td>[(document, 0, 100, MHS Kennemerland then comp...</td>\n",
       "      <td>[(document, 0, 100, MHS Kennemerland then comp...</td>\n",
       "      <td>[(token, 0, 2, MHS, {'sentence': '0'}, []), (t...</td>\n",
       "      <td>[(token, 0, 2, MHS, {'sentence': '0'}, []), (t...</td>\n",
       "      <td>[(pos, 0, 2, NNP, {'word': 'MHS'}, []), (pos, ...</td>\n",
       "    </tr>\n",
       "    <tr>\n",
       "      <th>3</th>\n",
       "      <td>ocp6yodg</td>\n",
       "      <td>9606</td>\n",
       "      <td>Requests for contact tracing to the CIb for Du...</td>\n",
       "      <td>The procedure for contact tracing is complex, ...</td>\n",
       "      <td>[(document, 0, 221, Requests for contact traci...</td>\n",
       "      <td>[(document, 0, 221, Requests for contact traci...</td>\n",
       "      <td>[(token, 0, 7, Requests, {'sentence': '0'}, []...</td>\n",
       "      <td>[(token, 0, 7, Requests, {'sentence': '0'}, []...</td>\n",
       "      <td>[(pos, 0, 7, NNP, {'word': 'Requests'}, []), (...</td>\n",
       "    </tr>\n",
       "    <tr>\n",
       "      <th>4</th>\n",
       "      <td>ocp6yodg</td>\n",
       "      <td>9606</td>\n",
       "      <td>Requests for contact tracing to the CIb for Du...</td>\n",
       "      <td>The procedure for contact tracing is complex, ...</td>\n",
       "      <td>[(document, 0, 221, Requests for contact traci...</td>\n",
       "      <td>[(document, 0, 221, Requests for contact traci...</td>\n",
       "      <td>[(token, 0, 7, Requests, {'sentence': '0'}, []...</td>\n",
       "      <td>[(token, 0, 7, Requests, {'sentence': '0'}, []...</td>\n",
       "      <td>[(pos, 0, 7, NNP, {'word': 'Requests'}, []), (...</td>\n",
       "    </tr>\n",
       "  </tbody>\n",
       "</table>\n",
       "</div>"
      ],
      "text/plain": [
       "   chord_id gene_id                                           fragment  \\\n",
       "0  ocp6yodg    9606                 SARS and viral hemorrhagic fevers)   \n",
       "1  ocp6yodg    9606  Other nation's health authorities will make a ...   \n",
       "2  ocp6yodg    9606  MHS Kennemerland then completes contact detail...   \n",
       "3  ocp6yodg    9606  Requests for contact tracing to the CIb for Du...   \n",
       "4  ocp6yodg    9606  Requests for contact tracing to the CIb for Du...   \n",
       "\n",
       "                                                text  \\\n",
       "0  In hindsight, the limited burden of disease of...   \n",
       "1  The procedure for contact tracing is complex, ...   \n",
       "2  The procedure for contact tracing is complex, ...   \n",
       "3  The procedure for contact tracing is complex, ...   \n",
       "4  The procedure for contact tracing is complex, ...   \n",
       "\n",
       "                                            document  \\\n",
       "0  [(document, 0, 33, SARS and viral hemorrhagic ...   \n",
       "1  [(document, 0, 165, Other nation's health auth...   \n",
       "2  [(document, 0, 100, MHS Kennemerland then comp...   \n",
       "3  [(document, 0, 221, Requests for contact traci...   \n",
       "4  [(document, 0, 221, Requests for contact traci...   \n",
       "\n",
       "                                           sentences  \\\n",
       "0  [(document, 0, 33, SARS and viral hemorrhagic ...   \n",
       "1  [(document, 0, 165, Other nation's health auth...   \n",
       "2  [(document, 0, 100, MHS Kennemerland then comp...   \n",
       "3  [(document, 0, 221, Requests for contact traci...   \n",
       "4  [(document, 0, 221, Requests for contact traci...   \n",
       "\n",
       "                                              tokens  \\\n",
       "0  [(token, 0, 3, SARS, {'sentence': '0'}, []), (...   \n",
       "1  [(token, 0, 4, Other, {'sentence': '0'}, []), ...   \n",
       "2  [(token, 0, 2, MHS, {'sentence': '0'}, []), (t...   \n",
       "3  [(token, 0, 7, Requests, {'sentence': '0'}, []...   \n",
       "4  [(token, 0, 7, Requests, {'sentence': '0'}, []...   \n",
       "\n",
       "                                               lemma  \\\n",
       "0  [(token, 0, 3, SARS, {'sentence': '0'}, []), (...   \n",
       "1  [(token, 0, 4, Other, {'sentence': '0'}, []), ...   \n",
       "2  [(token, 0, 2, MHS, {'sentence': '0'}, []), (t...   \n",
       "3  [(token, 0, 7, Requests, {'sentence': '0'}, []...   \n",
       "4  [(token, 0, 7, Requests, {'sentence': '0'}, []...   \n",
       "\n",
       "                                                 pos  \n",
       "0  [(pos, 0, 3, NNP, {'word': 'SARS'}, []), (pos,...  \n",
       "1  [(pos, 0, 4, JJ, {'word': 'Other'}, []), (pos,...  \n",
       "2  [(pos, 0, 2, NNP, {'word': 'MHS'}, []), (pos, ...  \n",
       "3  [(pos, 0, 7, NNP, {'word': 'Requests'}, []), (...  \n",
       "4  [(pos, 0, 7, NNP, {'word': 'Requests'}, []), (...  "
      ]
     },
     "execution_count": 103,
     "metadata": {},
     "output_type": "execute_result"
    }
   ],
   "source": [
    "postags = pos_tagger.transform(lemmas)\n",
    "postags.limit(5).toPandas()"
   ]
  },
  {
   "cell_type": "markdown",
   "metadata": {},
   "source": [
    "#### Pretrained Pipeline"
   ]
  },
  {
   "cell_type": "code",
   "execution_count": 104,
   "metadata": {},
   "outputs": [
    {
     "name": "stdout",
     "output_type": "stream",
     "text": [
      "explain_document_ml download started this may take some time.\n",
      "Approx size to download 9.4 MB\n",
      "[OK!]\n"
     ]
    }
   ],
   "source": [
    "from sparknlp.pretrained import PretrainedPipeline\n",
    "\n",
    "pipeline = PretrainedPipeline('explain_document_ml', lang='en')"
   ]
  },
  {
   "cell_type": "code",
   "execution_count": 105,
   "metadata": {},
   "outputs": [
    {
     "data": {
      "text/html": [
       "<div>\n",
       "<style scoped>\n",
       "    .dataframe tbody tr th:only-of-type {\n",
       "        vertical-align: middle;\n",
       "    }\n",
       "\n",
       "    .dataframe tbody tr th {\n",
       "        vertical-align: top;\n",
       "    }\n",
       "\n",
       "    .dataframe thead th {\n",
       "        text-align: right;\n",
       "    }\n",
       "</style>\n",
       "<table border=\"1\" class=\"dataframe\">\n",
       "  <thead>\n",
       "    <tr style=\"text-align: right;\">\n",
       "      <th></th>\n",
       "      <th>chord_id</th>\n",
       "      <th>gene_id</th>\n",
       "      <th>fragment</th>\n",
       "      <th>text</th>\n",
       "      <th>document</th>\n",
       "      <th>sentence</th>\n",
       "      <th>token</th>\n",
       "      <th>spell</th>\n",
       "      <th>lemmas</th>\n",
       "      <th>stems</th>\n",
       "      <th>pos</th>\n",
       "    </tr>\n",
       "  </thead>\n",
       "  <tbody>\n",
       "    <tr>\n",
       "      <th>0</th>\n",
       "      <td>ocp6yodg</td>\n",
       "      <td>9606</td>\n",
       "      <td>SARS and viral hemorrhagic fevers)</td>\n",
       "      <td>In hindsight, the limited burden of disease of...</td>\n",
       "      <td>[(document, 0, 1156, In hindsight, the limited...</td>\n",
       "      <td>[(document, 0, 108, In hindsight, the limited ...</td>\n",
       "      <td>[(token, 0, 1, In, {'sentence': '0'}, []), (to...</td>\n",
       "      <td>[(token, 0, 1, In, {'sentence': '0', 'confiden...</td>\n",
       "      <td>[(token, 0, 1, In, {'sentence': '0', 'confiden...</td>\n",
       "      <td>[(token, 0, 1, in, {'sentence': '0', 'confiden...</td>\n",
       "      <td>[(pos, 0, 1, IN, {'word': 'In'}, []), (pos, 3,...</td>\n",
       "    </tr>\n",
       "    <tr>\n",
       "      <th>1</th>\n",
       "      <td>ocp6yodg</td>\n",
       "      <td>9606</td>\n",
       "      <td>Other nation's health authorities will make a ...</td>\n",
       "      <td>The procedure for contact tracing is complex, ...</td>\n",
       "      <td>[(document, 0, 1396, The procedure for contact...</td>\n",
       "      <td>[(document, 0, 59, The procedure for contact t...</td>\n",
       "      <td>[(token, 0, 2, The, {'sentence': '0'}, []), (t...</td>\n",
       "      <td>[(token, 0, 2, The, {'sentence': '0', 'confide...</td>\n",
       "      <td>[(token, 0, 2, The, {'sentence': '0', 'confide...</td>\n",
       "      <td>[(token, 0, 2, the, {'sentence': '0', 'confide...</td>\n",
       "      <td>[(pos, 0, 2, DT, {'word': 'The'}, []), (pos, 4...</td>\n",
       "    </tr>\n",
       "    <tr>\n",
       "      <th>2</th>\n",
       "      <td>ocp6yodg</td>\n",
       "      <td>9606</td>\n",
       "      <td>MHS Kennemerland then completes contact detail...</td>\n",
       "      <td>The procedure for contact tracing is complex, ...</td>\n",
       "      <td>[(document, 0, 1396, The procedure for contact...</td>\n",
       "      <td>[(document, 0, 59, The procedure for contact t...</td>\n",
       "      <td>[(token, 0, 2, The, {'sentence': '0'}, []), (t...</td>\n",
       "      <td>[(token, 0, 2, The, {'sentence': '0', 'confide...</td>\n",
       "      <td>[(token, 0, 2, The, {'sentence': '0', 'confide...</td>\n",
       "      <td>[(token, 0, 2, the, {'sentence': '0', 'confide...</td>\n",
       "      <td>[(pos, 0, 2, DT, {'word': 'The'}, []), (pos, 4...</td>\n",
       "    </tr>\n",
       "    <tr>\n",
       "      <th>3</th>\n",
       "      <td>ocp6yodg</td>\n",
       "      <td>9606</td>\n",
       "      <td>Requests for contact tracing to the CIb for Du...</td>\n",
       "      <td>The procedure for contact tracing is complex, ...</td>\n",
       "      <td>[(document, 0, 1396, The procedure for contact...</td>\n",
       "      <td>[(document, 0, 59, The procedure for contact t...</td>\n",
       "      <td>[(token, 0, 2, The, {'sentence': '0'}, []), (t...</td>\n",
       "      <td>[(token, 0, 2, The, {'sentence': '0', 'confide...</td>\n",
       "      <td>[(token, 0, 2, The, {'sentence': '0', 'confide...</td>\n",
       "      <td>[(token, 0, 2, the, {'sentence': '0', 'confide...</td>\n",
       "      <td>[(pos, 0, 2, DT, {'word': 'The'}, []), (pos, 4...</td>\n",
       "    </tr>\n",
       "    <tr>\n",
       "      <th>4</th>\n",
       "      <td>ocp6yodg</td>\n",
       "      <td>9606</td>\n",
       "      <td>Requests for contact tracing to the CIb for Du...</td>\n",
       "      <td>The procedure for contact tracing is complex, ...</td>\n",
       "      <td>[(document, 0, 1396, The procedure for contact...</td>\n",
       "      <td>[(document, 0, 59, The procedure for contact t...</td>\n",
       "      <td>[(token, 0, 2, The, {'sentence': '0'}, []), (t...</td>\n",
       "      <td>[(token, 0, 2, The, {'sentence': '0', 'confide...</td>\n",
       "      <td>[(token, 0, 2, The, {'sentence': '0', 'confide...</td>\n",
       "      <td>[(token, 0, 2, the, {'sentence': '0', 'confide...</td>\n",
       "      <td>[(pos, 0, 2, DT, {'word': 'The'}, []), (pos, 4...</td>\n",
       "    </tr>\n",
       "  </tbody>\n",
       "</table>\n",
       "</div>"
      ],
      "text/plain": [
       "   chord_id gene_id                                           fragment  \\\n",
       "0  ocp6yodg    9606                 SARS and viral hemorrhagic fevers)   \n",
       "1  ocp6yodg    9606  Other nation's health authorities will make a ...   \n",
       "2  ocp6yodg    9606  MHS Kennemerland then completes contact detail...   \n",
       "3  ocp6yodg    9606  Requests for contact tracing to the CIb for Du...   \n",
       "4  ocp6yodg    9606  Requests for contact tracing to the CIb for Du...   \n",
       "\n",
       "                                                text  \\\n",
       "0  In hindsight, the limited burden of disease of...   \n",
       "1  The procedure for contact tracing is complex, ...   \n",
       "2  The procedure for contact tracing is complex, ...   \n",
       "3  The procedure for contact tracing is complex, ...   \n",
       "4  The procedure for contact tracing is complex, ...   \n",
       "\n",
       "                                            document  \\\n",
       "0  [(document, 0, 1156, In hindsight, the limited...   \n",
       "1  [(document, 0, 1396, The procedure for contact...   \n",
       "2  [(document, 0, 1396, The procedure for contact...   \n",
       "3  [(document, 0, 1396, The procedure for contact...   \n",
       "4  [(document, 0, 1396, The procedure for contact...   \n",
       "\n",
       "                                            sentence  \\\n",
       "0  [(document, 0, 108, In hindsight, the limited ...   \n",
       "1  [(document, 0, 59, The procedure for contact t...   \n",
       "2  [(document, 0, 59, The procedure for contact t...   \n",
       "3  [(document, 0, 59, The procedure for contact t...   \n",
       "4  [(document, 0, 59, The procedure for contact t...   \n",
       "\n",
       "                                               token  \\\n",
       "0  [(token, 0, 1, In, {'sentence': '0'}, []), (to...   \n",
       "1  [(token, 0, 2, The, {'sentence': '0'}, []), (t...   \n",
       "2  [(token, 0, 2, The, {'sentence': '0'}, []), (t...   \n",
       "3  [(token, 0, 2, The, {'sentence': '0'}, []), (t...   \n",
       "4  [(token, 0, 2, The, {'sentence': '0'}, []), (t...   \n",
       "\n",
       "                                               spell  \\\n",
       "0  [(token, 0, 1, In, {'sentence': '0', 'confiden...   \n",
       "1  [(token, 0, 2, The, {'sentence': '0', 'confide...   \n",
       "2  [(token, 0, 2, The, {'sentence': '0', 'confide...   \n",
       "3  [(token, 0, 2, The, {'sentence': '0', 'confide...   \n",
       "4  [(token, 0, 2, The, {'sentence': '0', 'confide...   \n",
       "\n",
       "                                              lemmas  \\\n",
       "0  [(token, 0, 1, In, {'sentence': '0', 'confiden...   \n",
       "1  [(token, 0, 2, The, {'sentence': '0', 'confide...   \n",
       "2  [(token, 0, 2, The, {'sentence': '0', 'confide...   \n",
       "3  [(token, 0, 2, The, {'sentence': '0', 'confide...   \n",
       "4  [(token, 0, 2, The, {'sentence': '0', 'confide...   \n",
       "\n",
       "                                               stems  \\\n",
       "0  [(token, 0, 1, in, {'sentence': '0', 'confiden...   \n",
       "1  [(token, 0, 2, the, {'sentence': '0', 'confide...   \n",
       "2  [(token, 0, 2, the, {'sentence': '0', 'confide...   \n",
       "3  [(token, 0, 2, the, {'sentence': '0', 'confide...   \n",
       "4  [(token, 0, 2, the, {'sentence': '0', 'confide...   \n",
       "\n",
       "                                                 pos  \n",
       "0  [(pos, 0, 1, IN, {'word': 'In'}, []), (pos, 3,...  \n",
       "1  [(pos, 0, 2, DT, {'word': 'The'}, []), (pos, 4...  \n",
       "2  [(pos, 0, 2, DT, {'word': 'The'}, []), (pos, 4...  \n",
       "3  [(pos, 0, 2, DT, {'word': 'The'}, []), (pos, 4...  \n",
       "4  [(pos, 0, 2, DT, {'word': 'The'}, []), (pos, 4...  "
      ]
     },
     "execution_count": 105,
     "metadata": {},
     "output_type": "execute_result"
    }
   ],
   "source": [
    "pipeline.transform(texts_df).limit(5).toPandas()"
   ]
  },
  {
   "cell_type": "code",
   "execution_count": 107,
   "metadata": {},
   "outputs": [],
   "source": [
    "text = texts_df.first()['text']"
   ]
  },
  {
   "cell_type": "code",
   "execution_count": 108,
   "metadata": {},
   "outputs": [
    {
     "data": {
      "text/plain": [
       "[('of', 'of', 'of'),\n",
       " ('the', 'the', 'the'),\n",
       " ('required', 'requir', 'require'),\n",
       " ('timeliness', 'timeli', 'timeliness'),\n",
       " ('of', 'of', 'of'),\n",
       " ('effective', 'effect', 'effective'),\n",
       " ('control', 'control', 'control'),\n",
       " ('measures', 'measur', 'measure'),\n",
       " ('[23]', '[23]', '[23]'),\n",
       " ('.', '.', '.'),\n",
       " ('The', 'the', 'The'),\n",
       " ('expected', 'expect', 'expect'),\n",
       " ('time', 'time', 'time'),\n",
       " ('for', 'for', 'for'),\n",
       " ('laboratory', 'laboratori', 'laboratory'),\n",
       " ('confirmation', 'confirm', 'confirmation'),\n",
       " ('of', 'of', 'of'),\n",
       " ('index', 'index', 'index'),\n",
       " ('cases', 'case', 'case'),\n",
       " ('and', 'and', 'and')]"
      ]
     },
     "execution_count": 108,
     "metadata": {},
     "output_type": "execute_result"
    }
   ],
   "source": [
    "annotations = pipeline.annotate(text)\n",
    "list(zip(\n",
    "    annotations['token'], \n",
    "    annotations['stems'], \n",
    "    annotations['lemmas']\n",
    "))[100:120]"
   ]
  },
  {
   "cell_type": "markdown",
   "metadata": {},
   "source": [
    "#### Finisher"
   ]
  },
  {
   "cell_type": "code",
   "execution_count": 111,
   "metadata": {},
   "outputs": [],
   "source": [
    "from pyspark.ml import Pipeline"
   ]
  },
  {
   "cell_type": "code",
   "execution_count": 112,
   "metadata": {},
   "outputs": [],
   "source": [
    "finisher = Finisher()\\\n",
    "    .setInputCols(['tokens', 'lemma'])\\\n",
    "    .setOutputCols(['tokens', 'lemmata'])\\\n",
    "    .setCleanAnnotations(True)\\\n",
    "    .setOutputAsArray(True)"
   ]
  },
  {
   "cell_type": "code",
   "execution_count": 113,
   "metadata": {},
   "outputs": [],
   "source": [
    "custom_pipeline = Pipeline(stages=[\n",
    "    document_assembler,\n",
    "    sent_detector,\n",
    "    tokenizer,\n",
    "    lemmatizer,\n",
    "    finisher\n",
    "]).fit(texts_df)"
   ]
  },
  {
   "cell_type": "code",
   "execution_count": 115,
   "metadata": {},
   "outputs": [
    {
     "data": {
      "text/html": [
       "<div>\n",
       "<style scoped>\n",
       "    .dataframe tbody tr th:only-of-type {\n",
       "        vertical-align: middle;\n",
       "    }\n",
       "\n",
       "    .dataframe tbody tr th {\n",
       "        vertical-align: top;\n",
       "    }\n",
       "\n",
       "    .dataframe thead th {\n",
       "        text-align: right;\n",
       "    }\n",
       "</style>\n",
       "<table border=\"1\" class=\"dataframe\">\n",
       "  <thead>\n",
       "    <tr style=\"text-align: right;\">\n",
       "      <th></th>\n",
       "      <th>chord_id</th>\n",
       "      <th>gene_id</th>\n",
       "      <th>fragment</th>\n",
       "      <th>text</th>\n",
       "      <th>tokens</th>\n",
       "      <th>lemmata</th>\n",
       "    </tr>\n",
       "  </thead>\n",
       "  <tbody>\n",
       "    <tr>\n",
       "      <th>0</th>\n",
       "      <td>ocp6yodg</td>\n",
       "      <td>9606</td>\n",
       "      <td>SARS and viral hemorrhagic fevers)</td>\n",
       "      <td>In hindsight, the limited burden of disease of...</td>\n",
       "      <td>[SARS, and, viral, hemorrhagic, fevers, )]</td>\n",
       "      <td>[SARS, and, viral, hemorrhagic, fever, )]</td>\n",
       "    </tr>\n",
       "    <tr>\n",
       "      <th>1</th>\n",
       "      <td>ocp6yodg</td>\n",
       "      <td>9606</td>\n",
       "      <td>Other nation's health authorities will make a ...</td>\n",
       "      <td>The procedure for contact tracing is complex, ...</td>\n",
       "      <td>[Other, nation's, health, authorities, will, m...</td>\n",
       "      <td>[Other, nation's, health, authority, will, mak...</td>\n",
       "    </tr>\n",
       "    <tr>\n",
       "      <th>2</th>\n",
       "      <td>ocp6yodg</td>\n",
       "      <td>9606</td>\n",
       "      <td>MHS Kennemerland then completes contact detail...</td>\n",
       "      <td>The procedure for contact tracing is complex, ...</td>\n",
       "      <td>[MHS, Kennemerland, then, completes, contact, ...</td>\n",
       "      <td>[MHS, Kennemerland, then, complete, contact, d...</td>\n",
       "    </tr>\n",
       "    <tr>\n",
       "      <th>3</th>\n",
       "      <td>ocp6yodg</td>\n",
       "      <td>9606</td>\n",
       "      <td>Requests for contact tracing to the CIb for Du...</td>\n",
       "      <td>The procedure for contact tracing is complex, ...</td>\n",
       "      <td>[Requests, for, contact, tracing, to, the, CIb...</td>\n",
       "      <td>[Requests, for, contact, trace, to, the, CIb, ...</td>\n",
       "    </tr>\n",
       "    <tr>\n",
       "      <th>4</th>\n",
       "      <td>ocp6yodg</td>\n",
       "      <td>9606</td>\n",
       "      <td>Requests for contact tracing to the CIb for Du...</td>\n",
       "      <td>The procedure for contact tracing is complex, ...</td>\n",
       "      <td>[Requests, for, contact, tracing, to, the, CIb...</td>\n",
       "      <td>[Requests, for, contact, trace, to, the, CIb, ...</td>\n",
       "    </tr>\n",
       "  </tbody>\n",
       "</table>\n",
       "</div>"
      ],
      "text/plain": [
       "   chord_id gene_id                                           fragment  \\\n",
       "0  ocp6yodg    9606                 SARS and viral hemorrhagic fevers)   \n",
       "1  ocp6yodg    9606  Other nation's health authorities will make a ...   \n",
       "2  ocp6yodg    9606  MHS Kennemerland then completes contact detail...   \n",
       "3  ocp6yodg    9606  Requests for contact tracing to the CIb for Du...   \n",
       "4  ocp6yodg    9606  Requests for contact tracing to the CIb for Du...   \n",
       "\n",
       "                                                text  \\\n",
       "0  In hindsight, the limited burden of disease of...   \n",
       "1  The procedure for contact tracing is complex, ...   \n",
       "2  The procedure for contact tracing is complex, ...   \n",
       "3  The procedure for contact tracing is complex, ...   \n",
       "4  The procedure for contact tracing is complex, ...   \n",
       "\n",
       "                                              tokens  \\\n",
       "0         [SARS, and, viral, hemorrhagic, fevers, )]   \n",
       "1  [Other, nation's, health, authorities, will, m...   \n",
       "2  [MHS, Kennemerland, then, completes, contact, ...   \n",
       "3  [Requests, for, contact, tracing, to, the, CIb...   \n",
       "4  [Requests, for, contact, tracing, to, the, CIb...   \n",
       "\n",
       "                                             lemmata  \n",
       "0          [SARS, and, viral, hemorrhagic, fever, )]  \n",
       "1  [Other, nation's, health, authority, will, mak...  \n",
       "2  [MHS, Kennemerland, then, complete, contact, d...  \n",
       "3  [Requests, for, contact, trace, to, the, CIb, ...  \n",
       "4  [Requests, for, contact, trace, to, the, CIb, ...  "
      ]
     },
     "execution_count": 115,
     "metadata": {},
     "output_type": "execute_result"
    }
   ],
   "source": [
    "custom_pipeline.transform(texts_df).limit(5).toPandas()"
   ]
  },
  {
   "cell_type": "markdown",
   "metadata": {},
   "source": [
    "#### Stop Words"
   ]
  },
  {
   "cell_type": "code",
   "execution_count": 117,
   "metadata": {},
   "outputs": [],
   "source": [
    "from pyspark.ml.feature import StopWordsRemover\n",
    "stopwords = StopWordsRemover.loadDefaultStopWords('english')"
   ]
  },
  {
   "cell_type": "code",
   "execution_count": 118,
   "metadata": {},
   "outputs": [],
   "source": [
    "stopwords = StopWordsRemover.loadDefaultStopWords('english')"
   ]
  },
  {
   "cell_type": "code",
   "execution_count": 120,
   "metadata": {},
   "outputs": [],
   "source": [
    "larger_pipeline = Pipeline(stages=[\n",
    "    custom_pipeline,\n",
    "    StopWordsRemover(\n",
    "        inputCol='lemmata', \n",
    "        outputCol='terms', \n",
    "        stopWords=stopwords)\n",
    "]).fit(texts_df)"
   ]
  },
  {
   "cell_type": "code",
   "execution_count": 122,
   "metadata": {},
   "outputs": [
    {
     "data": {
      "text/html": [
       "<div>\n",
       "<style scoped>\n",
       "    .dataframe tbody tr th:only-of-type {\n",
       "        vertical-align: middle;\n",
       "    }\n",
       "\n",
       "    .dataframe tbody tr th {\n",
       "        vertical-align: top;\n",
       "    }\n",
       "\n",
       "    .dataframe thead th {\n",
       "        text-align: right;\n",
       "    }\n",
       "</style>\n",
       "<table border=\"1\" class=\"dataframe\">\n",
       "  <thead>\n",
       "    <tr style=\"text-align: right;\">\n",
       "      <th></th>\n",
       "      <th>chord_id</th>\n",
       "      <th>gene_id</th>\n",
       "      <th>fragment</th>\n",
       "      <th>text</th>\n",
       "      <th>tokens</th>\n",
       "      <th>lemmata</th>\n",
       "      <th>terms</th>\n",
       "    </tr>\n",
       "  </thead>\n",
       "  <tbody>\n",
       "    <tr>\n",
       "      <th>0</th>\n",
       "      <td>ocp6yodg</td>\n",
       "      <td>9606</td>\n",
       "      <td>SARS and viral hemorrhagic fevers)</td>\n",
       "      <td>In hindsight, the limited burden of disease of...</td>\n",
       "      <td>[SARS, and, viral, hemorrhagic, fevers, )]</td>\n",
       "      <td>[SARS, and, viral, hemorrhagic, fever, )]</td>\n",
       "      <td>[SARS, viral, hemorrhagic, fever, )]</td>\n",
       "    </tr>\n",
       "    <tr>\n",
       "      <th>1</th>\n",
       "      <td>ocp6yodg</td>\n",
       "      <td>9606</td>\n",
       "      <td>Other nation's health authorities will make a ...</td>\n",
       "      <td>The procedure for contact tracing is complex, ...</td>\n",
       "      <td>[Other, nation's, health, authorities, will, m...</td>\n",
       "      <td>[Other, nation's, health, authority, will, mak...</td>\n",
       "      <td>[nation's, health, authority, make, request, C...</td>\n",
       "    </tr>\n",
       "    <tr>\n",
       "      <th>2</th>\n",
       "      <td>ocp6yodg</td>\n",
       "      <td>9606</td>\n",
       "      <td>MHS Kennemerland then completes contact detail...</td>\n",
       "      <td>The procedure for contact tracing is complex, ...</td>\n",
       "      <td>[MHS, Kennemerland, then, completes, contact, ...</td>\n",
       "      <td>[MHS, Kennemerland, then, complete, contact, d...</td>\n",
       "      <td>[MHS, Kennemerland, complete, contact, detail,...</td>\n",
       "    </tr>\n",
       "    <tr>\n",
       "      <th>3</th>\n",
       "      <td>ocp6yodg</td>\n",
       "      <td>9606</td>\n",
       "      <td>Requests for contact tracing to the CIb for Du...</td>\n",
       "      <td>The procedure for contact tracing is complex, ...</td>\n",
       "      <td>[Requests, for, contact, tracing, to, the, CIb...</td>\n",
       "      <td>[Requests, for, contact, trace, to, the, CIb, ...</td>\n",
       "      <td>[Requests, contact, trace, CIb, Dutch, index, ...</td>\n",
       "    </tr>\n",
       "    <tr>\n",
       "      <th>4</th>\n",
       "      <td>ocp6yodg</td>\n",
       "      <td>9606</td>\n",
       "      <td>Requests for contact tracing to the CIb for Du...</td>\n",
       "      <td>The procedure for contact tracing is complex, ...</td>\n",
       "      <td>[Requests, for, contact, tracing, to, the, CIb...</td>\n",
       "      <td>[Requests, for, contact, trace, to, the, CIb, ...</td>\n",
       "      <td>[Requests, contact, trace, CIb, Dutch, index, ...</td>\n",
       "    </tr>\n",
       "  </tbody>\n",
       "</table>\n",
       "</div>"
      ],
      "text/plain": [
       "   chord_id gene_id                                           fragment  \\\n",
       "0  ocp6yodg    9606                 SARS and viral hemorrhagic fevers)   \n",
       "1  ocp6yodg    9606  Other nation's health authorities will make a ...   \n",
       "2  ocp6yodg    9606  MHS Kennemerland then completes contact detail...   \n",
       "3  ocp6yodg    9606  Requests for contact tracing to the CIb for Du...   \n",
       "4  ocp6yodg    9606  Requests for contact tracing to the CIb for Du...   \n",
       "\n",
       "                                                text  \\\n",
       "0  In hindsight, the limited burden of disease of...   \n",
       "1  The procedure for contact tracing is complex, ...   \n",
       "2  The procedure for contact tracing is complex, ...   \n",
       "3  The procedure for contact tracing is complex, ...   \n",
       "4  The procedure for contact tracing is complex, ...   \n",
       "\n",
       "                                              tokens  \\\n",
       "0         [SARS, and, viral, hemorrhagic, fevers, )]   \n",
       "1  [Other, nation's, health, authorities, will, m...   \n",
       "2  [MHS, Kennemerland, then, completes, contact, ...   \n",
       "3  [Requests, for, contact, tracing, to, the, CIb...   \n",
       "4  [Requests, for, contact, tracing, to, the, CIb...   \n",
       "\n",
       "                                             lemmata  \\\n",
       "0          [SARS, and, viral, hemorrhagic, fever, )]   \n",
       "1  [Other, nation's, health, authority, will, mak...   \n",
       "2  [MHS, Kennemerland, then, complete, contact, d...   \n",
       "3  [Requests, for, contact, trace, to, the, CIb, ...   \n",
       "4  [Requests, for, contact, trace, to, the, CIb, ...   \n",
       "\n",
       "                                               terms  \n",
       "0               [SARS, viral, hemorrhagic, fever, )]  \n",
       "1  [nation's, health, authority, make, request, C...  \n",
       "2  [MHS, Kennemerland, complete, contact, detail,...  \n",
       "3  [Requests, contact, trace, CIb, Dutch, index, ...  \n",
       "4  [Requests, contact, trace, CIb, Dutch, index, ...  "
      ]
     },
     "execution_count": 122,
     "metadata": {},
     "output_type": "execute_result"
    }
   ],
   "source": [
    "larger_pipeline.transform(texts_df).limit(5).toPandas()"
   ]
  },
  {
   "cell_type": "markdown",
   "metadata": {},
   "source": [
    "### Supplimentary"
   ]
  },
  {
   "cell_type": "code",
   "execution_count": 100,
   "metadata": {},
   "outputs": [
    {
     "name": "stdout",
     "output_type": "stream",
     "text": [
      "-RECORD 0----------------------------------------------------------------------------------------------------\n",
      " text | SARS and viral hemorrhagic fevers)                                                                   \n",
      "-RECORD 1----------------------------------------------------------------------------------------------------\n",
      " text | Other nation's health authorities will make a request to the CIb in case they diagnosed a patient... \n",
      "-RECORD 2----------------------------------------------------------------------------------------------------\n",
      " text | MHS Kennemerland then completes contact details through booking offices or using other search met... \n",
      "-RECORD 3----------------------------------------------------------------------------------------------------\n",
      " text | Requests for contact tracing to the CIb for Dutch index patients originate from any Dutch MHS whi... \n",
      "-RECORD 4----------------------------------------------------------------------------------------------------\n",
      " text | Requests for contact tracing to the CIb for Dutch index patients originate from any Dutch MHS whi... \n",
      "only showing top 5 rows\n",
      "\n"
     ]
    }
   ],
   "source": [
    "texts_df.show(n=5, truncate=100, vertical=True)"
   ]
  },
  {
   "cell_type": "code",
   "execution_count": 101,
   "metadata": {},
   "outputs": [
    {
     "data": {
      "text/html": [
       "<div>\n",
       "<style scoped>\n",
       "    .dataframe tbody tr th:only-of-type {\n",
       "        vertical-align: middle;\n",
       "    }\n",
       "\n",
       "    .dataframe tbody tr th {\n",
       "        vertical-align: top;\n",
       "    }\n",
       "\n",
       "    .dataframe thead th {\n",
       "        text-align: right;\n",
       "    }\n",
       "</style>\n",
       "<table border=\"1\" class=\"dataframe\">\n",
       "  <thead>\n",
       "    <tr style=\"text-align: right;\">\n",
       "      <th></th>\n",
       "      <th>text</th>\n",
       "    </tr>\n",
       "  </thead>\n",
       "  <tbody>\n",
       "    <tr>\n",
       "      <th>0</th>\n",
       "      <td>SARS and viral hemorrhagic fevers)</td>\n",
       "    </tr>\n",
       "    <tr>\n",
       "      <th>1</th>\n",
       "      <td>Other nation's health authorities will make a ...</td>\n",
       "    </tr>\n",
       "    <tr>\n",
       "      <th>2</th>\n",
       "      <td>MHS Kennemerland then completes contact detail...</td>\n",
       "    </tr>\n",
       "    <tr>\n",
       "      <th>3</th>\n",
       "      <td>Requests for contact tracing to the CIb for Du...</td>\n",
       "    </tr>\n",
       "    <tr>\n",
       "      <th>4</th>\n",
       "      <td>Requests for contact tracing to the CIb for Du...</td>\n",
       "    </tr>\n",
       "  </tbody>\n",
       "</table>\n",
       "</div>"
      ],
      "text/plain": [
       "                                                text\n",
       "0                 SARS and viral hemorrhagic fevers)\n",
       "1  Other nation's health authorities will make a ...\n",
       "2  MHS Kennemerland then completes contact detail...\n",
       "3  Requests for contact tracing to the CIb for Du...\n",
       "4  Requests for contact tracing to the CIb for Du..."
      ]
     },
     "execution_count": 101,
     "metadata": {},
     "output_type": "execute_result"
    }
   ],
   "source": [
    "texts_df.limit(5).toPandas()"
   ]
  },
  {
   "cell_type": "code",
   "execution_count": 102,
   "metadata": {},
   "outputs": [],
   "source": [
    "from sparknlp.pretrained import PretrainedPipeline"
   ]
  },
  {
   "cell_type": "code",
   "execution_count": 103,
   "metadata": {},
   "outputs": [
    {
     "name": "stdout",
     "output_type": "stream",
     "text": [
      "explain_document_ml download started this may take some time.\n",
      "Approx size to download 9.4 MB\n",
      "[OK!]\n"
     ]
    }
   ],
   "source": [
    "pipeline = PretrainedPipeline('explain_document_ml', lang='en')"
   ]
  },
  {
   "cell_type": "code",
   "execution_count": 104,
   "metadata": {},
   "outputs": [
    {
     "data": {
      "text/plain": [
       "{'document': ['Hellu wrold!'],\n",
       " 'lemmas': ['Hilo', 'world', '!'],\n",
       " 'pos': ['NNP', 'NN', '.'],\n",
       " 'sentence': ['Hellu wrold!'],\n",
       " 'spell': ['Hilo', 'world', '!'],\n",
       " 'stems': ['hilo', 'world', '!'],\n",
       " 'token': ['Hellu', 'wrold', '!']}"
      ]
     },
     "execution_count": 104,
     "metadata": {},
     "output_type": "execute_result"
    }
   ],
   "source": [
    "pipeline.annotate('Hellu wrold!')"
   ]
  },
  {
   "cell_type": "code",
   "execution_count": 105,
   "metadata": {},
   "outputs": [
    {
     "name": "stdout",
     "output_type": "stream",
     "text": [
      "root\n",
      " |-- text: string (nullable = true)\n",
      "\n"
     ]
    }
   ],
   "source": [
    "texts_df.printSchema()"
   ]
  },
  {
   "cell_type": "code",
   "execution_count": 106,
   "metadata": {},
   "outputs": [],
   "source": [
    "procd_texts_df = pipeline.annotate(texts_df, 'text')"
   ]
  },
  {
   "cell_type": "code",
   "execution_count": 107,
   "metadata": {},
   "outputs": [
    {
     "name": "stdout",
     "output_type": "stream",
     "text": [
      "root\n",
      " |-- text: string (nullable = true)\n",
      " |-- document: array (nullable = true)\n",
      " |    |-- element: struct (containsNull = true)\n",
      " |    |    |-- annotatorType: string (nullable = true)\n",
      " |    |    |-- begin: integer (nullable = false)\n",
      " |    |    |-- end: integer (nullable = false)\n",
      " |    |    |-- result: string (nullable = true)\n",
      " |    |    |-- metadata: map (nullable = true)\n",
      " |    |    |    |-- key: string\n",
      " |    |    |    |-- value: string (valueContainsNull = true)\n",
      " |    |    |-- embeddings: array (nullable = true)\n",
      " |    |    |    |-- element: float (containsNull = false)\n",
      " |-- sentence: array (nullable = true)\n",
      " |    |-- element: struct (containsNull = true)\n",
      " |    |    |-- annotatorType: string (nullable = true)\n",
      " |    |    |-- begin: integer (nullable = false)\n",
      " |    |    |-- end: integer (nullable = false)\n",
      " |    |    |-- result: string (nullable = true)\n",
      " |    |    |-- metadata: map (nullable = true)\n",
      " |    |    |    |-- key: string\n",
      " |    |    |    |-- value: string (valueContainsNull = true)\n",
      " |    |    |-- embeddings: array (nullable = true)\n",
      " |    |    |    |-- element: float (containsNull = false)\n",
      " |-- token: array (nullable = true)\n",
      " |    |-- element: struct (containsNull = true)\n",
      " |    |    |-- annotatorType: string (nullable = true)\n",
      " |    |    |-- begin: integer (nullable = false)\n",
      " |    |    |-- end: integer (nullable = false)\n",
      " |    |    |-- result: string (nullable = true)\n",
      " |    |    |-- metadata: map (nullable = true)\n",
      " |    |    |    |-- key: string\n",
      " |    |    |    |-- value: string (valueContainsNull = true)\n",
      " |    |    |-- embeddings: array (nullable = true)\n",
      " |    |    |    |-- element: float (containsNull = false)\n",
      " |-- spell: array (nullable = true)\n",
      " |    |-- element: struct (containsNull = true)\n",
      " |    |    |-- annotatorType: string (nullable = true)\n",
      " |    |    |-- begin: integer (nullable = false)\n",
      " |    |    |-- end: integer (nullable = false)\n",
      " |    |    |-- result: string (nullable = true)\n",
      " |    |    |-- metadata: map (nullable = true)\n",
      " |    |    |    |-- key: string\n",
      " |    |    |    |-- value: string (valueContainsNull = true)\n",
      " |    |    |-- embeddings: array (nullable = true)\n",
      " |    |    |    |-- element: float (containsNull = false)\n",
      " |-- lemmas: array (nullable = true)\n",
      " |    |-- element: struct (containsNull = true)\n",
      " |    |    |-- annotatorType: string (nullable = true)\n",
      " |    |    |-- begin: integer (nullable = false)\n",
      " |    |    |-- end: integer (nullable = false)\n",
      " |    |    |-- result: string (nullable = true)\n",
      " |    |    |-- metadata: map (nullable = true)\n",
      " |    |    |    |-- key: string\n",
      " |    |    |    |-- value: string (valueContainsNull = true)\n",
      " |    |    |-- embeddings: array (nullable = true)\n",
      " |    |    |    |-- element: float (containsNull = false)\n",
      " |-- stems: array (nullable = true)\n",
      " |    |-- element: struct (containsNull = true)\n",
      " |    |    |-- annotatorType: string (nullable = true)\n",
      " |    |    |-- begin: integer (nullable = false)\n",
      " |    |    |-- end: integer (nullable = false)\n",
      " |    |    |-- result: string (nullable = true)\n",
      " |    |    |-- metadata: map (nullable = true)\n",
      " |    |    |    |-- key: string\n",
      " |    |    |    |-- value: string (valueContainsNull = true)\n",
      " |    |    |-- embeddings: array (nullable = true)\n",
      " |    |    |    |-- element: float (containsNull = false)\n",
      " |-- pos: array (nullable = true)\n",
      " |    |-- element: struct (containsNull = true)\n",
      " |    |    |-- annotatorType: string (nullable = true)\n",
      " |    |    |-- begin: integer (nullable = false)\n",
      " |    |    |-- end: integer (nullable = false)\n",
      " |    |    |-- result: string (nullable = true)\n",
      " |    |    |-- metadata: map (nullable = true)\n",
      " |    |    |    |-- key: string\n",
      " |    |    |    |-- value: string (valueContainsNull = true)\n",
      " |    |    |-- embeddings: array (nullable = true)\n",
      " |    |    |    |-- element: float (containsNull = false)\n",
      "\n"
     ]
    }
   ],
   "source": [
    "procd_texts_df.printSchema()"
   ]
  },
  {
   "cell_type": "code",
   "execution_count": 108,
   "metadata": {},
   "outputs": [
    {
     "name": "stdout",
     "output_type": "stream",
     "text": [
      "+--------------------+--------------------+--------------------+--------------------+--------------------+--------------------+--------------------+--------------------+\n",
      "|                text|            document|            sentence|               token|               spell|              lemmas|               stems|                 pos|\n",
      "+--------------------+--------------------+--------------------+--------------------+--------------------+--------------------+--------------------+--------------------+\n",
      "|SARS and viral he...|[[document, 0, 33...|[[document, 0, 33...|[[token, 0, 3, SA...|[[token, 0, 3, SA...|[[token, 0, 3, SA...|[[token, 0, 3, sa...|[[pos, 0, 3, NNP,...|\n",
      "|Other nation's he...|[[document, 0, 16...|[[document, 0, 16...|[[token, 0, 4, Ot...|[[token, 0, 4, Ot...|[[token, 0, 4, Ot...|[[token, 0, 4, ot...|[[pos, 0, 4, JJ, ...|\n",
      "+--------------------+--------------------+--------------------+--------------------+--------------------+--------------------+--------------------+--------------------+\n",
      "only showing top 2 rows\n",
      "\n"
     ]
    }
   ],
   "source": [
    "procd_texts_df.show(n=2)"
   ]
  },
  {
   "cell_type": "code",
   "execution_count": 109,
   "metadata": {},
   "outputs": [
    {
     "name": "stdout",
     "output_type": "stream",
     "text": [
      "-RECORD 0--------------------------------------------------------------------------------------------------------\n",
      " text     | SARS and viral hemorrhagic fevers)                                                                   \n",
      " document | [[document, 0, 33, SARS and viral hemorrhagic fevers), [sentence -> 0], []]]                         \n",
      " sentence | [[document, 0, 33, SARS and viral hemorrhagic fevers), [sentence -> 0], []]]                         \n",
      " token    | [[token, 0, 3, SARS, [sentence -> 0], []], [token, 5, 7, and, [sentence -> 0], []], [token, 9, 13... \n",
      " spell    | [[token, 0, 3, SARS, [confidence -> 1.0, sentence -> 0], []], [token, 5, 7, and, [confidence -> 1... \n",
      " lemmas   | [[token, 0, 3, SARS, [confidence -> 1.0, sentence -> 0], []], [token, 5, 7, and, [confidence -> 1... \n",
      " stems    | [[token, 0, 3, sar, [confidence -> 1.0, sentence -> 0], []], [token, 5, 7, and, [confidence -> 1.... \n",
      " pos      | [[pos, 0, 3, NNP, [word -> SARS], []], [pos, 5, 7, CC, [word -> and], []], [pos, 9, 13, JJ, [word... \n",
      "-RECORD 1--------------------------------------------------------------------------------------------------------\n",
      " text     | Other nation's health authorities will make a request to the CIb in case they diagnosed a patient... \n",
      " document | [[document, 0, 165, Other nation's health authorities will make a request to the CIb in case they... \n",
      " sentence | [[document, 0, 165, Other nation's health authorities will make a request to the CIb in case they... \n",
      " token    | [[token, 0, 4, Other, [sentence -> 0], []], [token, 6, 13, nation's, [sentence -> 0], []], [token... \n",
      " spell    | [[token, 0, 4, Other, [confidence -> 1.0, sentence -> 0], []], [token, 6, 13, nation's, [confiden... \n",
      " lemmas   | [[token, 0, 4, Other, [confidence -> 1.0, sentence -> 0], []], [token, 6, 13, nation's, [confiden... \n",
      " stems    | [[token, 0, 4, other, [confidence -> 1.0, sentence -> 0], []], [token, 6, 13, nation', [confidenc... \n",
      " pos      | [[pos, 0, 4, JJ, [word -> Other], []], [pos, 6, 13, JJ, [word -> nation's], []], [pos, 15, 20, NN... \n",
      "only showing top 2 rows\n",
      "\n"
     ]
    }
   ],
   "source": [
    "procd_texts_df.show(n=2, truncate=100, vertical=True)"
   ]
  },
  {
   "cell_type": "code",
   "execution_count": 110,
   "metadata": {},
   "outputs": [
    {
     "name": "stdout",
     "output_type": "stream",
     "text": [
      "-RECORD 0----------------------------------------------------\n",
      " text            | SARS and viral hemorrhagic fevers)        \n",
      " finished_lemmas | [SARS, and, viral, hemorrhagic, fever, )] \n",
      "only showing top 1 row\n",
      "\n"
     ]
    }
   ],
   "source": [
    "from sparknlp import Finisher\n",
    "finisher = Finisher()\n",
    "finisher = finisher\n",
    "# taking the lemma column\n",
    "finisher = finisher.setInputCols(['lemmas'])\n",
    "# seperating lemmas by a single space\n",
    "finisher = finisher.setAnnotationSplitSymbol(' ')\n",
    "finished_texts_df = finisher.transform(procd_texts_df)\n",
    "finished_texts_df.show(n=1, truncate=100, vertical=True)"
   ]
  },
  {
   "cell_type": "code",
   "execution_count": 112,
   "metadata": {},
   "outputs": [
    {
     "data": {
      "text/plain": [
       "[Row(finished_lemmas=['SARS', 'and', 'viral', 'hemorrhagic', 'fever', ')']),\n",
       " Row(finished_lemmas=['Other', \"nation's\", 'health', 'authority', 'will', 'make', 'a', 'request', 'to', 'the', 'CIb', 'in', 'case', 'they', 'diagnose', 'a', 'patient', 'which', 'arrive', 'at', 'Schiphol', 'airport', 'for', 'transit', 'while', 'be', 'infectious']),\n",
       " Row(finished_lemmas=['MHS', 'Kennemerland', 'then', 'complete', 'contact', 'detail', 'through', 'book', 'office', 'or', 'use', 'other', 'search', 'method']),\n",
       " Row(finished_lemmas=['request', 'for', 'contact', 'trace', 'to', 'the', 'CIb', 'for', 'Dutch', 'index', 'patient', 'originate', 'from', 'any', 'Dutch', 'MHS', 'which', 'identify', 'a', 'patient', 'who', 'travel', 'by', 'plane', 'while', 'be', 'contagious', 'for', 'an', 'infectious', 'disease', 'which', 'require', 'contact', 'trace']),\n",
       " Row(finished_lemmas=['request', 'for', 'contact', 'trace', 'to', 'the', 'CIb', 'for', 'Dutch', 'index', 'patient', 'originate', 'from', 'any', 'Dutch', 'MHS', 'which', 'identify', 'a', 'patient', 'who', 'travel', 'by', 'plane', 'while', 'be', 'contagious', 'for', 'an', 'infectious', 'disease', 'which', 'require', 'contact', 'trace']),\n",
       " Row(finished_lemmas=['In', 'case', 'of', 'Schiphol', ',', 'MHS', 'Kennemerland', 'approach', 'the', 'involve', 'airline', 'company', 'request', 'the', 'passenger', 'list']),\n",
       " Row(finished_lemmas=['The', 'CIb', 'verify', 'laboratory', 'confirmation', ',', 'and', 'the', 'indication', 'for', 'contact', 'trace', 'regard', 'flight', 'duration']),\n",
       " Row(finished_lemmas=['The', 'MHS', 'of', 'the', 'airport', 'where', 'the', 'specific', 'flight', 'land', 'coordinate', 'contact', 'trace', 'for', 'flight', 'passenger']),\n",
       " Row(finished_lemmas=['For', 'trace', 'foreign', 'contact', ',', 'the', 'CIb', 'send', 'a', 'notification', 'with', 'contact', 'detail', 'to', 'the', 'NFP', 'of', 'the', 'country', 'of', 'final', 'destination', ',', 'or', 'through', 'the', 'EWS', 'system', 'for', 'EU', 'country', '.']),\n",
       " Row(finished_lemmas=['The', 'other', 'interval', 'II', 'and', 'III', 'be', 'short', ',', 'with', 'a', 'mean', 'of', '0,8', 'day', 'and', '0,6', 'day', 'respectively', ',', 'see', 'Table', '1'])]"
      ]
     },
     "execution_count": 112,
     "metadata": {},
     "output_type": "execute_result"
    }
   ],
   "source": [
    "finished_texts_df.select('finished_lemmas').take(10)"
   ]
  },
  {
   "cell_type": "code",
   "execution_count": null,
   "metadata": {},
   "outputs": [],
   "source": []
  },
  {
   "cell_type": "code",
   "execution_count": null,
   "metadata": {},
   "outputs": [],
   "source": []
  },
  {
   "cell_type": "code",
   "execution_count": null,
   "metadata": {},
   "outputs": [],
   "source": []
  },
  {
   "cell_type": "code",
   "execution_count": null,
   "metadata": {},
   "outputs": [],
   "source": []
  }
 ],
 "metadata": {
  "kernelspec": {
   "display_name": "Python 3",
   "language": "python",
   "name": "python3"
  },
  "language_info": {
   "codemirror_mode": {
    "name": "ipython",
    "version": 3
   },
   "file_extension": ".py",
   "mimetype": "text/x-python",
   "name": "python",
   "nbconvert_exporter": "python",
   "pygments_lexer": "ipython3",
   "version": "3.7.1"
  }
 },
 "nbformat": 4,
 "nbformat_minor": 2
}
