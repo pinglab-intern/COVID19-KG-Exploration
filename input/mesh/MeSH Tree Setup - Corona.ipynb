{
 "cells": [
  {
   "cell_type": "markdown",
   "metadata": {},
   "source": [
    "### MeSH Query Search Setup"
   ]
  },
  {
   "cell_type": "markdown",
   "metadata": {},
   "source": [
    "In this notebook, we will set up the system necessarily to be able to search documents based on the Disease described in the CVD tree."
   ]
  },
  {
   "cell_type": "code",
   "execution_count": null,
   "metadata": {},
   "outputs": [],
   "source": [
    "import sys\n",
    "!{sys.executable} -m pip install xlrd"
   ]
  },
  {
   "cell_type": "code",
   "execution_count": 1,
   "metadata": {},
   "outputs": [],
   "source": [
    "import json\n",
    "import pandas as pd\n",
    "from collections import Counter"
   ]
  },
  {
   "cell_type": "code",
   "execution_count": null,
   "metadata": {},
   "outputs": [],
   "source": [
    "import sys\n",
    "!{sys.executable} -m pip install pandas==0.23.3"
   ]
  },
  {
   "cell_type": "code",
   "execution_count": 2,
   "metadata": {},
   "outputs": [
    {
     "data": {
      "text/plain": [
       "'0.23.3'"
      ]
     },
     "execution_count": 2,
     "metadata": {},
     "output_type": "execute_result"
    }
   ],
   "source": [
    "pd.__version__"
   ]
  },
  {
   "cell_type": "markdown",
   "metadata": {},
   "source": [
    "#### MeSH ID Dictionary Creation\n",
    "Using the most updated (2020) set of MeSH descriptors, two dictionaries are created. One that links MeSH ID to the name and one that links name to MeSH ID"
   ]
  },
  {
   "cell_type": "code",
   "execution_count": 3,
   "metadata": {},
   "outputs": [],
   "source": [
    "meshtree_file = \"mtrees2020.bin\""
   ]
  },
  {
   "cell_type": "code",
   "execution_count": 4,
   "metadata": {},
   "outputs": [],
   "source": [
    "Tree = []\n",
    "id2name = {}\n",
    "name2id = {}\n",
    "with open(meshtree_file, \"r\") as ftree:\n",
    "    for line in ftree:\n",
    "        term_tree = line.strip().split(\";\")\n",
    "        cur_term = term_tree[0]\n",
    "        cur_tree = term_tree[1]\n",
    "\n",
    "        id2name.update({cur_tree:cur_term})                        \n",
    "        name2id.update({cur_term:cur_tree})\n",
    "        Tree.append({'id':cur_tree ,'name':cur_term})"
   ]
  },
  {
   "cell_type": "markdown",
   "metadata": {},
   "source": [
    "#### Signs and Symptoms MeSH Descriptors\n",
    "This code creates a data frame of all MeSH descriptors associated with coronavirus signs and symptoms"
   ]
  },
  {
   "cell_type": "code",
   "execution_count": 23,
   "metadata": {},
   "outputs": [],
   "source": [
    "signs_data = pd.read_excel(r'Covid Symptoms and Comorbidities updated.xlsx', sheet_name=0)\n",
    "signs_df = pd.DataFrame(signs_data, columns= ['MeSH Header', 'MeSH tree'])"
   ]
  },
  {
   "cell_type": "code",
   "execution_count": 24,
   "metadata": {},
   "outputs": [
    {
     "data": {
      "text/html": [
       "<div>\n",
       "<style scoped>\n",
       "    .dataframe tbody tr th:only-of-type {\n",
       "        vertical-align: middle;\n",
       "    }\n",
       "\n",
       "    .dataframe tbody tr th {\n",
       "        vertical-align: top;\n",
       "    }\n",
       "\n",
       "    .dataframe thead th {\n",
       "        text-align: right;\n",
       "    }\n",
       "</style>\n",
       "<table border=\"1\" class=\"dataframe\">\n",
       "  <thead>\n",
       "    <tr style=\"text-align: right;\">\n",
       "      <th></th>\n",
       "      <th>MeSH Header</th>\n",
       "      <th>MeSH tree</th>\n",
       "    </tr>\n",
       "  </thead>\n",
       "  <tbody>\n",
       "    <tr>\n",
       "      <th>0</th>\n",
       "      <td>Fever</td>\n",
       "      <td>C23.888.119.344</td>\n",
       "    </tr>\n",
       "    <tr>\n",
       "      <th>1</th>\n",
       "      <td>Chills</td>\n",
       "      <td>C23.888.208</td>\n",
       "    </tr>\n",
       "    <tr>\n",
       "      <th>2</th>\n",
       "      <td>Cough</td>\n",
       "      <td>C08.618.248\\nC23.888.852.293</td>\n",
       "    </tr>\n",
       "    <tr>\n",
       "      <th>3</th>\n",
       "      <td>Fatigue</td>\n",
       "      <td>C23.888.369</td>\n",
       "    </tr>\n",
       "    <tr>\n",
       "      <th>4</th>\n",
       "      <td>Dyspnea</td>\n",
       "      <td>C08.618.326\\nC23.888.852.371</td>\n",
       "    </tr>\n",
       "  </tbody>\n",
       "</table>\n",
       "</div>"
      ],
      "text/plain": [
       "  MeSH Header                     MeSH tree\n",
       "0       Fever               C23.888.119.344\n",
       "1      Chills                   C23.888.208\n",
       "2       Cough  C08.618.248\\nC23.888.852.293\n",
       "3     Fatigue                   C23.888.369\n",
       "4     Dyspnea  C08.618.326\\nC23.888.852.371"
      ]
     },
     "execution_count": 24,
     "metadata": {},
     "output_type": "execute_result"
    }
   ],
   "source": [
    "signs_df.head(5)"
   ]
  },
  {
   "cell_type": "code",
   "execution_count": 25,
   "metadata": {},
   "outputs": [],
   "source": [
    "signs_df = signs_df.dropna()\n",
    "mesh_signs = signs_df['MeSH tree'].values.tolist()"
   ]
  },
  {
   "cell_type": "code",
   "execution_count": 26,
   "metadata": {},
   "outputs": [
    {
     "data": {
      "text/plain": [
       "'C23.888.119.344'"
      ]
     },
     "execution_count": 26,
     "metadata": {},
     "output_type": "execute_result"
    }
   ],
   "source": [
    "mesh_signs[0]"
   ]
  },
  {
   "cell_type": "code",
   "execution_count": 27,
   "metadata": {},
   "outputs": [],
   "source": [
    "Signs = []\n",
    "for mesh in mesh_signs:\n",
    "    if ('\\n' in mesh):\n",
    "        mesh_new = mesh.split('\\n')\n",
    "        for val in mesh_new:\n",
    "            Signs.append({\"name\": id2name[val], \"ID\":val})\n",
    "    else:\n",
    "        Signs.append({\"name\": id2name[mesh], \"ID\":mesh})"
   ]
  },
  {
   "cell_type": "code",
   "execution_count": 28,
   "metadata": {},
   "outputs": [
    {
     "data": {
      "text/plain": [
       "49"
      ]
     },
     "execution_count": 28,
     "metadata": {},
     "output_type": "execute_result"
    }
   ],
   "source": [
    "len(list(Signs))"
   ]
  },
  {
   "cell_type": "code",
   "execution_count": 29,
   "metadata": {},
   "outputs": [],
   "source": [
    "Sign_Symptom = pd.DataFrame(Signs)\n",
    "Sign_Symptom = Sign_Symptom.set_index('name')\n",
    "Sign_Symptom = Sign_Symptom.sort_values(\"ID\",ascending =True)"
   ]
  },
  {
   "cell_type": "code",
   "execution_count": 30,
   "metadata": {},
   "outputs": [
    {
     "data": {
      "text/html": [
       "<div>\n",
       "<style scoped>\n",
       "    .dataframe tbody tr th:only-of-type {\n",
       "        vertical-align: middle;\n",
       "    }\n",
       "\n",
       "    .dataframe tbody tr th {\n",
       "        vertical-align: top;\n",
       "    }\n",
       "\n",
       "    .dataframe thead th {\n",
       "        text-align: right;\n",
       "    }\n",
       "</style>\n",
       "<table border=\"1\" class=\"dataframe\">\n",
       "  <thead>\n",
       "    <tr style=\"text-align: right;\">\n",
       "      <th></th>\n",
       "      <th>ID</th>\n",
       "    </tr>\n",
       "    <tr>\n",
       "      <th>name</th>\n",
       "      <th></th>\n",
       "    </tr>\n",
       "  </thead>\n",
       "  <tbody>\n",
       "    <tr>\n",
       "      <th>Pharyngitis</th>\n",
       "      <td>C01.748.561</td>\n",
       "    </tr>\n",
       "    <tr>\n",
       "      <th>Shock, Septic</th>\n",
       "      <td>C01.757.800</td>\n",
       "    </tr>\n",
       "    <tr>\n",
       "      <th>Myalgia</th>\n",
       "      <td>C05.651.542</td>\n",
       "    </tr>\n",
       "    <tr>\n",
       "      <th>Liver Failure</th>\n",
       "      <td>C06.552.308.500</td>\n",
       "    </tr>\n",
       "    <tr>\n",
       "      <th>Pharyngitis</th>\n",
       "      <td>C07.550.781</td>\n",
       "    </tr>\n",
       "  </tbody>\n",
       "</table>\n",
       "</div>"
      ],
      "text/plain": [
       "                            ID\n",
       "name                          \n",
       "Pharyngitis        C01.748.561\n",
       "Shock, Septic      C01.757.800\n",
       "Myalgia            C05.651.542\n",
       "Liver Failure  C06.552.308.500\n",
       "Pharyngitis        C07.550.781"
      ]
     },
     "execution_count": 30,
     "metadata": {},
     "output_type": "execute_result"
    }
   ],
   "source": [
    "Sign_Symptom.head()"
   ]
  },
  {
   "cell_type": "markdown",
   "metadata": {},
   "source": [
    "- Outputs all associated MeSH IDs to ```csv``` file"
   ]
  },
  {
   "cell_type": "code",
   "execution_count": 31,
   "metadata": {},
   "outputs": [],
   "source": [
    "Sign_Symptom.to_csv(\"signs.csv\")"
   ]
  },
  {
   "cell_type": "markdown",
   "metadata": {},
   "source": [
    "#### Comorbidities MeSH Descriptors\n",
    "This code creates a data frame of all MeSH descriptors associated with coronavirus comorbidities"
   ]
  },
  {
   "cell_type": "code",
   "execution_count": 35,
   "metadata": {},
   "outputs": [],
   "source": [
    "comorb_data = pd.read_excel(r'Covid Symptoms and Comorbidities updated.xlsx', sheet_name=2)\n",
    "comorb_df = pd.DataFrame(comorb_data, columns= ['MeSH Heading', 'MeSH Tree'])"
   ]
  },
  {
   "cell_type": "code",
   "execution_count": 36,
   "metadata": {},
   "outputs": [
    {
     "data": {
      "text/html": [
       "<div>\n",
       "<style scoped>\n",
       "    .dataframe tbody tr th:only-of-type {\n",
       "        vertical-align: middle;\n",
       "    }\n",
       "\n",
       "    .dataframe tbody tr th {\n",
       "        vertical-align: top;\n",
       "    }\n",
       "\n",
       "    .dataframe thead th {\n",
       "        text-align: right;\n",
       "    }\n",
       "</style>\n",
       "<table border=\"1\" class=\"dataframe\">\n",
       "  <thead>\n",
       "    <tr style=\"text-align: right;\">\n",
       "      <th></th>\n",
       "      <th>MeSH Heading</th>\n",
       "      <th>MeSH Tree</th>\n",
       "    </tr>\n",
       "  </thead>\n",
       "  <tbody>\n",
       "    <tr>\n",
       "      <th>0</th>\n",
       "      <td>NaN</td>\n",
       "      <td>NaN</td>\n",
       "    </tr>\n",
       "    <tr>\n",
       "      <th>1</th>\n",
       "      <td>Heart Failure</td>\n",
       "      <td>C14.280.434</td>\n",
       "    </tr>\n",
       "    <tr>\n",
       "      <th>2</th>\n",
       "      <td>Coronary Artery Disease</td>\n",
       "      <td>C14.280.647.250.260\\nC14.907.137.126.339\\nC14....</td>\n",
       "    </tr>\n",
       "    <tr>\n",
       "      <th>3</th>\n",
       "      <td>Cardiomyopathies</td>\n",
       "      <td>C14.280.238</td>\n",
       "    </tr>\n",
       "    <tr>\n",
       "      <th>4</th>\n",
       "      <td>Neoplasms</td>\n",
       "      <td>C04</td>\n",
       "    </tr>\n",
       "  </tbody>\n",
       "</table>\n",
       "</div>"
      ],
      "text/plain": [
       "              MeSH Heading                                          MeSH Tree\n",
       "0                      NaN                                                NaN\n",
       "1            Heart Failure                                        C14.280.434\n",
       "2  Coronary Artery Disease  C14.280.647.250.260\\nC14.907.137.126.339\\nC14....\n",
       "3         Cardiomyopathies                                        C14.280.238\n",
       "4                Neoplasms                                                C04"
      ]
     },
     "execution_count": 36,
     "metadata": {},
     "output_type": "execute_result"
    }
   ],
   "source": [
    "comorb_df.head(5)"
   ]
  },
  {
   "cell_type": "code",
   "execution_count": 38,
   "metadata": {},
   "outputs": [
    {
     "data": {
      "text/plain": [
       "'C14.280.434'"
      ]
     },
     "execution_count": 38,
     "metadata": {},
     "output_type": "execute_result"
    }
   ],
   "source": [
    "comorb_df = comorb_df.dropna()\n",
    "mesh_comorb = comorb_df['MeSH Tree'].values.tolist()\n",
    "mesh_comorb[0]"
   ]
  },
  {
   "cell_type": "code",
   "execution_count": 39,
   "metadata": {},
   "outputs": [],
   "source": [
    "Comorbidities = []\n",
    "for mesh in mesh_comorb:\n",
    "    if ('\\n' in mesh):\n",
    "        mesh_new = mesh.split('\\n')\n",
    "        for val in mesh_new:\n",
    "            Comorbidities.append({\"name\": id2name[val], \"ID\":val})\n",
    "    else:\n",
    "        Comorbidities.append({\"name\": id2name[mesh], \"ID\":mesh})"
   ]
  },
  {
   "cell_type": "code",
   "execution_count": 40,
   "metadata": {},
   "outputs": [
    {
     "data": {
      "text/plain": [
       "50"
      ]
     },
     "execution_count": 40,
     "metadata": {},
     "output_type": "execute_result"
    }
   ],
   "source": [
    "len(list(Comorbidities))"
   ]
  },
  {
   "cell_type": "code",
   "execution_count": 41,
   "metadata": {},
   "outputs": [],
   "source": [
    "Comorb = pd.DataFrame(Comorbidities)\n",
    "Comorb = Comorb.set_index('name')\n",
    "Comorb = Comorb.sort_values(\"ID\",ascending =True)"
   ]
  },
  {
   "cell_type": "code",
   "execution_count": 42,
   "metadata": {},
   "outputs": [
    {
     "data": {
      "text/html": [
       "<div>\n",
       "<style scoped>\n",
       "    .dataframe tbody tr th:only-of-type {\n",
       "        vertical-align: middle;\n",
       "    }\n",
       "\n",
       "    .dataframe tbody tr th {\n",
       "        vertical-align: top;\n",
       "    }\n",
       "\n",
       "    .dataframe thead th {\n",
       "        text-align: right;\n",
       "    }\n",
       "</style>\n",
       "<table border=\"1\" class=\"dataframe\">\n",
       "  <thead>\n",
       "    <tr style=\"text-align: right;\">\n",
       "      <th></th>\n",
       "      <th>ID</th>\n",
       "    </tr>\n",
       "    <tr>\n",
       "      <th>name</th>\n",
       "      <th></th>\n",
       "    </tr>\n",
       "  </thead>\n",
       "  <tbody>\n",
       "    <tr>\n",
       "      <th>HIV</th>\n",
       "      <td>B04.820.650.589.650.350</td>\n",
       "    </tr>\n",
       "    <tr>\n",
       "      <th>Acquired Immunodeficiency Syndrome</th>\n",
       "      <td>C01.778.640.400.040</td>\n",
       "    </tr>\n",
       "    <tr>\n",
       "      <th>Acquired Immunodeficiency Syndrome</th>\n",
       "      <td>C01.925.782.815.616.400.040</td>\n",
       "    </tr>\n",
       "    <tr>\n",
       "      <th>Acquired Immunodeficiency Syndrome</th>\n",
       "      <td>C01.925.813.400.040</td>\n",
       "    </tr>\n",
       "    <tr>\n",
       "      <th>Acquired Immunodeficiency Syndrome</th>\n",
       "      <td>C01.925.839.040</td>\n",
       "    </tr>\n",
       "  </tbody>\n",
       "</table>\n",
       "</div>"
      ],
      "text/plain": [
       "                                                             ID\n",
       "name                                                           \n",
       "HIV                                     B04.820.650.589.650.350\n",
       "Acquired Immunodeficiency Syndrome          C01.778.640.400.040\n",
       "Acquired Immunodeficiency Syndrome  C01.925.782.815.616.400.040\n",
       "Acquired Immunodeficiency Syndrome          C01.925.813.400.040\n",
       "Acquired Immunodeficiency Syndrome              C01.925.839.040"
      ]
     },
     "execution_count": 42,
     "metadata": {},
     "output_type": "execute_result"
    }
   ],
   "source": [
    "Comorb.head()"
   ]
  },
  {
   "cell_type": "code",
   "execution_count": 43,
   "metadata": {},
   "outputs": [],
   "source": [
    "Comorb.to_csv(\"comorbidities.csv\")"
   ]
  },
  {
   "cell_type": "markdown",
   "metadata": {},
   "source": [
    "- Outputs all associated MeSH IDs to ```csv``` file"
   ]
  }
 ],
 "metadata": {
  "kernelspec": {
   "display_name": "Python 3",
   "language": "python",
   "name": "python3"
  },
  "language_info": {
   "codemirror_mode": {
    "name": "ipython",
    "version": 3
   },
   "file_extension": ".py",
   "mimetype": "text/x-python",
   "name": "python",
   "nbconvert_exporter": "python",
   "pygments_lexer": "ipython3",
   "version": "3.6.6"
  }
 },
 "nbformat": 4,
 "nbformat_minor": 2
}
