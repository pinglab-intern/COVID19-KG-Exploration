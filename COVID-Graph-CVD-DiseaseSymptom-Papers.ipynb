{
 "cells": [
  {
   "cell_type": "markdown",
   "metadata": {},
   "source": [
    "### COVID-19 Graph"
   ]
  },
  {
   "cell_type": "markdown",
   "metadata": {},
   "source": [
    "COVID-19\n",
    "Knowledge Graph\n",
    "CovidGraph is a non-profit collaboration of researchers, software developers, data scientists and medical professionals.\n",
    "\n",
    "We have built a research and communication platform that encompasses over 40,000 publications, case statistics, genes and functions, molecular data and much more."
   ]
  },
  {
   "cell_type": "markdown",
   "metadata": {},
   "source": [
    "Link: https://covidgraph.org/"
   ]
  },
  {
   "cell_type": "markdown",
   "metadata": {},
   "source": [
    "```\n",
    "HTTPS\n",
    "https://covid.petesis.com:7473\n",
    "\n",
    "User: public\n",
    "Password: corona\n",
    "```"
   ]
  },
  {
   "cell_type": "code",
   "execution_count": 1,
   "metadata": {},
   "outputs": [],
   "source": [
    "import pandas as pd\n",
    "import json\n",
    "from neo4j import GraphDatabase\n",
    "# from neo4j import APOC"
   ]
  },
  {
   "cell_type": "code",
   "execution_count": 2,
   "metadata": {},
   "outputs": [],
   "source": [
    "covid_browser = \"https://covid.petesis.com:7473\"\n",
    "covid_url = \"bolt://covid.petesis.com:7687\"\n",
    "user = \"public\"\n",
    "password = \"corona\"\n",
    "\n",
    "#driver = GraphDatabase.driver(uri, auth=(user, password))\n",
    "driver = GraphDatabase.driver(uri = covid_url,\\\n",
    "                              auth = (user,password))"
   ]
  },
  {
   "cell_type": "markdown",
   "metadata": {},
   "source": [
    "----------"
   ]
  },
  {
   "cell_type": "markdown",
   "metadata": {},
   "source": [
    "### COVID-19 Network"
   ]
  },
  {
   "cell_type": "code",
   "execution_count": 3,
   "metadata": {},
   "outputs": [],
   "source": [
    "import json\n",
    "import pandas as pd\n",
    "import numpy as np\n",
    "import matplotlib.pyplot as plt\n",
    "import seaborn as sns\n",
    "sns.set()\n",
    "%matplotlib inline"
   ]
  },
  {
   "cell_type": "markdown",
   "metadata": {},
   "source": [
    "### More Queries"
   ]
  },
  {
   "cell_type": "markdown",
   "metadata": {},
   "source": [
    "Queries on CVD Diseases and Symptoms"
   ]
  },
  {
   "cell_type": "markdown",
   "metadata": {},
   "source": [
    "**Use CVD disease and symptoms from ICD 11 (e.g., 'BodyText' node in graph)**"
   ]
  },
  {
   "cell_type": "markdown",
   "metadata": {},
   "source": [
    "#### ICD11 Code: BA40"
   ]
  },
  {
   "cell_type": "code",
   "execution_count": 5,
   "metadata": {},
   "outputs": [
    {
     "name": "stdout",
     "output_type": "stream",
     "text": [
      "<Record p=<Node id=66921 labels={'Paper'} properties={'cord_uid': '8tcw3cll', 'cord19-fulltext_hash': 'f5edded3536428635cad1f78fe6dc38002690a43', 'journal': 'Evid Based Complement Alternat Med', 'publish_time': '2012-02-21', 'source': 'PMC', 'title': 'Current Situation and Perspectives of Clinical Study in Integrative Medicine in China', '_hash_id': '97f944bce4b698474b7bd75450ab271f', 'url': 'https://www.ncbi.nlm.nih.gov/pmc/articles/PMC3328953/'}>>\n"
     ]
    }
   ],
   "source": [
    "query = \"MATCH (p:Paper)-[:PAPER_HAS_BODYTEXTCOLLECTION]-(:BodyTextCollection)\\\n",
    "                                -[:BODYTEXTCOLLECTION_HAS_BODYTEXT]-(a:BodyText) \\\n",
    "                                WHERE (LOWER(a.text) CONTAINS 'angina pectoris') \\\n",
    "                                    return p LIMIT 1\"\n",
    "with driver.session() as session:\n",
    "    info = session.run(query)\n",
    "    for item in info:\n",
    "        print(item)"
   ]
  },
  {
   "cell_type": "code",
   "execution_count": 6,
   "metadata": {},
   "outputs": [],
   "source": [
    "entities_ba40 = ['angina pectoris','anginal syndrome', 'unstable angina', 'stable angina']"
   ]
  },
  {
   "cell_type": "code",
   "execution_count": 7,
   "metadata": {},
   "outputs": [],
   "source": [
    "result_ba40 = []\n",
    "for entity in entities_ba40:\n",
    "    entity_result = []\n",
    "    query = \"MATCH (p:Paper)-[:PAPER_HAS_BODYTEXTCOLLECTION]-(:BodyTextCollection)-\\\n",
    "                                    [:BODYTEXTCOLLECTION_HAS_BODYTEXT]-(a:BodyText) \\\n",
    "                                    WHERE (LOWER(a.text) CONTAINS '\" + entity + \"')\" + \\\n",
    "                                    \"return p.journal, p.publish_time, p.source, p.title, p.url\"\n",
    "    \n",
    "    with driver.session() as session:\n",
    "        info = session.run(query)\n",
    "        for item in info:\n",
    "            entity_result.append({'journal': item.values()[0], \\\n",
    "                                  \"publish_time\": item.values()[1],\\\n",
    "                                  \"source\": item.values()[2],\\\n",
    "                                  \"title\": item.values()[3],\\\n",
    "                                  \"url\": item.values()[4]})\n",
    "            \n",
    "    result_ba40.append({entity:entity_result})"
   ]
  },
  {
   "cell_type": "code",
   "execution_count": 8,
   "metadata": {
    "scrolled": false
   },
   "outputs": [],
   "source": [
    "with open(\"Data_Disease_Symptoms/Papers/ICD11-BA40.json\", 'w') as ba40:\n",
    "    json.dump(result_ba40, ba40)"
   ]
  },
  {
   "cell_type": "markdown",
   "metadata": {},
   "source": [
    "#### ICD11 BA41"
   ]
  },
  {
   "cell_type": "code",
   "execution_count": 9,
   "metadata": {},
   "outputs": [],
   "source": [
    "entities_ba41 = ['acute myocardial infarction']"
   ]
  },
  {
   "cell_type": "code",
   "execution_count": 10,
   "metadata": {},
   "outputs": [],
   "source": [
    "result_ba41 = []\n",
    "for entity in entities_ba41:\n",
    "    entity_result = []\n",
    "    query = \"MATCH (p:Paper)-[:PAPER_HAS_BODYTEXTCOLLECTION]-(:BodyTextCollection)-\\\n",
    "                                    [:BODYTEXTCOLLECTION_HAS_BODYTEXT]-(a:BodyText) \\\n",
    "                                    WHERE (LOWER(a.text) CONTAINS '\" + entity + \"')\" + \\\n",
    "                                    \"return p.journal, p.publish_time, p.source, p.title, p.url\"\n",
    "    \n",
    "    with driver.session() as session:\n",
    "        info = session.run(query)\n",
    "        for item in info:\n",
    "            entity_result.append({'journal': item.values()[0], \\\n",
    "                                  \"publish_time\": item.values()[1],\\\n",
    "                                  \"source\": item.values()[2],\\\n",
    "                                  \"title\": item.values()[3],\\\n",
    "                                  \"url\": item.values()[4]})\n",
    "            \n",
    "    result_ba41.append({entity:entity_result})"
   ]
  },
  {
   "cell_type": "code",
   "execution_count": 11,
   "metadata": {
    "scrolled": false
   },
   "outputs": [],
   "source": [
    "with open(\"Data_Disease_Symptoms/Papers/ICD11-BA41.json\", 'w') as ba41:\n",
    "    json.dump(result_ba41, ba41)"
   ]
  },
  {
   "cell_type": "markdown",
   "metadata": {},
   "source": [
    "#### ICD11 BA42"
   ]
  },
  {
   "cell_type": "code",
   "execution_count": 12,
   "metadata": {},
   "outputs": [],
   "source": [
    "entities_ba42 = ['recurrent myocardial infarction','subsequent myocardial infarction']"
   ]
  },
  {
   "cell_type": "code",
   "execution_count": 13,
   "metadata": {
    "scrolled": false
   },
   "outputs": [],
   "source": [
    "result_ba42 = []\n",
    "for entity in entities_ba42:\n",
    "    entity_result = []\n",
    "    query = \"MATCH (p:Paper)-[:PAPER_HAS_BODYTEXTCOLLECTION]-(:BodyTextCollection)-\\\n",
    "                                    [:BODYTEXTCOLLECTION_HAS_BODYTEXT]-(a:BodyText) \\\n",
    "                                    WHERE (LOWER(a.text) CONTAINS '\" + entity + \"')\" + \\\n",
    "                                    \"return p.journal, p.publish_time, p.source, p.title, p.url\"\n",
    "    \n",
    "    with driver.session() as session:\n",
    "        info = session.run(query)\n",
    "        for item in info:\n",
    "            entity_result.append({'journal': item.values()[0], \\\n",
    "                                  \"publish_time\": item.values()[1],\\\n",
    "                                  \"source\": item.values()[2],\\\n",
    "                                  \"title\": item.values()[3],\\\n",
    "                                  \"url\": item.values()[4]})\n",
    "            \n",
    "    result_ba42.append({entity:entity_result})"
   ]
  },
  {
   "cell_type": "code",
   "execution_count": 14,
   "metadata": {},
   "outputs": [],
   "source": [
    "with open(\"Data_Disease_Symptoms/Papers/ICD11-BA42.json\", 'w') as ba42:\n",
    "    json.dump(result_ba42, ba42)"
   ]
  },
  {
   "cell_type": "markdown",
   "metadata": {},
   "source": [
    "#### ICD11 BA43"
   ]
  },
  {
   "cell_type": "code",
   "execution_count": 15,
   "metadata": {},
   "outputs": [],
   "source": [
    "entities_ba43 = ['coronary thrombosis']"
   ]
  },
  {
   "cell_type": "code",
   "execution_count": 16,
   "metadata": {},
   "outputs": [],
   "source": [
    "result_ba43 = []\n",
    "for entity in entities_ba43:\n",
    "    entity_result = []\n",
    "    query = \"MATCH (p:Paper)-[:PAPER_HAS_BODYTEXTCOLLECTION]-(:BodyTextCollection)-\\\n",
    "                                    [:BODYTEXTCOLLECTION_HAS_BODYTEXT]-(a:BodyText) \\\n",
    "                                    WHERE (LOWER(a.text) CONTAINS '\" + entity + \"')\" + \\\n",
    "                                    \"return p.journal, p.publish_time, p.source, p.title, p.url\"\n",
    "    \n",
    "    with driver.session() as session:\n",
    "        info = session.run(query)\n",
    "        for item in info:\n",
    "            entity_result.append({'journal': item.values()[0], \\\n",
    "                                  \"publish_time\": item.values()[1],\\\n",
    "                                  \"source\": item.values()[2],\\\n",
    "                                  \"title\": item.values()[3],\\\n",
    "                                  \"url\": item.values()[4]})\n",
    "            \n",
    "    result_ba43.append({entity:entity_result})"
   ]
  },
  {
   "cell_type": "code",
   "execution_count": 17,
   "metadata": {},
   "outputs": [],
   "source": [
    "with open(\"Data_Disease_Symptoms/Papers/ICD11-BA43.json\", 'w') as ba43:\n",
    "    json.dump(result_ba43, ba43)"
   ]
  },
  {
   "cell_type": "markdown",
   "metadata": {},
   "source": [
    "#### ICD11 BA4Z"
   ]
  },
  {
   "cell_type": "code",
   "execution_count": 18,
   "metadata": {},
   "outputs": [],
   "source": [
    "entities_ba4z = ['myocardial reperfusion injury']"
   ]
  },
  {
   "cell_type": "code",
   "execution_count": 19,
   "metadata": {},
   "outputs": [],
   "source": [
    "result_ba4z = []\n",
    "for entity in entities_ba4z:\n",
    "    entity_result = []\n",
    "    query = \"MATCH (p:Paper)-[:PAPER_HAS_BODYTEXTCOLLECTION]-(:BodyTextCollection)-\\\n",
    "                                    [:BODYTEXTCOLLECTION_HAS_BODYTEXT]-(a:BodyText) \\\n",
    "                                    WHERE (LOWER(a.text) CONTAINS '\" + entity + \"')\" + \\\n",
    "                                    \"return p.journal, p.publish_time, p.source, p.title, p.url\"\n",
    "    \n",
    "    with driver.session() as session:\n",
    "        info = session.run(query)\n",
    "        for item in info:\n",
    "            entity_result.append({'journal': item.values()[0], \\\n",
    "                                  \"publish_time\": item.values()[1],\\\n",
    "                                  \"source\": item.values()[2],\\\n",
    "                                  \"title\": item.values()[3],\\\n",
    "                                  \"url\": item.values()[4]})\n",
    "            \n",
    "    result_ba4z.append({entity:entity_result})"
   ]
  },
  {
   "cell_type": "code",
   "execution_count": 20,
   "metadata": {},
   "outputs": [],
   "source": [
    "with open(\"Data_Disease_Symptoms/Papers/ICD11-BA4Z.json\", 'w') as ba4z:\n",
    "    json.dump(result_ba4z, ba4z)"
   ]
  },
  {
   "cell_type": "markdown",
   "metadata": {},
   "source": [
    "#### ICD11 BA50"
   ]
  },
  {
   "cell_type": "code",
   "execution_count": 21,
   "metadata": {},
   "outputs": [],
   "source": [
    "entities_ba50 = ['healed myocardial infarction', 'old myocardial infarction']"
   ]
  },
  {
   "cell_type": "code",
   "execution_count": 22,
   "metadata": {},
   "outputs": [],
   "source": [
    "result_ba50 = []\n",
    "for entity in entities_ba50:\n",
    "    entity_result = []\n",
    "    query = \"MATCH (p:Paper)-[:PAPER_HAS_BODYTEXTCOLLECTION]-(:BodyTextCollection)-\\\n",
    "                                    [:BODYTEXTCOLLECTION_HAS_BODYTEXT]-(a:BodyText) \\\n",
    "                                    WHERE (LOWER(a.text) CONTAINS '\" + entity + \"')\" + \\\n",
    "                                    \"return p.journal, p.publish_time, p.source, p.title, p.url\"\n",
    "    \n",
    "    with driver.session() as session:\n",
    "        info = session.run(query)\n",
    "        for item in info:\n",
    "            entity_result.append({'journal': item.values()[0], \\\n",
    "                                  \"publish_time\": item.values()[1],\\\n",
    "                                  \"source\": item.values()[2],\\\n",
    "                                  \"title\": item.values()[3],\\\n",
    "                                  \"url\": item.values()[4]})\n",
    "            \n",
    "    result_ba50.append({entity:entity_result})"
   ]
  },
  {
   "cell_type": "code",
   "execution_count": 23,
   "metadata": {},
   "outputs": [],
   "source": [
    "with open(\"Data_Disease_Symptoms/Papers/ICD11-BA50.json\", 'w') as ba50:\n",
    "    json.dump(result_ba50, ba50)"
   ]
  },
  {
   "cell_type": "markdown",
   "metadata": {},
   "source": [
    "#### ICD11 BA51"
   ]
  },
  {
   "cell_type": "code",
   "execution_count": 24,
   "metadata": {},
   "outputs": [],
   "source": [
    "entities_ba51 = ['ischaemic cardiomyopathy']"
   ]
  },
  {
   "cell_type": "code",
   "execution_count": 25,
   "metadata": {},
   "outputs": [],
   "source": [
    "result_ba51 = []\n",
    "for entity in entities_ba51:\n",
    "    entity_result = []\n",
    "    query = \"MATCH (p:Paper)-[:PAPER_HAS_BODYTEXTCOLLECTION]-(:BodyTextCollection)-\\\n",
    "                                    [:BODYTEXTCOLLECTION_HAS_BODYTEXT]-(a:BodyText) \\\n",
    "                                    WHERE (LOWER(a.text) CONTAINS '\" + entity + \"')\" + \\\n",
    "                                    \"return p.journal, p.publish_time, p.source, p.title, p.url\"\n",
    "    \n",
    "    with driver.session() as session:\n",
    "        info = session.run(query)\n",
    "        for item in info:\n",
    "            entity_result.append({'journal': item.values()[0], \\\n",
    "                                  \"publish_time\": item.values()[1],\\\n",
    "                                  \"source\": item.values()[2],\\\n",
    "                                  \"title\": item.values()[3],\\\n",
    "                                  \"url\": item.values()[4]})\n",
    "            \n",
    "    result_ba51.append({entity:entity_result})"
   ]
  },
  {
   "cell_type": "code",
   "execution_count": 26,
   "metadata": {},
   "outputs": [],
   "source": [
    "with open(\"Data_Disease_Symptoms/Papers/ICD11-BA51.json\", 'w') as ba51:\n",
    "    json.dump(result_ba51, ba51)"
   ]
  },
  {
   "cell_type": "markdown",
   "metadata": {},
   "source": [
    "#### ICD11 BA5Z"
   ]
  },
  {
   "cell_type": "code",
   "execution_count": 27,
   "metadata": {},
   "outputs": [],
   "source": [
    "entities_ba5z = ['chronic ischaemic heart disease']"
   ]
  },
  {
   "cell_type": "code",
   "execution_count": 28,
   "metadata": {},
   "outputs": [],
   "source": [
    "result_ba5z = []\n",
    "for entity in entities_ba5z:\n",
    "    entity_result = []\n",
    "    query = \"MATCH (p:Paper)-[:PAPER_HAS_BODYTEXTCOLLECTION]-(:BodyTextCollection)-\\\n",
    "                                    [:BODYTEXTCOLLECTION_HAS_BODYTEXT]-(a:BodyText) \\\n",
    "                                    WHERE (LOWER(a.text) CONTAINS '\" + entity + \"')\" + \\\n",
    "                                    \"return p.journal, p.publish_time, p.source, p.title, p.url\"\n",
    "    \n",
    "    with driver.session() as session:\n",
    "        info = session.run(query)\n",
    "        for item in info:\n",
    "            entity_result.append({'journal': item.values()[0], \\\n",
    "                                  \"publish_time\": item.values()[1],\\\n",
    "                                  \"source\": item.values()[2],\\\n",
    "                                  \"title\": item.values()[3],\\\n",
    "                                  \"url\": item.values()[4]})\n",
    "            \n",
    "    result_ba5z.append({entity:entity_result})"
   ]
  },
  {
   "cell_type": "code",
   "execution_count": 29,
   "metadata": {},
   "outputs": [],
   "source": [
    "with open(\"Data_Disease_Symptoms/Papers/ICD11-BA5Z.json\", 'w') as ba5z:\n",
    "    json.dump(result_ba5z, ba5z)"
   ]
  },
  {
   "cell_type": "markdown",
   "metadata": {},
   "source": [
    "#### ICD11 BA60"
   ]
  },
  {
   "cell_type": "code",
   "execution_count": 30,
   "metadata": {},
   "outputs": [],
   "source": [
    "entities_ba60 = ['pericarditis', 'ventricular aneurysm', 'ventricular septal defect', 'cardiac rupture' \\\n",
    "                'pulmonary embolism', 'mural thrombus', 'arrhythmia', 'cardiogenic shock']"
   ]
  },
  {
   "cell_type": "code",
   "execution_count": 31,
   "metadata": {},
   "outputs": [],
   "source": [
    "result_ba60 = []\n",
    "for entity in entities_ba60:\n",
    "    entity_result = []\n",
    "    query = \"MATCH (p:Paper)-[:PAPER_HAS_BODYTEXTCOLLECTION]-(:BodyTextCollection)-\\\n",
    "                    [:BODYTEXTCOLLECTION_HAS_BODYTEXT]-(a:BodyText) WHERE (LOWER(a.text) \\\n",
    "                    CONTAINS '\" + entity + \"'\" + \"AND LOWER(a.text) CONTAINS 'complication') \\\n",
    "                    return p.journal, p.publish_time, p.source, p.title, p.url\"\n",
    "    \n",
    "    with driver.session() as session:\n",
    "        info = session.run(query)\n",
    "        for item in info:\n",
    "            entity_result.append({'journal': item.values()[0], \\\n",
    "                                  \"publish_time\": item.values()[1],\\\n",
    "                                  \"source\": item.values()[2],\\\n",
    "                                  \"title\": item.values()[3],\\\n",
    "                                  \"url\": item.values()[4]})\n",
    "            \n",
    "    result_ba60.append({entity:entity_result})"
   ]
  },
  {
   "cell_type": "code",
   "execution_count": 32,
   "metadata": {},
   "outputs": [],
   "source": [
    "entities_ba60_b = ['chordae tendineae', 'papillary muscle']"
   ]
  },
  {
   "cell_type": "code",
   "execution_count": 33,
   "metadata": {},
   "outputs": [],
   "source": [
    "for entity in entities_ba60_b:\n",
    "    entity_result = []\n",
    "    query = \"MATCH (p:Paper)-[:PAPER_HAS_BODYTEXTCOLLECTION]-(:BodyTextCollection)-\\\n",
    "                                [:BODYTEXTCOLLECTION_HAS_BODYTEXT]-(a:BodyText) \\\n",
    "                                WHERE (LOWER(a.text) CONTAINS '\" + entity + \"'\" + \\\n",
    "                                \"AND LOWER(a.text) CONTAINS 'complication' \\\n",
    "                                AND LOWER(a.text) CONTAINS 'rupture') \\\n",
    "                                return p.journal, p.publish_time, p.source, p.title, p.url\"\n",
    "    \n",
    "    with driver.session() as session:\n",
    "        info = session.run(query)\n",
    "        for item in info:\n",
    "            entity_result.append({'journal': item.values()[0], \\\n",
    "                                  \"publish_time\": item.values()[1],\\\n",
    "                                  \"source\": item.values()[2],\\\n",
    "                                  \"title\": item.values()[3],\\\n",
    "                                  \"url\": item.values()[4]})\n",
    "            \n",
    "    result_ba60.append({entity:entity_result})"
   ]
  },
  {
   "cell_type": "code",
   "execution_count": 34,
   "metadata": {},
   "outputs": [],
   "source": [
    "with open(\"Data_Disease_Symptoms/Papers/ICD11-BA60.json\", 'w') as ba60:\n",
    "    json.dump(result_ba60, ba60)"
   ]
  }
 ],
 "metadata": {
  "kernelspec": {
   "display_name": "Python 3",
   "language": "python",
   "name": "python3"
  },
  "language_info": {
   "codemirror_mode": {
    "name": "ipython",
    "version": 3
   },
   "file_extension": ".py",
   "mimetype": "text/x-python",
   "name": "python",
   "nbconvert_exporter": "python",
   "pygments_lexer": "ipython3",
   "version": "3.6.10"
  }
 },
 "nbformat": 4,
 "nbformat_minor": 2
}
