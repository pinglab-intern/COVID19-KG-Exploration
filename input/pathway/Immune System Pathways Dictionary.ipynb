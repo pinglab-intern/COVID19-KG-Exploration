{
 "cells": [
  {
   "cell_type": "markdown",
   "metadata": {},
   "source": [
    "## Extraction of Pathways (Reactome)\n",
    "\n",
    "REACTOME is an open-source, open access, manually curated and peer-reviewed pathway database. OuREACTOME is an open-source, open access, manually curated and peer-reviewed pathway database. Our goal is to provide intuitive bioinformatics tools for the visualization, interpretation and analysis of pathway knowledge to support basic and clinical research, genome analysis, modeling, systems biology and education. Founded in 2003, the Reactome project is led by Lincoln Stein of OICR, Peter D’Eustachio of NYULMC, Henning Hermjakob of EMBL-EBI, and Guanming Wu of OHSU.r goal is to provide intuitive bioinformatics tools for the visualization, interpretation and analysis of pathway knowledge to support basic and clinical research, genome analysis, modeling, systems biology and education. Founded in 2003, the Reactome project is led by Lincoln Stein of OICR, Peter D’Eustachio of NYULMC, Henning Hermjakob of EMBL-EBI, and Guanming Wu of OHSU.  [Source](https://reactome.org/)"
   ]
  },
  {
   "cell_type": "markdown",
   "metadata": {},
   "source": [
    "This notebook takes immune system pathways from Reactome and parses its data"
   ]
  },
  {
   "cell_type": "code",
   "execution_count": 14,
   "metadata": {},
   "outputs": [],
   "source": [
    "import json as json\n",
    "import pandas as pd"
   ]
  },
  {
   "cell_type": "markdown",
   "metadata": {},
   "source": [
    "#### Pathway Parsing"
   ]
  },
  {
   "cell_type": "markdown",
   "metadata": {},
   "source": [
    "Each pathway has 3 components: RID, a name, and an associated species. We also distinguish all pathways related to humans that are related to the immune system"
   ]
  },
  {
   "cell_type": "code",
   "execution_count": 15,
   "metadata": {},
   "outputs": [],
   "source": [
    "immune_pathway_rids = []\n",
    "with open(\"adaptive_immune_system_pathways.txt\", 'r') as f2:\n",
    "    for line in f2:\n",
    "        s1 = line.split('\\n')\n",
    "        immune_pathway_rids.append(s1[0])      "
   ]
  },
  {
   "cell_type": "code",
   "execution_count": 16,
   "metadata": {},
   "outputs": [
    {
     "data": {
      "text/plain": [
       "['R-HSA-202403',\n",
       " 'R-HSA-202427',\n",
       " 'R-HSA-202430',\n",
       " 'R-HSA-202433',\n",
       " 'R-HSA-202424',\n",
       " 'R-HSA-388841',\n",
       " 'R-HSA-389356',\n",
       " 'R-HSA-389513',\n",
       " 'R-HSA-389948',\n",
       " 'R-HSA-983705',\n",
       " 'R-HSA-983695',\n",
       " 'R-HSA-1168372',\n",
       " 'R-HSA-5690714',\n",
       " 'R-HSA-983169',\n",
       " 'R-HSA-983168',\n",
       " 'R-HSA-983170',\n",
       " 'R-HSA-1236975',\n",
       " 'R-HSA-2132295',\n",
       " 'R-HSA-198933',\n",
       " 'R-HSA-392517',\n",
       " 'R-HSA-8851680']"
      ]
     },
     "execution_count": 16,
     "metadata": {},
     "output_type": "execute_result"
    }
   ],
   "source": [
    "immune_pathway_rids"
   ]
  },
  {
   "cell_type": "code",
   "execution_count": 17,
   "metadata": {},
   "outputs": [],
   "source": [
    "HUMAN_IMMUNE = []\n",
    "with open(\"ReactomePathways.txt\",'r') as f1:\n",
    "    for line in f1:\n",
    "        sl = line.split(\"\\t\")\n",
    "        RID = sl[0]\n",
    "        name = sl[1]\n",
    "        species = sl[2]\n",
    "        if species[-1] == \"\\n\":\n",
    "            species = species[0:-1]\n",
    "\n",
    "        if species == \"Homo sapiens\" and immune_pathway_rids.count(RID) > 0:\n",
    "            HUMAN_IMMUNE.append({\"RID\":RID, \"name\":name, \"species\":species})          "
   ]
  },
  {
   "cell_type": "code",
   "execution_count": 18,
   "metadata": {},
   "outputs": [
    {
     "data": {
      "text/plain": [
       "21"
      ]
     },
     "execution_count": 18,
     "metadata": {},
     "output_type": "execute_result"
    }
   ],
   "source": [
    "len(HUMAN_IMMUNE)"
   ]
  },
  {
   "cell_type": "code",
   "execution_count": 19,
   "metadata": {},
   "outputs": [],
   "source": [
    "df = pd.DataFrame(HUMAN_IMMUNE)"
   ]
  },
  {
   "cell_type": "code",
   "execution_count": 20,
   "metadata": {},
   "outputs": [
    {
     "data": {
      "text/html": [
       "<div>\n",
       "<style scoped>\n",
       "    .dataframe tbody tr th:only-of-type {\n",
       "        vertical-align: middle;\n",
       "    }\n",
       "\n",
       "    .dataframe tbody tr th {\n",
       "        vertical-align: top;\n",
       "    }\n",
       "\n",
       "    .dataframe thead th {\n",
       "        text-align: right;\n",
       "    }\n",
       "</style>\n",
       "<table border=\"1\" class=\"dataframe\">\n",
       "  <thead>\n",
       "    <tr style=\"text-align: right;\">\n",
       "      <th></th>\n",
       "      <th>RID</th>\n",
       "      <th>name</th>\n",
       "      <th>species</th>\n",
       "    </tr>\n",
       "  </thead>\n",
       "  <tbody>\n",
       "    <tr>\n",
       "      <th>0</th>\n",
       "      <td>R-HSA-983170</td>\n",
       "      <td>Antigen Presentation: Folding, assembly and pe...</td>\n",
       "      <td>Homo sapiens</td>\n",
       "    </tr>\n",
       "    <tr>\n",
       "      <th>1</th>\n",
       "      <td>R-HSA-983695</td>\n",
       "      <td>Antigen activates B Cell Receptor (BCR) leadin...</td>\n",
       "      <td>Homo sapiens</td>\n",
       "    </tr>\n",
       "    <tr>\n",
       "      <th>2</th>\n",
       "      <td>R-HSA-1236975</td>\n",
       "      <td>Antigen processing-Cross presentation</td>\n",
       "      <td>Homo sapiens</td>\n",
       "    </tr>\n",
       "    <tr>\n",
       "      <th>3</th>\n",
       "      <td>R-HSA-983168</td>\n",
       "      <td>Antigen processing: Ubiquitination &amp; Proteasom...</td>\n",
       "      <td>Homo sapiens</td>\n",
       "    </tr>\n",
       "    <tr>\n",
       "      <th>4</th>\n",
       "      <td>R-HSA-8851680</td>\n",
       "      <td>Butyrophilin (BTN) family interactions</td>\n",
       "      <td>Homo sapiens</td>\n",
       "    </tr>\n",
       "  </tbody>\n",
       "</table>\n",
       "</div>"
      ],
      "text/plain": [
       "             RID                                               name  \\\n",
       "0   R-HSA-983170  Antigen Presentation: Folding, assembly and pe...   \n",
       "1   R-HSA-983695  Antigen activates B Cell Receptor (BCR) leadin...   \n",
       "2  R-HSA-1236975              Antigen processing-Cross presentation   \n",
       "3   R-HSA-983168  Antigen processing: Ubiquitination & Proteasom...   \n",
       "4  R-HSA-8851680             Butyrophilin (BTN) family interactions   \n",
       "\n",
       "        species  \n",
       "0  Homo sapiens  \n",
       "1  Homo sapiens  \n",
       "2  Homo sapiens  \n",
       "3  Homo sapiens  \n",
       "4  Homo sapiens  "
      ]
     },
     "execution_count": 20,
     "metadata": {},
     "output_type": "execute_result"
    }
   ],
   "source": [
    "df.head()"
   ]
  },
  {
   "cell_type": "markdown",
   "metadata": {},
   "source": [
    "#### Creates pathway dictionary\n",
    "- A dictionary for each pathway is created\n",
    "- In the format:\n",
    "                        [{\"rid\": XXXX,\\\n",
    "                          \"name\" : XXXX,\\\n",
    "                          \"species\": XXXX}]\n",
    "- A list of dictionaries (aka list of pathways) is written to a file\n",
    "- Two dictionaries are written, one for all pathways and one for pathways only in humans"
   ]
  },
  {
   "cell_type": "code",
   "execution_count": 21,
   "metadata": {},
   "outputs": [],
   "source": [
    "immunePathways = []\n",
    "for r,n,s in zip(df['RID'],df['name'], df['species']):\n",
    "    immunePathways.append({\"rid\":r, \"name\":n.lower(), \"species\":s.lower()})"
   ]
  },
  {
   "cell_type": "code",
   "execution_count": 22,
   "metadata": {},
   "outputs": [
    {
     "data": {
      "text/plain": [
       "{'name': 'antigen presentation: folding, assembly and peptide loading of class i mhc',\n",
       " 'rid': 'R-HSA-983170',\n",
       " 'species': 'homo sapiens'}"
      ]
     },
     "execution_count": 22,
     "metadata": {},
     "output_type": "execute_result"
    }
   ],
   "source": [
    "immunePathways[0]"
   ]
  },
  {
   "cell_type": "code",
   "execution_count": 24,
   "metadata": {},
   "outputs": [],
   "source": [
    "with open(\"immune_pathway_dict.json\", 'w') as pd:\n",
    "    json.dump(immunePathways, pd)"
   ]
  }
 ],
 "metadata": {
  "kernelspec": {
   "display_name": "Python 3",
   "language": "python",
   "name": "python3"
  },
  "language_info": {
   "codemirror_mode": {
    "name": "ipython",
    "version": 3
   },
   "file_extension": ".py",
   "mimetype": "text/x-python",
   "name": "python",
   "nbconvert_exporter": "python",
   "pygments_lexer": "ipython3",
   "version": "3.6.6"
  }
 },
 "nbformat": 4,
 "nbformat_minor": 2
}
