{
 "cells": [
  {
   "cell_type": "markdown",
   "metadata": {},
   "source": [
    "### COVID-19 Graph"
   ]
  },
  {
   "cell_type": "markdown",
   "metadata": {},
   "source": [
    "COVID-19\n",
    "Knowledge Graph\n",
    "CovidGraph is a non-profit collaboration of researchers, software developers, data scientists and medical professionals.\n",
    "\n",
    "We have built a research and communication platform that encompasses over 40,000 publications, case statistics, genes and functions, molecular data and much more."
   ]
  },
  {
   "cell_type": "markdown",
   "metadata": {},
   "source": [
    "Link: https://covidgraph.org/"
   ]
  },
  {
   "cell_type": "markdown",
   "metadata": {},
   "source": [
    "```\n",
    "HTTPS\n",
    "https://covid.petesis.com:7473\n",
    "\n",
    "User: public\n",
    "Password: corona\n",
    "```"
   ]
  },
  {
   "cell_type": "code",
   "execution_count": 1,
   "metadata": {},
   "outputs": [],
   "source": [
    "import pandas as pd\n",
    "import json\n",
    "from neo4j import GraphDatabase\n",
    "# from neo4j import APOC"
   ]
  },
  {
   "cell_type": "code",
   "execution_count": 2,
   "metadata": {},
   "outputs": [],
   "source": [
    "covid_browser = \"https://db.covidgraph.org/browser/\"\n",
    "covid_url = \"bolt://db.covidgraph.org:7687\"\n",
    "user = \"public\"\n",
    "password = \"corona\"\n",
    "\n",
    "#driver = GraphDatabase.driver(uri, auth=(user, password))\n",
    "driver = GraphDatabase.driver(uri = covid_url,\\\n",
    "                              auth = (user,password))"
   ]
  },
  {
   "cell_type": "markdown",
   "metadata": {},
   "source": [
    "----------"
   ]
  },
  {
   "cell_type": "markdown",
   "metadata": {},
   "source": [
    "### COVID-19 Network"
   ]
  },
  {
   "cell_type": "markdown",
   "metadata": {},
   "source": [
    "### 1. Papers"
   ]
  },
  {
   "cell_type": "code",
   "execution_count": 3,
   "metadata": {},
   "outputs": [
    {
     "name": "stdout",
     "output_type": "stream",
     "text": [
      "<Record n=<Node id=3198 labels={'Paper'} properties={'cord_uid': 'zrmkq3mz', 'cord19-fulltext_hash': '41c7a01f11ed47591d99f45774e43e45aeba0619', 'journal': 'BMC Microbiol', 'publish_time': '2009-08-12', 'source': 'PMC', 'title': 'CAPIH: A Web interface for comparative analyses and visualization of host-HIV protein-protein interactions', '_hash_id': '3c4b2ee1430dc9ac53aca87c0fc0f7eb', 'url': 'https://www.ncbi.nlm.nih.gov/pmc/articles/PMC2782265/'}>>\n",
      "<Record n=<Node id=3199 labels={'Paper'} properties={'cord_uid': 'elx1t4fi', 'cord19-fulltext_hash': '1638100b254164ee9af7d66be61794a7efa07b78', 'journal': 'Respir Res', 'publish_time': '2009-11-12', 'source': 'PMC', 'title': 'Pulmonary fibrosis induced by H5N1 viral infection in mice', '_hash_id': '1db0923082cf45dbc3f84aa3e6d8d352', 'url': 'https://www.ncbi.nlm.nih.gov/pmc/articles/PMC2783028/'}>>\n",
      "<Record n=<Node id=3200 labels={'Paper'} properties={'cord_uid': '42saxb98', 'cord19-fulltext_hash': '8ceb037798bd3fa6941261d1b888fe0cb79f2850', 'journal': 'Nat Struct Mol Biol', 'publish_time': '2009-10-18', 'source': 'PMC', 'title': 'A novel two-pronged strategy to suppress host protein synthesis by SARS coronavirus Nsp1 protein', '_hash_id': 'f436873bdc5138b838835fd88e4828d3', 'url': 'https://www.ncbi.nlm.nih.gov/pmc/articles/PMC2784181/'}>>\n",
      "<Record n=<Node id=3201 labels={'Paper'} properties={'cord_uid': 'emdlh9d9', 'cord19-fulltext_hash': 'da867b3ea92b5191c4fbdc4d09c0712a73da7766', 'journal': 'PLoS Med', 'publish_time': '2009-12-15', 'source': 'PMC', 'title': 'A “One Health” Approach to Address Emerging Zoonoses: The HALI Project in Tanzania', '_hash_id': 'be67ae0573b02eafee9a26657a73cef3', 'url': 'https://www.ncbi.nlm.nih.gov/pmc/articles/PMC2784942/'}>>\n"
     ]
    }
   ],
   "source": [
    "paper_query = \"MATCH (n:Paper) RETURN n LIMIT 4\"\n",
    "Data = []\n",
    "with driver.session() as session:\n",
    "    info = session.run(paper_query)\n",
    "    for item in info:\n",
    "        print(item)"
   ]
  },
  {
   "cell_type": "code",
   "execution_count": 4,
   "metadata": {},
   "outputs": [],
   "source": [
    "query = \"MATCH (a:Paper) RETURN a.title, a.journal, a.publish_time, a.url, a.source LIMIT 10\"\n",
    "Data = []\n",
    "with driver.session() as session:\n",
    "    info = session.run(query)\n",
    "    for item in info:\n",
    "        #print(item)\n",
    "        Data.append({'title': item.values()[0],\\\n",
    "              \"journal\": item.values()[1],\\\n",
    "              \"publish_time\": item.values()[2],\\\n",
    "              \"url\": item.values()[3],\\\n",
    "              \"source\": item.values()[4]})"
   ]
  },
  {
   "cell_type": "code",
   "execution_count": 5,
   "metadata": {
    "scrolled": true
   },
   "outputs": [
    {
     "data": {
      "text/plain": [
       "[{'title': 'CAPIH: A Web interface for comparative analyses and visualization of host-HIV protein-protein interactions',\n",
       "  'journal': 'BMC Microbiol',\n",
       "  'publish_time': '2009-08-12',\n",
       "  'url': 'https://www.ncbi.nlm.nih.gov/pmc/articles/PMC2782265/',\n",
       "  'source': 'PMC'},\n",
       " {'title': 'Pulmonary fibrosis induced by H5N1 viral infection in mice',\n",
       "  'journal': 'Respir Res',\n",
       "  'publish_time': '2009-11-12',\n",
       "  'url': 'https://www.ncbi.nlm.nih.gov/pmc/articles/PMC2783028/',\n",
       "  'source': 'PMC'},\n",
       " {'title': 'A novel two-pronged strategy to suppress host protein synthesis by SARS coronavirus Nsp1 protein',\n",
       "  'journal': 'Nat Struct Mol Biol',\n",
       "  'publish_time': '2009-10-18',\n",
       "  'url': 'https://www.ncbi.nlm.nih.gov/pmc/articles/PMC2784181/',\n",
       "  'source': 'PMC'},\n",
       " {'title': 'A “One Health” Approach to Address Emerging Zoonoses: The HALI Project in Tanzania',\n",
       "  'journal': 'PLoS Med',\n",
       "  'publish_time': '2009-12-15',\n",
       "  'url': 'https://www.ncbi.nlm.nih.gov/pmc/articles/PMC2784942/',\n",
       "  'source': 'PMC'},\n",
       " {'title': 'Automated vocabulary discovery for geo-parsing online epidemic intelligence',\n",
       "  'journal': 'BMC Bioinformatics',\n",
       "  'publish_time': '2009-11-24',\n",
       "  'url': 'https://www.ncbi.nlm.nih.gov/pmc/articles/PMC2787530/',\n",
       "  'source': 'PMC'},\n",
       " {'title': 'Establishment, Immortalisation and Characterisation of Pteropid Bat Cell Lines',\n",
       "  'journal': 'PLoS One',\n",
       "  'publish_time': '2009-12-11',\n",
       "  'url': 'https://www.ncbi.nlm.nih.gov/pmc/articles/PMC2788226/',\n",
       "  'source': 'PMC'},\n",
       " {'title': 'A comprehensive assessment of N-terminal signal peptides prediction methods',\n",
       "  'journal': 'BMC Bioinformatics',\n",
       "  'publish_time': '2009-12-03',\n",
       "  'url': 'https://www.ncbi.nlm.nih.gov/pmc/articles/PMC2788353/',\n",
       "  'source': 'PMC'},\n",
       " {'title': 'A robust lentiviral pseudotype neutralisation assay for in-field serosurveillance of rabies and lyssaviruses in Africa',\n",
       "  'journal': 'Vaccine',\n",
       "  'publish_time': '2009-11-27',\n",
       "  'url': 'https://www.ncbi.nlm.nih.gov/pmc/articles/PMC2789314/',\n",
       "  'source': 'PMC'},\n",
       " {'title': 'Exposure of cats to low doses of FeLV: seroconversion as the sole parameter of infection',\n",
       "  'journal': 'Vet Res',\n",
       "  'publish_time': '2009-10-28',\n",
       "  'url': 'https://www.ncbi.nlm.nih.gov/pmc/articles/PMC2789331/',\n",
       "  'source': 'PMC'},\n",
       " {'title': 'ORION-VIRCAT: a tool for mapping ICTV and NCBI taxonomies',\n",
       "  'journal': 'Database (Oxford)',\n",
       "  'publish_time': '2009-10-12',\n",
       "  'url': 'https://www.ncbi.nlm.nih.gov/pmc/articles/PMC2790308/',\n",
       "  'source': 'PMC'}]"
      ]
     },
     "execution_count": 5,
     "metadata": {},
     "output_type": "execute_result"
    }
   ],
   "source": [
    "Data"
   ]
  },
  {
   "cell_type": "markdown",
   "metadata": {},
   "source": [
    "### 2. Proteins"
   ]
  },
  {
   "cell_type": "code",
   "execution_count": 6,
   "metadata": {},
   "outputs": [
    {
     "name": "stdout",
     "output_type": "stream",
     "text": [
      "<Record n=<Node id=1264239 labels={'Protein'} properties={'taxid': '9606', 'source': 'Ensembl', 'sid': 'ENSP00000360824'}>>\n",
      "<Record n=<Node id=1391845 labels={'Protein'} properties={'taxid': '9606', 'source': 'Ensembl', 'sid': 'ENSP00000493376'}>>\n",
      "<Record n=<Node id=1391846 labels={'Protein'} properties={'taxid': '9606', 'source': 'Ensembl', 'sid': 'ENSP00000334393'}>>\n",
      "<Record n=<Node id=1391847 labels={'Protein'} properties={'taxid': '9606', 'source': 'Ensembl', 'sid': 'ENSP00000409316'}>>\n"
     ]
    }
   ],
   "source": [
    "query = \"MATCH (n:Protein) RETURN n LIMIT 4\"\n",
    "Data = []\n",
    "with driver.session() as session:\n",
    "    info = session.run(query)\n",
    "    for item in info:\n",
    "        print(item)"
   ]
  },
  {
   "cell_type": "code",
   "execution_count": 7,
   "metadata": {},
   "outputs": [
    {
     "name": "stdout",
     "output_type": "stream",
     "text": [
      "<Record a.childs=None>\n"
     ]
    },
    {
     "name": "stderr",
     "output_type": "stream",
     "text": [
      "/Users/mayagupta/anaconda3/lib/python3.6/site-packages/neo4j/__init__.py:990: UserWarning: Expected a result with a single record, but this result contains 5\n",
      "  warn(\"Expected a result with a single record, but this result contains %d\" % size)\n"
     ]
    }
   ],
   "source": [
    "with driver.session() as session:\n",
    "    child = session.run(\"MATCH (a:Protein) RETURN a.childs LIMIT 5\")\n",
    "    print(child.single())"
   ]
  },
  {
   "cell_type": "markdown",
   "metadata": {},
   "source": [
    "### 3. Pathways"
   ]
  },
  {
   "cell_type": "code",
   "execution_count": 8,
   "metadata": {},
   "outputs": [
    {
     "name": "stdout",
     "output_type": "stream",
     "text": [
      "<Record n=<Node id=2085394 labels={'Pathway'} properties={'name': 'Potassium Channels', 'source': 'Reactome', 'org': 'Bos taurus', 'taxid': '9913', 'sid': 'R-BTA-1296071'}>>\n",
      "<Record n=<Node id=2085395 labels={'Pathway'} properties={'name': 'Potassium transport channels', 'source': 'Reactome', 'org': 'Bos taurus', 'taxid': '9913', 'sid': 'R-BTA-1296067'}>>\n",
      "<Record n=<Node id=2085396 labels={'Pathway'} properties={'name': 'Pre-NOTCH Expression and Processing', 'source': 'Reactome', 'org': 'Bos taurus', 'taxid': '9913', 'sid': 'R-BTA-1912422'}>>\n",
      "<Record n=<Node id=2085397 labels={'Pathway'} properties={'name': 'Pre-NOTCH Processing in Golgi', 'source': 'Reactome', 'org': 'Bos taurus', 'taxid': '9913', 'sid': 'R-BTA-1912420'}>>\n"
     ]
    }
   ],
   "source": [
    "query = \"MATCH (n:Pathway) RETURN n LIMIT 4\"\n",
    "Data = []\n",
    "with driver.session() as session:\n",
    "    info = session.run(query)\n",
    "    for item in info:\n",
    "        print(item)"
   ]
  },
  {
   "cell_type": "code",
   "execution_count": 9,
   "metadata": {},
   "outputs": [],
   "source": [
    "query = \"MATCH (a:Pathway) RETURN a.name, a.source, a.org, a.sid LIMIT 10\"\n",
    "Pathways = []\n",
    "with driver.session() as session:\n",
    "    info = session.run(query)\n",
    "    for item in info:\n",
    "        #print(item)\n",
    "        Pathways.append({'name': item.values()[0],\\\n",
    "              \"source\": item.values()[1],\\\n",
    "              \"org\": item.values()[2],\\\n",
    "              \"sid\": item.values()[3]})"
   ]
  },
  {
   "cell_type": "code",
   "execution_count": 10,
   "metadata": {},
   "outputs": [
    {
     "data": {
      "text/plain": [
       "[{'name': 'Potassium Channels',\n",
       "  'source': 'Reactome',\n",
       "  'org': 'Bos taurus',\n",
       "  'sid': 'R-BTA-1296071'},\n",
       " {'name': 'Potassium transport channels',\n",
       "  'source': 'Reactome',\n",
       "  'org': 'Bos taurus',\n",
       "  'sid': 'R-BTA-1296067'},\n",
       " {'name': 'Pre-NOTCH Expression and Processing',\n",
       "  'source': 'Reactome',\n",
       "  'org': 'Bos taurus',\n",
       "  'sid': 'R-BTA-1912422'},\n",
       " {'name': 'Pre-NOTCH Processing in Golgi',\n",
       "  'source': 'Reactome',\n",
       "  'org': 'Bos taurus',\n",
       "  'sid': 'R-BTA-1912420'},\n",
       " {'name': 'Pre-NOTCH Transcription and Translation',\n",
       "  'source': 'Reactome',\n",
       "  'org': 'Bos taurus',\n",
       "  'sid': 'R-BTA-1912408'},\n",
       " {'name': 'Pregnenolone biosynthesis',\n",
       "  'source': 'Reactome',\n",
       "  'org': 'Bos taurus',\n",
       "  'sid': 'R-BTA-196108'},\n",
       " {'name': '5-Phosphoribose 1-diphosphate biosynthesis',\n",
       "  'source': 'Reactome',\n",
       "  'org': 'Bos taurus',\n",
       "  'sid': 'R-BTA-73843'},\n",
       " {'name': 'A tetrasaccharide linker sequence is required for GAG synthesis',\n",
       "  'source': 'Reactome',\n",
       "  'org': 'Bos taurus',\n",
       "  'sid': 'R-BTA-1971475'},\n",
       " {'name': 'ABC transporters in lipid homeostasis',\n",
       "  'source': 'Reactome',\n",
       "  'org': 'Bos taurus',\n",
       "  'sid': 'R-BTA-1369062'},\n",
       " {'name': 'ABC-family proteins mediated transport',\n",
       "  'source': 'Reactome',\n",
       "  'org': 'Bos taurus',\n",
       "  'sid': 'R-BTA-382556'}]"
      ]
     },
     "execution_count": 10,
     "metadata": {},
     "output_type": "execute_result"
    }
   ],
   "source": [
    "Pathways"
   ]
  },
  {
   "cell_type": "markdown",
   "metadata": {},
   "source": [
    "### 4. Genes"
   ]
  },
  {
   "cell_type": "code",
   "execution_count": 11,
   "metadata": {},
   "outputs": [
    {
     "name": "stdout",
     "output_type": "stream",
     "text": [
      "<Record n=<Node id=195602 labels={'Gene'} properties={'Synonyms': 'CD191|CKR-1|CKR1|CMKBR1|HM145|MIP1aR|SCYAR1', 'Symbol_from_nomenclature_authority': 'CCR1', 'Symbol': 'CCR1', 'chromosome': '3', 'description': 'C-C motif chemokine receptor 1', 'Other_designations': 'C-C chemokine receptor type 1|C-C CKR-1|CC-CKR-1|CCR-1|LD78 receptor|MIP-1alpha-R|RANTES receptor|RANTES-R|chemokine (C-C motif) receptor 1|macrophage inflammatory protein 1-alpha receptor', 'source': 'ncbigene', 'dbXrefs': 'MIM:601159|HGNC:HGNC:1602|Ensembl:ENSG00000163823', 'type_of_gene': 'protein-coding', 'tax_id': '9606', 'sid': '1230', 'Nomenclature_status': 'O', 'map_location': '3p21.31', 'GeneID': '1230', 'Modification_date': '20200313', 'Feature_type': '-', 'Full_name_from_nomenclature_authority': 'C-C motif chemokine receptor 1', 'LocusTag': '-'}>>\n",
      "<Record n=<Node id=195603 labels={'Gene'} properties={'Synonyms': 'C C CKR3|CC-CKR-3|CD193|CKR 3|CKR3|CMKBR3', 'Symbol_from_nomenclature_authority': 'CCR3', 'Symbol': 'CCR3', 'chromosome': '3', 'description': 'C-C motif chemokine receptor 3', 'Other_designations': 'C-C chemokine receptor type 3|C-C CKR-3|CC chemokine receptor 3|CCR-3|b-chemokine receptor|chemokine (C-C motif) receptor 3|eosinophil CC chemokine receptor 3|eosinophil eotaxin receptor', 'source': 'ncbigene', 'dbXrefs': 'MIM:601268|HGNC:HGNC:1604|Ensembl:ENSG00000183625', 'type_of_gene': 'protein-coding', 'tax_id': '9606', 'sid': '1232', 'Nomenclature_status': 'O', 'map_location': '3p21.31', 'GeneID': '1232', 'Modification_date': '20200313', 'Feature_type': '-', 'Full_name_from_nomenclature_authority': 'C-C motif chemokine receptor 3', 'LocusTag': '-'}>>\n",
      "<Record n=<Node id=195604 labels={'Gene'} properties={'Synonyms': 'CC-CKR-4|CD194|CKR4|CMKBR4|ChemR13|HGCN:14099|K5-5', 'Symbol_from_nomenclature_authority': 'CCR4', 'Symbol': 'CCR4', 'chromosome': '3', 'description': 'C-C motif chemokine receptor 4', 'Other_designations': 'C-C chemokine receptor type 4|C-C CKR-4|CCR-4|chemokine (C-C motif) receptor 4|chemokine (C-C) receptor 4', 'source': 'ncbigene', 'dbXrefs': 'MIM:604836|HGNC:HGNC:1605|Ensembl:ENSG00000183813', 'type_of_gene': 'protein-coding', 'tax_id': '9606', 'sid': '1233', 'Nomenclature_status': 'O', 'map_location': '3p22.3', 'GeneID': '1233', 'Modification_date': '20200329', 'Feature_type': '-', 'Full_name_from_nomenclature_authority': 'C-C motif chemokine receptor 4', 'LocusTag': '-'}>>\n",
      "<Record n=<Node id=195605 labels={'Gene'} properties={'Synonyms': 'CC-CKR-5|CCCKR5|CCR-5|CD195|CKR-5|CKR5|CMKBR5|IDDM22', 'Symbol_from_nomenclature_authority': 'CCR5', 'Symbol': 'CCR5', 'chromosome': '3', 'Other_designations': 'C-C chemokine receptor type 5|C-C motif chemokine receptor 5 A159A|HIV-1 fusion coreceptor|chemokine (C-C motif) receptor 5|chemokine receptor CCR5|chemokine recptor CCR5 Delta32|chemr13', 'description': 'C-C motif chemokine receptor 5 (gene/pseudogene)', 'source': 'ncbigene', 'dbXrefs': 'MIM:601373|HGNC:HGNC:1606|Ensembl:ENSG00000160791', 'type_of_gene': 'protein-coding', 'tax_id': '9606', 'sid': '1234', 'Nomenclature_status': 'O', 'map_location': '3p21.31', 'GeneID': '1234', 'Modification_date': '20200426', 'Feature_type': '-', 'LocusTag': '-', 'Full_name_from_nomenclature_authority': 'C-C motif chemokine receptor 5 (gene/pseudogene)'}>>\n"
     ]
    }
   ],
   "source": [
    "query = \"MATCH (n:Gene) RETURN n LIMIT 4\"\n",
    "Data = []\n",
    "with driver.session() as session:\n",
    "    info = session.run(query)\n",
    "    for item in info:\n",
    "        print(item)"
   ]
  },
  {
   "cell_type": "code",
   "execution_count": 12,
   "metadata": {},
   "outputs": [],
   "source": [
    "query = \"MATCH (a:Gene) RETURN a.Synonyms,\\\n",
    "                               a.Symbol_from_nomenclature_authority,\\\n",
    "                               a.Symbol,\\\n",
    "                               a.chromosome,\\\n",
    "                               a.description,\\\n",
    "                               a.Other_designations,\\\n",
    "                               a.source,\\\n",
    "                               a.type_of_gene,\\\n",
    "                               a.Full_name_from_nomenclature_authority LIMIT 10\"\n",
    "\n",
    "Genes = []\n",
    "with driver.session() as session:\n",
    "    info = session.run(query)\n",
    "    for item in info:\n",
    "        #print(item)\n",
    "        Genes.append({'Synonyms': item.values()[0],\\\n",
    "              \"Symbol_from_nomenclature_authority\": item.values()[1],\\\n",
    "              \"Symbol\": item.values()[2],\\\n",
    "              \"chromosome\": item.values()[3],\\\n",
    "              \"description\": item.values()[4],\\\n",
    "              \"Other_designations\": item.values()[5],\\\n",
    "              \"source\": item.values()[6],\\\n",
    "              \"type_of_gene\": item.values()[7],\\\n",
    "              \"Full_name_from_nomenclature_authority\":item.values()[7]})"
   ]
  },
  {
   "cell_type": "code",
   "execution_count": 13,
   "metadata": {},
   "outputs": [
    {
     "data": {
      "text/plain": [
       "[{'Synonyms': 'CD191|CKR-1|CKR1|CMKBR1|HM145|MIP1aR|SCYAR1',\n",
       "  'Symbol_from_nomenclature_authority': 'CCR1',\n",
       "  'Symbol': 'CCR1',\n",
       "  'chromosome': '3',\n",
       "  'description': 'C-C motif chemokine receptor 1',\n",
       "  'Other_designations': 'C-C chemokine receptor type 1|C-C CKR-1|CC-CKR-1|CCR-1|LD78 receptor|MIP-1alpha-R|RANTES receptor|RANTES-R|chemokine (C-C motif) receptor 1|macrophage inflammatory protein 1-alpha receptor',\n",
       "  'source': 'ncbigene',\n",
       "  'type_of_gene': 'protein-coding',\n",
       "  'Full_name_from_nomenclature_authority': 'protein-coding'},\n",
       " {'Synonyms': 'C C CKR3|CC-CKR-3|CD193|CKR 3|CKR3|CMKBR3',\n",
       "  'Symbol_from_nomenclature_authority': 'CCR3',\n",
       "  'Symbol': 'CCR3',\n",
       "  'chromosome': '3',\n",
       "  'description': 'C-C motif chemokine receptor 3',\n",
       "  'Other_designations': 'C-C chemokine receptor type 3|C-C CKR-3|CC chemokine receptor 3|CCR-3|b-chemokine receptor|chemokine (C-C motif) receptor 3|eosinophil CC chemokine receptor 3|eosinophil eotaxin receptor',\n",
       "  'source': 'ncbigene',\n",
       "  'type_of_gene': 'protein-coding',\n",
       "  'Full_name_from_nomenclature_authority': 'protein-coding'},\n",
       " {'Synonyms': 'CC-CKR-4|CD194|CKR4|CMKBR4|ChemR13|HGCN:14099|K5-5',\n",
       "  'Symbol_from_nomenclature_authority': 'CCR4',\n",
       "  'Symbol': 'CCR4',\n",
       "  'chromosome': '3',\n",
       "  'description': 'C-C motif chemokine receptor 4',\n",
       "  'Other_designations': 'C-C chemokine receptor type 4|C-C CKR-4|CCR-4|chemokine (C-C motif) receptor 4|chemokine (C-C) receptor 4',\n",
       "  'source': 'ncbigene',\n",
       "  'type_of_gene': 'protein-coding',\n",
       "  'Full_name_from_nomenclature_authority': 'protein-coding'},\n",
       " {'Synonyms': 'CC-CKR-5|CCCKR5|CCR-5|CD195|CKR-5|CKR5|CMKBR5|IDDM22',\n",
       "  'Symbol_from_nomenclature_authority': 'CCR5',\n",
       "  'Symbol': 'CCR5',\n",
       "  'chromosome': '3',\n",
       "  'description': 'C-C motif chemokine receptor 5 (gene/pseudogene)',\n",
       "  'Other_designations': 'C-C chemokine receptor type 5|C-C motif chemokine receptor 5 A159A|HIV-1 fusion coreceptor|chemokine (C-C motif) receptor 5|chemokine receptor CCR5|chemokine recptor CCR5 Delta32|chemr13',\n",
       "  'source': 'ncbigene',\n",
       "  'type_of_gene': 'protein-coding',\n",
       "  'Full_name_from_nomenclature_authority': 'protein-coding'},\n",
       " {'Synonyms': 'BN-1|C-C CKR-6|CC-CKR-6|CCR-6|CD196|CKR-L3|CKRL3|CMKBR6|DCR2|DRY6|GPR29|GPRCY4|STRL22',\n",
       "  'Symbol_from_nomenclature_authority': 'CCR6',\n",
       "  'Symbol': 'CCR6',\n",
       "  'chromosome': '6',\n",
       "  'description': 'C-C motif chemokine receptor 6',\n",
       "  'Other_designations': 'C-C chemokine receptor type 6|G protein-coupled receptor 29|LARC receptor|chemokine (C-C motif) receptor 6|chemokine (C-C) receptor 6|chemokine receptor-like 3|seven-transmembrane receptor, lymphocyte, 22',\n",
       "  'source': 'ncbigene',\n",
       "  'type_of_gene': 'protein-coding',\n",
       "  'Full_name_from_nomenclature_authority': 'protein-coding'},\n",
       " {'Synonyms': 'BLR2|CC-CKR-7|CCR-7|CD197|CDw197|CMKBR7|EBI1',\n",
       "  'Symbol_from_nomenclature_authority': 'CCR7',\n",
       "  'Symbol': 'CCR7',\n",
       "  'chromosome': '17',\n",
       "  'description': 'C-C motif chemokine receptor 7',\n",
       "  'Other_designations': \"C-C chemokine receptor type 7|Bukitt's lymphoma receptor 2|CC chemokine receptor 7|EBV-induced G protein-coupled receptor 1|Epstein-Barr virus induced gene 1|Epstein-Barr virus-induced G-protein coupled receptor 1|MIP-3 beta receptor|chemokine (C-C motif) receptor 7|lymphocyte-specific G protein-coupled peptide receptor\",\n",
       "  'source': 'ncbigene',\n",
       "  'type_of_gene': 'protein-coding',\n",
       "  'Full_name_from_nomenclature_authority': 'protein-coding'},\n",
       " {'Synonyms': 'CC-CKR-8|CCR-8|CDw198|CKRL1|CMKBR8|CMKBRL2|CY6|GPRCY6|TER1',\n",
       "  'Symbol_from_nomenclature_authority': 'CCR8',\n",
       "  'Symbol': 'CCR8',\n",
       "  'chromosome': '3',\n",
       "  'description': 'C-C motif chemokine receptor 8',\n",
       "  'Other_designations': 'C-C chemokine receptor type 8|CC chemokine receptor 8|CC chemokine receptor CHEMR1|CC-chemokine receptor chemr1|chemokine (C-C motif) receptor 8|chemokine (C-C) receptor 8|chemokine (C-C) receptor-like 2|chemokine receptor-like 1',\n",
       "  'source': 'ncbigene',\n",
       "  'type_of_gene': 'protein-coding',\n",
       "  'Full_name_from_nomenclature_authority': 'protein-coding'},\n",
       " {'Synonyms': 'CCBP2|CCR10|CCR9|CMKBR9|D6|hD6',\n",
       "  'Symbol_from_nomenclature_authority': 'ACKR2',\n",
       "  'Symbol': 'ACKR2',\n",
       "  'chromosome': '3',\n",
       "  'description': 'atypical chemokine receptor 2',\n",
       "  'Other_designations': 'atypical chemokine receptor 2|C-C chemokine receptor D6|CC-chemokine-binding receptor JAB61|chemokine (C-C motif) receptor 9|chemokine (C-C) receptor 9|chemokine receptor CCR-10|chemokine receptor CCR-9|chemokine receptor D6|chemokine-binding protein 2|chemokine-binding protein D6',\n",
       "  'source': 'ncbigene',\n",
       "  'type_of_gene': 'protein-coding',\n",
       "  'Full_name_from_nomenclature_authority': 'protein-coding'},\n",
       " {'Synonyms': 'CHEMERINR|ChemR23|DEZ|RVER1',\n",
       "  'Symbol_from_nomenclature_authority': 'CMKLR1',\n",
       "  'Symbol': 'CMKLR1',\n",
       "  'chromosome': '12',\n",
       "  'description': 'chemerin chemokine-like receptor 1',\n",
       "  'Other_designations': 'chemokine-like receptor 1|G-protein coupled receptor ChemR23|G-protein coupled receptor DEZ|chemerin receptor|chemokine receptor-like 1|orphan G-protein coupled receptor, Dez|resolvin E1 receptor',\n",
       "  'source': 'ncbigene',\n",
       "  'type_of_gene': 'protein-coding',\n",
       "  'Full_name_from_nomenclature_authority': 'protein-coding'},\n",
       " {'Synonyms': 'BLT1|BLTR|CMKRL1|GPR16|LTB4R1|LTBR1|P2RY7|P2Y7',\n",
       "  'Symbol_from_nomenclature_authority': 'LTB4R',\n",
       "  'Symbol': 'LTB4R',\n",
       "  'chromosome': '14',\n",
       "  'description': 'leukotriene B4 receptor',\n",
       "  'Other_designations': 'leukotriene B4 receptor 1|G protein-coupled receptor 16|LTB4-R 1|LTB4-R1|P2Y purinoceptor 7|chemoattractant receptor-like 1|chemokine receptor-like 1|purinergic receptor P2Y, G-protein coupled, 7',\n",
       "  'source': 'ncbigene',\n",
       "  'type_of_gene': 'protein-coding',\n",
       "  'Full_name_from_nomenclature_authority': 'protein-coding'}]"
      ]
     },
     "execution_count": 13,
     "metadata": {},
     "output_type": "execute_result"
    }
   ],
   "source": [
    "Genes"
   ]
  },
  {
   "cell_type": "markdown",
   "metadata": {},
   "source": [
    "### 5. Find Papers including Proteins"
   ]
  },
  {
   "cell_type": "code",
   "execution_count": 14,
   "metadata": {
    "scrolled": true
   },
   "outputs": [
    {
     "name": "stdout",
     "output_type": "stream",
     "text": [
      "<Record a=<Node id=7061477 labels={'FromBodyText', 'Fragment'} properties={'sequence': 0, 'kind': 'BodyText', 'text': 'To confirm whether purified nsp12 and nsp13could physically interact in the absence and presence of nucleic acid, we performed a GST pulled down and gel mobility shift assays respectively'}>>\n",
      "---------------\n",
      "<Record a=<Node id=8585243 labels={'FromBodyText', 'Fragment'} properties={'sequence': 0, 'kind': 'BodyText', 'text': 'Sequence alignment of nsp13 with other helicases suggests that the SARS-CoV nsp13 belongs to the SF1 family of helicases [34] '}>>\n",
      "---------------\n",
      "<Record a=<Node id=8585244 labels={'FromBodyText', 'Fragment'} properties={'sequence': 1, 'kind': 'BodyText', 'text': 'However, several biochemical aspects of the enzymatic mechanism of SARS-CoV nsp13 are still unknown, including ATP hydrolysis, translocation along the nucleic acid, and the unwinding rate'}>>\n",
      "---------------\n",
      "<Record a=<Node id=8585246 labels={'FromBodyText', 'Fragment'} properties={'sequence': 3, 'kind': 'BodyText', 'text': 'Moreover, it provides the first insights into how interactions between the helicase and polymerase enzymes enhance the efficiency of replication in coronaviruses.'}>>\n",
      "---------------\n",
      "<Record a=<Node id=8585247 labels={'FromBodyText', 'Fragment'} properties={'sequence': 0, 'kind': 'BodyText', 'text': 'Previously published work with nsp13 fused to hexahistidine or MBP tags and expressed in bacterial systems demonstrated that the helicase activity of these enzymes was considerably lower compared to other viral, bacterial, or eukaryotic helicases [34, 35] .'}>>\n",
      "---------------\n"
     ]
    }
   ],
   "source": [
    "query = \"MATCH (a:FromBodyText)-[r:MENTIONS]->() RETURN a LIMIT 5\"\n",
    "\n",
    "with driver.session() as session:\n",
    "    info = session.run(query)\n",
    "    for item in info:\n",
    "        print(item)\n",
    "        print(\"---------------\")"
   ]
  },
  {
   "cell_type": "code",
   "execution_count": 15,
   "metadata": {},
   "outputs": [
    {
     "name": "stdout",
     "output_type": "stream",
     "text": [
      "<Record a=<Node id=16794974 labels={'FromAbstract', 'Fragment'} properties={'sequence': 0, 'kind': 'Abstract', 'text': 'Severe acute respiratory syndrome coronavirus nsp1 protein suppresses host gene expression, including type I interferon production, by promoting host mRNA degradation and inhibiting host translation, in infected cells'}>>\n",
      "---------------\n",
      "<Record a=<Node id=16794975 labels={'FromAbstract', 'Fragment'} properties={'sequence': 1, 'kind': 'Abstract', 'text': 'We present evidence that nsp1 uses a novel, two-pronged strategy to inhibit host translation/gene expression'}>>\n",
      "---------------\n",
      "<Record a=<Node id=16794976 labels={'FromAbstract', 'Fragment'} properties={'sequence': 2, 'kind': 'Abstract', 'text': 'Nsp1 bound to the 40S ribosomal subunit and inactivated the translational activity of the 40S subunits'}>>\n",
      "---------------\n",
      "<Record a=<Node id=16794978 labels={'FromAbstract', 'Fragment'} properties={'sequence': 4, 'kind': 'Abstract', 'text': 'Nsp1 also induced RNA cleavage in templates carrying the internal ribosome entry site (IRES) from encephalomyocarditis virus, but not in those carrying IRESs from hepatitis C and cricket paralysis viruses, demonstrating that the nsp1-induced RNA modification was template-dependent'}>>\n",
      "---------------\n",
      "<Record a=<Node id=16795002 labels={'FromAbstract', 'Fragment'} properties={'sequence': 3, 'kind': 'Abstract', 'text': 'Of the myriad software prediction tools developed to automate the task of assigning the SP cleavage site of these new sequences, we review here, the performance and reliability of commonly used SP prediction tools'}>>\n",
      "---------------\n"
     ]
    }
   ],
   "source": [
    "query = \"MATCH (a:FromAbstract)-[r:MENTIONS]->() RETURN a LIMIT 5\"\n",
    "\n",
    "with driver.session() as session:\n",
    "    info = session.run(query)\n",
    "    for item in info:\n",
    "        print(item)\n",
    "        print(\"---------------\")"
   ]
  },
  {
   "cell_type": "code",
   "execution_count": 16,
   "metadata": {},
   "outputs": [
    {
     "name": "stdout",
     "output_type": "stream",
     "text": [
      "<Record p=<Path start=<Node id=7061477 labels={'FromBodyText', 'Fragment'} properties={'sequence': 0, 'kind': 'BodyText', 'text': 'To confirm whether purified nsp12 and nsp13could physically interact in the absence and presence of nucleic acid, we performed a GST pulled down and gel mobility shift assays respectively'}> end=<Node id=630415 labels={'GeneSymbol'} properties={'taxid': '9606', 'sid': 'GST', 'status': 'synonym'}> size=1>>\n",
      "---------------\n",
      "<Record p=<Path start=<Node id=8585243 labels={'FromBodyText', 'Fragment'} properties={'sequence': 0, 'kind': 'BodyText', 'text': 'Sequence alignment of nsp13 with other helicases suggests that the SARS-CoV nsp13 belongs to the SF1 family of helicases [34] '}> end=<Node id=573915 labels={'GeneSymbol'} properties={'taxid': '9606', 'sid': 'SF1', 'status': 'synonym'}> size=1>>\n",
      "---------------\n",
      "<Record p=<Path start=<Node id=8585244 labels={'FromBodyText', 'Fragment'} properties={'sequence': 1, 'kind': 'BodyText', 'text': 'However, several biochemical aspects of the enzymatic mechanism of SARS-CoV nsp13 are still unknown, including ATP hydrolysis, translocation along the nucleic acid, and the unwinding rate'}> end=<Node id=612498 labels={'GeneSymbol'} properties={'taxid': '9606', 'sid': 'ATP', 'status': 'synonym'}> size=1>>\n",
      "---------------\n",
      "<Record p=<Path start=<Node id=8585246 labels={'FromBodyText', 'Fragment'} properties={'sequence': 3, 'kind': 'BodyText', 'text': 'Moreover, it provides the first insights into how interactions between the helicase and polymerase enzymes enhance the efficiency of replication in coronaviruses.'}> end=<Node id=633461 labels={'GeneSymbol'} properties={'taxid': '9606', 'status': 'synonym', 'sid': 'helicase'}> size=1>>\n",
      "---------------\n",
      "<Record p=<Path start=<Node id=8585247 labels={'FromBodyText', 'Fragment'} properties={'sequence': 0, 'kind': 'BodyText', 'text': 'Previously published work with nsp13 fused to hexahistidine or MBP tags and expressed in bacterial systems demonstrated that the helicase activity of these enzymes was considerably lower compared to other viral, bacterial, or eukaryotic helicases [34, 35] .'}> end=<Node id=633461 labels={'GeneSymbol'} properties={'taxid': '9606', 'status': 'synonym', 'sid': 'helicase'}> size=1>>\n",
      "---------------\n"
     ]
    }
   ],
   "source": [
    "query = \"MATCH p=()-[r:MENTIONS]->() RETURN p LIMIT 5\"\n",
    "\n",
    "with driver.session() as session:\n",
    "    info = session.run(query)\n",
    "    for item in info:\n",
    "        print(item)\n",
    "        print(\"---------------\")"
   ]
  },
  {
   "cell_type": "code",
   "execution_count": 17,
   "metadata": {},
   "outputs": [
    {
     "name": "stdout",
     "output_type": "stream",
     "text": [
      "<Record p=<Path start=<Node id=7061477 labels={'FromBodyText', 'Fragment'} properties={'sequence': 0, 'kind': 'BodyText', 'text': 'To confirm whether purified nsp12 and nsp13could physically interact in the absence and presence of nucleic acid, we performed a GST pulled down and gel mobility shift assays respectively'}> end=<Node id=630415 labels={'GeneSymbol'} properties={'taxid': '9606', 'sid': 'GST', 'status': 'synonym'}> size=1>>\n",
      "---------------\n",
      "<Record p=<Path start=<Node id=8585243 labels={'FromBodyText', 'Fragment'} properties={'sequence': 0, 'kind': 'BodyText', 'text': 'Sequence alignment of nsp13 with other helicases suggests that the SARS-CoV nsp13 belongs to the SF1 family of helicases [34] '}> end=<Node id=573915 labels={'GeneSymbol'} properties={'taxid': '9606', 'sid': 'SF1', 'status': 'synonym'}> size=1>>\n",
      "---------------\n",
      "<Record p=<Path start=<Node id=8585244 labels={'FromBodyText', 'Fragment'} properties={'sequence': 1, 'kind': 'BodyText', 'text': 'However, several biochemical aspects of the enzymatic mechanism of SARS-CoV nsp13 are still unknown, including ATP hydrolysis, translocation along the nucleic acid, and the unwinding rate'}> end=<Node id=612498 labels={'GeneSymbol'} properties={'taxid': '9606', 'sid': 'ATP', 'status': 'synonym'}> size=1>>\n",
      "---------------\n",
      "<Record p=<Path start=<Node id=8585246 labels={'FromBodyText', 'Fragment'} properties={'sequence': 3, 'kind': 'BodyText', 'text': 'Moreover, it provides the first insights into how interactions between the helicase and polymerase enzymes enhance the efficiency of replication in coronaviruses.'}> end=<Node id=633461 labels={'GeneSymbol'} properties={'taxid': '9606', 'status': 'synonym', 'sid': 'helicase'}> size=1>>\n",
      "---------------\n",
      "<Record p=<Path start=<Node id=8585247 labels={'FromBodyText', 'Fragment'} properties={'sequence': 0, 'kind': 'BodyText', 'text': 'Previously published work with nsp13 fused to hexahistidine or MBP tags and expressed in bacterial systems demonstrated that the helicase activity of these enzymes was considerably lower compared to other viral, bacterial, or eukaryotic helicases [34, 35] .'}> end=<Node id=633461 labels={'GeneSymbol'} properties={'taxid': '9606', 'status': 'synonym', 'sid': 'helicase'}> size=1>>\n",
      "---------------\n"
     ]
    }
   ],
   "source": [
    "query = \"MATCH p=()-[r:MENTIONS]->() RETURN p LIMIT 5\"\n",
    "\n",
    "with driver.session() as session:\n",
    "    info = session.run(query)\n",
    "    for item in info:\n",
    "        print(item)\n",
    "        print(\"---------------\")"
   ]
  }
 ],
 "metadata": {
  "kernelspec": {
   "display_name": "Python 3",
   "language": "python",
   "name": "python3"
  },
  "language_info": {
   "codemirror_mode": {
    "name": "ipython",
    "version": 3
   },
   "file_extension": ".py",
   "mimetype": "text/x-python",
   "name": "python",
   "nbconvert_exporter": "python",
   "pygments_lexer": "ipython3",
   "version": "3.6.6"
  }
 },
 "nbformat": 4,
 "nbformat_minor": 2
}
