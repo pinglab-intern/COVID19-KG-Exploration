{
 "cells": [
  {
   "cell_type": "markdown",
   "metadata": {},
   "source": [
    "### MeSH Based Query Search"
   ]
  },
  {
   "cell_type": "markdown",
   "metadata": {},
   "source": [
    "In this notebook, we will discuss how to search documents based on the Disease described in the CVD tree."
   ]
  },
  {
   "cell_type": "code",
   "execution_count": 1,
   "metadata": {},
   "outputs": [],
   "source": [
    "import pandas as pd\n",
    "import json\n",
    "from neo4j import GraphDatabase\n",
    "import csv"
   ]
  },
  {
   "cell_type": "markdown",
   "metadata": {},
   "source": [
    "#### Authentication to access covidgraph.org graph"
   ]
  },
  {
   "cell_type": "code",
   "execution_count": 2,
   "metadata": {},
   "outputs": [],
   "source": [
    "covid_browser = \"https://covid.petesis.com:7473\"\n",
    "covid_url = \"bolt://covid.petesis.com:7687\"\n",
    "user = \"public\"\n",
    "password = \"corona\"\n",
    "\n",
    "#driver = GraphDatabase.driver(uri, auth=(user, password))\n",
    "driver = GraphDatabase.driver(uri = covid_url,\\\n",
    "                              auth = (user,password))"
   ]
  },
  {
   "cell_type": "markdown",
   "metadata": {},
   "source": [
    "#### MeSH descriptor to its entity list\n",
    "- Ex. ```C14.260.500: [syphilis, cardiovascular]```\n",
    "- Pandas Dataframe is very convenient for handeling a CSV file specifically for data transformation with ```lambda``` mapping functon."
   ]
  },
  {
   "cell_type": "code",
   "execution_count": 3,
   "metadata": {},
   "outputs": [
    {
     "data": {
      "text/html": [
       "<div>\n",
       "<style scoped>\n",
       "    .dataframe tbody tr th:only-of-type {\n",
       "        vertical-align: middle;\n",
       "    }\n",
       "\n",
       "    .dataframe tbody tr th {\n",
       "        vertical-align: top;\n",
       "    }\n",
       "\n",
       "    .dataframe thead th {\n",
       "        text-align: right;\n",
       "    }\n",
       "</style>\n",
       "<table border=\"1\" class=\"dataframe\">\n",
       "  <thead>\n",
       "    <tr style=\"text-align: right;\">\n",
       "      <th></th>\n",
       "      <th>name</th>\n",
       "    </tr>\n",
       "    <tr>\n",
       "      <th>ID</th>\n",
       "      <th></th>\n",
       "    </tr>\n",
       "  </thead>\n",
       "  <tbody>\n",
       "    <tr>\n",
       "      <th>C14.280.400</th>\n",
       "      <td>Heart Defects, Congenital</td>\n",
       "    </tr>\n",
       "    <tr>\n",
       "      <th>C14.280.400.044</th>\n",
       "      <td>22q11 Deletion Syndrome</td>\n",
       "    </tr>\n",
       "    <tr>\n",
       "      <th>C14.280.400.044.500</th>\n",
       "      <td>DiGeorge Syndrome</td>\n",
       "    </tr>\n",
       "    <tr>\n",
       "      <th>C14.280.400.090</th>\n",
       "      <td>Aortic Coarctation</td>\n",
       "    </tr>\n",
       "    <tr>\n",
       "      <th>C14.280.400.145</th>\n",
       "      <td>Arrhythmogenic Right Ventricular Dysplasia</td>\n",
       "    </tr>\n",
       "  </tbody>\n",
       "</table>\n",
       "</div>"
      ],
      "text/plain": [
       "                                                           name\n",
       "ID                                                             \n",
       "C14.280.400                           Heart Defects, Congenital\n",
       "C14.280.400.044                         22q11 Deletion Syndrome\n",
       "C14.280.400.044.500                           DiGeorge Syndrome\n",
       "C14.280.400.090                              Aortic Coarctation\n",
       "C14.280.400.145      Arrhythmogenic Right Ventricular Dysplasia"
      ]
     },
     "execution_count": 3,
     "metadata": {},
     "output_type": "execute_result"
    }
   ],
   "source": [
    "MeSH = pd.read_csv(\"../Input/mesh/congenital.csv\")\n",
    "MeSH = MeSH.set_index('ID')\n",
    "MeSH.head()"
   ]
  },
  {
   "cell_type": "markdown",
   "metadata": {},
   "source": [
    "- Implementing ```lambda``` function to map one column to another column"
   ]
  },
  {
   "cell_type": "code",
   "execution_count": 4,
   "metadata": {},
   "outputs": [],
   "source": [
    "MeSH['phrases'] = MeSH['name'].apply(lambda x: x.lower().strip())"
   ]
  },
  {
   "cell_type": "code",
   "execution_count": 5,
   "metadata": {},
   "outputs": [
    {
     "data": {
      "text/html": [
       "<div>\n",
       "<style scoped>\n",
       "    .dataframe tbody tr th:only-of-type {\n",
       "        vertical-align: middle;\n",
       "    }\n",
       "\n",
       "    .dataframe tbody tr th {\n",
       "        vertical-align: top;\n",
       "    }\n",
       "\n",
       "    .dataframe thead th {\n",
       "        text-align: right;\n",
       "    }\n",
       "</style>\n",
       "<table border=\"1\" class=\"dataframe\">\n",
       "  <thead>\n",
       "    <tr style=\"text-align: right;\">\n",
       "      <th></th>\n",
       "      <th>name</th>\n",
       "      <th>phrases</th>\n",
       "    </tr>\n",
       "    <tr>\n",
       "      <th>ID</th>\n",
       "      <th></th>\n",
       "      <th></th>\n",
       "    </tr>\n",
       "  </thead>\n",
       "  <tbody>\n",
       "    <tr>\n",
       "      <th>C14.280.400</th>\n",
       "      <td>Heart Defects, Congenital</td>\n",
       "      <td>heart defects, congenital</td>\n",
       "    </tr>\n",
       "    <tr>\n",
       "      <th>C14.280.400.044</th>\n",
       "      <td>22q11 Deletion Syndrome</td>\n",
       "      <td>22q11 deletion syndrome</td>\n",
       "    </tr>\n",
       "    <tr>\n",
       "      <th>C14.280.400.044.500</th>\n",
       "      <td>DiGeorge Syndrome</td>\n",
       "      <td>digeorge syndrome</td>\n",
       "    </tr>\n",
       "    <tr>\n",
       "      <th>C14.280.400.090</th>\n",
       "      <td>Aortic Coarctation</td>\n",
       "      <td>aortic coarctation</td>\n",
       "    </tr>\n",
       "    <tr>\n",
       "      <th>C14.280.400.145</th>\n",
       "      <td>Arrhythmogenic Right Ventricular Dysplasia</td>\n",
       "      <td>arrhythmogenic right ventricular dysplasia</td>\n",
       "    </tr>\n",
       "  </tbody>\n",
       "</table>\n",
       "</div>"
      ],
      "text/plain": [
       "                                                           name  \\\n",
       "ID                                                                \n",
       "C14.280.400                           Heart Defects, Congenital   \n",
       "C14.280.400.044                         22q11 Deletion Syndrome   \n",
       "C14.280.400.044.500                           DiGeorge Syndrome   \n",
       "C14.280.400.090                              Aortic Coarctation   \n",
       "C14.280.400.145      Arrhythmogenic Right Ventricular Dysplasia   \n",
       "\n",
       "                                                        phrases  \n",
       "ID                                                               \n",
       "C14.280.400                           heart defects, congenital  \n",
       "C14.280.400.044                         22q11 deletion syndrome  \n",
       "C14.280.400.044.500                           digeorge syndrome  \n",
       "C14.280.400.090                              aortic coarctation  \n",
       "C14.280.400.145      arrhythmogenic right ventricular dysplasia  "
      ]
     },
     "execution_count": 5,
     "metadata": {},
     "output_type": "execute_result"
    }
   ],
   "source": [
    "MeSH.head()"
   ]
  },
  {
   "cell_type": "code",
   "execution_count": 6,
   "metadata": {},
   "outputs": [],
   "source": [
    "MeSH['phrases'] = MeSH['phrases'].apply(lambda x:x.split(','))"
   ]
  },
  {
   "cell_type": "code",
   "execution_count": 7,
   "metadata": {},
   "outputs": [
    {
     "data": {
      "text/html": [
       "<div>\n",
       "<style scoped>\n",
       "    .dataframe tbody tr th:only-of-type {\n",
       "        vertical-align: middle;\n",
       "    }\n",
       "\n",
       "    .dataframe tbody tr th {\n",
       "        vertical-align: top;\n",
       "    }\n",
       "\n",
       "    .dataframe thead th {\n",
       "        text-align: right;\n",
       "    }\n",
       "</style>\n",
       "<table border=\"1\" class=\"dataframe\">\n",
       "  <thead>\n",
       "    <tr style=\"text-align: right;\">\n",
       "      <th></th>\n",
       "      <th>name</th>\n",
       "      <th>phrases</th>\n",
       "    </tr>\n",
       "    <tr>\n",
       "      <th>ID</th>\n",
       "      <th></th>\n",
       "      <th></th>\n",
       "    </tr>\n",
       "  </thead>\n",
       "  <tbody>\n",
       "    <tr>\n",
       "      <th>C14.280.400</th>\n",
       "      <td>Heart Defects, Congenital</td>\n",
       "      <td>[heart defects,  congenital]</td>\n",
       "    </tr>\n",
       "    <tr>\n",
       "      <th>C14.280.400.044</th>\n",
       "      <td>22q11 Deletion Syndrome</td>\n",
       "      <td>[22q11 deletion syndrome]</td>\n",
       "    </tr>\n",
       "    <tr>\n",
       "      <th>C14.280.400.044.500</th>\n",
       "      <td>DiGeorge Syndrome</td>\n",
       "      <td>[digeorge syndrome]</td>\n",
       "    </tr>\n",
       "    <tr>\n",
       "      <th>C14.280.400.090</th>\n",
       "      <td>Aortic Coarctation</td>\n",
       "      <td>[aortic coarctation]</td>\n",
       "    </tr>\n",
       "    <tr>\n",
       "      <th>C14.280.400.145</th>\n",
       "      <td>Arrhythmogenic Right Ventricular Dysplasia</td>\n",
       "      <td>[arrhythmogenic right ventricular dysplasia]</td>\n",
       "    </tr>\n",
       "  </tbody>\n",
       "</table>\n",
       "</div>"
      ],
      "text/plain": [
       "                                                           name  \\\n",
       "ID                                                                \n",
       "C14.280.400                           Heart Defects, Congenital   \n",
       "C14.280.400.044                         22q11 Deletion Syndrome   \n",
       "C14.280.400.044.500                           DiGeorge Syndrome   \n",
       "C14.280.400.090                              Aortic Coarctation   \n",
       "C14.280.400.145      Arrhythmogenic Right Ventricular Dysplasia   \n",
       "\n",
       "                                                          phrases  \n",
       "ID                                                                 \n",
       "C14.280.400                          [heart defects,  congenital]  \n",
       "C14.280.400.044                         [22q11 deletion syndrome]  \n",
       "C14.280.400.044.500                           [digeorge syndrome]  \n",
       "C14.280.400.090                              [aortic coarctation]  \n",
       "C14.280.400.145      [arrhythmogenic right ventricular dysplasia]  "
      ]
     },
     "execution_count": 7,
     "metadata": {},
     "output_type": "execute_result"
    }
   ],
   "source": [
    "MeSH.head()"
   ]
  },
  {
   "cell_type": "code",
   "execution_count": 8,
   "metadata": {},
   "outputs": [
    {
     "data": {
      "text/plain": [
       "'C14.280.400'"
      ]
     },
     "execution_count": 8,
     "metadata": {},
     "output_type": "execute_result"
    }
   ],
   "source": [
    "MeSH.index[0]"
   ]
  },
  {
   "cell_type": "code",
   "execution_count": 9,
   "metadata": {},
   "outputs": [],
   "source": [
    "id2name = {}\n",
    "for ID,name in zip(MeSH.index, MeSH['name']):\n",
    "    id2name.update({ID:name})\n",
    "    \n",
    "with open(\"../Data/mesh/statistics/congenital_id2name.json\", 'w') as wf:\n",
    "    json.dump(id2name,wf)"
   ]
  },
  {
   "cell_type": "markdown",
   "metadata": {},
   "source": [
    "#### MeSH to Doc Mapping\n",
    "- Create a dictionary where the key is a MeSH descriptor, and the value is a list of papers (publications) that contains mention of the MeSH terms in its body text\n",
    "- Each paper is represented as dictionary linking each attribute name in the paper (cord_uid, journal, title, etc.) with its actual information"
   ]
  },
  {
   "cell_type": "markdown",
   "metadata": {},
   "source": [
    "##### Example of a paper node in the covid graph"
   ]
  },
  {
   "cell_type": "code",
   "execution_count": 10,
   "metadata": {},
   "outputs": [
    {
     "name": "stdout",
     "output_type": "stream",
     "text": [
      "<Record n=<Node id=2385529 labels={'Paper'} properties={'cord_uid': 'ocp6yodg', 'cord19-fulltext_hash': 'b8957d48b6bcf17b7b51e004d19314ce77f653a1', 'journal': 'BMC Infect Dis', 'publish_time': '2011-12-28', 'source': 'PMC', 'title': 'Timeliness of contact tracing among flight passengers for influenza A/H1N1 2009', '_hash_id': '84b069ab23fb0ecebe6925af9c2b18ae', 'url': 'https://www.ncbi.nlm.nih.gov/pmc/articles/PMC3265549/'}>>\n"
     ]
    }
   ],
   "source": [
    "paper_query = \"MATCH (n:Paper) RETURN n LIMIT 1\"\n",
    "Data = []\n",
    "with driver.session() as session:\n",
    "    info = session.run(paper_query)\n",
    "    for item in info:\n",
    "        print(item)"
   ]
  },
  {
   "cell_type": "markdown",
   "metadata": {},
   "source": [
    "#### Writes data to file"
   ]
  },
  {
   "cell_type": "code",
   "execution_count": 11,
   "metadata": {},
   "outputs": [],
   "source": [
    "MeSH_to_result = {}\n",
    "MeSH_number = {}\n",
    "for desc, entities in zip(MeSH.index, MeSH['phrases']):\n",
    "    #Builds each part of the query based on the MeSH descriptor entity list\n",
    "    query = \"MATCH (p:Paper)-[:PAPER_HAS_BODYTEXTCOLLECTION]-(:BodyTextCollection)-\" \\\n",
    "                                        \"[:BODYTEXTCOLLECTION_HAS_BODYTEXT]-(a:BodyText) WHERE (\"\n",
    "    for i in range(len(entities)):\n",
    "        if i == len(entities)-1:\n",
    "            query += \"LOWER(a.text) CONTAINS '\" + entities[i] + \"') RETURN DISTINCT p\"\n",
    "        else:\n",
    "            query += \"LOWER(a.text) CONTAINS '\" + entities[i] + \"' AND \"\n",
    "\n",
    "    MeSH_result = []\n",
    "        \n",
    "    with driver.session() as session:\n",
    "        info = session.run(query)\n",
    "        for item in info:\n",
    "            try:\n",
    "                node_keys = list((item.values(0)[0]).keys())\n",
    "                node_values = list((item.values(0)[0]).values())\n",
    "                paper = {}\n",
    "                for i in range(len(node_keys)):\n",
    "                    if (node_keys[i] == 'cord_uid'):\n",
    "                        MeSH_result.append(node_values[i])\n",
    "            except:\n",
    "                continue\n",
    "    \n",
    "    try:\n",
    "        name = id2name[desc]\n",
    "        MeSH_to_result[name] = MeSH_result\n",
    "        MeSH_number[desc] = len(MeSH_result)\n",
    "    except:\n",
    "        continue"
   ]
  },
  {
   "cell_type": "code",
   "execution_count": 12,
   "metadata": {},
   "outputs": [],
   "source": [
    "ff = open(\"../Data/mesh/congenital_paper_ids.json\", 'w')\n",
    "\n",
    "json.dump(MeSH_to_result, ff)\n",
    "\n",
    "ff.close()"
   ]
  },
  {
   "cell_type": "code",
   "execution_count": 13,
   "metadata": {},
   "outputs": [
    {
     "data": {
      "text/plain": [
       "dict_items([('C14.280.400', 15), ('C14.280.400.044', 0), ('C14.280.400.044.500', 10), ('C14.280.400.090', 6), ('C14.280.400.145', 1), ('C14.280.400.172', 1), ('C14.280.400.200', 0), ('C14.280.400.210', 0), ('C14.280.400.210.125', 0), ('C14.280.400.210.249', 0), ('C14.280.400.210.500', 1), ('C14.280.400.220', 0), ('C14.280.400.280', 5), ('C14.280.400.280.500', 1), ('C14.280.400.340', 15), ('C14.280.400.395', 0), ('C14.280.400.450', 0), ('C14.280.400.560', 0), ('C14.280.400.560.098', 0), ('C14.280.400.560.098.500', 0), ('C14.280.400.560.350', 0), ('C14.280.400.560.375', 0), ('C14.280.400.560.375.258', 12), ('C14.280.400.560.375.518', 1), ('C14.280.400.560.540', 0), ('C14.280.400.592', 0), ('C14.280.400.625', 2), ('C14.280.400.660', 0), ('C14.280.400.695', 0), ('C14.280.400.701', 0), ('C14.280.400.725', 4), ('C14.280.400.787', 5), ('C14.280.400.849', 10), ('C14.280.400.915', 0), ('C14.280.400.915.150', 0), ('C14.280.400.915.300', 1), ('C14.280.400.920', 2), ('C14.280.400.960', 0), ('C14.280.400.970', 0), ('C14.280.400.975', 0), ('C14.280.400.980', 9), ('C14.280.400.990', 2)])"
      ]
     },
     "execution_count": 13,
     "metadata": {},
     "output_type": "execute_result"
    }
   ],
   "source": [
    "MeSH_number.items()"
   ]
  },
  {
   "cell_type": "code",
   "execution_count": null,
   "metadata": {},
   "outputs": [],
   "source": []
  }
 ],
 "metadata": {
  "kernelspec": {
   "display_name": "Python 3",
   "language": "python",
   "name": "python3"
  },
  "language_info": {
   "codemirror_mode": {
    "name": "ipython",
    "version": 3
   },
   "file_extension": ".py",
   "mimetype": "text/x-python",
   "name": "python",
   "nbconvert_exporter": "python",
   "pygments_lexer": "ipython3",
   "version": "3.6.6"
  }
 },
 "nbformat": 4,
 "nbformat_minor": 2
}
