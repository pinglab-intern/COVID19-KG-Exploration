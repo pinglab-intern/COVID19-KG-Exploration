{
 "cells": [
  {
   "cell_type": "markdown",
   "metadata": {},
   "source": [
    "### COVID-19 Graph CVD ICD11 Corona Symptom Analysis"
   ]
  },
  {
   "cell_type": "markdown",
   "metadata": {},
   "source": [
    "This notebook analyzes the list of ICD11 symptoms and descriptors in publications with their associations with coronavirus."
   ]
  },
  {
   "cell_type": "markdown",
   "metadata": {},
   "source": [
    "#### Authentication to access covidgraph.org graph"
   ]
  },
  {
   "cell_type": "code",
   "execution_count": 1,
   "metadata": {},
   "outputs": [],
   "source": [
    "import pandas as pd\n",
    "import json\n",
    "from neo4j import GraphDatabase\n",
    "# from neo4j import APOC"
   ]
  },
  {
   "cell_type": "code",
   "execution_count": 2,
   "metadata": {},
   "outputs": [],
   "source": [
    "covid_browser = \"https://covid.petesis.com:7473\"\n",
    "covid_url = \"bolt://covid.petesis.com:7687\"\n",
    "user = \"public\"\n",
    "password = \"corona\"\n",
    "\n",
    "#driver = GraphDatabase.driver(uri, auth=(user, password))\n",
    "driver = GraphDatabase.driver(uri = covid_url,\\\n",
    "                              auth = (user,password))"
   ]
  },
  {
   "cell_type": "markdown",
   "metadata": {},
   "source": [
    "#### The queries below focus on symptoms and descriptor terms specified before it\n",
    "- For each ICD11 code, a list of all its associated symptoms is created\n",
    "- In a loop each name is queried into a dictionary with 5 main publication attributes (journal, publish time, source, title, and url)\n",
    "- This dictionary is appended to a larger dictionary that maps each name to all of its associated papers\n",
    "- This data is then written to a ```json``` file named by its ICD11 code"
   ]
  },
  {
   "cell_type": "markdown",
   "metadata": {},
   "source": [
    "**Use Corona disease and symptoms from ICD 11 (e.g., 'BodyText' node in graph)**"
   ]
  },
  {
   "cell_type": "markdown",
   "metadata": {},
   "source": [
    "#### ICD11 Code: XN83D"
   ]
  },
  {
   "cell_type": "code",
   "execution_count": 3,
   "metadata": {},
   "outputs": [
    {
     "name": "stdout",
     "output_type": "stream",
     "text": [
      "<Record p=<Node id=66685 labels={'Paper'} properties={'cord_uid': 'imbxofkp', 'cord19-fulltext_hash': '276d1d1c20336ca2a6f54c7a95507001917e4c44', 'journal': 'Emerg Infect Dis', 'publish_time': '2005-01-10', 'source': 'PMC', 'title': 'Tracing SARS-Coronavirus Variant with Large Genomic Deletion', '_hash_id': '9986e9e7e5fd88596118e63d8adb8233', 'url': 'https://www.ncbi.nlm.nih.gov/pmc/articles/PMC3294368/'}>>\n"
     ]
    }
   ],
   "source": [
    "query = \"MATCH (p:Paper)-[:PAPER_HAS_BODYTEXTCOLLECTION]-(:BodyTextCollection)\\\n",
    "                                -[:BODYTEXTCOLLECTION_HAS_BODYTEXT]-(a:BodyText) \\\n",
    "                                WHERE (LOWER(a.text) CONTAINS 'coronavirus') \\\n",
    "                                    return p LIMIT 1\"\n",
    "with driver.session() as session:\n",
    "    info = session.run(query)\n",
    "    for item in info:\n",
    "        print(item)"
   ]
  },
  {
   "cell_type": "code",
   "execution_count": 4,
   "metadata": {},
   "outputs": [],
   "source": [
    "entities_xn = ['human coronavirus 229e','human coronavirus hku1', 'human coronavirus oc43', \\\n",
    "                'middle east respiratory syndrome coronavirus', 'pipistrellus bat coronavirus hku5', \\\n",
    "                'rousettus bat coronavirus hku9', 'severe acute respiratory syndrome coronavirus', \\\n",
    "                'tylonycteris bat coronavirus hku4']"
   ]
  },
  {
   "cell_type": "code",
   "execution_count": 5,
   "metadata": {},
   "outputs": [],
   "source": [
    "result_xn = []\n",
    "for entity in entities_xn:\n",
    "    entity_result = []\n",
    "    query = \"MATCH (p:Paper)-[:PAPER_HAS_BODYTEXTCOLLECTION]-(:BodyTextCollection)-\\\n",
    "                                    [:BODYTEXTCOLLECTION_HAS_BODYTEXT]-(a:BodyText) \\\n",
    "                                    WHERE (LOWER(a.text) CONTAINS '\" + entity + \"')\" + \\\n",
    "                                    \"RETURN DISTINCT p.journal, p.publish_time, p.source, p.title, p.url\"\n",
    "    \n",
    "    with driver.session() as session:\n",
    "        info = session.run(query)\n",
    "        for item in info:\n",
    "            entity_result.append({'journal': item.values()[0], \\\n",
    "                                  \"publish_time\": item.values()[1],\\\n",
    "                                  \"source\": item.values()[2],\\\n",
    "                                  \"title\": item.values()[3],\\\n",
    "                                  \"url\": item.values()[4]})\n",
    "            \n",
    "    result_xn.append({entity:entity_result})"
   ]
  },
  {
   "cell_type": "code",
   "execution_count": 6,
   "metadata": {
    "scrolled": false
   },
   "outputs": [],
   "source": [
    "with open(\"output/coronavirus/ICD11-XN83D.json\", 'w') as xn:\n",
    "    json.dump(result_xn, xn)"
   ]
  }
 ],
 "metadata": {
  "kernelspec": {
   "display_name": "Python 3",
   "language": "python",
   "name": "python3"
  },
  "language_info": {
   "codemirror_mode": {
    "name": "ipython",
    "version": 3
   },
   "file_extension": ".py",
   "mimetype": "text/x-python",
   "name": "python",
   "nbconvert_exporter": "python",
   "pygments_lexer": "ipython3",
   "version": "3.6.6"
  }
 },
 "nbformat": 4,
 "nbformat_minor": 2
}
