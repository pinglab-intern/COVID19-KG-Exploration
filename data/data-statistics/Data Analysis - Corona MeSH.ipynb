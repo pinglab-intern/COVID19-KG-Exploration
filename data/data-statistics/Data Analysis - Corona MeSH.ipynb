{
 "cells": [
  {
   "cell_type": "markdown",
   "metadata": {},
   "source": [
    "### Data Stat\n",
    "\n",
    "This notebook sumarizes the preliminary data found in Corona virus, Covid-19 document count, time published, cohort studied etc."
   ]
  },
  {
   "cell_type": "code",
   "execution_count": 1,
   "metadata": {},
   "outputs": [],
   "source": [
    "import json as json"
   ]
  },
  {
   "cell_type": "code",
   "execution_count": 2,
   "metadata": {},
   "outputs": [],
   "source": [
    "with open(\"corona_id2name.json\",'r')as rf:\n",
    "    id2name = json.load(rf)"
   ]
  },
  {
   "cell_type": "code",
   "execution_count": 3,
   "metadata": {},
   "outputs": [],
   "source": [
    "DATA = []\n",
    "with open(\"../mesh_search/mesh_corona_papers.json\", 'r') as fcount:\n",
    "        data = json.load(fcount)\n",
    "        for key,value in data.items():\n",
    "            DATA.append({\"MeSH\":key,\"Count\":len(value)})"
   ]
  },
  {
   "cell_type": "code",
   "execution_count": 4,
   "metadata": {},
   "outputs": [
    {
     "data": {
      "text/plain": [
       "[{'Count': 679, 'MeSH': 'C01.925.782.600.550.200'},\n",
       " {'Count': 5, 'MeSH': 'C01.925.782.600.550.200.325'},\n",
       " {'Count': 1045, 'MeSH': 'C01.925.782.600.550.200.360'},\n",
       " {'Count': 153, 'MeSH': 'C01.925.782.600.550.200.400'},\n",
       " {'Count': 12176, 'MeSH': 'C01.925.782.600.550.200.750'}]"
      ]
     },
     "execution_count": 4,
     "metadata": {},
     "output_type": "execute_result"
    }
   ],
   "source": [
    "DATA"
   ]
  },
  {
   "cell_type": "code",
   "execution_count": 5,
   "metadata": {},
   "outputs": [],
   "source": [
    "import pandas as pd\n",
    "DF = pd.DataFrame(DATA)"
   ]
  },
  {
   "cell_type": "code",
   "execution_count": 6,
   "metadata": {},
   "outputs": [],
   "source": [
    "DF = DF.sort_values('Count', ascending =False)"
   ]
  },
  {
   "cell_type": "code",
   "execution_count": 8,
   "metadata": {},
   "outputs": [
    {
     "data": {
      "text/html": [
       "<div>\n",
       "<style scoped>\n",
       "    .dataframe tbody tr th:only-of-type {\n",
       "        vertical-align: middle;\n",
       "    }\n",
       "\n",
       "    .dataframe tbody tr th {\n",
       "        vertical-align: top;\n",
       "    }\n",
       "\n",
       "    .dataframe thead th {\n",
       "        text-align: right;\n",
       "    }\n",
       "</style>\n",
       "<table border=\"1\" class=\"dataframe\">\n",
       "  <thead>\n",
       "    <tr style=\"text-align: right;\">\n",
       "      <th></th>\n",
       "      <th>Count</th>\n",
       "      <th>MeSH</th>\n",
       "      <th>Name</th>\n",
       "    </tr>\n",
       "  </thead>\n",
       "  <tbody>\n",
       "    <tr>\n",
       "      <th>4</th>\n",
       "      <td>12176</td>\n",
       "      <td>C01.925.782.600.550.200.750</td>\n",
       "      <td>Severe Acute Respiratory Syndrome</td>\n",
       "    </tr>\n",
       "    <tr>\n",
       "      <th>2</th>\n",
       "      <td>1045</td>\n",
       "      <td>C01.925.782.600.550.200.360</td>\n",
       "      <td>Feline Infectious Peritonitis</td>\n",
       "    </tr>\n",
       "    <tr>\n",
       "      <th>0</th>\n",
       "      <td>679</td>\n",
       "      <td>C01.925.782.600.550.200</td>\n",
       "      <td>Coronavirus Infections</td>\n",
       "    </tr>\n",
       "    <tr>\n",
       "      <th>3</th>\n",
       "      <td>153</td>\n",
       "      <td>C01.925.782.600.550.200.400</td>\n",
       "      <td>Gastroenteritis, Transmissible, of Swine</td>\n",
       "    </tr>\n",
       "    <tr>\n",
       "      <th>1</th>\n",
       "      <td>5</td>\n",
       "      <td>C01.925.782.600.550.200.325</td>\n",
       "      <td>Enteritis, Transmissible, of Turkeys</td>\n",
       "    </tr>\n",
       "  </tbody>\n",
       "</table>\n",
       "</div>"
      ],
      "text/plain": [
       "   Count                         MeSH  \\\n",
       "4  12176  C01.925.782.600.550.200.750   \n",
       "2   1045  C01.925.782.600.550.200.360   \n",
       "0    679      C01.925.782.600.550.200   \n",
       "3    153  C01.925.782.600.550.200.400   \n",
       "1      5  C01.925.782.600.550.200.325   \n",
       "\n",
       "                                       Name  \n",
       "4         Severe Acute Respiratory Syndrome  \n",
       "2             Feline Infectious Peritonitis  \n",
       "0                    Coronavirus Infections  \n",
       "3  Gastroenteritis, Transmissible, of Swine  \n",
       "1      Enteritis, Transmissible, of Turkeys  "
      ]
     },
     "execution_count": 8,
     "metadata": {},
     "output_type": "execute_result"
    }
   ],
   "source": [
    "DF"
   ]
  },
  {
   "cell_type": "code",
   "execution_count": 9,
   "metadata": {},
   "outputs": [],
   "source": [
    "DF['Name'] = DF['MeSH'].apply(lambda x: id2name[x])"
   ]
  },
  {
   "cell_type": "code",
   "execution_count": 10,
   "metadata": {},
   "outputs": [],
   "source": [
    "DF = DF.set_index('Name')"
   ]
  },
  {
   "cell_type": "code",
   "execution_count": 11,
   "metadata": {},
   "outputs": [
    {
     "data": {
      "text/html": [
       "<div>\n",
       "<style scoped>\n",
       "    .dataframe tbody tr th:only-of-type {\n",
       "        vertical-align: middle;\n",
       "    }\n",
       "\n",
       "    .dataframe tbody tr th {\n",
       "        vertical-align: top;\n",
       "    }\n",
       "\n",
       "    .dataframe thead th {\n",
       "        text-align: right;\n",
       "    }\n",
       "</style>\n",
       "<table border=\"1\" class=\"dataframe\">\n",
       "  <thead>\n",
       "    <tr style=\"text-align: right;\">\n",
       "      <th></th>\n",
       "      <th>Count</th>\n",
       "      <th>MeSH</th>\n",
       "    </tr>\n",
       "    <tr>\n",
       "      <th>Name</th>\n",
       "      <th></th>\n",
       "      <th></th>\n",
       "    </tr>\n",
       "  </thead>\n",
       "  <tbody>\n",
       "    <tr>\n",
       "      <th>Severe Acute Respiratory Syndrome</th>\n",
       "      <td>12176</td>\n",
       "      <td>C01.925.782.600.550.200.750</td>\n",
       "    </tr>\n",
       "    <tr>\n",
       "      <th>Feline Infectious Peritonitis</th>\n",
       "      <td>1045</td>\n",
       "      <td>C01.925.782.600.550.200.360</td>\n",
       "    </tr>\n",
       "    <tr>\n",
       "      <th>Coronavirus Infections</th>\n",
       "      <td>679</td>\n",
       "      <td>C01.925.782.600.550.200</td>\n",
       "    </tr>\n",
       "    <tr>\n",
       "      <th>Gastroenteritis, Transmissible, of Swine</th>\n",
       "      <td>153</td>\n",
       "      <td>C01.925.782.600.550.200.400</td>\n",
       "    </tr>\n",
       "    <tr>\n",
       "      <th>Enteritis, Transmissible, of Turkeys</th>\n",
       "      <td>5</td>\n",
       "      <td>C01.925.782.600.550.200.325</td>\n",
       "    </tr>\n",
       "  </tbody>\n",
       "</table>\n",
       "</div>"
      ],
      "text/plain": [
       "                                          Count                         MeSH\n",
       "Name                                                                        \n",
       "Severe Acute Respiratory Syndrome         12176  C01.925.782.600.550.200.750\n",
       "Feline Infectious Peritonitis              1045  C01.925.782.600.550.200.360\n",
       "Coronavirus Infections                      679      C01.925.782.600.550.200\n",
       "Gastroenteritis, Transmissible, of Swine    153  C01.925.782.600.550.200.400\n",
       "Enteritis, Transmissible, of Turkeys          5  C01.925.782.600.550.200.325"
      ]
     },
     "execution_count": 11,
     "metadata": {},
     "output_type": "execute_result"
    }
   ],
   "source": [
    "DF"
   ]
  },
  {
   "cell_type": "code",
   "execution_count": 12,
   "metadata": {},
   "outputs": [],
   "source": [
    "DF.to_csv('corona_mesh_count.csv')"
   ]
  }
 ],
 "metadata": {
  "kernelspec": {
   "display_name": "Python 3",
   "language": "python",
   "name": "python3"
  },
  "language_info": {
   "codemirror_mode": {
    "name": "ipython",
    "version": 3
   },
   "file_extension": ".py",
   "mimetype": "text/x-python",
   "name": "python",
   "nbconvert_exporter": "python",
   "pygments_lexer": "ipython3",
   "version": "3.6.6"
  }
 },
 "nbformat": 4,
 "nbformat_minor": 2
}
