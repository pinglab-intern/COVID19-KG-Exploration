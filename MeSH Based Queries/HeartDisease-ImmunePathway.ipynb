{
 "cells": [
  {
   "cell_type": "markdown",
   "metadata": {},
   "source": [
    "### MeSH Based Query Search"
   ]
  },
  {
   "cell_type": "markdown",
   "metadata": {},
   "source": [
    "In this notebook, we will discuss how to search documents based on the Disease described in the CVD tree."
   ]
  },
  {
   "cell_type": "code",
   "execution_count": 1,
   "metadata": {},
   "outputs": [],
   "source": [
    "import pandas as pd\n",
    "import json\n",
    "from neo4j import GraphDatabase\n",
    "import csv"
   ]
  },
  {
   "cell_type": "markdown",
   "metadata": {},
   "source": [
    "#### Authentication to access covidgraph.org graph"
   ]
  },
  {
   "cell_type": "code",
   "execution_count": 2,
   "metadata": {},
   "outputs": [],
   "source": [
    "covid_browser = \"https://covid.petesis.com:7473\"\n",
    "covid_url = \"bolt://covid.petesis.com:7687\"\n",
    "user = \"public\"\n",
    "password = \"corona\"\n",
    "\n",
    "#driver = GraphDatabase.driver(uri, auth=(user, password))\n",
    "driver = GraphDatabase.driver(uri = covid_url,\\\n",
    "                              auth = (user,password))"
   ]
  },
  {
   "cell_type": "markdown",
   "metadata": {},
   "source": [
    "#### MeSH descriptor to its entity list\n",
    "- Ex. ```C01.925.782.600.550.200.360: [feline infectious peritonitis]```\n",
    "- Pandas Dataframe is very convenient for handeling a CSV file specifically for data transformation with ```lambda``` mapping functon."
   ]
  },
  {
   "cell_type": "markdown",
   "metadata": {},
   "source": [
    "#### Obtaining terms related to heart disease"
   ]
  },
  {
   "cell_type": "code",
   "execution_count": 3,
   "metadata": {},
   "outputs": [
    {
     "data": {
      "text/html": [
       "<div>\n",
       "<style scoped>\n",
       "    .dataframe tbody tr th:only-of-type {\n",
       "        vertical-align: middle;\n",
       "    }\n",
       "\n",
       "    .dataframe tbody tr th {\n",
       "        vertical-align: top;\n",
       "    }\n",
       "\n",
       "    .dataframe thead th {\n",
       "        text-align: right;\n",
       "    }\n",
       "</style>\n",
       "<table border=\"1\" class=\"dataframe\">\n",
       "  <thead>\n",
       "    <tr style=\"text-align: right;\">\n",
       "      <th></th>\n",
       "      <th>name</th>\n",
       "    </tr>\n",
       "    <tr>\n",
       "      <th>ID</th>\n",
       "      <th></th>\n",
       "    </tr>\n",
       "  </thead>\n",
       "  <tbody>\n",
       "    <tr>\n",
       "      <th>C14.280.647</th>\n",
       "      <td>Myocardial Ischemia</td>\n",
       "    </tr>\n",
       "    <tr>\n",
       "      <th>C14.280.647.124</th>\n",
       "      <td>Acute Coronary Syndrome</td>\n",
       "    </tr>\n",
       "    <tr>\n",
       "      <th>C14.280.647.187</th>\n",
       "      <td>Angina Pectoris</td>\n",
       "    </tr>\n",
       "    <tr>\n",
       "      <th>C14.280.647.187.150</th>\n",
       "      <td>Angina, Unstable</td>\n",
       "    </tr>\n",
       "    <tr>\n",
       "      <th>C14.280.647.187.150.150</th>\n",
       "      <td>Angina Pectoris, Variant</td>\n",
       "    </tr>\n",
       "  </tbody>\n",
       "</table>\n",
       "</div>"
      ],
      "text/plain": [
       "                                             name\n",
       "ID                                               \n",
       "C14.280.647                   Myocardial Ischemia\n",
       "C14.280.647.124           Acute Coronary Syndrome\n",
       "C14.280.647.187                   Angina Pectoris\n",
       "C14.280.647.187.150              Angina, Unstable\n",
       "C14.280.647.187.150.150  Angina Pectoris, Variant"
      ]
     },
     "execution_count": 3,
     "metadata": {},
     "output_type": "execute_result"
    }
   ],
   "source": [
    "MeSH_heart = pd.read_csv(\"input/mesh/heart_disease.csv\")\n",
    "MeSH_heart = MeSH_heart.set_index('ID')\n",
    "MeSH_heart.head()"
   ]
  },
  {
   "cell_type": "markdown",
   "metadata": {},
   "source": [
    "- Implementing ```lambda``` function to map one column to another column"
   ]
  },
  {
   "cell_type": "code",
   "execution_count": 4,
   "metadata": {},
   "outputs": [],
   "source": [
    "MeSH_heart['phrases'] = MeSH_heart['name'].apply(lambda x: x.lower().strip())"
   ]
  },
  {
   "cell_type": "code",
   "execution_count": 5,
   "metadata": {},
   "outputs": [],
   "source": [
    "MeSH_heart['phrases'] = MeSH_heart['phrases'].apply(lambda x:x.split(','))"
   ]
  },
  {
   "cell_type": "code",
   "execution_count": 6,
   "metadata": {},
   "outputs": [
    {
     "data": {
      "text/html": [
       "<div>\n",
       "<style scoped>\n",
       "    .dataframe tbody tr th:only-of-type {\n",
       "        vertical-align: middle;\n",
       "    }\n",
       "\n",
       "    .dataframe tbody tr th {\n",
       "        vertical-align: top;\n",
       "    }\n",
       "\n",
       "    .dataframe thead th {\n",
       "        text-align: right;\n",
       "    }\n",
       "</style>\n",
       "<table border=\"1\" class=\"dataframe\">\n",
       "  <thead>\n",
       "    <tr style=\"text-align: right;\">\n",
       "      <th></th>\n",
       "      <th>name</th>\n",
       "      <th>phrases</th>\n",
       "    </tr>\n",
       "    <tr>\n",
       "      <th>ID</th>\n",
       "      <th></th>\n",
       "      <th></th>\n",
       "    </tr>\n",
       "  </thead>\n",
       "  <tbody>\n",
       "    <tr>\n",
       "      <th>C14.280.647</th>\n",
       "      <td>Myocardial Ischemia</td>\n",
       "      <td>[myocardial ischemia]</td>\n",
       "    </tr>\n",
       "    <tr>\n",
       "      <th>C14.280.647.124</th>\n",
       "      <td>Acute Coronary Syndrome</td>\n",
       "      <td>[acute coronary syndrome]</td>\n",
       "    </tr>\n",
       "    <tr>\n",
       "      <th>C14.280.647.187</th>\n",
       "      <td>Angina Pectoris</td>\n",
       "      <td>[angina pectoris]</td>\n",
       "    </tr>\n",
       "    <tr>\n",
       "      <th>C14.280.647.187.150</th>\n",
       "      <td>Angina, Unstable</td>\n",
       "      <td>[angina,  unstable]</td>\n",
       "    </tr>\n",
       "    <tr>\n",
       "      <th>C14.280.647.187.150.150</th>\n",
       "      <td>Angina Pectoris, Variant</td>\n",
       "      <td>[angina pectoris,  variant]</td>\n",
       "    </tr>\n",
       "  </tbody>\n",
       "</table>\n",
       "</div>"
      ],
      "text/plain": [
       "                                             name                      phrases\n",
       "ID                                                                            \n",
       "C14.280.647                   Myocardial Ischemia        [myocardial ischemia]\n",
       "C14.280.647.124           Acute Coronary Syndrome    [acute coronary syndrome]\n",
       "C14.280.647.187                   Angina Pectoris            [angina pectoris]\n",
       "C14.280.647.187.150              Angina, Unstable          [angina,  unstable]\n",
       "C14.280.647.187.150.150  Angina Pectoris, Variant  [angina pectoris,  variant]"
      ]
     },
     "execution_count": 6,
     "metadata": {},
     "output_type": "execute_result"
    }
   ],
   "source": [
    "MeSH_heart.head()"
   ]
  },
  {
   "cell_type": "markdown",
   "metadata": {},
   "source": [
    "#### Obtaining immune system pathway terms"
   ]
  },
  {
   "cell_type": "code",
   "execution_count": 7,
   "metadata": {},
   "outputs": [
    {
     "data": {
      "text/html": [
       "<div>\n",
       "<style scoped>\n",
       "    .dataframe tbody tr th:only-of-type {\n",
       "        vertical-align: middle;\n",
       "    }\n",
       "\n",
       "    .dataframe tbody tr th {\n",
       "        vertical-align: top;\n",
       "    }\n",
       "\n",
       "    .dataframe thead th {\n",
       "        text-align: right;\n",
       "    }\n",
       "</style>\n",
       "<table border=\"1\" class=\"dataframe\">\n",
       "  <thead>\n",
       "    <tr style=\"text-align: right;\">\n",
       "      <th></th>\n",
       "      <th>name</th>\n",
       "      <th>species</th>\n",
       "    </tr>\n",
       "    <tr>\n",
       "      <th>RID</th>\n",
       "      <th></th>\n",
       "      <th></th>\n",
       "    </tr>\n",
       "  </thead>\n",
       "  <tbody>\n",
       "    <tr>\n",
       "      <th>R-HSA-174577</th>\n",
       "      <td>Activation of C3 and C5</td>\n",
       "      <td>Homo sapiens</td>\n",
       "    </tr>\n",
       "    <tr>\n",
       "      <th>R-HSA-1280218</th>\n",
       "      <td>Adaptive Immune System</td>\n",
       "      <td>Homo sapiens</td>\n",
       "    </tr>\n",
       "    <tr>\n",
       "      <th>R-HSA-879415</th>\n",
       "      <td>Advanced glycosylation endproduct receptor sig...</td>\n",
       "      <td>Homo sapiens</td>\n",
       "    </tr>\n",
       "    <tr>\n",
       "      <th>R-HSA-173736</th>\n",
       "      <td>Alternative complement activation</td>\n",
       "      <td>Homo sapiens</td>\n",
       "    </tr>\n",
       "    <tr>\n",
       "      <th>R-HSA-983170</th>\n",
       "      <td>Antigen Presentation: Folding, assembly and pe...</td>\n",
       "      <td>Homo sapiens</td>\n",
       "    </tr>\n",
       "  </tbody>\n",
       "</table>\n",
       "</div>"
      ],
      "text/plain": [
       "                                                            name       species\n",
       "RID                                                                           \n",
       "R-HSA-174577                             Activation of C3 and C5  Homo sapiens\n",
       "R-HSA-1280218                             Adaptive Immune System  Homo sapiens\n",
       "R-HSA-879415   Advanced glycosylation endproduct receptor sig...  Homo sapiens\n",
       "R-HSA-173736                   Alternative complement activation  Homo sapiens\n",
       "R-HSA-983170   Antigen Presentation: Folding, assembly and pe...  Homo sapiens"
      ]
     },
     "execution_count": 7,
     "metadata": {},
     "output_type": "execute_result"
    }
   ],
   "source": [
    "MeSH_immune = pd.read_csv(\"input/pathways/immune_system_pathways.csv\", index_col=0)\n",
    "MeSH_immune = MeSH_immune.set_index('RID')\n",
    "MeSH_immune.head()"
   ]
  },
  {
   "cell_type": "code",
   "execution_count": 8,
   "metadata": {},
   "outputs": [
    {
     "data": {
      "text/html": [
       "<div>\n",
       "<style scoped>\n",
       "    .dataframe tbody tr th:only-of-type {\n",
       "        vertical-align: middle;\n",
       "    }\n",
       "\n",
       "    .dataframe tbody tr th {\n",
       "        vertical-align: top;\n",
       "    }\n",
       "\n",
       "    .dataframe thead th {\n",
       "        text-align: right;\n",
       "    }\n",
       "</style>\n",
       "<table border=\"1\" class=\"dataframe\">\n",
       "  <thead>\n",
       "    <tr style=\"text-align: right;\">\n",
       "      <th></th>\n",
       "      <th>name</th>\n",
       "    </tr>\n",
       "    <tr>\n",
       "      <th>RID</th>\n",
       "      <th></th>\n",
       "    </tr>\n",
       "  </thead>\n",
       "  <tbody>\n",
       "    <tr>\n",
       "      <th>R-HSA-174577</th>\n",
       "      <td>activation of c3 and c5</td>\n",
       "    </tr>\n",
       "    <tr>\n",
       "      <th>R-HSA-1280218</th>\n",
       "      <td>adaptive immune system</td>\n",
       "    </tr>\n",
       "    <tr>\n",
       "      <th>R-HSA-879415</th>\n",
       "      <td>advanced glycosylation endproduct receptor sig...</td>\n",
       "    </tr>\n",
       "    <tr>\n",
       "      <th>R-HSA-173736</th>\n",
       "      <td>alternative complement activation</td>\n",
       "    </tr>\n",
       "    <tr>\n",
       "      <th>R-HSA-983170</th>\n",
       "      <td>antigen presentation: folding, assembly and pe...</td>\n",
       "    </tr>\n",
       "  </tbody>\n",
       "</table>\n",
       "</div>"
      ],
      "text/plain": [
       "                                                            name\n",
       "RID                                                             \n",
       "R-HSA-174577                             activation of c3 and c5\n",
       "R-HSA-1280218                             adaptive immune system\n",
       "R-HSA-879415   advanced glycosylation endproduct receptor sig...\n",
       "R-HSA-173736                   alternative complement activation\n",
       "R-HSA-983170   antigen presentation: folding, assembly and pe..."
      ]
     },
     "execution_count": 8,
     "metadata": {},
     "output_type": "execute_result"
    }
   ],
   "source": [
    "MeSH_immune['name'] = MeSH_immune['name'].apply(lambda x: x.lower().strip())\n",
    "MeSH_immune = MeSH_immune.drop(columns='species')\n",
    "MeSH_immune.head()"
   ]
  },
  {
   "cell_type": "code",
   "execution_count": 9,
   "metadata": {},
   "outputs": [],
   "source": [
    "MeSH_immune['name'] = MeSH_immune['name'].apply(lambda x: x.split(':')[0].strip())\n",
    "MeSH_immune['name'] = MeSH_immune['name'].apply(lambda x: x.split('&'))"
   ]
  },
  {
   "cell_type": "code",
   "execution_count": 10,
   "metadata": {},
   "outputs": [],
   "source": [
    "for val_list in MeSH_immune['name'].values:\n",
    "    for val in val_list:\n",
    "        val.strip()\n",
    "        if '(' in val:\n",
    "            open_in = val.find('(')\n",
    "            close_in = val.find(')')\n",
    "            val = val[0:open_in].strip() + ' ' + val[close_in+1:len(val)].strip()\n",
    "            val_list.append(val[open_in:close_in].strip())"
   ]
  },
  {
   "cell_type": "code",
   "execution_count": 11,
   "metadata": {},
   "outputs": [
    {
     "data": {
      "text/html": [
       "<div>\n",
       "<style scoped>\n",
       "    .dataframe tbody tr th:only-of-type {\n",
       "        vertical-align: middle;\n",
       "    }\n",
       "\n",
       "    .dataframe tbody tr th {\n",
       "        vertical-align: top;\n",
       "    }\n",
       "\n",
       "    .dataframe thead th {\n",
       "        text-align: right;\n",
       "    }\n",
       "</style>\n",
       "<table border=\"1\" class=\"dataframe\">\n",
       "  <thead>\n",
       "    <tr style=\"text-align: right;\">\n",
       "      <th></th>\n",
       "      <th>name</th>\n",
       "    </tr>\n",
       "    <tr>\n",
       "      <th>RID</th>\n",
       "      <th></th>\n",
       "    </tr>\n",
       "  </thead>\n",
       "  <tbody>\n",
       "    <tr>\n",
       "      <th>R-HSA-174577</th>\n",
       "      <td>[activation of c3 and c5]</td>\n",
       "    </tr>\n",
       "    <tr>\n",
       "      <th>R-HSA-1280218</th>\n",
       "      <td>[adaptive immune system]</td>\n",
       "    </tr>\n",
       "    <tr>\n",
       "      <th>R-HSA-879415</th>\n",
       "      <td>[advanced glycosylation endproduct receptor si...</td>\n",
       "    </tr>\n",
       "    <tr>\n",
       "      <th>R-HSA-173736</th>\n",
       "      <td>[alternative complement activation]</td>\n",
       "    </tr>\n",
       "    <tr>\n",
       "      <th>R-HSA-983170</th>\n",
       "      <td>[antigen presentation]</td>\n",
       "    </tr>\n",
       "  </tbody>\n",
       "</table>\n",
       "</div>"
      ],
      "text/plain": [
       "                                                            name\n",
       "RID                                                             \n",
       "R-HSA-174577                           [activation of c3 and c5]\n",
       "R-HSA-1280218                           [adaptive immune system]\n",
       "R-HSA-879415   [advanced glycosylation endproduct receptor si...\n",
       "R-HSA-173736                 [alternative complement activation]\n",
       "R-HSA-983170                              [antigen presentation]"
      ]
     },
     "execution_count": 11,
     "metadata": {},
     "output_type": "execute_result"
    }
   ],
   "source": [
    "MeSH_immune.head()"
   ]
  },
  {
   "cell_type": "markdown",
   "metadata": {},
   "source": [
    "#### Combine both value sets\n",
    "- Heart disease mesh descriptions and immune system pathways"
   ]
  },
  {
   "cell_type": "code",
   "execution_count": 12,
   "metadata": {},
   "outputs": [],
   "source": [
    "all_ = [(x, y) for x in MeSH_heart['phrases'] for y in MeSH_immune['name']]"
   ]
  },
  {
   "cell_type": "code",
   "execution_count": 13,
   "metadata": {},
   "outputs": [
    {
     "data": {
      "text/plain": [
       "[(['myocardial ischemia'], ['activation of c3 and c5']),\n",
       " (['myocardial ischemia'], ['adaptive immune system']),\n",
       " (['myocardial ischemia'],\n",
       "  ['advanced glycosylation endproduct receptor signaling']),\n",
       " (['myocardial ischemia'], ['alternative complement activation'])]"
      ]
     },
     "execution_count": 13,
     "metadata": {},
     "output_type": "execute_result"
    }
   ],
   "source": [
    "all_[0:4]"
   ]
  },
  {
   "cell_type": "markdown",
   "metadata": {},
   "source": [
    "#### MeSH to Doc Mapping\n",
    "- Create a dictionary where the key is a MeSH descriptor, and the value is a list of papers (publications) that contains mention of the MeSH terms in its body text\n",
    "- Each paper is represented as dictionary linking each attribute name in the paper (cord_uid, journal, title, etc.) with its actual information"
   ]
  },
  {
   "cell_type": "markdown",
   "metadata": {},
   "source": [
    "##### Example of a paper node in the covid graph"
   ]
  },
  {
   "cell_type": "code",
   "execution_count": 14,
   "metadata": {},
   "outputs": [
    {
     "name": "stdout",
     "output_type": "stream",
     "text": [
      "<Record n=<Node id=3198 labels={'Paper'} properties={'cord_uid': 'zrmkq3mz', 'cord19-fulltext_hash': '41c7a01f11ed47591d99f45774e43e45aeba0619', 'journal': 'BMC Microbiol', 'publish_time': '2009-08-12', 'source': 'PMC', 'title': 'CAPIH: A Web interface for comparative analyses and visualization of host-HIV protein-protein interactions', '_hash_id': '3c4b2ee1430dc9ac53aca87c0fc0f7eb', 'url': 'https://www.ncbi.nlm.nih.gov/pmc/articles/PMC2782265/'}>>\n"
     ]
    }
   ],
   "source": [
    "paper_query = \"MATCH (n:Paper) RETURN n LIMIT 1\"\n",
    "Data = []\n",
    "with driver.session() as session:\n",
    "    info = session.run(paper_query)\n",
    "    for item in info:\n",
    "        print(item)"
   ]
  },
  {
   "cell_type": "markdown",
   "metadata": {},
   "source": [
    "#### Writes data to file"
   ]
  },
  {
   "cell_type": "code",
   "execution_count": 16,
   "metadata": {},
   "outputs": [],
   "source": [
    "ff = open(\"data/mesh_queries_heartdisease_immune.json\", 'w')"
   ]
  },
  {
   "cell_type": "code",
   "execution_count": 17,
   "metadata": {},
   "outputs": [
    {
     "name": "stdout",
     "output_type": "stream",
     "text": [
      "[{'cord_uid': 'xwjqvgic', 'cord19-fulltext_hash': '6f1a0067a1612a8293e7cb64c89bf2e92b674fae', 'journal': 'Front Neurol', 'publish_time': '2019-03-22', 'source': 'PMC', 'title': 'Traumatic Spinal Cord Injury: An Overview of Pathophysiology, Models and Acute Injury Mechanisms', '_hash_id': 'f9238cecac49b0043f22456437d1d220', 'url': 'https://www.ncbi.nlm.nih.gov/pmc/articles/PMC6439316/'}]\n",
      "[{'cord_uid': 'lcqrd4v0', 'cord19-fulltext_hash': '14c4936378b78d5039dc318e1bc6d2dd3044b014', 'journal': 'Molecular and Translational Vascular Medicine', 'publish_time': '2012-02-23', 'source': 'PMC', 'title': 'The Molecular Biology and Treatment of Systemic Vasculitis in Children', '_hash_id': '70f504f78f176f4efb8f3679a9f0a1e3', 'url': 'https://www.ncbi.nlm.nih.gov/pmc/articles/PMC7121654/'}]\n",
      "[{'cord_uid': '3sba91nh', 'cord19-fulltext_hash': 'cf253a3cc9c4a21b8c8ba76f23495dde2d908194', 'journal': 'Emergency Medicine Clinics of North America', 'publish_time': '2018-11-30', 'source': 'Elsevier', 'title': 'Community-Acquired Pneumonia', '_hash_id': '1026f640f127d222b4c0e54ac5d35054', 'url': 'https://doi.org/10.1016/j.emc.2018.07.001'}]\n",
      "[{'cord_uid': 'hxj4z228', 'cord19-fulltext_hash': 'dc2f210539245c7a03dcaa21c9305555d10ece43', 'journal': 'Clinical Immunology', 'publish_time': '2005-04-30', 'source': 'Elsevier', 'title': 'FOCIS abstract supplement', '_hash_id': 'be204ae75356ebbd534b8a376c9eb2b2', 'url': 'https://doi.org/10.1016/j.clim.2005.03.007'}]\n",
      "[{'cord_uid': 'ackvbi1g', 'journal': 'Woordenboek geneeskunde en biomedische wetenschappen E-N/N-E', 'publish_time': '2016-08-18', 'source': 'PMC', 'title': 'Engels-Nederlands', '_hash_id': '04bfe19b2a8e99881020ca7a6cfbc346', 'url': 'https://www.ncbi.nlm.nih.gov/pmc/articles/PMC7120886/'}]\n",
      "[{'cord_uid': 'cbea73q6', 'cord19-fulltext_hash': '8ef6b31ac51e4560b97074574711f05a2a30c845', 'journal': 'Biomed Res Int', 'publish_time': '2019-04-02', 'source': 'PMC', 'title': 'Pentraxin 3 Detects Clinically Significant Fibrosis in Patients with Chronic Viral Hepatitis C', '_hash_id': 'b42528d0ea0a858318c7e78511947d8e', 'url': 'https://www.ncbi.nlm.nih.gov/pmc/articles/PMC6466943/'}, {'cord_uid': '9y533zs5', 'cord19-fulltext_hash': '7d315079ead135b017fcf2b6d267456fc7580910', 'journal': 'Seminars in Cell & Developmental Biology', 'publish_time': '2017-01-31', 'source': 'Elsevier', 'title': 'Humoral innate immunity at the crossroad between microbe and matrix recognition: The role of PTX3 in tissue damage', '_hash_id': 'd6ed791b7a441bac32f72f99739b1fbe', 'url': 'https://doi.org/10.1016/j.semcdb.2016.07.026'}, {'cord_uid': 'z6ckhkgg', 'cord19-fulltext_hash': 'd5ebe3c5f63aab796614b995caa0db4ce444ab6f', 'journal': 'Trends in Molecular Medicine', 'publish_time': '2016-06-30', 'source': 'Elsevier', 'title': 'The Dual Complexity of PTX3 in Health and Disease: A Balancing Act?', '_hash_id': 'd4346f6b9e6e1d16df04b9d41b90574a', 'url': 'https://doi.org/10.1016/j.molmed.2016.04.007'}]\n",
      "[{'cord_uid': 'sdz5ljpf', 'cord19-fulltext_hash': 'c925f9d8d068db0c232d39fa0773eae043814d28', 'journal': 'Progress in Molecular Biology and Translational Science', 'publish_time': '2012-12-31', 'source': 'Elsevier', 'title': 'Chapter 5 Acute Phase Proteins in Animals', '_hash_id': 'ec2c9ba495a03260f42cf151758043b1', 'url': 'https://doi.org/10.1016/b978-0-12-394596-9.00005-6'}, {'cord_uid': 't7rv01n5', 'cord19-fulltext_hash': '5a0f78d157629e8929ac78ea6da0f0148f5900a8', 'journal': 'Seminars in Immunology', 'publish_time': '2016-06-30', 'source': 'Elsevier', 'title': 'Complement inhibition in biomaterial- and biosurface-induced thromboinflammation', '_hash_id': 'de486688b6c23e9e87a5b401ca465f25', 'url': 'https://doi.org/10.1016/j.smim.2016.04.006'}]\n"
     ]
    }
   ],
   "source": [
    "for heart, immune in all_:\n",
    "    #Builds each part of the query based on the MeSH descriptor entity list\n",
    "    query = \"MATCH (p:Paper)-[:PAPER_HAS_BODYTEXTCOLLECTION]-(:BodyTextCollection)-\" \\\n",
    "                                        \"[:BODYTEXTCOLLECTION_HAS_BODYTEXT]-(a:BodyText) WHERE (\"\n",
    "    for i in range(len(heart)):\n",
    "        query += \"LOWER(a.text) CONTAINS '\" + heart[i] + \"' AND \"\n",
    "        for j in range(len(immune)):\n",
    "            if i == len(heart)-1 and j == len(immune)-1 :\n",
    "                query += \"LOWER(a.text) CONTAINS '\" + immune[j] + \"') RETURN DISTINCT p\"\n",
    "            else:\n",
    "                query += \"LOWER(a.text) CONTAINS '\" + immune[j] + \"' AND \"\n",
    "\n",
    "    MeSH_result = []\n",
    "        \n",
    "    with driver.session() as session:\n",
    "        info = session.run(query)\n",
    "        for item in info:\n",
    "            try:\n",
    "                node_keys = list((item.values(0)[0]).keys())\n",
    "                node_values = list((item.values(0)[0]).values())\n",
    "                paper = {}\n",
    "                for i in range(len(node_keys)):\n",
    "                    paper[node_keys[i]] = node_values[i]\n",
    "                MeSH_result.append(paper)\n",
    "            except:\n",
    "                continue\n",
    "    \n",
    "    if MeSH_result != []:\n",
    "        print(MeSH_result)\n",
    "        json.dump(MeSH_result, ff)\n",
    "\n",
    "ff.close()"
   ]
  },
  {
   "cell_type": "code",
   "execution_count": 20,
   "metadata": {},
   "outputs": [],
   "source": [
    "f2 = open(\"data/mesh_texts_heartdisease_immune.json\", 'w')"
   ]
  },
  {
   "cell_type": "code",
   "execution_count": null,
   "metadata": {},
   "outputs": [],
   "source": [
    "for heart, immune in all_:\n",
    "    #Builds each part of the query based on the MeSH descriptor entity list\n",
    "    query = \"MATCH (a:BodyText) WHERE (\"\n",
    "    for i in range(len(heart)):\n",
    "        query += \"LOWER(a.text) CONTAINS '\" + heart[i] + \"' AND \"\n",
    "        for j in range(len(immune)):\n",
    "            if i == len(heart)-1 and j == len(immune)-1 :\n",
    "                query += \"LOWER(a.text) CONTAINS '\" + immune[j] + \"') RETURN DISTINCT a\"\n",
    "            else:\n",
    "                query += \"LOWER(a.text) CONTAINS '\" + immune[j] + \"' AND \"\n",
    "\n",
    "    MeSH_result = []\n",
    "        \n",
    "    with driver.session() as session:\n",
    "        info = session.run(query)\n",
    "        for item in info:\n",
    "            try:\n",
    "                node_keys = list((item.values(0)[0]).keys())\n",
    "                node_values = list((item.values(0)[0]).values())\n",
    "                paper = {}\n",
    "                for i in range(len(node_keys)):\n",
    "                    if (node_keys[i] == 'text'):\n",
    "                        paper[node_keys[i]] = node_values[i]\n",
    "                MeSH_result.append(paper)\n",
    "            except:\n",
    "                continue\n",
    "    \n",
    "    if MeSH_result != []:\n",
    "        print(MeSH_result)\n",
    "        json.dump(MeSH_result, f2)\n",
    "\n",
    "f2.close()"
   ]
  }
 ],
 "metadata": {
  "kernelspec": {
   "display_name": "Python 3",
   "language": "python",
   "name": "python3"
  },
  "language_info": {
   "codemirror_mode": {
    "name": "ipython",
    "version": 3
   },
   "file_extension": ".py",
   "mimetype": "text/x-python",
   "name": "python",
   "nbconvert_exporter": "python",
   "pygments_lexer": "ipython3",
   "version": "3.6.6"
  }
 },
 "nbformat": 4,
 "nbformat_minor": 2
}
