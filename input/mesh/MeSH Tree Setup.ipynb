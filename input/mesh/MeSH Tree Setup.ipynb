{
 "cells": [
  {
   "cell_type": "markdown",
   "metadata": {},
   "source": [
    "### MeSH Query Search Setup"
   ]
  },
  {
   "cell_type": "markdown",
   "metadata": {},
   "source": [
    "In this notebook, we will set up the system necessarily to be able to search documents based on the Disease described in the CVD tree."
   ]
  },
  {
   "cell_type": "code",
   "execution_count": 1,
   "metadata": {},
   "outputs": [],
   "source": [
    "import json\n",
    "import pandas as pd\n",
    "from collections import Counter"
   ]
  },
  {
   "cell_type": "markdown",
   "metadata": {},
   "source": [
    "#### MeSH ID Dictionary Creation\n",
    "Using the most updated (2020) set of MeSH descriptors, two dictionaries are created. One that links MeSH ID to the name and one that links name to MeSH ID"
   ]
  },
  {
   "cell_type": "code",
   "execution_count": 2,
   "metadata": {},
   "outputs": [],
   "source": [
    "meshtree_file = \"mtrees2020.bin\""
   ]
  },
  {
   "cell_type": "code",
   "execution_count": 3,
   "metadata": {},
   "outputs": [],
   "source": [
    "Tree = []\n",
    "id2name = {}\n",
    "name2id = {}\n",
    "with open(meshtree_file, \"r\") as ftree:\n",
    "    for line in ftree:\n",
    "        term_tree = line.strip().split(\";\")\n",
    "        cur_term = term_tree[0]\n",
    "        cur_tree = term_tree[1]\n",
    "\n",
    "        id2name.update({cur_tree:cur_term})                        \n",
    "        name2id.update({cur_term:cur_tree})\n",
    "        Tree.append({'id':cur_tree ,'name':cur_term})"
   ]
  },
  {
   "cell_type": "markdown",
   "metadata": {},
   "source": [
    "#### Cardiovascular Disease MeSH Descriptors\n",
    "This code creates a data frame of all MeSH descriptors associated with cardiovascular disease"
   ]
  },
  {
   "cell_type": "code",
   "execution_count": 4,
   "metadata": {},
   "outputs": [],
   "source": [
    "CVDTree = []\n",
    "for name,ID in name2id.items():\n",
    "    if ID[0:3] == 'C14':\n",
    "            CVDTree.append({\"name\": name, \"ID\":ID})"
   ]
  },
  {
   "cell_type": "code",
   "execution_count": 5,
   "metadata": {},
   "outputs": [
    {
     "data": {
      "text/plain": [
       "204"
      ]
     },
     "execution_count": 5,
     "metadata": {},
     "output_type": "execute_result"
    }
   ],
   "source": [
    "len(list(CVDTree))"
   ]
  },
  {
   "cell_type": "code",
   "execution_count": 6,
   "metadata": {},
   "outputs": [],
   "source": [
    "CVD = pd.DataFrame(CVDTree)\n",
    "CVD = CVD.set_index('name')\n",
    "CVD = CVD.sort_values(\"ID\",ascending =True)"
   ]
  },
  {
   "cell_type": "code",
   "execution_count": 7,
   "metadata": {},
   "outputs": [
    {
     "data": {
      "text/html": [
       "<div>\n",
       "<style scoped>\n",
       "    .dataframe tbody tr th:only-of-type {\n",
       "        vertical-align: middle;\n",
       "    }\n",
       "\n",
       "    .dataframe tbody tr th {\n",
       "        vertical-align: top;\n",
       "    }\n",
       "\n",
       "    .dataframe thead th {\n",
       "        text-align: right;\n",
       "    }\n",
       "</style>\n",
       "<table border=\"1\" class=\"dataframe\">\n",
       "  <thead>\n",
       "    <tr style=\"text-align: right;\">\n",
       "      <th></th>\n",
       "      <th>ID</th>\n",
       "    </tr>\n",
       "    <tr>\n",
       "      <th>name</th>\n",
       "      <th></th>\n",
       "    </tr>\n",
       "  </thead>\n",
       "  <tbody>\n",
       "    <tr>\n",
       "      <th>Cardiovascular Diseases</th>\n",
       "      <td>C14</td>\n",
       "    </tr>\n",
       "    <tr>\n",
       "      <th>Cardiovascular Infections</th>\n",
       "      <td>C14.260</td>\n",
       "    </tr>\n",
       "    <tr>\n",
       "      <th>Syphilis, Cardiovascular</th>\n",
       "      <td>C14.260.500</td>\n",
       "    </tr>\n",
       "    <tr>\n",
       "      <th>Tuberculosis, Cardiovascular</th>\n",
       "      <td>C14.260.750</td>\n",
       "    </tr>\n",
       "    <tr>\n",
       "      <th>Heart Diseases</th>\n",
       "      <td>C14.280</td>\n",
       "    </tr>\n",
       "  </tbody>\n",
       "</table>\n",
       "</div>"
      ],
      "text/plain": [
       "                                       ID\n",
       "name                                     \n",
       "Cardiovascular Diseases               C14\n",
       "Cardiovascular Infections         C14.260\n",
       "Syphilis, Cardiovascular      C14.260.500\n",
       "Tuberculosis, Cardiovascular  C14.260.750\n",
       "Heart Diseases                    C14.280"
      ]
     },
     "execution_count": 7,
     "metadata": {},
     "output_type": "execute_result"
    }
   ],
   "source": [
    "CVD.head()"
   ]
  },
  {
   "cell_type": "markdown",
   "metadata": {},
   "source": [
    "- Outputs all associated MeSH IDs to ```csv``` file"
   ]
  },
  {
   "cell_type": "code",
   "execution_count": 8,
   "metadata": {},
   "outputs": [],
   "source": [
    "CVD.to_csv(\"cvd.csv\")"
   ]
  },
  {
   "cell_type": "markdown",
   "metadata": {},
   "source": [
    "#### Coronavirus Disease MeSH Descriptors\n",
    "This code creates a data frame of all MeSH descriptors associated with coronavirus"
   ]
  },
  {
   "cell_type": "code",
   "execution_count": 9,
   "metadata": {},
   "outputs": [],
   "source": [
    "CoronaTree = []\n",
    "for ID,name in id2name.items():\n",
    "    if ID[0:23] == 'C01.925.782.600.550.200':\n",
    "        CoronaTree.append({\"name\": name, \"ID\":ID})"
   ]
  },
  {
   "cell_type": "code",
   "execution_count": 10,
   "metadata": {},
   "outputs": [
    {
     "data": {
      "text/plain": [
       "5"
      ]
     },
     "execution_count": 10,
     "metadata": {},
     "output_type": "execute_result"
    }
   ],
   "source": [
    "len(list(CoronaTree))"
   ]
  },
  {
   "cell_type": "code",
   "execution_count": 11,
   "metadata": {},
   "outputs": [],
   "source": [
    "Corona = pd.DataFrame(CoronaTree)\n",
    "Corona = Corona.set_index('name')\n",
    "Corona = Corona.sort_values(\"ID\",ascending =True)"
   ]
  },
  {
   "cell_type": "code",
   "execution_count": 12,
   "metadata": {},
   "outputs": [
    {
     "data": {
      "text/html": [
       "<div>\n",
       "<style scoped>\n",
       "    .dataframe tbody tr th:only-of-type {\n",
       "        vertical-align: middle;\n",
       "    }\n",
       "\n",
       "    .dataframe tbody tr th {\n",
       "        vertical-align: top;\n",
       "    }\n",
       "\n",
       "    .dataframe thead th {\n",
       "        text-align: right;\n",
       "    }\n",
       "</style>\n",
       "<table border=\"1\" class=\"dataframe\">\n",
       "  <thead>\n",
       "    <tr style=\"text-align: right;\">\n",
       "      <th></th>\n",
       "      <th>ID</th>\n",
       "    </tr>\n",
       "    <tr>\n",
       "      <th>name</th>\n",
       "      <th></th>\n",
       "    </tr>\n",
       "  </thead>\n",
       "  <tbody>\n",
       "    <tr>\n",
       "      <th>Coronavirus Infections</th>\n",
       "      <td>C01.925.782.600.550.200</td>\n",
       "    </tr>\n",
       "    <tr>\n",
       "      <th>Enteritis, Transmissible, of Turkeys</th>\n",
       "      <td>C01.925.782.600.550.200.325</td>\n",
       "    </tr>\n",
       "    <tr>\n",
       "      <th>Feline Infectious Peritonitis</th>\n",
       "      <td>C01.925.782.600.550.200.360</td>\n",
       "    </tr>\n",
       "    <tr>\n",
       "      <th>Gastroenteritis, Transmissible, of Swine</th>\n",
       "      <td>C01.925.782.600.550.200.400</td>\n",
       "    </tr>\n",
       "    <tr>\n",
       "      <th>Severe Acute Respiratory Syndrome</th>\n",
       "      <td>C01.925.782.600.550.200.750</td>\n",
       "    </tr>\n",
       "  </tbody>\n",
       "</table>\n",
       "</div>"
      ],
      "text/plain": [
       "                                                                   ID\n",
       "name                                                                 \n",
       "Coronavirus Infections                        C01.925.782.600.550.200\n",
       "Enteritis, Transmissible, of Turkeys      C01.925.782.600.550.200.325\n",
       "Feline Infectious Peritonitis             C01.925.782.600.550.200.360\n",
       "Gastroenteritis, Transmissible, of Swine  C01.925.782.600.550.200.400\n",
       "Severe Acute Respiratory Syndrome         C01.925.782.600.550.200.750"
      ]
     },
     "execution_count": 12,
     "metadata": {},
     "output_type": "execute_result"
    }
   ],
   "source": [
    "Corona.head()"
   ]
  },
  {
   "cell_type": "code",
   "execution_count": 13,
   "metadata": {},
   "outputs": [],
   "source": [
    "Corona.to_csv(\"corona.csv\")"
   ]
  },
  {
   "cell_type": "markdown",
   "metadata": {},
   "source": [
    "- Outputs all associated MeSH IDs to ```csv``` file"
   ]
  },
  {
   "cell_type": "markdown",
   "metadata": {},
   "source": [
    "#### Specific Heart Disease MeSH Descriptors\n",
    "This code creates a data frame of all MeSH descriptors associated with specific type of cardiovascular disease"
   ]
  },
  {
   "cell_type": "code",
   "execution_count": 14,
   "metadata": {},
   "outputs": [],
   "source": [
    "HeartDiseaseTree = []\n",
    "for ID,name in id2name.items():\n",
    "    if ID[0:11] == 'C14.280.647':\n",
    "        HeartDiseaseTree.append({\"name\": name, \"ID\":ID})"
   ]
  },
  {
   "cell_type": "code",
   "execution_count": 15,
   "metadata": {},
   "outputs": [
    {
     "data": {
      "text/plain": [
       "24"
      ]
     },
     "execution_count": 15,
     "metadata": {},
     "output_type": "execute_result"
    }
   ],
   "source": [
    "len(list(HeartDiseaseTree))"
   ]
  },
  {
   "cell_type": "code",
   "execution_count": 16,
   "metadata": {},
   "outputs": [],
   "source": [
    "HeartDisease = pd.DataFrame(HeartDiseaseTree)\n",
    "HeartDisease = HeartDisease.set_index('name')\n",
    "HeartDisease = HeartDisease.sort_values(\"ID\",ascending=True)"
   ]
  },
  {
   "cell_type": "code",
   "execution_count": 17,
   "metadata": {},
   "outputs": [
    {
     "data": {
      "text/html": [
       "<div>\n",
       "<style scoped>\n",
       "    .dataframe tbody tr th:only-of-type {\n",
       "        vertical-align: middle;\n",
       "    }\n",
       "\n",
       "    .dataframe tbody tr th {\n",
       "        vertical-align: top;\n",
       "    }\n",
       "\n",
       "    .dataframe thead th {\n",
       "        text-align: right;\n",
       "    }\n",
       "</style>\n",
       "<table border=\"1\" class=\"dataframe\">\n",
       "  <thead>\n",
       "    <tr style=\"text-align: right;\">\n",
       "      <th></th>\n",
       "      <th>ID</th>\n",
       "    </tr>\n",
       "    <tr>\n",
       "      <th>name</th>\n",
       "      <th></th>\n",
       "    </tr>\n",
       "  </thead>\n",
       "  <tbody>\n",
       "    <tr>\n",
       "      <th>Myocardial Ischemia</th>\n",
       "      <td>C14.280.647</td>\n",
       "    </tr>\n",
       "    <tr>\n",
       "      <th>Acute Coronary Syndrome</th>\n",
       "      <td>C14.280.647.124</td>\n",
       "    </tr>\n",
       "    <tr>\n",
       "      <th>Angina Pectoris</th>\n",
       "      <td>C14.280.647.187</td>\n",
       "    </tr>\n",
       "    <tr>\n",
       "      <th>Angina, Unstable</th>\n",
       "      <td>C14.280.647.187.150</td>\n",
       "    </tr>\n",
       "    <tr>\n",
       "      <th>Angina Pectoris, Variant</th>\n",
       "      <td>C14.280.647.187.150.150</td>\n",
       "    </tr>\n",
       "  </tbody>\n",
       "</table>\n",
       "</div>"
      ],
      "text/plain": [
       "                                               ID\n",
       "name                                             \n",
       "Myocardial Ischemia                   C14.280.647\n",
       "Acute Coronary Syndrome           C14.280.647.124\n",
       "Angina Pectoris                   C14.280.647.187\n",
       "Angina, Unstable              C14.280.647.187.150\n",
       "Angina Pectoris, Variant  C14.280.647.187.150.150"
      ]
     },
     "execution_count": 17,
     "metadata": {},
     "output_type": "execute_result"
    }
   ],
   "source": [
    "HeartDisease.head()"
   ]
  },
  {
   "cell_type": "code",
   "execution_count": 18,
   "metadata": {},
   "outputs": [],
   "source": [
    "HeartDisease.to_csv(\"heart_disease.csv\")"
   ]
  },
  {
   "cell_type": "markdown",
   "metadata": {},
   "source": [
    "- Outputs all associated MeSH IDs to ```csv``` file"
   ]
  }
 ],
 "metadata": {
  "kernelspec": {
   "display_name": "Python 3",
   "language": "python",
   "name": "python3"
  },
  "language_info": {
   "codemirror_mode": {
    "name": "ipython",
    "version": 3
   },
   "file_extension": ".py",
   "mimetype": "text/x-python",
   "name": "python",
   "nbconvert_exporter": "python",
   "pygments_lexer": "ipython3",
   "version": "3.6.6"
  }
 },
 "nbformat": 4,
 "nbformat_minor": 2
}
