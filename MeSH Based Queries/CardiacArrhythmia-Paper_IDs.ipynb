{
 "cells": [
  {
   "cell_type": "markdown",
   "metadata": {},
   "source": [
    "### MeSH Based Query Search"
   ]
  },
  {
   "cell_type": "markdown",
   "metadata": {},
   "source": [
    "In this notebook, we will discuss how to search documents based on the Disease described in the CVD tree."
   ]
  },
  {
   "cell_type": "code",
   "execution_count": 1,
   "metadata": {},
   "outputs": [],
   "source": [
    "import pandas as pd\n",
    "import json\n",
    "from neo4j import GraphDatabase\n",
    "import csv"
   ]
  },
  {
   "cell_type": "markdown",
   "metadata": {},
   "source": [
    "#### Authentication to access covidgraph.org graph"
   ]
  },
  {
   "cell_type": "code",
   "execution_count": 2,
   "metadata": {},
   "outputs": [],
   "source": [
    "covid_browser = \"https://covid.petesis.com:7473\"\n",
    "covid_url = \"bolt://covid.petesis.com:7687\"\n",
    "user = \"public\"\n",
    "password = \"corona\"\n",
    "\n",
    "#driver = GraphDatabase.driver(uri, auth=(user, password))\n",
    "driver = GraphDatabase.driver(uri = covid_url,\\\n",
    "                              auth = (user,password))"
   ]
  },
  {
   "cell_type": "markdown",
   "metadata": {},
   "source": [
    "#### MeSH descriptor to its entity list\n",
    "- Ex. ```C14.260.500: [syphilis, cardiovascular]```\n",
    "- Pandas Dataframe is very convenient for handeling a CSV file specifically for data transformation with ```lambda``` mapping functon."
   ]
  },
  {
   "cell_type": "code",
   "execution_count": 3,
   "metadata": {},
   "outputs": [
    {
     "data": {
      "text/html": [
       "<div>\n",
       "<style scoped>\n",
       "    .dataframe tbody tr th:only-of-type {\n",
       "        vertical-align: middle;\n",
       "    }\n",
       "\n",
       "    .dataframe tbody tr th {\n",
       "        vertical-align: top;\n",
       "    }\n",
       "\n",
       "    .dataframe thead th {\n",
       "        text-align: right;\n",
       "    }\n",
       "</style>\n",
       "<table border=\"1\" class=\"dataframe\">\n",
       "  <thead>\n",
       "    <tr style=\"text-align: right;\">\n",
       "      <th></th>\n",
       "      <th>name</th>\n",
       "    </tr>\n",
       "    <tr>\n",
       "      <th>ID</th>\n",
       "      <th></th>\n",
       "    </tr>\n",
       "  </thead>\n",
       "  <tbody>\n",
       "    <tr>\n",
       "      <th>C14.280.067</th>\n",
       "      <td>Arrhythmias, Cardiac</td>\n",
       "    </tr>\n",
       "    <tr>\n",
       "      <th>C14.280.067.093</th>\n",
       "      <td>Arrhythmia, Sinus</td>\n",
       "    </tr>\n",
       "    <tr>\n",
       "      <th>C14.280.067.093.249</th>\n",
       "      <td>Sick Sinus Syndrome</td>\n",
       "    </tr>\n",
       "    <tr>\n",
       "      <th>C14.280.067.093.500</th>\n",
       "      <td>Sinus Arrest, Cardiac</td>\n",
       "    </tr>\n",
       "    <tr>\n",
       "      <th>C14.280.067.198</th>\n",
       "      <td>Atrial Fibrillation</td>\n",
       "    </tr>\n",
       "  </tbody>\n",
       "</table>\n",
       "</div>"
      ],
      "text/plain": [
       "                                      name\n",
       "ID                                        \n",
       "C14.280.067           Arrhythmias, Cardiac\n",
       "C14.280.067.093          Arrhythmia, Sinus\n",
       "C14.280.067.093.249    Sick Sinus Syndrome\n",
       "C14.280.067.093.500  Sinus Arrest, Cardiac\n",
       "C14.280.067.198        Atrial Fibrillation"
      ]
     },
     "execution_count": 3,
     "metadata": {},
     "output_type": "execute_result"
    }
   ],
   "source": [
    "MeSH = pd.read_csv(\"../Input/mesh/cardiac_arrhythmia.csv\")\n",
    "MeSH = MeSH.set_index('ID')\n",
    "MeSH.head()"
   ]
  },
  {
   "cell_type": "markdown",
   "metadata": {},
   "source": [
    "- Implementing ```lambda``` function to map one column to another column"
   ]
  },
  {
   "cell_type": "code",
   "execution_count": 4,
   "metadata": {},
   "outputs": [],
   "source": [
    "MeSH['phrases'] = MeSH['name'].apply(lambda x: x.lower().strip())"
   ]
  },
  {
   "cell_type": "code",
   "execution_count": 5,
   "metadata": {},
   "outputs": [
    {
     "data": {
      "text/html": [
       "<div>\n",
       "<style scoped>\n",
       "    .dataframe tbody tr th:only-of-type {\n",
       "        vertical-align: middle;\n",
       "    }\n",
       "\n",
       "    .dataframe tbody tr th {\n",
       "        vertical-align: top;\n",
       "    }\n",
       "\n",
       "    .dataframe thead th {\n",
       "        text-align: right;\n",
       "    }\n",
       "</style>\n",
       "<table border=\"1\" class=\"dataframe\">\n",
       "  <thead>\n",
       "    <tr style=\"text-align: right;\">\n",
       "      <th></th>\n",
       "      <th>name</th>\n",
       "      <th>phrases</th>\n",
       "    </tr>\n",
       "    <tr>\n",
       "      <th>ID</th>\n",
       "      <th></th>\n",
       "      <th></th>\n",
       "    </tr>\n",
       "  </thead>\n",
       "  <tbody>\n",
       "    <tr>\n",
       "      <th>C14.280.067</th>\n",
       "      <td>Arrhythmias, Cardiac</td>\n",
       "      <td>arrhythmias, cardiac</td>\n",
       "    </tr>\n",
       "    <tr>\n",
       "      <th>C14.280.067.093</th>\n",
       "      <td>Arrhythmia, Sinus</td>\n",
       "      <td>arrhythmia, sinus</td>\n",
       "    </tr>\n",
       "    <tr>\n",
       "      <th>C14.280.067.093.249</th>\n",
       "      <td>Sick Sinus Syndrome</td>\n",
       "      <td>sick sinus syndrome</td>\n",
       "    </tr>\n",
       "    <tr>\n",
       "      <th>C14.280.067.093.500</th>\n",
       "      <td>Sinus Arrest, Cardiac</td>\n",
       "      <td>sinus arrest, cardiac</td>\n",
       "    </tr>\n",
       "    <tr>\n",
       "      <th>C14.280.067.198</th>\n",
       "      <td>Atrial Fibrillation</td>\n",
       "      <td>atrial fibrillation</td>\n",
       "    </tr>\n",
       "  </tbody>\n",
       "</table>\n",
       "</div>"
      ],
      "text/plain": [
       "                                      name                phrases\n",
       "ID                                                               \n",
       "C14.280.067           Arrhythmias, Cardiac   arrhythmias, cardiac\n",
       "C14.280.067.093          Arrhythmia, Sinus      arrhythmia, sinus\n",
       "C14.280.067.093.249    Sick Sinus Syndrome    sick sinus syndrome\n",
       "C14.280.067.093.500  Sinus Arrest, Cardiac  sinus arrest, cardiac\n",
       "C14.280.067.198        Atrial Fibrillation    atrial fibrillation"
      ]
     },
     "execution_count": 5,
     "metadata": {},
     "output_type": "execute_result"
    }
   ],
   "source": [
    "MeSH.head()"
   ]
  },
  {
   "cell_type": "code",
   "execution_count": 6,
   "metadata": {},
   "outputs": [],
   "source": [
    "MeSH['phrases'] = MeSH['phrases'].apply(lambda x:x.split(','))"
   ]
  },
  {
   "cell_type": "code",
   "execution_count": 7,
   "metadata": {},
   "outputs": [
    {
     "data": {
      "text/html": [
       "<div>\n",
       "<style scoped>\n",
       "    .dataframe tbody tr th:only-of-type {\n",
       "        vertical-align: middle;\n",
       "    }\n",
       "\n",
       "    .dataframe tbody tr th {\n",
       "        vertical-align: top;\n",
       "    }\n",
       "\n",
       "    .dataframe thead th {\n",
       "        text-align: right;\n",
       "    }\n",
       "</style>\n",
       "<table border=\"1\" class=\"dataframe\">\n",
       "  <thead>\n",
       "    <tr style=\"text-align: right;\">\n",
       "      <th></th>\n",
       "      <th>name</th>\n",
       "      <th>phrases</th>\n",
       "    </tr>\n",
       "    <tr>\n",
       "      <th>ID</th>\n",
       "      <th></th>\n",
       "      <th></th>\n",
       "    </tr>\n",
       "  </thead>\n",
       "  <tbody>\n",
       "    <tr>\n",
       "      <th>C14.280.067</th>\n",
       "      <td>Arrhythmias, Cardiac</td>\n",
       "      <td>[arrhythmias,  cardiac]</td>\n",
       "    </tr>\n",
       "    <tr>\n",
       "      <th>C14.280.067.093</th>\n",
       "      <td>Arrhythmia, Sinus</td>\n",
       "      <td>[arrhythmia,  sinus]</td>\n",
       "    </tr>\n",
       "    <tr>\n",
       "      <th>C14.280.067.093.249</th>\n",
       "      <td>Sick Sinus Syndrome</td>\n",
       "      <td>[sick sinus syndrome]</td>\n",
       "    </tr>\n",
       "    <tr>\n",
       "      <th>C14.280.067.093.500</th>\n",
       "      <td>Sinus Arrest, Cardiac</td>\n",
       "      <td>[sinus arrest,  cardiac]</td>\n",
       "    </tr>\n",
       "    <tr>\n",
       "      <th>C14.280.067.198</th>\n",
       "      <td>Atrial Fibrillation</td>\n",
       "      <td>[atrial fibrillation]</td>\n",
       "    </tr>\n",
       "  </tbody>\n",
       "</table>\n",
       "</div>"
      ],
      "text/plain": [
       "                                      name                   phrases\n",
       "ID                                                                  \n",
       "C14.280.067           Arrhythmias, Cardiac   [arrhythmias,  cardiac]\n",
       "C14.280.067.093          Arrhythmia, Sinus      [arrhythmia,  sinus]\n",
       "C14.280.067.093.249    Sick Sinus Syndrome     [sick sinus syndrome]\n",
       "C14.280.067.093.500  Sinus Arrest, Cardiac  [sinus arrest,  cardiac]\n",
       "C14.280.067.198        Atrial Fibrillation     [atrial fibrillation]"
      ]
     },
     "execution_count": 7,
     "metadata": {},
     "output_type": "execute_result"
    }
   ],
   "source": [
    "MeSH.head()"
   ]
  },
  {
   "cell_type": "code",
   "execution_count": 8,
   "metadata": {},
   "outputs": [
    {
     "data": {
      "text/plain": [
       "'C14.280.067'"
      ]
     },
     "execution_count": 8,
     "metadata": {},
     "output_type": "execute_result"
    }
   ],
   "source": [
    "MeSH.index[0]"
   ]
  },
  {
   "cell_type": "code",
   "execution_count": 9,
   "metadata": {},
   "outputs": [],
   "source": [
    "id2name = {}\n",
    "for ID,name in zip(MeSH.index, MeSH['name']):\n",
    "    id2name.update({ID:name})\n",
    "    \n",
    "with open(\"../Data/mesh/statistics/cardiacarrhythmia_id2name.json\", 'w') as wf:\n",
    "    json.dump(id2name,wf)"
   ]
  },
  {
   "cell_type": "markdown",
   "metadata": {},
   "source": [
    "#### MeSH to Doc Mapping\n",
    "- Create a dictionary where the key is a MeSH descriptor, and the value is a list of papers (publications) that contains mention of the MeSH terms in its body text\n",
    "- Each paper is represented as dictionary linking each attribute name in the paper (cord_uid, journal, title, etc.) with its actual information"
   ]
  },
  {
   "cell_type": "markdown",
   "metadata": {},
   "source": [
    "##### Example of a paper node in the covid graph"
   ]
  },
  {
   "cell_type": "code",
   "execution_count": 10,
   "metadata": {},
   "outputs": [
    {
     "name": "stdout",
     "output_type": "stream",
     "text": [
      "<Record n=<Node id=2385529 labels={'Paper'} properties={'cord_uid': 'ocp6yodg', 'cord19-fulltext_hash': 'b8957d48b6bcf17b7b51e004d19314ce77f653a1', 'journal': 'BMC Infect Dis', 'publish_time': '2011-12-28', 'source': 'PMC', 'title': 'Timeliness of contact tracing among flight passengers for influenza A/H1N1 2009', '_hash_id': '84b069ab23fb0ecebe6925af9c2b18ae', 'url': 'https://www.ncbi.nlm.nih.gov/pmc/articles/PMC3265549/'}>>\n"
     ]
    }
   ],
   "source": [
    "paper_query = \"MATCH (n:Paper) RETURN n LIMIT 1\"\n",
    "Data = []\n",
    "with driver.session() as session:\n",
    "    info = session.run(paper_query)\n",
    "    for item in info:\n",
    "        print(item)"
   ]
  },
  {
   "cell_type": "markdown",
   "metadata": {},
   "source": [
    "#### Writes data to file"
   ]
  },
  {
   "cell_type": "code",
   "execution_count": 11,
   "metadata": {},
   "outputs": [],
   "source": [
    "MeSH_to_result = {}\n",
    "MeSH_number = {}\n",
    "for desc, entities in zip(MeSH.index, MeSH['phrases']):\n",
    "    #Builds each part of the query based on the MeSH descriptor entity list\n",
    "    query = \"MATCH (p:Paper)-[:PAPER_HAS_BODYTEXTCOLLECTION]-(:BodyTextCollection)-\" \\\n",
    "                                        \"[:BODYTEXTCOLLECTION_HAS_BODYTEXT]-(a:BodyText) WHERE (\"\n",
    "    for i in range(len(entities)):\n",
    "        if i == len(entities)-1:\n",
    "            query += \"LOWER(a.text) CONTAINS '\" + entities[i] + \"') RETURN DISTINCT p\"\n",
    "        else:\n",
    "            query += \"LOWER(a.text) CONTAINS '\" + entities[i] + \"' AND \"\n",
    "\n",
    "    MeSH_result = []\n",
    "        \n",
    "    with driver.session() as session:\n",
    "        info = session.run(query)\n",
    "        for item in info:\n",
    "            try:\n",
    "                node_keys = list((item.values(0)[0]).keys())\n",
    "                node_values = list((item.values(0)[0]).values())\n",
    "                paper = {}\n",
    "                for i in range(len(node_keys)):\n",
    "                    if (node_keys[i] == 'cord_uid'):\n",
    "                        MeSH_result.append(node_values[i])\n",
    "            except:\n",
    "                continue\n",
    "    \n",
    "    try:\n",
    "        name = id2name[desc]\n",
    "        MeSH_to_result[name] = MeSH_result\n",
    "        MeSH_number[desc] = len(MeSH_result)\n",
    "    except:\n",
    "        continue"
   ]
  },
  {
   "cell_type": "code",
   "execution_count": 12,
   "metadata": {},
   "outputs": [],
   "source": [
    "ff = open(\"../Data/mesh/cardiac_arrhythmia_paper_ids.json\", 'w')\n",
    "\n",
    "json.dump(MeSH_to_result, ff)\n",
    "\n",
    "ff.close()"
   ]
  },
  {
   "cell_type": "code",
   "execution_count": 13,
   "metadata": {},
   "outputs": [
    {
     "data": {
      "text/plain": [
       "dict_items([('C14.280.067', 51), ('C14.280.067.093', 15), ('C14.280.067.093.249', 5), ('C14.280.067.093.500', 1), ('C14.280.067.198', 55), ('C14.280.067.248', 7), ('C14.280.067.319', 53), ('C14.280.067.322', 3), ('C14.280.067.325', 0), ('C14.280.067.325.250', 0), ('C14.280.067.325.500', 2), ('C14.280.067.441', 1), ('C14.280.067.558', 4), ('C14.280.067.558.137', 0), ('C14.280.067.558.230', 8), ('C14.280.067.558.323', 1), ('C14.280.067.558.430', 0), ('C14.280.067.558.536', 5), ('C14.280.067.558.750', 0), ('C14.280.067.565', 2), ('C14.280.067.565.070', 0), ('C14.280.067.565.440', 0), ('C14.280.067.565.720', 0), ('C14.280.067.672', 0), ('C14.280.067.780', 0), ('C14.280.067.780.560', 0), ('C14.280.067.780.770', 0), ('C14.280.067.780.977', 1), ('C14.280.067.845', 118), ('C14.280.067.845.695', 6), ('C14.280.067.845.787', 0), ('C14.280.067.845.787.249', 0), ('C14.280.067.845.787.500', 0), ('C14.280.067.845.880', 10), ('C14.280.067.845.880.315', 0), ('C14.280.067.845.880.320', 0), ('C14.280.067.845.880.845', 21), ('C14.280.067.845.940', 32), ('C14.280.067.845.940.349', 0), ('C14.280.067.845.940.700', 7), ('C14.280.067.922', 28), ('C14.280.067.961', 0)])"
      ]
     },
     "execution_count": 13,
     "metadata": {},
     "output_type": "execute_result"
    }
   ],
   "source": [
    "MeSH_number.items()"
   ]
  },
  {
   "cell_type": "code",
   "execution_count": null,
   "metadata": {},
   "outputs": [],
   "source": []
  }
 ],
 "metadata": {
  "kernelspec": {
   "display_name": "Python 3",
   "language": "python",
   "name": "python3"
  },
  "language_info": {
   "codemirror_mode": {
    "name": "ipython",
    "version": 3
   },
   "file_extension": ".py",
   "mimetype": "text/x-python",
   "name": "python",
   "nbconvert_exporter": "python",
   "pygments_lexer": "ipython3",
   "version": "3.6.6"
  }
 },
 "nbformat": 4,
 "nbformat_minor": 2
}
