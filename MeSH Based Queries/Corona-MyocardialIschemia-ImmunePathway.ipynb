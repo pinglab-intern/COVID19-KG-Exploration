{
 "cells": [
  {
   "cell_type": "markdown",
   "metadata": {},
   "source": [
    "### MeSH Based Query Search"
   ]
  },
  {
   "cell_type": "markdown",
   "metadata": {},
   "source": [
    "In this notebook, we will discuss how to search documents based on the Disease described in the CVD tree."
   ]
  },
  {
   "cell_type": "code",
   "execution_count": 63,
   "metadata": {},
   "outputs": [],
   "source": [
    "import pandas as pd\n",
    "import json\n",
    "from neo4j import GraphDatabase\n",
    "import csv"
   ]
  },
  {
   "cell_type": "markdown",
   "metadata": {},
   "source": [
    "#### Authentication to access covidgraph.org graph"
   ]
  },
  {
   "cell_type": "code",
   "execution_count": 2,
   "metadata": {},
   "outputs": [],
   "source": [
    "covid_browser = \"https://covid.petesis.com:7473\"\n",
    "covid_url = \"bolt://covid.petesis.com:7687\"\n",
    "user = \"public\"\n",
    "password = \"corona\"\n",
    "\n",
    "#driver = GraphDatabase.driver(uri, auth=(user, password))\n",
    "driver = GraphDatabase.driver(uri = covid_url,\\\n",
    "                              auth = (user,password))"
   ]
  },
  {
   "cell_type": "markdown",
   "metadata": {},
   "source": [
    "#### MeSH descriptor to its entity list\n",
    "- Ex. ```C01.925.782.600.550.200.360: [feline infectious peritonitis]```\n",
    "- Pandas Dataframe is very convenient for handeling a CSV file specifically for data transformation with ```lambda``` mapping functon."
   ]
  },
  {
   "cell_type": "markdown",
   "metadata": {},
   "source": [
    "First obtain MeSH terms related to corona"
   ]
  },
  {
   "cell_type": "code",
   "execution_count": 12,
   "metadata": {},
   "outputs": [
    {
     "data": {
      "text/html": [
       "<div>\n",
       "<style scoped>\n",
       "    .dataframe tbody tr th:only-of-type {\n",
       "        vertical-align: middle;\n",
       "    }\n",
       "\n",
       "    .dataframe tbody tr th {\n",
       "        vertical-align: top;\n",
       "    }\n",
       "\n",
       "    .dataframe thead th {\n",
       "        text-align: right;\n",
       "    }\n",
       "</style>\n",
       "<table border=\"1\" class=\"dataframe\">\n",
       "  <thead>\n",
       "    <tr style=\"text-align: right;\">\n",
       "      <th></th>\n",
       "      <th>name</th>\n",
       "    </tr>\n",
       "    <tr>\n",
       "      <th>ID</th>\n",
       "      <th></th>\n",
       "    </tr>\n",
       "  </thead>\n",
       "  <tbody>\n",
       "    <tr>\n",
       "      <th>C01.925.782.600.550.200</th>\n",
       "      <td>Coronavirus Infections</td>\n",
       "    </tr>\n",
       "    <tr>\n",
       "      <th>C01.925.782.600.550.200.325</th>\n",
       "      <td>Enteritis, Transmissible, of Turkeys</td>\n",
       "    </tr>\n",
       "    <tr>\n",
       "      <th>C01.925.782.600.550.200.360</th>\n",
       "      <td>Feline Infectious Peritonitis</td>\n",
       "    </tr>\n",
       "    <tr>\n",
       "      <th>C01.925.782.600.550.200.400</th>\n",
       "      <td>Gastroenteritis, Transmissible, of Swine</td>\n",
       "    </tr>\n",
       "    <tr>\n",
       "      <th>C01.925.782.600.550.200.750</th>\n",
       "      <td>Severe Acute Respiratory Syndrome</td>\n",
       "    </tr>\n",
       "  </tbody>\n",
       "</table>\n",
       "</div>"
      ],
      "text/plain": [
       "                                                                 name\n",
       "ID                                                                   \n",
       "C01.925.782.600.550.200                        Coronavirus Infections\n",
       "C01.925.782.600.550.200.325      Enteritis, Transmissible, of Turkeys\n",
       "C01.925.782.600.550.200.360             Feline Infectious Peritonitis\n",
       "C01.925.782.600.550.200.400  Gastroenteritis, Transmissible, of Swine\n",
       "C01.925.782.600.550.200.750         Severe Acute Respiratory Syndrome"
      ]
     },
     "execution_count": 12,
     "metadata": {},
     "output_type": "execute_result"
    }
   ],
   "source": [
    "MeSH_corona = pd.read_csv(\"input/mesh/corona.csv\")\n",
    "MeSH_corona = MeSH_corona.set_index('ID')\n",
    "MeSH_corona.head()"
   ]
  },
  {
   "cell_type": "markdown",
   "metadata": {},
   "source": [
    "- Implementing ```lambda``` function to map one column to another column"
   ]
  },
  {
   "cell_type": "code",
   "execution_count": 13,
   "metadata": {},
   "outputs": [],
   "source": [
    "MeSH_corona['phrases'] = MeSH_corona['name'].apply(lambda x: x.lower().strip())"
   ]
  },
  {
   "cell_type": "code",
   "execution_count": 14,
   "metadata": {},
   "outputs": [
    {
     "data": {
      "text/html": [
       "<div>\n",
       "<style scoped>\n",
       "    .dataframe tbody tr th:only-of-type {\n",
       "        vertical-align: middle;\n",
       "    }\n",
       "\n",
       "    .dataframe tbody tr th {\n",
       "        vertical-align: top;\n",
       "    }\n",
       "\n",
       "    .dataframe thead th {\n",
       "        text-align: right;\n",
       "    }\n",
       "</style>\n",
       "<table border=\"1\" class=\"dataframe\">\n",
       "  <thead>\n",
       "    <tr style=\"text-align: right;\">\n",
       "      <th></th>\n",
       "      <th>name</th>\n",
       "      <th>phrases</th>\n",
       "    </tr>\n",
       "    <tr>\n",
       "      <th>ID</th>\n",
       "      <th></th>\n",
       "      <th></th>\n",
       "    </tr>\n",
       "  </thead>\n",
       "  <tbody>\n",
       "    <tr>\n",
       "      <th>C01.925.782.600.550.200</th>\n",
       "      <td>Coronavirus Infections</td>\n",
       "      <td>coronavirus infections</td>\n",
       "    </tr>\n",
       "    <tr>\n",
       "      <th>C01.925.782.600.550.200.325</th>\n",
       "      <td>Enteritis, Transmissible, of Turkeys</td>\n",
       "      <td>enteritis, transmissible, of turkeys</td>\n",
       "    </tr>\n",
       "    <tr>\n",
       "      <th>C01.925.782.600.550.200.360</th>\n",
       "      <td>Feline Infectious Peritonitis</td>\n",
       "      <td>feline infectious peritonitis</td>\n",
       "    </tr>\n",
       "    <tr>\n",
       "      <th>C01.925.782.600.550.200.400</th>\n",
       "      <td>Gastroenteritis, Transmissible, of Swine</td>\n",
       "      <td>gastroenteritis, transmissible, of swine</td>\n",
       "    </tr>\n",
       "    <tr>\n",
       "      <th>C01.925.782.600.550.200.750</th>\n",
       "      <td>Severe Acute Respiratory Syndrome</td>\n",
       "      <td>severe acute respiratory syndrome</td>\n",
       "    </tr>\n",
       "  </tbody>\n",
       "</table>\n",
       "</div>"
      ],
      "text/plain": [
       "                                                                 name  \\\n",
       "ID                                                                      \n",
       "C01.925.782.600.550.200                        Coronavirus Infections   \n",
       "C01.925.782.600.550.200.325      Enteritis, Transmissible, of Turkeys   \n",
       "C01.925.782.600.550.200.360             Feline Infectious Peritonitis   \n",
       "C01.925.782.600.550.200.400  Gastroenteritis, Transmissible, of Swine   \n",
       "C01.925.782.600.550.200.750         Severe Acute Respiratory Syndrome   \n",
       "\n",
       "                                                              phrases  \n",
       "ID                                                                     \n",
       "C01.925.782.600.550.200                        coronavirus infections  \n",
       "C01.925.782.600.550.200.325      enteritis, transmissible, of turkeys  \n",
       "C01.925.782.600.550.200.360             feline infectious peritonitis  \n",
       "C01.925.782.600.550.200.400  gastroenteritis, transmissible, of swine  \n",
       "C01.925.782.600.550.200.750         severe acute respiratory syndrome  "
      ]
     },
     "execution_count": 14,
     "metadata": {},
     "output_type": "execute_result"
    }
   ],
   "source": [
    "MeSH_corona.head()"
   ]
  },
  {
   "cell_type": "code",
   "execution_count": 15,
   "metadata": {},
   "outputs": [],
   "source": [
    "MeSH_corona['phrases'] = MeSH_corona['phrases'].apply(lambda x:x.split(','))"
   ]
  },
  {
   "cell_type": "code",
   "execution_count": 16,
   "metadata": {},
   "outputs": [
    {
     "data": {
      "text/html": [
       "<div>\n",
       "<style scoped>\n",
       "    .dataframe tbody tr th:only-of-type {\n",
       "        vertical-align: middle;\n",
       "    }\n",
       "\n",
       "    .dataframe tbody tr th {\n",
       "        vertical-align: top;\n",
       "    }\n",
       "\n",
       "    .dataframe thead th {\n",
       "        text-align: right;\n",
       "    }\n",
       "</style>\n",
       "<table border=\"1\" class=\"dataframe\">\n",
       "  <thead>\n",
       "    <tr style=\"text-align: right;\">\n",
       "      <th></th>\n",
       "      <th>name</th>\n",
       "      <th>phrases</th>\n",
       "    </tr>\n",
       "    <tr>\n",
       "      <th>ID</th>\n",
       "      <th></th>\n",
       "      <th></th>\n",
       "    </tr>\n",
       "  </thead>\n",
       "  <tbody>\n",
       "    <tr>\n",
       "      <th>C01.925.782.600.550.200</th>\n",
       "      <td>Coronavirus Infections</td>\n",
       "      <td>[coronavirus infections]</td>\n",
       "    </tr>\n",
       "    <tr>\n",
       "      <th>C01.925.782.600.550.200.325</th>\n",
       "      <td>Enteritis, Transmissible, of Turkeys</td>\n",
       "      <td>[enteritis,  transmissible,  of turkeys]</td>\n",
       "    </tr>\n",
       "    <tr>\n",
       "      <th>C01.925.782.600.550.200.360</th>\n",
       "      <td>Feline Infectious Peritonitis</td>\n",
       "      <td>[feline infectious peritonitis]</td>\n",
       "    </tr>\n",
       "    <tr>\n",
       "      <th>C01.925.782.600.550.200.400</th>\n",
       "      <td>Gastroenteritis, Transmissible, of Swine</td>\n",
       "      <td>[gastroenteritis,  transmissible,  of swine]</td>\n",
       "    </tr>\n",
       "    <tr>\n",
       "      <th>C01.925.782.600.550.200.750</th>\n",
       "      <td>Severe Acute Respiratory Syndrome</td>\n",
       "      <td>[severe acute respiratory syndrome]</td>\n",
       "    </tr>\n",
       "  </tbody>\n",
       "</table>\n",
       "</div>"
      ],
      "text/plain": [
       "                                                                 name  \\\n",
       "ID                                                                      \n",
       "C01.925.782.600.550.200                        Coronavirus Infections   \n",
       "C01.925.782.600.550.200.325      Enteritis, Transmissible, of Turkeys   \n",
       "C01.925.782.600.550.200.360             Feline Infectious Peritonitis   \n",
       "C01.925.782.600.550.200.400  Gastroenteritis, Transmissible, of Swine   \n",
       "C01.925.782.600.550.200.750         Severe Acute Respiratory Syndrome   \n",
       "\n",
       "                                                                  phrases  \n",
       "ID                                                                         \n",
       "C01.925.782.600.550.200                          [coronavirus infections]  \n",
       "C01.925.782.600.550.200.325      [enteritis,  transmissible,  of turkeys]  \n",
       "C01.925.782.600.550.200.360               [feline infectious peritonitis]  \n",
       "C01.925.782.600.550.200.400  [gastroenteritis,  transmissible,  of swine]  \n",
       "C01.925.782.600.550.200.750           [severe acute respiratory syndrome]  "
      ]
     },
     "execution_count": 16,
     "metadata": {},
     "output_type": "execute_result"
    }
   ],
   "source": [
    "MeSH_corona.head()"
   ]
  },
  {
   "cell_type": "markdown",
   "metadata": {},
   "source": [
    "Obtaining terms related to heart disease"
   ]
  },
  {
   "cell_type": "code",
   "execution_count": 17,
   "metadata": {},
   "outputs": [
    {
     "data": {
      "text/html": [
       "<div>\n",
       "<style scoped>\n",
       "    .dataframe tbody tr th:only-of-type {\n",
       "        vertical-align: middle;\n",
       "    }\n",
       "\n",
       "    .dataframe tbody tr th {\n",
       "        vertical-align: top;\n",
       "    }\n",
       "\n",
       "    .dataframe thead th {\n",
       "        text-align: right;\n",
       "    }\n",
       "</style>\n",
       "<table border=\"1\" class=\"dataframe\">\n",
       "  <thead>\n",
       "    <tr style=\"text-align: right;\">\n",
       "      <th></th>\n",
       "      <th>name</th>\n",
       "    </tr>\n",
       "    <tr>\n",
       "      <th>ID</th>\n",
       "      <th></th>\n",
       "    </tr>\n",
       "  </thead>\n",
       "  <tbody>\n",
       "    <tr>\n",
       "      <th>C14.280.647</th>\n",
       "      <td>Myocardial Ischemia</td>\n",
       "    </tr>\n",
       "    <tr>\n",
       "      <th>C14.280.647.124</th>\n",
       "      <td>Acute Coronary Syndrome</td>\n",
       "    </tr>\n",
       "    <tr>\n",
       "      <th>C14.280.647.187</th>\n",
       "      <td>Angina Pectoris</td>\n",
       "    </tr>\n",
       "    <tr>\n",
       "      <th>C14.280.647.187.150</th>\n",
       "      <td>Angina, Unstable</td>\n",
       "    </tr>\n",
       "    <tr>\n",
       "      <th>C14.280.647.187.150.150</th>\n",
       "      <td>Angina Pectoris, Variant</td>\n",
       "    </tr>\n",
       "  </tbody>\n",
       "</table>\n",
       "</div>"
      ],
      "text/plain": [
       "                                             name\n",
       "ID                                               \n",
       "C14.280.647                   Myocardial Ischemia\n",
       "C14.280.647.124           Acute Coronary Syndrome\n",
       "C14.280.647.187                   Angina Pectoris\n",
       "C14.280.647.187.150              Angina, Unstable\n",
       "C14.280.647.187.150.150  Angina Pectoris, Variant"
      ]
     },
     "execution_count": 17,
     "metadata": {},
     "output_type": "execute_result"
    }
   ],
   "source": [
    "MeSH_heart = pd.read_csv(\"input/mesh/heart_disease.csv\")\n",
    "MeSH_heart = MeSH_heart.set_index('ID')\n",
    "MeSH_heart.head()"
   ]
  },
  {
   "cell_type": "markdown",
   "metadata": {},
   "source": [
    "- Implementing ```lambda``` function to map one column to another column"
   ]
  },
  {
   "cell_type": "code",
   "execution_count": 18,
   "metadata": {},
   "outputs": [],
   "source": [
    "MeSH_heart['phrases'] = MeSH_heart['name'].apply(lambda x: x.lower().strip())"
   ]
  },
  {
   "cell_type": "code",
   "execution_count": 19,
   "metadata": {},
   "outputs": [],
   "source": [
    "MeSH_heart['phrases'] = MeSH_heart['phrases'].apply(lambda x:x.split(','))"
   ]
  },
  {
   "cell_type": "code",
   "execution_count": 20,
   "metadata": {},
   "outputs": [
    {
     "data": {
      "text/html": [
       "<div>\n",
       "<style scoped>\n",
       "    .dataframe tbody tr th:only-of-type {\n",
       "        vertical-align: middle;\n",
       "    }\n",
       "\n",
       "    .dataframe tbody tr th {\n",
       "        vertical-align: top;\n",
       "    }\n",
       "\n",
       "    .dataframe thead th {\n",
       "        text-align: right;\n",
       "    }\n",
       "</style>\n",
       "<table border=\"1\" class=\"dataframe\">\n",
       "  <thead>\n",
       "    <tr style=\"text-align: right;\">\n",
       "      <th></th>\n",
       "      <th>name</th>\n",
       "      <th>phrases</th>\n",
       "    </tr>\n",
       "    <tr>\n",
       "      <th>ID</th>\n",
       "      <th></th>\n",
       "      <th></th>\n",
       "    </tr>\n",
       "  </thead>\n",
       "  <tbody>\n",
       "    <tr>\n",
       "      <th>C14.280.647</th>\n",
       "      <td>Myocardial Ischemia</td>\n",
       "      <td>[myocardial ischemia]</td>\n",
       "    </tr>\n",
       "    <tr>\n",
       "      <th>C14.280.647.124</th>\n",
       "      <td>Acute Coronary Syndrome</td>\n",
       "      <td>[acute coronary syndrome]</td>\n",
       "    </tr>\n",
       "    <tr>\n",
       "      <th>C14.280.647.187</th>\n",
       "      <td>Angina Pectoris</td>\n",
       "      <td>[angina pectoris]</td>\n",
       "    </tr>\n",
       "    <tr>\n",
       "      <th>C14.280.647.187.150</th>\n",
       "      <td>Angina, Unstable</td>\n",
       "      <td>[angina,  unstable]</td>\n",
       "    </tr>\n",
       "    <tr>\n",
       "      <th>C14.280.647.187.150.150</th>\n",
       "      <td>Angina Pectoris, Variant</td>\n",
       "      <td>[angina pectoris,  variant]</td>\n",
       "    </tr>\n",
       "  </tbody>\n",
       "</table>\n",
       "</div>"
      ],
      "text/plain": [
       "                                             name                      phrases\n",
       "ID                                                                            \n",
       "C14.280.647                   Myocardial Ischemia        [myocardial ischemia]\n",
       "C14.280.647.124           Acute Coronary Syndrome    [acute coronary syndrome]\n",
       "C14.280.647.187                   Angina Pectoris            [angina pectoris]\n",
       "C14.280.647.187.150              Angina, Unstable          [angina,  unstable]\n",
       "C14.280.647.187.150.150  Angina Pectoris, Variant  [angina pectoris,  variant]"
      ]
     },
     "execution_count": 20,
     "metadata": {},
     "output_type": "execute_result"
    }
   ],
   "source": [
    "MeSH_heart.head()"
   ]
  },
  {
   "cell_type": "markdown",
   "metadata": {},
   "source": [
    "Obtaining immune system pathway terms"
   ]
  },
  {
   "cell_type": "code",
   "execution_count": 79,
   "metadata": {},
   "outputs": [
    {
     "data": {
      "text/html": [
       "<div>\n",
       "<style scoped>\n",
       "    .dataframe tbody tr th:only-of-type {\n",
       "        vertical-align: middle;\n",
       "    }\n",
       "\n",
       "    .dataframe tbody tr th {\n",
       "        vertical-align: top;\n",
       "    }\n",
       "\n",
       "    .dataframe thead th {\n",
       "        text-align: right;\n",
       "    }\n",
       "</style>\n",
       "<table border=\"1\" class=\"dataframe\">\n",
       "  <thead>\n",
       "    <tr style=\"text-align: right;\">\n",
       "      <th></th>\n",
       "      <th>name</th>\n",
       "      <th>species</th>\n",
       "    </tr>\n",
       "    <tr>\n",
       "      <th>RID</th>\n",
       "      <th></th>\n",
       "      <th></th>\n",
       "    </tr>\n",
       "  </thead>\n",
       "  <tbody>\n",
       "    <tr>\n",
       "      <th>R-HSA-983170</th>\n",
       "      <td>Antigen Presentation: Folding, assembly and pe...</td>\n",
       "      <td>Homo sapiens</td>\n",
       "    </tr>\n",
       "    <tr>\n",
       "      <th>R-HSA-983695</th>\n",
       "      <td>Antigen activates B Cell Receptor (BCR) leadin...</td>\n",
       "      <td>Homo sapiens</td>\n",
       "    </tr>\n",
       "    <tr>\n",
       "      <th>R-HSA-1236975</th>\n",
       "      <td>Antigen processing-Cross presentation</td>\n",
       "      <td>Homo sapiens</td>\n",
       "    </tr>\n",
       "    <tr>\n",
       "      <th>R-HSA-983168</th>\n",
       "      <td>Antigen processing: Ubiquitination &amp; Proteasom...</td>\n",
       "      <td>Homo sapiens</td>\n",
       "    </tr>\n",
       "    <tr>\n",
       "      <th>R-HSA-8851680</th>\n",
       "      <td>Butyrophilin (BTN) family interactions</td>\n",
       "      <td>Homo sapiens</td>\n",
       "    </tr>\n",
       "  </tbody>\n",
       "</table>\n",
       "</div>"
      ],
      "text/plain": [
       "                                                            name       species\n",
       "RID                                                                           \n",
       "R-HSA-983170   Antigen Presentation: Folding, assembly and pe...  Homo sapiens\n",
       "R-HSA-983695   Antigen activates B Cell Receptor (BCR) leadin...  Homo sapiens\n",
       "R-HSA-1236975              Antigen processing-Cross presentation  Homo sapiens\n",
       "R-HSA-983168   Antigen processing: Ubiquitination & Proteasom...  Homo sapiens\n",
       "R-HSA-8851680             Butyrophilin (BTN) family interactions  Homo sapiens"
      ]
     },
     "execution_count": 79,
     "metadata": {},
     "output_type": "execute_result"
    }
   ],
   "source": [
    "MeSH_immune = pd.read_csv(\"input/pathways/immune_system_pathways.csv\", index_col=0)\n",
    "MeSH_immune = MeSH_immune.set_index('RID')\n",
    "MeSH_immune.head()"
   ]
  },
  {
   "cell_type": "code",
   "execution_count": 80,
   "metadata": {},
   "outputs": [
    {
     "data": {
      "text/html": [
       "<div>\n",
       "<style scoped>\n",
       "    .dataframe tbody tr th:only-of-type {\n",
       "        vertical-align: middle;\n",
       "    }\n",
       "\n",
       "    .dataframe tbody tr th {\n",
       "        vertical-align: top;\n",
       "    }\n",
       "\n",
       "    .dataframe thead th {\n",
       "        text-align: right;\n",
       "    }\n",
       "</style>\n",
       "<table border=\"1\" class=\"dataframe\">\n",
       "  <thead>\n",
       "    <tr style=\"text-align: right;\">\n",
       "      <th></th>\n",
       "      <th>name</th>\n",
       "    </tr>\n",
       "    <tr>\n",
       "      <th>RID</th>\n",
       "      <th></th>\n",
       "    </tr>\n",
       "  </thead>\n",
       "  <tbody>\n",
       "    <tr>\n",
       "      <th>R-HSA-983170</th>\n",
       "      <td>antigen presentation: folding, assembly and pe...</td>\n",
       "    </tr>\n",
       "    <tr>\n",
       "      <th>R-HSA-983695</th>\n",
       "      <td>antigen activates b cell receptor (bcr) leadin...</td>\n",
       "    </tr>\n",
       "    <tr>\n",
       "      <th>R-HSA-1236975</th>\n",
       "      <td>antigen processing-cross presentation</td>\n",
       "    </tr>\n",
       "    <tr>\n",
       "      <th>R-HSA-983168</th>\n",
       "      <td>antigen processing: ubiquitination &amp; proteasom...</td>\n",
       "    </tr>\n",
       "    <tr>\n",
       "      <th>R-HSA-8851680</th>\n",
       "      <td>butyrophilin (btn) family interactions</td>\n",
       "    </tr>\n",
       "  </tbody>\n",
       "</table>\n",
       "</div>"
      ],
      "text/plain": [
       "                                                            name\n",
       "RID                                                             \n",
       "R-HSA-983170   antigen presentation: folding, assembly and pe...\n",
       "R-HSA-983695   antigen activates b cell receptor (bcr) leadin...\n",
       "R-HSA-1236975              antigen processing-cross presentation\n",
       "R-HSA-983168   antigen processing: ubiquitination & proteasom...\n",
       "R-HSA-8851680             butyrophilin (btn) family interactions"
      ]
     },
     "execution_count": 80,
     "metadata": {},
     "output_type": "execute_result"
    }
   ],
   "source": [
    "MeSH_immune['name'] = MeSH_immune['name'].apply(lambda x: x.lower().strip())\n",
    "MeSH_immune = MeSH_immune.drop(columns='species')\n",
    "MeSH_immune.head()"
   ]
  },
  {
   "cell_type": "code",
   "execution_count": 81,
   "metadata": {},
   "outputs": [],
   "source": [
    "sep = ':'\n",
    "MeSH_immune['name'] = MeSH_immune['name'].apply(lambda x: x.split(sep, 1)[0])"
   ]
  },
  {
   "cell_type": "code",
   "execution_count": 83,
   "metadata": {},
   "outputs": [
    {
     "data": {
      "text/html": [
       "<div>\n",
       "<style scoped>\n",
       "    .dataframe tbody tr th:only-of-type {\n",
       "        vertical-align: middle;\n",
       "    }\n",
       "\n",
       "    .dataframe tbody tr th {\n",
       "        vertical-align: top;\n",
       "    }\n",
       "\n",
       "    .dataframe thead th {\n",
       "        text-align: right;\n",
       "    }\n",
       "</style>\n",
       "<table border=\"1\" class=\"dataframe\">\n",
       "  <thead>\n",
       "    <tr style=\"text-align: right;\">\n",
       "      <th></th>\n",
       "      <th>name</th>\n",
       "    </tr>\n",
       "    <tr>\n",
       "      <th>RID</th>\n",
       "      <th></th>\n",
       "    </tr>\n",
       "  </thead>\n",
       "  <tbody>\n",
       "    <tr>\n",
       "      <th>R-HSA-983170</th>\n",
       "      <td>antigen presentation</td>\n",
       "    </tr>\n",
       "    <tr>\n",
       "      <th>R-HSA-983695</th>\n",
       "      <td>antigen activates b cell receptor (bcr) leadin...</td>\n",
       "    </tr>\n",
       "    <tr>\n",
       "      <th>R-HSA-1236975</th>\n",
       "      <td>antigen processing-cross presentation</td>\n",
       "    </tr>\n",
       "    <tr>\n",
       "      <th>R-HSA-983168</th>\n",
       "      <td>antigen processing</td>\n",
       "    </tr>\n",
       "    <tr>\n",
       "      <th>R-HSA-8851680</th>\n",
       "      <td>butyrophilin (btn) family interactions</td>\n",
       "    </tr>\n",
       "  </tbody>\n",
       "</table>\n",
       "</div>"
      ],
      "text/plain": [
       "                                                            name\n",
       "RID                                                             \n",
       "R-HSA-983170                                antigen presentation\n",
       "R-HSA-983695   antigen activates b cell receptor (bcr) leadin...\n",
       "R-HSA-1236975              antigen processing-cross presentation\n",
       "R-HSA-983168                                  antigen processing\n",
       "R-HSA-8851680             butyrophilin (btn) family interactions"
      ]
     },
     "execution_count": 83,
     "metadata": {},
     "output_type": "execute_result"
    }
   ],
   "source": [
    "MeSH_immune.head()"
   ]
  },
  {
   "cell_type": "markdown",
   "metadata": {},
   "source": [
    "#### Combine all 3 value sets"
   ]
  },
  {
   "cell_type": "code",
   "execution_count": 84,
   "metadata": {},
   "outputs": [],
   "source": [
    "all_ = [(x, y, z) for x in MeSH_corona['phrases'] for y in MeSH_heart['phrases'] for z in MeSH_immune['name']]"
   ]
  },
  {
   "cell_type": "code",
   "execution_count": 85,
   "metadata": {},
   "outputs": [
    {
     "data": {
      "text/plain": [
       "[(['coronavirus infections'], ['myocardial ischemia'], 'antigen presentation'),\n",
       " (['coronavirus infections'],\n",
       "  ['myocardial ischemia'],\n",
       "  'antigen activates b cell receptor (bcr) leading to generation of second messengers'),\n",
       " (['coronavirus infections'],\n",
       "  ['myocardial ischemia'],\n",
       "  'antigen processing-cross presentation'),\n",
       " (['coronavirus infections'], ['myocardial ischemia'], 'antigen processing')]"
      ]
     },
     "execution_count": 85,
     "metadata": {},
     "output_type": "execute_result"
    }
   ],
   "source": [
    "all_[0:4]"
   ]
  },
  {
   "cell_type": "markdown",
   "metadata": {},
   "source": [
    "#### MeSH to Doc Mapping\n",
    "- Create a dictionary where the key is a MeSH descriptor, and the value is a list of papers (publications) that contains mention of the MeSH terms in its body text\n",
    "- Each paper is represented as dictionary linking each attribute name in the paper (cord_uid, journal, title, etc.) with its actual information"
   ]
  },
  {
   "cell_type": "markdown",
   "metadata": {},
   "source": [
    "##### Example of a paper node in the covid graph"
   ]
  },
  {
   "cell_type": "code",
   "execution_count": 86,
   "metadata": {},
   "outputs": [
    {
     "name": "stdout",
     "output_type": "stream",
     "text": [
      "<Record n=<Node id=3198 labels={'Paper'} properties={'cord_uid': 'zrmkq3mz', 'cord19-fulltext_hash': '41c7a01f11ed47591d99f45774e43e45aeba0619', 'journal': 'BMC Microbiol', 'publish_time': '2009-08-12', 'source': 'PMC', 'title': 'CAPIH: A Web interface for comparative analyses and visualization of host-HIV protein-protein interactions', '_hash_id': '3c4b2ee1430dc9ac53aca87c0fc0f7eb', 'url': 'https://www.ncbi.nlm.nih.gov/pmc/articles/PMC2782265/'}>>\n"
     ]
    }
   ],
   "source": [
    "paper_query = \"MATCH (n:Paper) RETURN n LIMIT 1\"\n",
    "Data = []\n",
    "with driver.session() as session:\n",
    "    info = session.run(paper_query)\n",
    "    for item in info:\n",
    "        print(item)"
   ]
  },
  {
   "cell_type": "markdown",
   "metadata": {},
   "source": [
    "#### Writes data to file"
   ]
  },
  {
   "cell_type": "code",
   "execution_count": 87,
   "metadata": {},
   "outputs": [],
   "source": [
    "ff = open(\"data/mesh_corona_heartdisease_immunepathway_queries.json\", 'w')"
   ]
  },
  {
   "cell_type": "code",
   "execution_count": null,
   "metadata": {},
   "outputs": [],
   "source": [
    "MeSH_to_result = {}\n",
    "for corona, heart, immune in all_:\n",
    "    #Builds each part of the query based on the MeSH descriptor entity list\n",
    "    query = \"MATCH (p:Paper)-[:PAPER_HAS_BODYTEXTCOLLECTION]-(:BodyTextCollection)-\" \\\n",
    "                                        \"[:BODYTEXTCOLLECTION_HAS_BODYTEXT]-(a:BodyText) WHERE (\"\n",
    "    for i in range(len(corona)):\n",
    "        query += \"LOWER(a.text) CONTAINS '\" + corona[i] + \"' AND \"\n",
    "        for j in range(len(heart)):\n",
    "            query += \"LOWER(a.text) CONTAINS '\" + heart[j] + \"' AND \"\n",
    "            for k in range(len(immune)):\n",
    "                if i == len(corona)-1 and j == len(heart)-1 and k == len(immune)-1 :\n",
    "                    query += \"LOWER(a.text) CONTAINS '\" + immune[k] + \"') RETURN DISTINCT p\"\n",
    "                else:\n",
    "                    query += \"LOWER(a.text) CONTAINS '\" + immune[k] + \"' AND \"\n",
    "\n",
    "    MeSH_result = []\n",
    "        \n",
    "    with driver.session() as session:\n",
    "        info = session.run(query)\n",
    "        for item in info:\n",
    "            try:\n",
    "                node_keys = list((item.values(0)[0]).keys())\n",
    "                node_values = list((item.values(0)[0]).values())\n",
    "                paper = {}\n",
    "                for i in range(len(node_keys)):\n",
    "                    paper[node_keys[i]] = node_values[i]\n",
    "                MeSH_result.append(paper)\n",
    "            except:\n",
    "                continue\n",
    "    \n",
    "    try:\n",
    "        MeSH_to_result[immune] = MeSH_result\n",
    "    except:\n",
    "        continue\n",
    "    \n",
    "    json.dump(MeSH_result, ff)\n",
    "\n",
    "ff.close()"
   ]
  },
  {
   "cell_type": "markdown",
   "metadata": {},
   "source": [
    "#### Prints MeSH descriptor to publication list dictionary created above"
   ]
  },
  {
   "cell_type": "code",
   "execution_count": null,
   "metadata": {},
   "outputs": [],
   "source": [
    "MeSH_to_result.items()"
   ]
  },
  {
   "cell_type": "code",
   "execution_count": null,
   "metadata": {},
   "outputs": [],
   "source": []
  }
 ],
 "metadata": {
  "kernelspec": {
   "display_name": "Python 3",
   "language": "python",
   "name": "python3"
  },
  "language_info": {
   "codemirror_mode": {
    "name": "ipython",
    "version": 3
   },
   "file_extension": ".py",
   "mimetype": "text/x-python",
   "name": "python",
   "nbconvert_exporter": "python",
   "pygments_lexer": "ipython3",
   "version": "3.6.6"
  }
 },
 "nbformat": 4,
 "nbformat_minor": 2
}
