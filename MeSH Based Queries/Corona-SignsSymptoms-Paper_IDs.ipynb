{
 "cells": [
  {
   "cell_type": "markdown",
   "metadata": {},
   "source": [
    "### MeSH Based Query Search"
   ]
  },
  {
   "cell_type": "markdown",
   "metadata": {},
   "source": [
    "In this notebook, we will discuss how to search documents based on the signs and symptoms of coronavirus."
   ]
  },
  {
   "cell_type": "code",
   "execution_count": 1,
   "metadata": {},
   "outputs": [],
   "source": [
    "import pandas as pd\n",
    "import json\n",
    "from neo4j import GraphDatabase\n",
    "import csv"
   ]
  },
  {
   "cell_type": "markdown",
   "metadata": {},
   "source": [
    "#### Authentication to access covidgraph.org graph"
   ]
  },
  {
   "cell_type": "code",
   "execution_count": 2,
   "metadata": {},
   "outputs": [],
   "source": [
    "covid_browser = \"https://covid.petesis.com:7473\"\n",
    "covid_url = \"bolt://covid.petesis.com:7687\"\n",
    "user = \"public\"\n",
    "password = \"corona\"\n",
    "\n",
    "#driver = GraphDatabase.driver(uri, auth=(user, password))\n",
    "driver = GraphDatabase.driver(uri = covid_url,\\\n",
    "                              auth = (user,password))"
   ]
  },
  {
   "cell_type": "markdown",
   "metadata": {},
   "source": [
    "#### MeSH descriptor to its entity list\n",
    "- Ex. ```C01.925.782.600.550.200.360: [feline infectious peritonitis]```\n",
    "- Pandas Dataframe is very convenient for handeling a CSV file specifically for data transformation with ```lambda``` mapping functon."
   ]
  },
  {
   "cell_type": "code",
   "execution_count": 3,
   "metadata": {},
   "outputs": [
    {
     "data": {
      "text/html": [
       "<div>\n",
       "<style scoped>\n",
       "    .dataframe tbody tr th:only-of-type {\n",
       "        vertical-align: middle;\n",
       "    }\n",
       "\n",
       "    .dataframe tbody tr th {\n",
       "        vertical-align: top;\n",
       "    }\n",
       "\n",
       "    .dataframe thead th {\n",
       "        text-align: right;\n",
       "    }\n",
       "</style>\n",
       "<table border=\"1\" class=\"dataframe\">\n",
       "  <thead>\n",
       "    <tr style=\"text-align: right;\">\n",
       "      <th></th>\n",
       "      <th>name</th>\n",
       "    </tr>\n",
       "    <tr>\n",
       "      <th>ID</th>\n",
       "      <th></th>\n",
       "    </tr>\n",
       "  </thead>\n",
       "  <tbody>\n",
       "    <tr>\n",
       "      <th>C01.748.561</th>\n",
       "      <td>Pharyngitis</td>\n",
       "    </tr>\n",
       "    <tr>\n",
       "      <th>C01.757.800</th>\n",
       "      <td>Shock, Septic</td>\n",
       "    </tr>\n",
       "    <tr>\n",
       "      <th>C05.651.542</th>\n",
       "      <td>Myalgia</td>\n",
       "    </tr>\n",
       "    <tr>\n",
       "      <th>C06.552.308.500</th>\n",
       "      <td>Liver Failure</td>\n",
       "    </tr>\n",
       "    <tr>\n",
       "      <th>C07.550.781</th>\n",
       "      <td>Pharyngitis</td>\n",
       "    </tr>\n",
       "  </tbody>\n",
       "</table>\n",
       "</div>"
      ],
      "text/plain": [
       "                          name\n",
       "ID                            \n",
       "C01.748.561        Pharyngitis\n",
       "C01.757.800      Shock, Septic\n",
       "C05.651.542            Myalgia\n",
       "C06.552.308.500  Liver Failure\n",
       "C07.550.781        Pharyngitis"
      ]
     },
     "execution_count": 3,
     "metadata": {},
     "output_type": "execute_result"
    }
   ],
   "source": [
    "MeSH = pd.read_csv(\"../Input/mesh/signs.csv\")\n",
    "MeSH = MeSH.set_index('ID')\n",
    "MeSH.head()"
   ]
  },
  {
   "cell_type": "markdown",
   "metadata": {},
   "source": [
    "- Implementing ```lambda``` function to map one column to another column"
   ]
  },
  {
   "cell_type": "code",
   "execution_count": 4,
   "metadata": {},
   "outputs": [],
   "source": [
    "MeSH['phrases'] = MeSH['name'].apply(lambda x: x.lower().strip())"
   ]
  },
  {
   "cell_type": "code",
   "execution_count": 5,
   "metadata": {},
   "outputs": [
    {
     "data": {
      "text/html": [
       "<div>\n",
       "<style scoped>\n",
       "    .dataframe tbody tr th:only-of-type {\n",
       "        vertical-align: middle;\n",
       "    }\n",
       "\n",
       "    .dataframe tbody tr th {\n",
       "        vertical-align: top;\n",
       "    }\n",
       "\n",
       "    .dataframe thead th {\n",
       "        text-align: right;\n",
       "    }\n",
       "</style>\n",
       "<table border=\"1\" class=\"dataframe\">\n",
       "  <thead>\n",
       "    <tr style=\"text-align: right;\">\n",
       "      <th></th>\n",
       "      <th>name</th>\n",
       "      <th>phrases</th>\n",
       "    </tr>\n",
       "    <tr>\n",
       "      <th>ID</th>\n",
       "      <th></th>\n",
       "      <th></th>\n",
       "    </tr>\n",
       "  </thead>\n",
       "  <tbody>\n",
       "    <tr>\n",
       "      <th>C01.748.561</th>\n",
       "      <td>Pharyngitis</td>\n",
       "      <td>pharyngitis</td>\n",
       "    </tr>\n",
       "    <tr>\n",
       "      <th>C01.757.800</th>\n",
       "      <td>Shock, Septic</td>\n",
       "      <td>shock, septic</td>\n",
       "    </tr>\n",
       "    <tr>\n",
       "      <th>C05.651.542</th>\n",
       "      <td>Myalgia</td>\n",
       "      <td>myalgia</td>\n",
       "    </tr>\n",
       "    <tr>\n",
       "      <th>C06.552.308.500</th>\n",
       "      <td>Liver Failure</td>\n",
       "      <td>liver failure</td>\n",
       "    </tr>\n",
       "    <tr>\n",
       "      <th>C07.550.781</th>\n",
       "      <td>Pharyngitis</td>\n",
       "      <td>pharyngitis</td>\n",
       "    </tr>\n",
       "  </tbody>\n",
       "</table>\n",
       "</div>"
      ],
      "text/plain": [
       "                          name        phrases\n",
       "ID                                           \n",
       "C01.748.561        Pharyngitis    pharyngitis\n",
       "C01.757.800      Shock, Septic  shock, septic\n",
       "C05.651.542            Myalgia        myalgia\n",
       "C06.552.308.500  Liver Failure  liver failure\n",
       "C07.550.781        Pharyngitis    pharyngitis"
      ]
     },
     "execution_count": 5,
     "metadata": {},
     "output_type": "execute_result"
    }
   ],
   "source": [
    "MeSH.head()"
   ]
  },
  {
   "cell_type": "code",
   "execution_count": 6,
   "metadata": {},
   "outputs": [],
   "source": [
    "MeSH['phrases'] = MeSH['phrases'].apply(lambda x:x.split(','))"
   ]
  },
  {
   "cell_type": "code",
   "execution_count": 7,
   "metadata": {},
   "outputs": [],
   "source": [
    "for x in MeSH['phrases']:\n",
    "    for val in x:\n",
    "        val = val.strip()"
   ]
  },
  {
   "cell_type": "code",
   "execution_count": 8,
   "metadata": {},
   "outputs": [
    {
     "data": {
      "text/html": [
       "<div>\n",
       "<style scoped>\n",
       "    .dataframe tbody tr th:only-of-type {\n",
       "        vertical-align: middle;\n",
       "    }\n",
       "\n",
       "    .dataframe tbody tr th {\n",
       "        vertical-align: top;\n",
       "    }\n",
       "\n",
       "    .dataframe thead th {\n",
       "        text-align: right;\n",
       "    }\n",
       "</style>\n",
       "<table border=\"1\" class=\"dataframe\">\n",
       "  <thead>\n",
       "    <tr style=\"text-align: right;\">\n",
       "      <th></th>\n",
       "      <th>name</th>\n",
       "      <th>phrases</th>\n",
       "    </tr>\n",
       "    <tr>\n",
       "      <th>ID</th>\n",
       "      <th></th>\n",
       "      <th></th>\n",
       "    </tr>\n",
       "  </thead>\n",
       "  <tbody>\n",
       "    <tr>\n",
       "      <th>C01.748.561</th>\n",
       "      <td>Pharyngitis</td>\n",
       "      <td>[pharyngitis]</td>\n",
       "    </tr>\n",
       "    <tr>\n",
       "      <th>C01.757.800</th>\n",
       "      <td>Shock, Septic</td>\n",
       "      <td>[shock,  septic]</td>\n",
       "    </tr>\n",
       "    <tr>\n",
       "      <th>C05.651.542</th>\n",
       "      <td>Myalgia</td>\n",
       "      <td>[myalgia]</td>\n",
       "    </tr>\n",
       "    <tr>\n",
       "      <th>C06.552.308.500</th>\n",
       "      <td>Liver Failure</td>\n",
       "      <td>[liver failure]</td>\n",
       "    </tr>\n",
       "    <tr>\n",
       "      <th>C07.550.781</th>\n",
       "      <td>Pharyngitis</td>\n",
       "      <td>[pharyngitis]</td>\n",
       "    </tr>\n",
       "  </tbody>\n",
       "</table>\n",
       "</div>"
      ],
      "text/plain": [
       "                          name           phrases\n",
       "ID                                              \n",
       "C01.748.561        Pharyngitis     [pharyngitis]\n",
       "C01.757.800      Shock, Septic  [shock,  septic]\n",
       "C05.651.542            Myalgia         [myalgia]\n",
       "C06.552.308.500  Liver Failure   [liver failure]\n",
       "C07.550.781        Pharyngitis     [pharyngitis]"
      ]
     },
     "execution_count": 8,
     "metadata": {},
     "output_type": "execute_result"
    }
   ],
   "source": [
    "MeSH.head()"
   ]
  },
  {
   "cell_type": "code",
   "execution_count": 9,
   "metadata": {},
   "outputs": [
    {
     "data": {
      "text/plain": [
       "'C01.748.561'"
      ]
     },
     "execution_count": 9,
     "metadata": {},
     "output_type": "execute_result"
    }
   ],
   "source": [
    "MeSH.index[0]"
   ]
  },
  {
   "cell_type": "code",
   "execution_count": 10,
   "metadata": {
    "scrolled": true
   },
   "outputs": [],
   "source": [
    "id2name = {}\n",
    "for ID,name in zip(MeSH.index, MeSH['name']):\n",
    "    id2name.update({ID:name})\n",
    "    \n",
    "with open(\"../Data/mesh/statistics/corona_signs_id2name.json\", 'w') as wf:\n",
    "    json.dump(id2name,wf)"
   ]
  },
  {
   "cell_type": "markdown",
   "metadata": {},
   "source": [
    "#### MeSH to Doc Mapping\n",
    "- Create a dictionary where the key is a MeSH descriptor, and the value is a list of papers (publications) that contains mention of the MeSH terms in its body text\n",
    "- Each paper is represented as dictionary linking each attribute name in the paper (cord_uid, journal, title, etc.) with its actual information"
   ]
  },
  {
   "cell_type": "markdown",
   "metadata": {},
   "source": [
    "##### Example of a paper node in the covid graph"
   ]
  },
  {
   "cell_type": "code",
   "execution_count": 11,
   "metadata": {},
   "outputs": [
    {
     "name": "stdout",
     "output_type": "stream",
     "text": [
      "<Record n=<Node id=2385529 labels={'Paper'} properties={'cord_uid': 'ocp6yodg', 'cord19-fulltext_hash': 'b8957d48b6bcf17b7b51e004d19314ce77f653a1', 'journal': 'BMC Infect Dis', 'publish_time': '2011-12-28', 'source': 'PMC', 'title': 'Timeliness of contact tracing among flight passengers for influenza A/H1N1 2009', '_hash_id': '84b069ab23fb0ecebe6925af9c2b18ae', 'url': 'https://www.ncbi.nlm.nih.gov/pmc/articles/PMC3265549/'}>>\n"
     ]
    }
   ],
   "source": [
    "paper_query = \"MATCH (n:Paper) RETURN n LIMIT 1\"\n",
    "Data = []\n",
    "with driver.session() as session:\n",
    "    info = session.run(paper_query)\n",
    "    for item in info:\n",
    "        print(item)"
   ]
  },
  {
   "cell_type": "markdown",
   "metadata": {},
   "source": [
    "#### Writes data to file"
   ]
  },
  {
   "cell_type": "code",
   "execution_count": 13,
   "metadata": {},
   "outputs": [],
   "source": [
    "MeSH_to_result = {}\n",
    "MeSH_number = {}\n",
    "for desc, entities  in zip(MeSH.index, MeSH['phrases']):\n",
    "    #Builds each part of the query based on the MeSH descriptor entity list\n",
    "    query = \"MATCH (p:Paper)-[:PAPER_HAS_BODYTEXTCOLLECTION]-(:BodyTextCollection)-\" \\\n",
    "                                        \"[:BODYTEXTCOLLECTION_HAS_BODYTEXT]-(a:BodyText) WHERE (\"\n",
    "    for i in range(len(entities)):\n",
    "        if i == len(entities)-1:\n",
    "            query += \"LOWER(a.text) CONTAINS '\" + entities[i] + \"') RETURN DISTINCT p\"\n",
    "        else:\n",
    "            query += \"LOWER(a.text) CONTAINS '\" + entities[i] + \"' AND \"\n",
    "\n",
    "    MeSH_result = []\n",
    "        \n",
    "    with driver.session() as session:\n",
    "        info = session.run(query)\n",
    "        for item in info:\n",
    "            try:\n",
    "                node_keys = list((item.values(0)[0]).keys())\n",
    "                node_values = list((item.values(0)[0]).values())\n",
    "                for i in range(len(node_keys)):\n",
    "                    if (node_keys[i] == 'cord_uid'):\n",
    "                        MeSH_result.append(node_values[i])    \n",
    "            except:\n",
    "                continue\n",
    "    \n",
    "    try:\n",
    "        name = id2name[desc]\n",
    "        MeSH_to_result[name] = MeSH_result\n",
    "        MeSH_number[desc] = len(MeSH_result)\n",
    "    except:\n",
    "        continue"
   ]
  },
  {
   "cell_type": "code",
   "execution_count": 14,
   "metadata": {},
   "outputs": [],
   "source": [
    "ff = open(\"../Data/mesh/corona_signs_paper_ids.json\", 'w')\n",
    "\n",
    "json.dump(MeSH_to_result, ff)\n",
    "\n",
    "ff.close()"
   ]
  },
  {
   "cell_type": "markdown",
   "metadata": {},
   "source": [
    "#### Prints MeSH descriptor to publication list dictionary created above"
   ]
  },
  {
   "cell_type": "code",
   "execution_count": 15,
   "metadata": {},
   "outputs": [
    {
     "data": {
      "text/plain": [
       "dict_items([('C01.748.561', 75), ('C01.757.800', 300), ('C05.651.542', 227), ('C06.552.308.500', 119), ('C07.550.781', 75), ('C08.381.348', 45), ('C08.381.742', 166), ('C08.618.248', 792), ('C08.618.326', 285), ('C08.618.846', 51), ('C08.730.561', 75), ('C09.775.649', 75), ('C10.597.606.337', 223), ('C10.597.751.600', 0), ('C10.668.491.525', 227), ('C12.777.419.780.050', 108), ('C13.351.968.419.780.050', 108), ('C14.907.514', 191), ('C15.378.553.546', 133), ('C15.378.553.546.184.564', 135), ('C23.550.414.896', 45), ('C23.550.470.790.500.800', 300), ('C23.550.835.525', 101), ('C23.550.835.900.712', 300), ('C23.888.119.344', 1694), ('C23.888.208', 128), ('C23.888.369', 248), ('C23.888.592.604.339', 223), ('C23.888.592.612.054', 158), ('C23.888.592.612.233', 110), ('C23.888.592.612.441', 365), ('C23.888.592.612.547.249', 227), ('C23.888.592.763.237', 74), ('C23.888.592.763.550', 0), ('C23.888.821.030', 158), ('C23.888.821.108', 148), ('C23.888.821.214', 700), ('C23.888.821.712', 199), ('C23.888.821.937', 356), ('C23.888.852.079', 295), ('C23.888.852.293', 792), ('C23.888.852.371', 285), ('C23.888.852.430', 45), ('C23.888.852.889', 148), ('F01.700.250', 223), ('F02.830.816.353.500', 227), ('G09.188.390.150', 50), ('G09.772.832', 148), ('G11.561.790.353.500', 227)])"
      ]
     },
     "execution_count": 15,
     "metadata": {},
     "output_type": "execute_result"
    }
   ],
   "source": [
    "MeSH_number.items()"
   ]
  },
  {
   "cell_type": "code",
   "execution_count": null,
   "metadata": {},
   "outputs": [],
   "source": []
  }
 ],
 "metadata": {
  "kernelspec": {
   "display_name": "Python 3",
   "language": "python",
   "name": "python3"
  },
  "language_info": {
   "codemirror_mode": {
    "name": "ipython",
    "version": 3
   },
   "file_extension": ".py",
   "mimetype": "text/x-python",
   "name": "python",
   "nbconvert_exporter": "python",
   "pygments_lexer": "ipython3",
   "version": "3.6.6"
  }
 },
 "nbformat": 4,
 "nbformat_minor": 2
}
