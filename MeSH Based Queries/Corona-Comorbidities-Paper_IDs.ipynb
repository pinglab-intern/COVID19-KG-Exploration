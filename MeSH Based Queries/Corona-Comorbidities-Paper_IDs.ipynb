{
 "cells": [
  {
   "cell_type": "markdown",
   "metadata": {},
   "source": [
    "### MeSH Based Query Search"
   ]
  },
  {
   "cell_type": "markdown",
   "metadata": {},
   "source": [
    "In this notebook, we will discuss how to search documents based on the comorbidities of coronavirus."
   ]
  },
  {
   "cell_type": "code",
   "execution_count": 1,
   "metadata": {},
   "outputs": [],
   "source": [
    "import pandas as pd\n",
    "import json\n",
    "from neo4j import GraphDatabase\n",
    "import csv"
   ]
  },
  {
   "cell_type": "markdown",
   "metadata": {},
   "source": [
    "#### Authentication to access covidgraph.org graph"
   ]
  },
  {
   "cell_type": "code",
   "execution_count": 2,
   "metadata": {},
   "outputs": [],
   "source": [
    "covid_browser = \"https://covid.petesis.com:7473\"\n",
    "covid_url = \"bolt://covid.petesis.com:7687\"\n",
    "user = \"public\"\n",
    "password = \"corona\"\n",
    "\n",
    "#driver = GraphDatabase.driver(uri, auth=(user, password))\n",
    "driver = GraphDatabase.driver(uri = covid_url,\\\n",
    "                              auth = (user,password))"
   ]
  },
  {
   "cell_type": "markdown",
   "metadata": {},
   "source": [
    "#### MeSH descriptor to its entity list\n",
    "- Ex. ```C01.925.782.600.550.200.360: [feline infectious peritonitis]```\n",
    "- Pandas Dataframe is very convenient for handeling a CSV file specifically for data transformation with ```lambda``` mapping functon."
   ]
  },
  {
   "cell_type": "code",
   "execution_count": 3,
   "metadata": {},
   "outputs": [
    {
     "data": {
      "text/html": [
       "<div>\n",
       "<style scoped>\n",
       "    .dataframe tbody tr th:only-of-type {\n",
       "        vertical-align: middle;\n",
       "    }\n",
       "\n",
       "    .dataframe tbody tr th {\n",
       "        vertical-align: top;\n",
       "    }\n",
       "\n",
       "    .dataframe thead th {\n",
       "        text-align: right;\n",
       "    }\n",
       "</style>\n",
       "<table border=\"1\" class=\"dataframe\">\n",
       "  <thead>\n",
       "    <tr style=\"text-align: right;\">\n",
       "      <th></th>\n",
       "      <th>name</th>\n",
       "    </tr>\n",
       "    <tr>\n",
       "      <th>ID</th>\n",
       "      <th></th>\n",
       "    </tr>\n",
       "  </thead>\n",
       "  <tbody>\n",
       "    <tr>\n",
       "      <th>B04.820.650.589.650.350</th>\n",
       "      <td>HIV</td>\n",
       "    </tr>\n",
       "    <tr>\n",
       "      <th>C01.778.640.400.040</th>\n",
       "      <td>Acquired Immunodeficiency Syndrome</td>\n",
       "    </tr>\n",
       "    <tr>\n",
       "      <th>C01.925.782.815.616.400.040</th>\n",
       "      <td>Acquired Immunodeficiency Syndrome</td>\n",
       "    </tr>\n",
       "    <tr>\n",
       "      <th>C01.925.813.400.040</th>\n",
       "      <td>Acquired Immunodeficiency Syndrome</td>\n",
       "    </tr>\n",
       "    <tr>\n",
       "      <th>C01.925.839.040</th>\n",
       "      <td>Acquired Immunodeficiency Syndrome</td>\n",
       "    </tr>\n",
       "  </tbody>\n",
       "</table>\n",
       "</div>"
      ],
      "text/plain": [
       "                                                           name\n",
       "ID                                                             \n",
       "B04.820.650.589.650.350                                     HIV\n",
       "C01.778.640.400.040          Acquired Immunodeficiency Syndrome\n",
       "C01.925.782.815.616.400.040  Acquired Immunodeficiency Syndrome\n",
       "C01.925.813.400.040          Acquired Immunodeficiency Syndrome\n",
       "C01.925.839.040              Acquired Immunodeficiency Syndrome"
      ]
     },
     "execution_count": 3,
     "metadata": {},
     "output_type": "execute_result"
    }
   ],
   "source": [
    "MeSH = pd.read_csv(\"../Input/mesh/comorbidities.csv\")\n",
    "MeSH = MeSH.set_index('ID')\n",
    "MeSH.head()"
   ]
  },
  {
   "cell_type": "markdown",
   "metadata": {},
   "source": [
    "- Implementing ```lambda``` function to map one column to another column"
   ]
  },
  {
   "cell_type": "code",
   "execution_count": 4,
   "metadata": {},
   "outputs": [],
   "source": [
    "MeSH['phrases'] = MeSH['name'].apply(lambda x: x.lower().strip())"
   ]
  },
  {
   "cell_type": "code",
   "execution_count": 5,
   "metadata": {},
   "outputs": [],
   "source": [
    "MeSH.at['B04.820.650.589.650.350', 'phrases'] = 'HIV'"
   ]
  },
  {
   "cell_type": "code",
   "execution_count": 6,
   "metadata": {},
   "outputs": [
    {
     "data": {
      "text/html": [
       "<div>\n",
       "<style scoped>\n",
       "    .dataframe tbody tr th:only-of-type {\n",
       "        vertical-align: middle;\n",
       "    }\n",
       "\n",
       "    .dataframe tbody tr th {\n",
       "        vertical-align: top;\n",
       "    }\n",
       "\n",
       "    .dataframe thead th {\n",
       "        text-align: right;\n",
       "    }\n",
       "</style>\n",
       "<table border=\"1\" class=\"dataframe\">\n",
       "  <thead>\n",
       "    <tr style=\"text-align: right;\">\n",
       "      <th></th>\n",
       "      <th>name</th>\n",
       "      <th>phrases</th>\n",
       "    </tr>\n",
       "    <tr>\n",
       "      <th>ID</th>\n",
       "      <th></th>\n",
       "      <th></th>\n",
       "    </tr>\n",
       "  </thead>\n",
       "  <tbody>\n",
       "    <tr>\n",
       "      <th>B04.820.650.589.650.350</th>\n",
       "      <td>HIV</td>\n",
       "      <td>HIV</td>\n",
       "    </tr>\n",
       "    <tr>\n",
       "      <th>C01.778.640.400.040</th>\n",
       "      <td>Acquired Immunodeficiency Syndrome</td>\n",
       "      <td>acquired immunodeficiency syndrome</td>\n",
       "    </tr>\n",
       "    <tr>\n",
       "      <th>C01.925.782.815.616.400.040</th>\n",
       "      <td>Acquired Immunodeficiency Syndrome</td>\n",
       "      <td>acquired immunodeficiency syndrome</td>\n",
       "    </tr>\n",
       "    <tr>\n",
       "      <th>C01.925.813.400.040</th>\n",
       "      <td>Acquired Immunodeficiency Syndrome</td>\n",
       "      <td>acquired immunodeficiency syndrome</td>\n",
       "    </tr>\n",
       "    <tr>\n",
       "      <th>C01.925.839.040</th>\n",
       "      <td>Acquired Immunodeficiency Syndrome</td>\n",
       "      <td>acquired immunodeficiency syndrome</td>\n",
       "    </tr>\n",
       "  </tbody>\n",
       "</table>\n",
       "</div>"
      ],
      "text/plain": [
       "                                                           name  \\\n",
       "ID                                                                \n",
       "B04.820.650.589.650.350                                     HIV   \n",
       "C01.778.640.400.040          Acquired Immunodeficiency Syndrome   \n",
       "C01.925.782.815.616.400.040  Acquired Immunodeficiency Syndrome   \n",
       "C01.925.813.400.040          Acquired Immunodeficiency Syndrome   \n",
       "C01.925.839.040              Acquired Immunodeficiency Syndrome   \n",
       "\n",
       "                                                        phrases  \n",
       "ID                                                               \n",
       "B04.820.650.589.650.350                                     HIV  \n",
       "C01.778.640.400.040          acquired immunodeficiency syndrome  \n",
       "C01.925.782.815.616.400.040  acquired immunodeficiency syndrome  \n",
       "C01.925.813.400.040          acquired immunodeficiency syndrome  \n",
       "C01.925.839.040              acquired immunodeficiency syndrome  "
      ]
     },
     "execution_count": 6,
     "metadata": {},
     "output_type": "execute_result"
    }
   ],
   "source": [
    "MeSH.head()"
   ]
  },
  {
   "cell_type": "code",
   "execution_count": 7,
   "metadata": {},
   "outputs": [],
   "source": [
    "MeSH['phrases'] = MeSH['phrases'].apply(lambda x:x.split(','))"
   ]
  },
  {
   "cell_type": "code",
   "execution_count": 8,
   "metadata": {},
   "outputs": [
    {
     "data": {
      "text/html": [
       "<div>\n",
       "<style scoped>\n",
       "    .dataframe tbody tr th:only-of-type {\n",
       "        vertical-align: middle;\n",
       "    }\n",
       "\n",
       "    .dataframe tbody tr th {\n",
       "        vertical-align: top;\n",
       "    }\n",
       "\n",
       "    .dataframe thead th {\n",
       "        text-align: right;\n",
       "    }\n",
       "</style>\n",
       "<table border=\"1\" class=\"dataframe\">\n",
       "  <thead>\n",
       "    <tr style=\"text-align: right;\">\n",
       "      <th></th>\n",
       "      <th>name</th>\n",
       "      <th>phrases</th>\n",
       "    </tr>\n",
       "    <tr>\n",
       "      <th>ID</th>\n",
       "      <th></th>\n",
       "      <th></th>\n",
       "    </tr>\n",
       "  </thead>\n",
       "  <tbody>\n",
       "    <tr>\n",
       "      <th>B04.820.650.589.650.350</th>\n",
       "      <td>HIV</td>\n",
       "      <td>[HIV]</td>\n",
       "    </tr>\n",
       "    <tr>\n",
       "      <th>C01.778.640.400.040</th>\n",
       "      <td>Acquired Immunodeficiency Syndrome</td>\n",
       "      <td>[acquired immunodeficiency syndrome]</td>\n",
       "    </tr>\n",
       "    <tr>\n",
       "      <th>C01.925.782.815.616.400.040</th>\n",
       "      <td>Acquired Immunodeficiency Syndrome</td>\n",
       "      <td>[acquired immunodeficiency syndrome]</td>\n",
       "    </tr>\n",
       "    <tr>\n",
       "      <th>C01.925.813.400.040</th>\n",
       "      <td>Acquired Immunodeficiency Syndrome</td>\n",
       "      <td>[acquired immunodeficiency syndrome]</td>\n",
       "    </tr>\n",
       "    <tr>\n",
       "      <th>C01.925.839.040</th>\n",
       "      <td>Acquired Immunodeficiency Syndrome</td>\n",
       "      <td>[acquired immunodeficiency syndrome]</td>\n",
       "    </tr>\n",
       "  </tbody>\n",
       "</table>\n",
       "</div>"
      ],
      "text/plain": [
       "                                                           name  \\\n",
       "ID                                                                \n",
       "B04.820.650.589.650.350                                     HIV   \n",
       "C01.778.640.400.040          Acquired Immunodeficiency Syndrome   \n",
       "C01.925.782.815.616.400.040  Acquired Immunodeficiency Syndrome   \n",
       "C01.925.813.400.040          Acquired Immunodeficiency Syndrome   \n",
       "C01.925.839.040              Acquired Immunodeficiency Syndrome   \n",
       "\n",
       "                                                          phrases  \n",
       "ID                                                                 \n",
       "B04.820.650.589.650.350                                     [HIV]  \n",
       "C01.778.640.400.040          [acquired immunodeficiency syndrome]  \n",
       "C01.925.782.815.616.400.040  [acquired immunodeficiency syndrome]  \n",
       "C01.925.813.400.040          [acquired immunodeficiency syndrome]  \n",
       "C01.925.839.040              [acquired immunodeficiency syndrome]  "
      ]
     },
     "execution_count": 8,
     "metadata": {},
     "output_type": "execute_result"
    }
   ],
   "source": [
    "MeSH.head()"
   ]
  },
  {
   "cell_type": "code",
   "execution_count": 9,
   "metadata": {},
   "outputs": [
    {
     "data": {
      "text/plain": [
       "'B04.820.650.589.650.350'"
      ]
     },
     "execution_count": 9,
     "metadata": {},
     "output_type": "execute_result"
    }
   ],
   "source": [
    "MeSH.index[0]"
   ]
  },
  {
   "cell_type": "code",
   "execution_count": 10,
   "metadata": {
    "scrolled": true
   },
   "outputs": [],
   "source": [
    "id2name = {}\n",
    "for ID,name in zip(MeSH.index, MeSH['name']):\n",
    "    id2name.update({ID:name})\n",
    "    \n",
    "with open(\"../Data/mesh/statistics/corona_comorbidities_id2name.json\", 'w') as wf:\n",
    "    json.dump(id2name,wf)"
   ]
  },
  {
   "cell_type": "markdown",
   "metadata": {},
   "source": [
    "#### MeSH to Doc Mapping\n",
    "- Create a dictionary where the key is a MeSH descriptor, and the value is a list of papers (publications) that contains mention of the MeSH terms in its body text\n",
    "- Each paper is represented as dictionary linking each attribute name in the paper (cord_uid, journal, title, etc.) with its actual information"
   ]
  },
  {
   "cell_type": "markdown",
   "metadata": {},
   "source": [
    "##### Example of a paper node in the covid graph"
   ]
  },
  {
   "cell_type": "code",
   "execution_count": 11,
   "metadata": {},
   "outputs": [
    {
     "name": "stdout",
     "output_type": "stream",
     "text": [
      "<Record n=<Node id=2385529 labels={'Paper'} properties={'cord_uid': 'ocp6yodg', 'cord19-fulltext_hash': 'b8957d48b6bcf17b7b51e004d19314ce77f653a1', 'journal': 'BMC Infect Dis', 'publish_time': '2011-12-28', 'source': 'PMC', 'title': 'Timeliness of contact tracing among flight passengers for influenza A/H1N1 2009', '_hash_id': '84b069ab23fb0ecebe6925af9c2b18ae', 'url': 'https://www.ncbi.nlm.nih.gov/pmc/articles/PMC3265549/'}>>\n"
     ]
    }
   ],
   "source": [
    "paper_query = \"MATCH (n:Paper) RETURN n LIMIT 1\"\n",
    "Data = []\n",
    "with driver.session() as session:\n",
    "    info = session.run(paper_query)\n",
    "    for item in info:\n",
    "        print(item)"
   ]
  },
  {
   "cell_type": "markdown",
   "metadata": {},
   "source": [
    "#### Writes data to file"
   ]
  },
  {
   "cell_type": "code",
   "execution_count": 18,
   "metadata": {},
   "outputs": [],
   "source": [
    "MeSH_to_result = {}\n",
    "MeSH_number = {}\n",
    "for desc, entities  in zip(MeSH.index, MeSH['phrases']):\n",
    "    #Builds each part of the query based on the MeSH descriptor entity list\n",
    "    if entities == ['HIV']:\n",
    "        query = \"MATCH (p:Paper)-[:PAPER_HAS_BODYTEXTCOLLECTION]-(:BodyTextCollection)-\" \\\n",
    "                    \"[:BODYTEXTCOLLECTION_HAS_BODYTEXT]-(a:BodyText) WHERE (a.text \" \\\n",
    "                    \"CONTAINS 'HIV') RETURN DISTINCT p\"\n",
    "    else:\n",
    "        query = \"MATCH (p:Paper)-[:PAPER_HAS_BODYTEXTCOLLECTION]-(:BodyTextCollection)-\" \\\n",
    "                                            \"[:BODYTEXTCOLLECTION_HAS_BODYTEXT]-(a:BodyText) WHERE (\"\n",
    "        for i in range(len(entities)):\n",
    "            if i == len(entities)-1:\n",
    "                query += \"LOWER(a.text) CONTAINS '\" + entities[i] + \"') RETURN DISTINCT p\"\n",
    "            else:\n",
    "                query += \"LOWER(a.text) CONTAINS '\" + entities[i] + \"' AND \"\n",
    "\n",
    "    MeSH_result = []\n",
    "        \n",
    "    with driver.session() as session:\n",
    "        info = session.run(query)\n",
    "        for item in info:\n",
    "            try:\n",
    "                node_keys = list((item.values(0)[0]).keys())\n",
    "                node_values = list((item.values(0)[0]).values())\n",
    "                for i in range(len(node_keys)):\n",
    "                    if (node_keys[i] == 'cord_uid'):\n",
    "                        MeSH_result.append(node_values[i])    \n",
    "            except:\n",
    "                continue\n",
    "    \n",
    "    try:\n",
    "        name = id2name[desc]\n",
    "        MeSH_to_result[name] = MeSH_result\n",
    "        MeSH_number[desc] = len(MeSH_result)\n",
    "    except:\n",
    "        continue"
   ]
  },
  {
   "cell_type": "code",
   "execution_count": 19,
   "metadata": {},
   "outputs": [],
   "source": [
    "ff = open(\"../Data/mesh/corona_comorbidities_paper_ids.json\", 'w')\n",
    "\n",
    "json.dump(MeSH_to_result, ff)\n",
    "\n",
    "ff.close()"
   ]
  },
  {
   "cell_type": "markdown",
   "metadata": {},
   "source": [
    "#### Prints MeSH descriptor to publication list dictionary created above"
   ]
  },
  {
   "cell_type": "code",
   "execution_count": 20,
   "metadata": {},
   "outputs": [
    {
     "data": {
      "text/plain": [
       "dict_items([('B04.820.650.589.650.350', 1592), ('C01.778.640.400.040', 56), ('C01.925.782.815.616.400.040', 56), ('C01.925.813.400.040', 56), ('C01.925.839.040', 56), ('C04', 92), ('C06.552', 68), ('C08.127.108', 527), ('C08.381', 133), ('C08.381.495.108', 527), ('C08.381.495.389', 256), ('C08.674.095', 527), ('C10', 12), ('C10.228.140.300', 2), ('C12.777.419', 22), ('C13.351.968.419', 22), ('C14.280.238', 14), ('C14.280.434', 277), ('C14.280.647.250.260', 83), ('C14.907.137.126.339', 83), ('C14.907.253', 2), ('C14.907.489', 412), ('C14.907.585.250.260', 83), ('C15.378.071.141.150.150', 19), ('C15.378.071.141.150.875', 36), ('C15.378.420.155', 19), ('C15.378.420.826', 36), ('C16.320.070.150', 19), ('C16.320.070.875', 36), ('C16.320.365.155', 19), ('C16.320.365.826', 36), ('C18.452', 46), ('C18.452.394.750.124', 28), ('C18.452.394.750.149', 42), ('C18.654.726.500', 259), ('C19.246.267', 28), ('C19.246.300', 42), ('C20.111.327', 28), ('C20.543.480.680.095', 527), ('C20.673.480.040', 56), ('C23.888.144.699.500', 259), ('D27.505.696.477.656', 53), ('E01.370.600.115.100.160.120.699.500', 259), ('E02.095.147.725.040', 72), ('E04.936', 482), ('E04.936.580.040', 72), ('F01.145.805', 301), ('G07.100.100.160.120.699.500', 259), ('G08.686.784.769', 398), ('H02.403.670', 112)])"
      ]
     },
     "execution_count": 20,
     "metadata": {},
     "output_type": "execute_result"
    }
   ],
   "source": [
    "MeSH_number.items()"
   ]
  },
  {
   "cell_type": "code",
   "execution_count": null,
   "metadata": {},
   "outputs": [],
   "source": []
  }
 ],
 "metadata": {
  "kernelspec": {
   "display_name": "Python 3",
   "language": "python",
   "name": "python3"
  },
  "language_info": {
   "codemirror_mode": {
    "name": "ipython",
    "version": 3
   },
   "file_extension": ".py",
   "mimetype": "text/x-python",
   "name": "python",
   "nbconvert_exporter": "python",
   "pygments_lexer": "ipython3",
   "version": "3.6.6"
  }
 },
 "nbformat": 4,
 "nbformat_minor": 2
}
