{
 "cells": [
  {
   "cell_type": "markdown",
   "metadata": {},
   "source": [
    "### Fragment Extraction"
   ]
  },
  {
   "cell_type": "markdown",
   "metadata": {},
   "source": [
    "In this notebook, we will discuss how to search documents based on the Disease described in the CVD tree."
   ]
  },
  {
   "cell_type": "code",
   "execution_count": 1,
   "metadata": {},
   "outputs": [],
   "source": [
    "import pandas as pd\n",
    "import json\n",
    "from neo4j import GraphDatabase\n",
    "import csv"
   ]
  },
  {
   "cell_type": "markdown",
   "metadata": {},
   "source": [
    "#### Authentication to access covidgraph.org graph"
   ]
  },
  {
   "cell_type": "code",
   "execution_count": 2,
   "metadata": {},
   "outputs": [],
   "source": [
    "covid_browser = \"https://db.covidgraph.org/browser/\"\n",
    "covid_url = \"bolt://db.covidgraph.org:7687\"\n",
    "user = \"public\"\n",
    "password = \"corona\"\n",
    "\n",
    "#driver = GraphDatabase.driver(uri, auth=(user, password))\n",
    "driver = GraphDatabase.driver(uri = covid_url,\\\n",
    "                              auth = (user,password))"
   ]
  },
  {
   "cell_type": "markdown",
   "metadata": {},
   "source": [
    "##### Example of a paper node in the covid graph"
   ]
  },
  {
   "cell_type": "code",
   "execution_count": 3,
   "metadata": {},
   "outputs": [
    {
     "name": "stdout",
     "output_type": "stream",
     "text": [
      "<Record n=<Node id=2385529 labels=frozenset({'Paper'}) properties={'cord_uid': 'ocp6yodg', 'cord19-fulltext_hash': 'b8957d48b6bcf17b7b51e004d19314ce77f653a1', 'journal': 'BMC Infect Dis', 'publish_time': '2011-12-28', 'source': 'PMC', 'title': 'Timeliness of contact tracing among flight passengers for influenza A/H1N1 2009', '_hash_id': '84b069ab23fb0ecebe6925af9c2b18ae', 'url': 'https://www.ncbi.nlm.nih.gov/pmc/articles/PMC3265549/'}>>\n"
     ]
    }
   ],
   "source": [
    "paper_query = \"MATCH (n:Paper) RETURN n LIMIT 1\"\n",
    "Data = []\n",
    "with driver.session() as session:\n",
    "    info = session.run(paper_query)\n",
    "    for item in info:\n",
    "        print(item)"
   ]
  },
  {
   "cell_type": "code",
   "execution_count": 39,
   "metadata": {},
   "outputs": [
    {
     "name": "stdout",
     "output_type": "stream",
     "text": [
      "<Record d=<Node id=3655483 labels=frozenset({'Disease'}) properties={'license': 'CC0 1.0', 'name': 'idiopathic pulmonary fibrosis', 'link': 'http://www.disease-ontology.org/?id=DOID:0050156', 'doid': 'DOID:0050156', 'definition': '\"A pulmonary fibrosis that is characterized by scarring of the lung.\" [url:https\\\\://www.pulmonaryfibrosis.org/life-with-pf/about-ipf]', 'source': 'http://www.disease-ontology.org', '_id': 'e44b0dd76d1d22a1e9fe5c6c6dd395ab'}>>\n"
     ]
    }
   ],
   "source": [
    "#query = \"MATCH (g:GeneSymbol)<-[:MAPS]-(gn:Gene)<-[:ASSOCIATES]-(d:Disease) RETURN d LIMIT 10\"\n",
    "query = \"MATCH (d:Disease)-->(gn:Gene) RETURN d LIMIT 1\"\n",
    "\n",
    "with driver.session() as session:\n",
    "    info = session.run(query)\n",
    "    for item in info:\n",
    "        print(item)"
   ]
  },
  {
   "cell_type": "code",
   "execution_count": 43,
   "metadata": {
    "scrolled": false
   },
   "outputs": [
    {
     "name": "stdout",
     "output_type": "stream",
     "text": [
      "<Record gn=<Node id=95261 labels=frozenset({'Gene'}) properties={'Synonyms': 'MG1|MUC-5B|MUC5|MUC9', 'Symbol_from_nomenclature_authority': 'MUC5B', 'Symbol': 'MUC5B', 'chromosome': '11', 'description': 'mucin 5B, oligomeric mucus/gel-forming', 'Other_designations': 'mucin-5B|cervical mucin MUC5B|high molecular weight salivary mucin MG1|mucin 5, subtype B, tracheobronchial|sublingual gland mucin', 'source': 'ncbigene', 'type_of_gene': 'protein-coding', 'dbXrefs': 'MIM:600770|HGNC:HGNC:7516|Ensembl:ENSG00000117983', 'tax_id': '9606', 'sid': '727897', 'Nomenclature_status': 'O', 'map_location': '11p15.5', 'GeneID': '727897', 'Modification_date': '20200614', 'Feature_type': '-', 'LocusTag': '-', 'Full_name_from_nomenclature_authority': 'mucin 5B, oligomeric mucus/gel-forming'}>>\n"
     ]
    }
   ],
   "source": [
    "#query = \"MATCH (g:GeneSymbol)<-[:MAPS]-(gn:Gene)<-[:ASSOCIATES]-(d:Disease) RETURN d LIMIT 10\"\n",
    "query = \"MATCH (d:Disease)-[rel:ASSOCIATES_DaG]->(gn:Gene) RETURN gn LIMIT 1\"\n",
    "\n",
    "with driver.session() as session:\n",
    "    info = session.run(query)\n",
    "    for item in info:\n",
    "        print(item)"
   ]
  },
  {
   "cell_type": "code",
   "execution_count": 50,
   "metadata": {},
   "outputs": [
    {
     "name": "stdout",
     "output_type": "stream",
     "text": [
      "<Record d.name='idiopathic pulmonary fibrosis' type(rel)='ASSOCIATES_DaG' gn.Symbol_from_nomenclature_authority='MUC5B'>\n",
      "<Record d.name='idiopathic pulmonary fibrosis' type(rel)='ASSOCIATES_DaG' gn.Symbol_from_nomenclature_authority='TOLLIP'>\n",
      "<Record d.name='idiopathic pulmonary fibrosis' type(rel)='ASSOCIATES_DaG' gn.Symbol_from_nomenclature_authority='MUC5AC'>\n",
      "<Record d.name='idiopathic pulmonary fibrosis' type(rel)='ASSOCIATES_DaG' gn.Symbol_from_nomenclature_authority='TERT'>\n",
      "<Record d.name='idiopathic pulmonary fibrosis' type(rel)='ASSOCIATES_DaG' gn.Symbol_from_nomenclature_authority='BRSK2'>\n"
     ]
    }
   ],
   "source": [
    "#query = \"MATCH (g:GeneSymbol)<-[:MAPS]-(gn:Gene)<-[:ASSOCIATES]-(d:Disease) RETURN d LIMIT 10\"\n",
    "query = \"MATCH (d:Disease)-[rel:ASSOCIATES_DaG]->(gn:Gene) \\\n",
    "         RETURN d.name,type(rel),gn.Symbol_from_nomenclature_authority LIMIT 5\"\n",
    "\n",
    "with driver.session() as session:\n",
    "    info = session.run(query)\n",
    "    for item in info:\n",
    "        print(item)"
   ]
  },
  {
   "cell_type": "code",
   "execution_count": 56,
   "metadata": {},
   "outputs": [
    {
     "name": "stdout",
     "output_type": "stream",
     "text": [
      "<Record d.name='idiopathic pulmonary fibrosis' gn.Symbol_from_nomenclature_authority='MUC5B' pw.name='Defective GALNT12 causes colorectal cancer 1 (CRCS1)'>\n",
      "<Record d.name='idiopathic pulmonary fibrosis' gn.Symbol_from_nomenclature_authority='MUC5B' pw.name='O-linked glycosylation'>\n",
      "<Record d.name='idiopathic pulmonary fibrosis' gn.Symbol_from_nomenclature_authority='MUC5B' pw.name='Post-translational protein modification'>\n",
      "<Record d.name='idiopathic pulmonary fibrosis' gn.Symbol_from_nomenclature_authority='MUC5B' pw.name='Diseases associated with O-glycosylation of proteins'>\n",
      "<Record d.name='idiopathic pulmonary fibrosis' gn.Symbol_from_nomenclature_authority='MUC5B' pw.name='Defective C1GALT1C1 causes Tn polyagglutination syndrome (TNPS)'>\n"
     ]
    }
   ],
   "source": [
    "#query = \"MATCH (g:GeneSymbol)<-[:MAPS]-(gn:Gene)<-[:ASSOCIATES]-(d:Disease) RETURN d LIMIT 10\"\n",
    "query = \"MATCH (d:Disease)-[rel:ASSOCIATES_DaG]->(gn:Gene)-[mem:MEMBER]->(pw:Pathway) \\\n",
    "         RETURN d.name,gn.Symbol_from_nomenclature_authority, pw.name LIMIT 5\"\n",
    "\n",
    "with driver.session() as session:\n",
    "    info = session.run(query)\n",
    "    for item in info:\n",
    "        print(item)"
   ]
  },
  {
   "cell_type": "code",
   "execution_count": 64,
   "metadata": {},
   "outputs": [
    {
     "name": "stdout",
     "output_type": "stream",
     "text": [
      "<Record pw.name='Hemostasis' gn.synonyms=None t.sid='NM_001001579' p.sid='Q86WN5'>\n",
      "<Record pw.name='Hemostasis' gn.synonyms=None t.sid='NM_001001579' p.sid='Q86SI6'>\n",
      "<Record pw.name='Hemostasis' gn.synonyms=None t.sid='NM_001001579' p.sid='O76083'>\n",
      "<Record pw.name='Hemostasis' gn.synonyms=None t.sid='NM_001001579' p.sid='O95225'>\n",
      "<Record pw.name='Hemostasis' gn.synonyms=None t.sid='NM_001001579' p.sid='Q86SF7'>\n"
     ]
    }
   ],
   "source": [
    "#query = \"MATCH (g:GeneSymbol)<-[:MAPS]-(gn:Gene)<-[:ASSOCIATES]-(d:Disease) RETURN d LIMIT 10\"\n",
    "query = \"MATCH (pw:Pathway)<--(gn:Gene)-->(t:Transcript)-->(p:Protein) \\\n",
    "         RETURN pw.name,gn.synonyms,t.sid,p.sid LIMIT 5\"\n",
    "\n",
    "with driver.session() as session:\n",
    "    info = session.run(query)\n",
    "    for item in info:\n",
    "        print(item)"
   ]
  },
  {
   "cell_type": "code",
   "execution_count": 65,
   "metadata": {},
   "outputs": [
    {
     "name": "stdout",
     "output_type": "stream",
     "text": [
      "<Record d.name='idiopathic pulmonary fibrosis' gn.Symbol_from_nomenclature_authority='MUC5B' t.sid='NM_002458' p.sid='O95451'>\n",
      "<Record d.name='idiopathic pulmonary fibrosis' gn.Symbol_from_nomenclature_authority='MUC5B' t.sid='NM_002458' p.sid='Q9UE28'>\n",
      "<Record d.name='idiopathic pulmonary fibrosis' gn.Symbol_from_nomenclature_authority='MUC5B' t.sid='NM_002458' p.sid='O00573'>\n",
      "<Record d.name='idiopathic pulmonary fibrosis' gn.Symbol_from_nomenclature_authority='MUC5B' t.sid='NM_002458' p.sid='O00447'>\n",
      "<Record d.name='idiopathic pulmonary fibrosis' gn.Symbol_from_nomenclature_authority='MUC5B' t.sid='NM_002458' p.sid='Q99552'>\n"
     ]
    }
   ],
   "source": [
    "#query = \"MATCH (g:GeneSymbol)<-[:MAPS]-(gn:Gene)<-[:ASSOCIATES]-(d:Disease) RETURN d LIMIT 10\"\n",
    "query = \"MATCH (d:Disease)-->(gn:Gene)-->(t:Transcript)-->(p:Protein) \\\n",
    "         RETURN d.name,gn.Symbol_from_nomenclature_authority,t.sid, p.sid LIMIT 5\"\n",
    "\n",
    "with driver.session() as session:\n",
    "    info = session.run(query)\n",
    "    for item in info:\n",
    "        print(item)"
   ]
  },
  {
   "cell_type": "markdown",
   "metadata": {},
   "source": [
    "### Get Fragment Text"
   ]
  },
  {
   "cell_type": "code",
   "execution_count": null,
   "metadata": {},
   "outputs": [],
   "source": [
    "TEXT = []\n",
    "query = \"MATCH (p:Paper)-[:PAPER_HAS_BODYTEXTCOLLECTION]-(:BodyTextCollection)\\\n",
    "        -[:BODYTEXTCOLLECTION_HAS_BODYTEXT]-(:BodyText)-[:HAS_FRAGMENT]\\\n",
    "        -(f:Fragment)-[:MENTIONS]->(g:GeneSymbol)\\\n",
    "        RETURN f.text limit 100\"\n",
    "\n",
    "with driver.session() as session:\n",
    "    info = session.run(query)\n",
    "    for item in info:\n",
    "        TEXT.append(item.values())"
   ]
  },
  {
   "cell_type": "markdown",
   "metadata": {},
   "source": [
    "#### Text Fragments for Diseases"
   ]
  },
  {
   "cell_type": "code",
   "execution_count": 152,
   "metadata": {},
   "outputs": [
    {
     "data": {
      "text/html": [
       "<div>\n",
       "<style scoped>\n",
       "    .dataframe tbody tr th:only-of-type {\n",
       "        vertical-align: middle;\n",
       "    }\n",
       "\n",
       "    .dataframe tbody tr th {\n",
       "        vertical-align: top;\n",
       "    }\n",
       "\n",
       "    .dataframe thead th {\n",
       "        text-align: right;\n",
       "    }\n",
       "</style>\n",
       "<table border=\"1\" class=\"dataframe\">\n",
       "  <thead>\n",
       "    <tr style=\"text-align: right;\">\n",
       "      <th></th>\n",
       "      <th>disease</th>\n",
       "      <th>fragment</th>\n",
       "      <th>gene</th>\n",
       "    </tr>\n",
       "  </thead>\n",
       "  <tbody>\n",
       "    <tr>\n",
       "      <th>0</th>\n",
       "      <td>schizophrenia</td>\n",
       "      <td>Interval III of the 5 CT with PLC's available ...</td>\n",
       "      <td>RANGAP1</td>\n",
       "    </tr>\n",
       "    <tr>\n",
       "      <th>1</th>\n",
       "      <td>schizophrenia</td>\n",
       "      <td>Overall delay in CT with PLC's also was shorte...</td>\n",
       "      <td>RANGAP1</td>\n",
       "    </tr>\n",
       "    <tr>\n",
       "      <th>2</th>\n",
       "      <td>schizophrenia</td>\n",
       "      <td>Of the 21 requests, the total delay between re...</td>\n",
       "      <td>RANGAP1</td>\n",
       "    </tr>\n",
       "    <tr>\n",
       "      <th>3</th>\n",
       "      <td>lung cancer</td>\n",
       "      <td>This random-effects regression model construct...</td>\n",
       "      <td>APCDD1</td>\n",
       "    </tr>\n",
       "    <tr>\n",
       "      <th>4</th>\n",
       "      <td>lung cancer</td>\n",
       "      <td>For influenza B, the corresponding statistics ...</td>\n",
       "      <td>APCDD1</td>\n",
       "    </tr>\n",
       "    <tr>\n",
       "      <th>5</th>\n",
       "      <td>lung cancer</td>\n",
       "      <td>In the HTS with an HCP-collected swab, 132 of ...</td>\n",
       "      <td>APCDD1</td>\n",
       "    </tr>\n",
       "    <tr>\n",
       "      <th>6</th>\n",
       "      <td>lung cancer</td>\n",
       "      <td>The second measurement (crosses ) was collecte...</td>\n",
       "      <td>APCDD1</td>\n",
       "    </tr>\n",
       "    <tr>\n",
       "      <th>7</th>\n",
       "      <td>lung cancer</td>\n",
       "      <td>E-H, Difference between observed and expected ...</td>\n",
       "      <td>APCDD1</td>\n",
       "    </tr>\n",
       "    <tr>\n",
       "      <th>8</th>\n",
       "      <td>lung cancer</td>\n",
       "      <td>A-D, Molecular viral loads on first and third ...</td>\n",
       "      <td>APCDD1</td>\n",
       "    </tr>\n",
       "    <tr>\n",
       "      <th>9</th>\n",
       "      <td>lung cancer</td>\n",
       "      <td>Trends in influenza B viral loads are shown in...</td>\n",
       "      <td>APCDD1</td>\n",
       "    </tr>\n",
       "  </tbody>\n",
       "</table>\n",
       "</div>"
      ],
      "text/plain": [
       "         disease                                           fragment     gene\n",
       "0  schizophrenia  Interval III of the 5 CT with PLC's available ...  RANGAP1\n",
       "1  schizophrenia  Overall delay in CT with PLC's also was shorte...  RANGAP1\n",
       "2  schizophrenia  Of the 21 requests, the total delay between re...  RANGAP1\n",
       "3    lung cancer  This random-effects regression model construct...   APCDD1\n",
       "4    lung cancer  For influenza B, the corresponding statistics ...   APCDD1\n",
       "5    lung cancer  In the HTS with an HCP-collected swab, 132 of ...   APCDD1\n",
       "6    lung cancer  The second measurement (crosses ) was collecte...   APCDD1\n",
       "7    lung cancer  E-H, Difference between observed and expected ...   APCDD1\n",
       "8    lung cancer  A-D, Molecular viral loads on first and third ...   APCDD1\n",
       "9    lung cancer  Trends in influenza B viral loads are shown in...   APCDD1"
      ]
     },
     "execution_count": 152,
     "metadata": {},
     "output_type": "execute_result"
    }
   ],
   "source": [
    "TEXT = []\n",
    "query = \"MATCH (p:Paper)-[:PAPER_HAS_BODYTEXTCOLLECTION]-(:BodyTextCollection)\\\n",
    "        -[:BODYTEXTCOLLECTION_HAS_BODYTEXT]-(:BodyText)-[:HAS_FRAGMENT]\\\n",
    "        -(f:Fragment)-[:MENTIONS]->(g:GeneSymbol)<--(gn:Gene)<--(d:Disease)\\\n",
    "        RETURN f.text,gn.Symbol_from_nomenclature_authority,d.name limit 100\"\n",
    "\n",
    "with driver.session() as session:\n",
    "    info = session.run(query)\n",
    "    for item in info:\n",
    "        TEXT.append({\"fragment\":item.values()[0],\\\n",
    "                     \"gene\":item.values()[1],\\\n",
    "                     \"disease\":item.values()[2]})\n",
    "df = pd.DataFrame(TEXT)\n",
    "df.head(10)"
   ]
  },
  {
   "cell_type": "code",
   "execution_count": 113,
   "metadata": {},
   "outputs": [
    {
     "data": {
      "text/html": [
       "<div>\n",
       "<style scoped>\n",
       "    .dataframe tbody tr th:only-of-type {\n",
       "        vertical-align: middle;\n",
       "    }\n",
       "\n",
       "    .dataframe tbody tr th {\n",
       "        vertical-align: top;\n",
       "    }\n",
       "\n",
       "    .dataframe thead th {\n",
       "        text-align: right;\n",
       "    }\n",
       "</style>\n",
       "<table border=\"1\" class=\"dataframe\">\n",
       "  <thead>\n",
       "    <tr style=\"text-align: right;\">\n",
       "      <th></th>\n",
       "      <th>disease</th>\n",
       "      <th>fragment</th>\n",
       "      <th>gene</th>\n",
       "    </tr>\n",
       "  </thead>\n",
       "  <tbody>\n",
       "    <tr>\n",
       "      <th>0</th>\n",
       "      <td>lung cancer</td>\n",
       "      <td>Several genes involved in innate and adaptive ...</td>\n",
       "      <td>TNFAIP6</td>\n",
       "    </tr>\n",
       "    <tr>\n",
       "      <th>1</th>\n",
       "      <td>lung cancer</td>\n",
       "      <td>TNFAIP6 protein levels did not predict overall...</td>\n",
       "      <td>TNFAIP6</td>\n",
       "    </tr>\n",
       "    <tr>\n",
       "      <th>2</th>\n",
       "      <td>lung cancer</td>\n",
       "      <td>More than half of all variants were located on...</td>\n",
       "      <td>TNFAIP6</td>\n",
       "    </tr>\n",
       "    <tr>\n",
       "      <th>3</th>\n",
       "      <td>lung cancer</td>\n",
       "      <td>In colon cancer, better overall survival was p...</td>\n",
       "      <td>TNFAIP6</td>\n",
       "    </tr>\n",
       "    <tr>\n",
       "      <th>4</th>\n",
       "      <td>lung cancer</td>\n",
       "      <td>These genes are CCL28, CXL12, EDNRRB, GFRA1, G...</td>\n",
       "      <td>TNFAIP6</td>\n",
       "    </tr>\n",
       "  </tbody>\n",
       "</table>\n",
       "</div>"
      ],
      "text/plain": [
       "       disease                                           fragment     gene\n",
       "0  lung cancer  Several genes involved in innate and adaptive ...  TNFAIP6\n",
       "1  lung cancer  TNFAIP6 protein levels did not predict overall...  TNFAIP6\n",
       "2  lung cancer  More than half of all variants were located on...  TNFAIP6\n",
       "3  lung cancer  In colon cancer, better overall survival was p...  TNFAIP6\n",
       "4  lung cancer  These genes are CCL28, CXL12, EDNRRB, GFRA1, G...  TNFAIP6"
      ]
     },
     "execution_count": 113,
     "metadata": {},
     "output_type": "execute_result"
    }
   ],
   "source": [
    "TEXT = []\n",
    "query = \"MATCH (p:Paper)-[:PAPER_HAS_BODYTEXTCOLLECTION]-(:BodyTextCollection)\\\n",
    "-[:BODYTEXTCOLLECTION_HAS_BODYTEXT]-(:BodyText)-[:HAS_FRAGMENT]-(f:Fragment)\\\n",
    "-[:MENTIONS]->(g:GeneSymbol)<--(gn:Gene)<--(d:Disease)\\\n",
    "WHERE d.name='lung cancer'\\\n",
    "RETURN f.text,gn.Symbol_from_nomenclature_authority,d.name limit 100\"\n",
    "\n",
    "with driver.session() as session:\n",
    "    info = session.run(query)\n",
    "    for item in info:\n",
    "        TEXT.append({\"fragment\":item.values()[0],\\\n",
    "                     \"gene\":item.values()[1],\\\n",
    "                     \"disease\":item.values()[2]})\n",
    "df = pd.DataFrame(TEXT)\n",
    "df.head()"
   ]
  },
  {
   "cell_type": "markdown",
   "metadata": {},
   "source": [
    "#### Text Fragments for Pathways"
   ]
  },
  {
   "cell_type": "code",
   "execution_count": 103,
   "metadata": {},
   "outputs": [
    {
     "data": {
      "text/html": [
       "<div>\n",
       "<style scoped>\n",
       "    .dataframe tbody tr th:only-of-type {\n",
       "        vertical-align: middle;\n",
       "    }\n",
       "\n",
       "    .dataframe tbody tr th {\n",
       "        vertical-align: top;\n",
       "    }\n",
       "\n",
       "    .dataframe thead th {\n",
       "        text-align: right;\n",
       "    }\n",
       "</style>\n",
       "<table border=\"1\" class=\"dataframe\">\n",
       "  <thead>\n",
       "    <tr style=\"text-align: right;\">\n",
       "      <th></th>\n",
       "      <th>fragment</th>\n",
       "      <th>gene</th>\n",
       "      <th>pathway</th>\n",
       "    </tr>\n",
       "  </thead>\n",
       "  <tbody>\n",
       "    <tr>\n",
       "      <th>0</th>\n",
       "      <td>SARS and viral hemorrhagic fevers)</td>\n",
       "      <td>SARS1</td>\n",
       "      <td>Cytosolic tRNA aminoacylation</td>\n",
       "    </tr>\n",
       "    <tr>\n",
       "      <th>1</th>\n",
       "      <td>SARS and viral hemorrhagic fevers)</td>\n",
       "      <td>SARS1</td>\n",
       "      <td>Metabolism</td>\n",
       "    </tr>\n",
       "    <tr>\n",
       "      <th>2</th>\n",
       "      <td>SARS and viral hemorrhagic fevers)</td>\n",
       "      <td>SARS1</td>\n",
       "      <td>Metabolism of amino acids and derivatives</td>\n",
       "    </tr>\n",
       "    <tr>\n",
       "      <th>3</th>\n",
       "      <td>SARS and viral hemorrhagic fevers)</td>\n",
       "      <td>SARS1</td>\n",
       "      <td>Metabolism of proteins</td>\n",
       "    </tr>\n",
       "    <tr>\n",
       "      <th>4</th>\n",
       "      <td>SARS and viral hemorrhagic fevers)</td>\n",
       "      <td>SARS1</td>\n",
       "      <td>Selenoamino acid metabolism</td>\n",
       "    </tr>\n",
       "  </tbody>\n",
       "</table>\n",
       "</div>"
      ],
      "text/plain": [
       "                             fragment   gene  \\\n",
       "0  SARS and viral hemorrhagic fevers)  SARS1   \n",
       "1  SARS and viral hemorrhagic fevers)  SARS1   \n",
       "2  SARS and viral hemorrhagic fevers)  SARS1   \n",
       "3  SARS and viral hemorrhagic fevers)  SARS1   \n",
       "4  SARS and viral hemorrhagic fevers)  SARS1   \n",
       "\n",
       "                                     pathway  \n",
       "0              Cytosolic tRNA aminoacylation  \n",
       "1                                 Metabolism  \n",
       "2  Metabolism of amino acids and derivatives  \n",
       "3                     Metabolism of proteins  \n",
       "4                Selenoamino acid metabolism  "
      ]
     },
     "execution_count": 103,
     "metadata": {},
     "output_type": "execute_result"
    }
   ],
   "source": [
    "TEXT = []\n",
    "query = \"MATCH (p:Paper)-[:PAPER_HAS_BODYTEXTCOLLECTION]-(:BodyTextCollection)\\\n",
    "        -[:BODYTEXTCOLLECTION_HAS_BODYTEXT]-(:BodyText)-[:HAS_FRAGMENT]\\\n",
    "        -(f:Fragment)-[:MENTIONS]->(g:GeneSymbol)<--(gn:Gene)-->(pw:Pathway)\\\n",
    "        RETURN f.text,gn.Symbol_from_nomenclature_authority,pw.name limit 100\"\n",
    "\n",
    "with driver.session() as session:\n",
    "    info = session.run(query)\n",
    "    for item in info:\n",
    "        TEXT.append({\"fragment\":item.values()[0],\\\n",
    "                     \"gene\":item.values()[1],\\\n",
    "                     \"pathway\":item.values()[2]})\n",
    "df = pd.DataFrame(TEXT)\n",
    "df.head()"
   ]
  },
  {
   "cell_type": "code",
   "execution_count": 125,
   "metadata": {},
   "outputs": [
    {
     "data": {
      "text/html": [
       "<div>\n",
       "<style scoped>\n",
       "    .dataframe tbody tr th:only-of-type {\n",
       "        vertical-align: middle;\n",
       "    }\n",
       "\n",
       "    .dataframe tbody tr th {\n",
       "        vertical-align: top;\n",
       "    }\n",
       "\n",
       "    .dataframe thead th {\n",
       "        text-align: right;\n",
       "    }\n",
       "</style>\n",
       "<table border=\"1\" class=\"dataframe\">\n",
       "  <thead>\n",
       "    <tr style=\"text-align: right;\">\n",
       "      <th></th>\n",
       "      <th>fragment</th>\n",
       "      <th>gene</th>\n",
       "      <th>pathway</th>\n",
       "    </tr>\n",
       "  </thead>\n",
       "  <tbody>\n",
       "    <tr>\n",
       "      <th>0</th>\n",
       "      <td>SARS and viral hemorrhagic fevers)</td>\n",
       "      <td>SARS1</td>\n",
       "      <td>Cytosolic tRNA aminoacylation</td>\n",
       "    </tr>\n",
       "    <tr>\n",
       "      <th>1</th>\n",
       "      <td>SARS and viral hemorrhagic fevers)</td>\n",
       "      <td>SARS1</td>\n",
       "      <td>Metabolism</td>\n",
       "    </tr>\n",
       "    <tr>\n",
       "      <th>2</th>\n",
       "      <td>SARS and viral hemorrhagic fevers)</td>\n",
       "      <td>SARS1</td>\n",
       "      <td>Metabolism of amino acids and derivatives</td>\n",
       "    </tr>\n",
       "    <tr>\n",
       "      <th>3</th>\n",
       "      <td>SARS and viral hemorrhagic fevers)</td>\n",
       "      <td>SARS1</td>\n",
       "      <td>Metabolism of proteins</td>\n",
       "    </tr>\n",
       "    <tr>\n",
       "      <th>4</th>\n",
       "      <td>SARS and viral hemorrhagic fevers)</td>\n",
       "      <td>SARS1</td>\n",
       "      <td>Selenoamino acid metabolism</td>\n",
       "    </tr>\n",
       "  </tbody>\n",
       "</table>\n",
       "</div>"
      ],
      "text/plain": [
       "                             fragment   gene  \\\n",
       "0  SARS and viral hemorrhagic fevers)  SARS1   \n",
       "1  SARS and viral hemorrhagic fevers)  SARS1   \n",
       "2  SARS and viral hemorrhagic fevers)  SARS1   \n",
       "3  SARS and viral hemorrhagic fevers)  SARS1   \n",
       "4  SARS and viral hemorrhagic fevers)  SARS1   \n",
       "\n",
       "                                     pathway  \n",
       "0              Cytosolic tRNA aminoacylation  \n",
       "1                                 Metabolism  \n",
       "2  Metabolism of amino acids and derivatives  \n",
       "3                     Metabolism of proteins  \n",
       "4                Selenoamino acid metabolism  "
      ]
     },
     "execution_count": 125,
     "metadata": {},
     "output_type": "execute_result"
    }
   ],
   "source": [
    "TEXT = []\n",
    "query = \"MATCH (p:Paper)-[:PAPER_HAS_BODYTEXTCOLLECTION]-(:BodyTextCollection)\\\n",
    "        -[:BODYTEXTCOLLECTION_HAS_BODYTEXT]-(:BodyText)-[:HAS_FRAGMENT]\\\n",
    "        -(f:Fragment)-[:MENTIONS]->(g:GeneSymbol)\\\n",
    "        WITH g,f\\\n",
    "        MATCH (g:GeneSymbol)<--(gn:Gene)-->(pw:Pathway)\\\n",
    "        RETURN f.text,gn.Symbol_from_nomenclature_authority,pw.name limit 100\"\n",
    "\n",
    "with driver.session() as session:\n",
    "    info = session.run(query)\n",
    "    for item in info:\n",
    "        TEXT.append({\"fragment\":item.values()[0],\\\n",
    "                     \"gene\":item.values()[1],\\\n",
    "                     \"pathway\":item.values()[2]})\n",
    "df = pd.DataFrame(TEXT)\n",
    "df.head()"
   ]
  },
  {
   "cell_type": "markdown",
   "metadata": {},
   "source": [
    "#### Disease - Fragment -Pathways connection"
   ]
  },
  {
   "cell_type": "code",
   "execution_count": 135,
   "metadata": {},
   "outputs": [
    {
     "data": {
      "text/html": [
       "<div>\n",
       "<style scoped>\n",
       "    .dataframe tbody tr th:only-of-type {\n",
       "        vertical-align: middle;\n",
       "    }\n",
       "\n",
       "    .dataframe tbody tr th {\n",
       "        vertical-align: top;\n",
       "    }\n",
       "\n",
       "    .dataframe thead th {\n",
       "        text-align: right;\n",
       "    }\n",
       "</style>\n",
       "<table border=\"1\" class=\"dataframe\">\n",
       "  <thead>\n",
       "    <tr style=\"text-align: right;\">\n",
       "      <th></th>\n",
       "      <th>disease</th>\n",
       "      <th>fragment</th>\n",
       "      <th>gene</th>\n",
       "      <th>pathway</th>\n",
       "    </tr>\n",
       "  </thead>\n",
       "  <tbody>\n",
       "    <tr>\n",
       "      <th>0</th>\n",
       "      <td>lung cancer</td>\n",
       "      <td>Several genes involved in innate and adaptive ...</td>\n",
       "      <td>TNFAIP6</td>\n",
       "      <td>Immune System</td>\n",
       "    </tr>\n",
       "    <tr>\n",
       "      <th>1</th>\n",
       "      <td>lung cancer</td>\n",
       "      <td>Several genes involved in innate and adaptive ...</td>\n",
       "      <td>TNFAIP6</td>\n",
       "      <td>Neutrophil degranulation</td>\n",
       "    </tr>\n",
       "    <tr>\n",
       "      <th>2</th>\n",
       "      <td>lung cancer</td>\n",
       "      <td>Several genes involved in innate and adaptive ...</td>\n",
       "      <td>TNFAIP6</td>\n",
       "      <td>Innate Immune System</td>\n",
       "    </tr>\n",
       "    <tr>\n",
       "      <th>3</th>\n",
       "      <td>lung cancer</td>\n",
       "      <td>TNFAIP6 protein levels did not predict overall...</td>\n",
       "      <td>TNFAIP6</td>\n",
       "      <td>Immune System</td>\n",
       "    </tr>\n",
       "    <tr>\n",
       "      <th>4</th>\n",
       "      <td>lung cancer</td>\n",
       "      <td>TNFAIP6 protein levels did not predict overall...</td>\n",
       "      <td>TNFAIP6</td>\n",
       "      <td>Neutrophil degranulation</td>\n",
       "    </tr>\n",
       "  </tbody>\n",
       "</table>\n",
       "</div>"
      ],
      "text/plain": [
       "       disease                                           fragment     gene  \\\n",
       "0  lung cancer  Several genes involved in innate and adaptive ...  TNFAIP6   \n",
       "1  lung cancer  Several genes involved in innate and adaptive ...  TNFAIP6   \n",
       "2  lung cancer  Several genes involved in innate and adaptive ...  TNFAIP6   \n",
       "3  lung cancer  TNFAIP6 protein levels did not predict overall...  TNFAIP6   \n",
       "4  lung cancer  TNFAIP6 protein levels did not predict overall...  TNFAIP6   \n",
       "\n",
       "                    pathway  \n",
       "0             Immune System  \n",
       "1  Neutrophil degranulation  \n",
       "2      Innate Immune System  \n",
       "3             Immune System  \n",
       "4  Neutrophil degranulation  "
      ]
     },
     "execution_count": 135,
     "metadata": {},
     "output_type": "execute_result"
    }
   ],
   "source": [
    "TEXT = []\n",
    "query = \"MATCH (p:Paper)-[:PAPER_HAS_BODYTEXTCOLLECTION]-(:BodyTextCollection)\\\n",
    "        -[:BODYTEXTCOLLECTION_HAS_BODYTEXT]-(:BodyText)-[:HAS_FRAGMENT]\\\n",
    "        -(f:Fragment)-[:MENTIONS]->(g:GeneSymbol)\\\n",
    "        WITH f,g\\\n",
    "        MATCH ((g:GeneSymbol)<--(gn:Gene)-->(pw:Pathway))\\\n",
    "        WITH f,g,gn,pw\\\n",
    "        MATCH ((g:GeneSymbol)<--(gn:Gene)<--(d:Disease))\\\n",
    "        WHERE d.name='lung cancer'\\\n",
    "        RETURN f.text,gn.Symbol_from_nomenclature_authority,pw.name, d.name limit 100\"\n",
    "\n",
    "with driver.session() as session:\n",
    "    info = session.run(query)\n",
    "    for item in info:\n",
    "        TEXT.append({\"fragment\":item.values()[0],\\\n",
    "                     \"gene\":item.values()[1],\\\n",
    "                     \"pathway\":item.values()[2],\\\n",
    "                    \"disease\":item.values()[3]})\n",
    "df = pd.DataFrame(TEXT)\n",
    "df.head()\n"
   ]
  },
  {
   "cell_type": "code",
   "execution_count": 136,
   "metadata": {},
   "outputs": [
    {
     "data": {
      "text/html": [
       "<div>\n",
       "<style scoped>\n",
       "    .dataframe tbody tr th:only-of-type {\n",
       "        vertical-align: middle;\n",
       "    }\n",
       "\n",
       "    .dataframe tbody tr th {\n",
       "        vertical-align: top;\n",
       "    }\n",
       "\n",
       "    .dataframe thead th {\n",
       "        text-align: right;\n",
       "    }\n",
       "</style>\n",
       "<table border=\"1\" class=\"dataframe\">\n",
       "  <thead>\n",
       "    <tr style=\"text-align: right;\">\n",
       "      <th></th>\n",
       "      <th>disease</th>\n",
       "      <th>fragment</th>\n",
       "      <th>gene</th>\n",
       "      <th>pathway</th>\n",
       "      <th>protein</th>\n",
       "      <th>transcript</th>\n",
       "    </tr>\n",
       "  </thead>\n",
       "  <tbody>\n",
       "    <tr>\n",
       "      <th>0</th>\n",
       "      <td>lung cancer</td>\n",
       "      <td>Several genes involved in innate and adaptive ...</td>\n",
       "      <td>TNFAIP6</td>\n",
       "      <td>Immune System</td>\n",
       "      <td>P98066</td>\n",
       "      <td>NM_007115</td>\n",
       "    </tr>\n",
       "    <tr>\n",
       "      <th>1</th>\n",
       "      <td>lung cancer</td>\n",
       "      <td>Several genes involved in innate and adaptive ...</td>\n",
       "      <td>TNFAIP6</td>\n",
       "      <td>Neutrophil degranulation</td>\n",
       "      <td>P98066</td>\n",
       "      <td>NM_007115</td>\n",
       "    </tr>\n",
       "    <tr>\n",
       "      <th>2</th>\n",
       "      <td>lung cancer</td>\n",
       "      <td>Several genes involved in innate and adaptive ...</td>\n",
       "      <td>TNFAIP6</td>\n",
       "      <td>Innate Immune System</td>\n",
       "      <td>P98066</td>\n",
       "      <td>NM_007115</td>\n",
       "    </tr>\n",
       "    <tr>\n",
       "      <th>3</th>\n",
       "      <td>lung cancer</td>\n",
       "      <td>TNFAIP6 protein levels did not predict overall...</td>\n",
       "      <td>TNFAIP6</td>\n",
       "      <td>Immune System</td>\n",
       "      <td>P98066</td>\n",
       "      <td>NM_007115</td>\n",
       "    </tr>\n",
       "    <tr>\n",
       "      <th>4</th>\n",
       "      <td>lung cancer</td>\n",
       "      <td>TNFAIP6 protein levels did not predict overall...</td>\n",
       "      <td>TNFAIP6</td>\n",
       "      <td>Neutrophil degranulation</td>\n",
       "      <td>P98066</td>\n",
       "      <td>NM_007115</td>\n",
       "    </tr>\n",
       "  </tbody>\n",
       "</table>\n",
       "</div>"
      ],
      "text/plain": [
       "       disease                                           fragment     gene  \\\n",
       "0  lung cancer  Several genes involved in innate and adaptive ...  TNFAIP6   \n",
       "1  lung cancer  Several genes involved in innate and adaptive ...  TNFAIP6   \n",
       "2  lung cancer  Several genes involved in innate and adaptive ...  TNFAIP6   \n",
       "3  lung cancer  TNFAIP6 protein levels did not predict overall...  TNFAIP6   \n",
       "4  lung cancer  TNFAIP6 protein levels did not predict overall...  TNFAIP6   \n",
       "\n",
       "                    pathway protein transcript  \n",
       "0             Immune System  P98066  NM_007115  \n",
       "1  Neutrophil degranulation  P98066  NM_007115  \n",
       "2      Innate Immune System  P98066  NM_007115  \n",
       "3             Immune System  P98066  NM_007115  \n",
       "4  Neutrophil degranulation  P98066  NM_007115  "
      ]
     },
     "execution_count": 136,
     "metadata": {},
     "output_type": "execute_result"
    }
   ],
   "source": [
    "TEXT = []\n",
    "query = \"MATCH (p:Paper)-[:PAPER_HAS_BODYTEXTCOLLECTION]-(:BodyTextCollection)\\\n",
    "        -[:BODYTEXTCOLLECTION_HAS_BODYTEXT]-(:BodyText)-[:HAS_FRAGMENT]\\\n",
    "        -(f:Fragment)-[:MENTIONS]->(g:GeneSymbol)\\\n",
    "        WITH f,g\\\n",
    "        MATCH ((g:GeneSymbol)<--(gn:Gene)-->(pw:Pathway))\\\n",
    "        WITH f,g,gn,pw\\\n",
    "        MATCH ((g:GeneSymbol)<--(gn:Gene)<--(d:Disease))\\\n",
    "        WHERE d.name='lung cancer'\\\n",
    "        WITH f,g,gn,pw,d\\\n",
    "        MATCH (d:Disease)-->(gn:Gene)-->(t:Transcript)-->(p:Protein)\\\n",
    "        RETURN f.text,gn.Symbol_from_nomenclature_authority,pw.name, d.name,t.sid,p.sid limit 100\"\n",
    "\n",
    "with driver.session() as session:\n",
    "    info = session.run(query)\n",
    "    for item in info:\n",
    "        TEXT.append({\"fragment\":item.values()[0],\\\n",
    "                     \"gene\":item.values()[1],\\\n",
    "                     \"pathway\":item.values()[2],\\\n",
    "                    \"disease\":item.values()[3],\\\n",
    "                    \"transcript\": item.values()[4],\\\n",
    "                    \"protein\":item.values()[5]})\n",
    "df = pd.DataFrame(TEXT)\n",
    "df.head()\n"
   ]
  },
  {
   "cell_type": "code",
   "execution_count": 145,
   "metadata": {},
   "outputs": [],
   "source": [
    "def disease_query(entity):\n",
    "    TEXT = []\n",
    "    query = \"MATCH (p:Paper)-[:PAPER_HAS_BODYTEXTCOLLECTION]-(:BodyTextCollection)\\\n",
    "        -[:BODYTEXTCOLLECTION_HAS_BODYTEXT]-(:BodyText)-[:HAS_FRAGMENT]\\\n",
    "        -(f:Fragment)-[:MENTIONS]->(g:GeneSymbol)\\\n",
    "        WITH f,g\\\n",
    "        MATCH ((g:GeneSymbol)<--(gn:Gene)-->(pw:Pathway))\\\n",
    "        WITH f,g,gn,pw\\\n",
    "        MATCH ((g:GeneSymbol)<--(gn:Gene)<--(d:Disease))\\\n",
    "        WHERE d.name='\"+entity+\\\n",
    "        \"'WITH f,g,gn,pw,d\\\n",
    "        MATCH (d:Disease)-->(gn:Gene)-->(t:Transcript)-->(p:Protein)\\\n",
    "        RETURN f.text,gn.Symbol_from_nomenclature_authority,pw.name, d.name,t.sid,p.sid limit 100\"\n",
    "\n",
    "    with driver.session() as session:\n",
    "        info = session.run(query)\n",
    "        for item in info:\n",
    "            TEXT.append({\"fragment\":item.values()[0],\\\n",
    "                     \"gene\":item.values()[1],\\\n",
    "                     \"pathway\":item.values()[2],\\\n",
    "                    \"disease\":item.values()[3],\\\n",
    "                    \"transcript\": item.values()[4],\\\n",
    "                    \"protein\":item.values()[5]})\n",
    "    df = pd.DataFrame(TEXT)\n",
    "    return df"
   ]
  },
  {
   "cell_type": "code",
   "execution_count": 165,
   "metadata": {},
   "outputs": [
    {
     "data": {
      "text/html": [
       "<div>\n",
       "<style scoped>\n",
       "    .dataframe tbody tr th:only-of-type {\n",
       "        vertical-align: middle;\n",
       "    }\n",
       "\n",
       "    .dataframe tbody tr th {\n",
       "        vertical-align: top;\n",
       "    }\n",
       "\n",
       "    .dataframe thead th {\n",
       "        text-align: right;\n",
       "    }\n",
       "</style>\n",
       "<table border=\"1\" class=\"dataframe\">\n",
       "  <thead>\n",
       "    <tr style=\"text-align: right;\">\n",
       "      <th></th>\n",
       "      <th>disease</th>\n",
       "      <th>fragment</th>\n",
       "      <th>gene</th>\n",
       "      <th>pathway</th>\n",
       "      <th>protein</th>\n",
       "      <th>transcript</th>\n",
       "    </tr>\n",
       "  </thead>\n",
       "  <tbody>\n",
       "    <tr>\n",
       "      <th>0</th>\n",
       "      <td>hypertension</td>\n",
       "      <td>Humans encode nine members of this protease fa...</td>\n",
       "      <td>FURIN</td>\n",
       "      <td>Amyloid fiber formation</td>\n",
       "      <td>NP_001369548</td>\n",
       "      <td>NM_001382619</td>\n",
       "    </tr>\n",
       "    <tr>\n",
       "      <th>1</th>\n",
       "      <td>hypertension</td>\n",
       "      <td>Humans encode nine members of this protease fa...</td>\n",
       "      <td>FURIN</td>\n",
       "      <td>Extracellular matrix organization</td>\n",
       "      <td>NP_001369548</td>\n",
       "      <td>NM_001382619</td>\n",
       "    </tr>\n",
       "    <tr>\n",
       "      <th>2</th>\n",
       "      <td>hypertension</td>\n",
       "      <td>Humans encode nine members of this protease fa...</td>\n",
       "      <td>FURIN</td>\n",
       "      <td>Pre-NOTCH Processing in Golgi</td>\n",
       "      <td>NP_001369548</td>\n",
       "      <td>NM_001382619</td>\n",
       "    </tr>\n",
       "    <tr>\n",
       "      <th>3</th>\n",
       "      <td>hypertension</td>\n",
       "      <td>Humans encode nine members of this protease fa...</td>\n",
       "      <td>FURIN</td>\n",
       "      <td>Signaling by Receptor Tyrosine Kinases</td>\n",
       "      <td>NP_001369548</td>\n",
       "      <td>NM_001382619</td>\n",
       "    </tr>\n",
       "    <tr>\n",
       "      <th>4</th>\n",
       "      <td>hypertension</td>\n",
       "      <td>Humans encode nine members of this protease fa...</td>\n",
       "      <td>FURIN</td>\n",
       "      <td>Plasma lipoprotein remodeling</td>\n",
       "      <td>NP_001369548</td>\n",
       "      <td>NM_001382619</td>\n",
       "    </tr>\n",
       "  </tbody>\n",
       "</table>\n",
       "</div>"
      ],
      "text/plain": [
       "        disease                                           fragment   gene  \\\n",
       "0  hypertension  Humans encode nine members of this protease fa...  FURIN   \n",
       "1  hypertension  Humans encode nine members of this protease fa...  FURIN   \n",
       "2  hypertension  Humans encode nine members of this protease fa...  FURIN   \n",
       "3  hypertension  Humans encode nine members of this protease fa...  FURIN   \n",
       "4  hypertension  Humans encode nine members of this protease fa...  FURIN   \n",
       "\n",
       "                                  pathway       protein    transcript  \n",
       "0                 Amyloid fiber formation  NP_001369548  NM_001382619  \n",
       "1       Extracellular matrix organization  NP_001369548  NM_001382619  \n",
       "2           Pre-NOTCH Processing in Golgi  NP_001369548  NM_001382619  \n",
       "3  Signaling by Receptor Tyrosine Kinases  NP_001369548  NM_001382619  \n",
       "4           Plasma lipoprotein remodeling  NP_001369548  NM_001382619  "
      ]
     },
     "execution_count": 165,
     "metadata": {},
     "output_type": "execute_result"
    }
   ],
   "source": [
    "df = disease_query('hypertension')\n",
    "df.head()"
   ]
  },
  {
   "cell_type": "markdown",
   "metadata": {},
   "source": [
    "### Path Collection"
   ]
  },
  {
   "cell_type": "code",
   "execution_count": 81,
   "metadata": {},
   "outputs": [
    {
     "name": "stdout",
     "output_type": "stream",
     "text": [
      "<Record Path=<Path start=<Node id=2385529 labels=frozenset({'Paper'}) properties={'cord_uid': 'ocp6yodg', 'cord19-fulltext_hash': 'b8957d48b6bcf17b7b51e004d19314ce77f653a1', 'journal': 'BMC Infect Dis', 'publish_time': '2011-12-28', 'source': 'PMC', 'title': 'Timeliness of contact tracing among flight passengers for influenza A/H1N1 2009', '_hash_id': '84b069ab23fb0ecebe6925af9c2b18ae', 'url': 'https://www.ncbi.nlm.nih.gov/pmc/articles/PMC3265549/'}> end=<Node id=3657303 labels=frozenset({'Disease'}) properties={'license': 'CC0 1.0', 'link': 'http://www.disease-ontology.org/?id=DOID:5419', 'name': 'schizophrenia', 'doid': 'DOID:5419', 'definition': '\"A psychotic disorder that is characterized by a disintegration of thought processes and of emotional responsiveness.\" [url:http\\\\://en.wikipedia.org/wiki/Schizophrenia]', 'source': 'http://www.disease-ontology.org', '_id': '6cafaa31aba7dc88b1e34c75151b951d'}> size=6>>\n"
     ]
    }
   ],
   "source": [
    "TEXT = []\n",
    "query = \"MATCH Path = (p:Paper)-[:PAPER_HAS_BODYTEXTCOLLECTION]-(:BodyTextCollection)\\\n",
    "        -[:BODYTEXTCOLLECTION_HAS_BODYTEXT]-(:BodyText)-[:HAS_FRAGMENT]\\\n",
    "        -(f:Fragment)-[:MENTIONS]->(g:GeneSymbol)<--(gn:Gene)<--(d:Disease)\\\n",
    "        RETURN Path limit 1\"\n",
    "\n",
    "with driver.session() as session:\n",
    "    info = session.run(query)\n",
    "    for item in info:\n",
    "        print(item)"
   ]
  },
  {
   "cell_type": "code",
   "execution_count": 97,
   "metadata": {},
   "outputs": [
    {
     "name": "stdout",
     "output_type": "stream",
     "text": [
      "<Record Path=<Path start=<Node id=2385529 labels=frozenset({'Paper'}) properties={'cord_uid': 'ocp6yodg', 'cord19-fulltext_hash': 'b8957d48b6bcf17b7b51e004d19314ce77f653a1', 'journal': 'BMC Infect Dis', 'publish_time': '2011-12-28', 'source': 'PMC', 'title': 'Timeliness of contact tracing among flight passengers for influenza A/H1N1 2009', '_hash_id': '84b069ab23fb0ecebe6925af9c2b18ae', 'url': 'https://www.ncbi.nlm.nih.gov/pmc/articles/PMC3265549/'}> end=<Node id=3657303 labels=frozenset({'Disease'}) properties={'license': 'CC0 1.0', 'link': 'http://www.disease-ontology.org/?id=DOID:5419', 'name': 'schizophrenia', 'doid': 'DOID:5419', 'definition': '\"A psychotic disorder that is characterized by a disintegration of thought processes and of emotional responsiveness.\" [url:http\\\\://en.wikipedia.org/wiki/Schizophrenia]', 'source': 'http://www.disease-ontology.org', '_id': '6cafaa31aba7dc88b1e34c75151b951d'}> size=6>>\n"
     ]
    }
   ],
   "source": [
    "query = \"MATCH Path = (p:Paper)-[:PAPER_HAS_BODYTEXTCOLLECTION]-(:BodyTextCollection)\\\n",
    "-[:BODYTEXTCOLLECTION_HAS_BODYTEXT]-(:BodyText)-[:HAS_FRAGMENT]-(f:Fragment)-[:MENTIONS]\\\n",
    "->(g:GeneSymbol)<--(gn:Gene)<--(d:Disease) RETURN Path LIMIT 1\"\n",
    "\n",
    "with driver.session() as session:\n",
    "    info = session.run(query)\n",
    "    for item in info:\n",
    "        print(item)"
   ]
  },
  {
   "cell_type": "code",
   "execution_count": null,
   "metadata": {},
   "outputs": [],
   "source": []
  },
  {
   "cell_type": "code",
   "execution_count": null,
   "metadata": {},
   "outputs": [],
   "source": []
  },
  {
   "cell_type": "code",
   "execution_count": null,
   "metadata": {},
   "outputs": [],
   "source": []
  },
  {
   "cell_type": "code",
   "execution_count": null,
   "metadata": {},
   "outputs": [],
   "source": []
  }
 ],
 "metadata": {
  "kernelspec": {
   "display_name": "Python 3",
   "language": "python",
   "name": "python3"
  },
  "language_info": {
   "codemirror_mode": {
    "name": "ipython",
    "version": 3
   },
   "file_extension": ".py",
   "mimetype": "text/x-python",
   "name": "python",
   "nbconvert_exporter": "python",
   "pygments_lexer": "ipython3",
   "version": "3.7.1"
  }
 },
 "nbformat": 4,
 "nbformat_minor": 2
}
