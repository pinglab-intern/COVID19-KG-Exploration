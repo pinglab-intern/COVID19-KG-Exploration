{
 "cells": [
  {
   "cell_type": "markdown",
   "metadata": {},
   "source": [
    "## Intersecting Entities Data\n",
    "Cooccurence data"
   ]
  },
  {
   "cell_type": "markdown",
   "metadata": {},
   "source": [
    "We want to see the occurence two terms from comorbidities in a single document"
   ]
  },
  {
   "cell_type": "code",
   "execution_count": 1,
   "metadata": {},
   "outputs": [],
   "source": [
    "import pandas as pd\n",
    "from pandas import DataFrame\n",
    "import json as json\n",
    "import csv"
   ]
  },
  {
   "cell_type": "code",
   "execution_count": 2,
   "metadata": {},
   "outputs": [],
   "source": [
    "with open(\"../corona_comorbidities_id2name.json\",'r')as rf:\n",
    "    comorb_id2name = json.load(rf)"
   ]
  },
  {
   "cell_type": "code",
   "execution_count": 3,
   "metadata": {},
   "outputs": [],
   "source": [
    "with open(\"../../corona_comorbidities_paper_ids.json\", 'r') as fcount:\n",
    "    comorb_data = json.load(fcount)"
   ]
  },
  {
   "cell_type": "code",
   "execution_count": 4,
   "metadata": {},
   "outputs": [],
   "source": [
    "comorbidity_intersection = []\n",
    "for co_1 in comorb_data:\n",
    "    for co_2 in comorb_data:\n",
    "        if co_1 == co_2:\n",
    "            overlap = len(comorb_data[co_1])\n",
    "        set_1 = set(comorb_data[co_1])\n",
    "        set_2 = set(comorb_data[co_2])\n",
    "        overlap = set_1.intersection(set_2)\n",
    "        comorbidity_intersection.append({\"Comorbidity 1:\": co_1, \"Comorbidity 2:\": co_2, \"Overlap\":len(list(overlap))})"
   ]
  },
  {
   "cell_type": "code",
   "execution_count": 5,
   "metadata": {},
   "outputs": [],
   "source": [
    "DF_2_Comorbidities = DataFrame(comorbidity_intersection)"
   ]
  },
  {
   "cell_type": "code",
   "execution_count": 6,
   "metadata": {},
   "outputs": [
    {
     "data": {
      "text/html": [
       "<div>\n",
       "<style scoped>\n",
       "    .dataframe tbody tr th:only-of-type {\n",
       "        vertical-align: middle;\n",
       "    }\n",
       "\n",
       "    .dataframe tbody tr th {\n",
       "        vertical-align: top;\n",
       "    }\n",
       "\n",
       "    .dataframe thead th {\n",
       "        text-align: right;\n",
       "    }\n",
       "</style>\n",
       "<table border=\"1\" class=\"dataframe\">\n",
       "  <thead>\n",
       "    <tr style=\"text-align: right;\">\n",
       "      <th></th>\n",
       "      <th>Comorbidity 1:</th>\n",
       "      <th>Comorbidity 2:</th>\n",
       "      <th>Overlap</th>\n",
       "    </tr>\n",
       "  </thead>\n",
       "  <tbody>\n",
       "    <tr>\n",
       "      <th>0</th>\n",
       "      <td>HIV</td>\n",
       "      <td>HIV</td>\n",
       "      <td>1592</td>\n",
       "    </tr>\n",
       "    <tr>\n",
       "      <th>1</th>\n",
       "      <td>HIV</td>\n",
       "      <td>Acquired Immunodeficiency Syndrome</td>\n",
       "      <td>42</td>\n",
       "    </tr>\n",
       "    <tr>\n",
       "      <th>2</th>\n",
       "      <td>HIV</td>\n",
       "      <td>Neoplasms</td>\n",
       "      <td>47</td>\n",
       "    </tr>\n",
       "    <tr>\n",
       "      <th>3</th>\n",
       "      <td>HIV</td>\n",
       "      <td>Liver Diseases</td>\n",
       "      <td>26</td>\n",
       "    </tr>\n",
       "    <tr>\n",
       "      <th>4</th>\n",
       "      <td>HIV</td>\n",
       "      <td>Asthma</td>\n",
       "      <td>129</td>\n",
       "    </tr>\n",
       "  </tbody>\n",
       "</table>\n",
       "</div>"
      ],
      "text/plain": [
       "  Comorbidity 1:                      Comorbidity 2:  Overlap\n",
       "0            HIV                                 HIV     1592\n",
       "1            HIV  Acquired Immunodeficiency Syndrome       42\n",
       "2            HIV                           Neoplasms       47\n",
       "3            HIV                      Liver Diseases       26\n",
       "4            HIV                              Asthma      129"
      ]
     },
     "execution_count": 6,
     "metadata": {},
     "output_type": "execute_result"
    }
   ],
   "source": [
    "DF_2_Comorbidities.sort_values('Overlap', ascending=False)\n",
    "DF_2_Comorbidities.head()"
   ]
  },
  {
   "cell_type": "code",
   "execution_count": 7,
   "metadata": {},
   "outputs": [],
   "source": [
    "DF_2_Comorbidities.to_csv('two_comorbidities.csv')"
   ]
  },
  {
   "cell_type": "markdown",
   "metadata": {},
   "source": [
    "We want to see the occurance of 'covid 19 sign and symptoms' and 'CVD' in a single document"
   ]
  },
  {
   "cell_type": "code",
   "execution_count": 8,
   "metadata": {},
   "outputs": [],
   "source": [
    "with open(\"../corona_signs_id2name.json\",'r')as rf:\n",
    "    signs_id2name = json.load(rf)"
   ]
  },
  {
   "cell_type": "code",
   "execution_count": 9,
   "metadata": {},
   "outputs": [],
   "source": [
    "with open(\"../../corona_signs_paper_ids.json\", 'r') as fcount:\n",
    "    signs_data = json.load(fcount)"
   ]
  },
  {
   "cell_type": "code",
   "execution_count": 10,
   "metadata": {},
   "outputs": [],
   "source": [
    "with open(\"../cvd_id2name.json\",'r')as rf:\n",
    "    cvd_id2name = json.load(rf)"
   ]
  },
  {
   "cell_type": "code",
   "execution_count": 11,
   "metadata": {},
   "outputs": [],
   "source": [
    "with open(\"../../cvd_paper_ids.json\", 'r') as fcount:\n",
    "    cvd_data = json.load(fcount)"
   ]
  },
  {
   "cell_type": "code",
   "execution_count": 12,
   "metadata": {},
   "outputs": [],
   "source": [
    "sign_cvd_intersection = []\n",
    "for sign in signs_data:\n",
    "    for cvd in cvd_data:\n",
    "        overlap = set(signs_data[sign]).intersection(cvd_data[cvd])\n",
    "        sign_cvd_intersection.append({\"Signs:\": sign, \"CVD:\": cvd, \"Overlap\":len(list(overlap))})"
   ]
  },
  {
   "cell_type": "code",
   "execution_count": 13,
   "metadata": {},
   "outputs": [],
   "source": [
    "DF_Sign_CVD = DataFrame(sign_cvd_intersection)"
   ]
  },
  {
   "cell_type": "code",
   "execution_count": 14,
   "metadata": {},
   "outputs": [
    {
     "data": {
      "text/html": [
       "<div>\n",
       "<style scoped>\n",
       "    .dataframe tbody tr th:only-of-type {\n",
       "        vertical-align: middle;\n",
       "    }\n",
       "\n",
       "    .dataframe tbody tr th {\n",
       "        vertical-align: top;\n",
       "    }\n",
       "\n",
       "    .dataframe thead th {\n",
       "        text-align: right;\n",
       "    }\n",
       "</style>\n",
       "<table border=\"1\" class=\"dataframe\">\n",
       "  <thead>\n",
       "    <tr style=\"text-align: right;\">\n",
       "      <th></th>\n",
       "      <th>CVD:</th>\n",
       "      <th>Overlap</th>\n",
       "      <th>Signs:</th>\n",
       "    </tr>\n",
       "  </thead>\n",
       "  <tbody>\n",
       "    <tr>\n",
       "      <th>0</th>\n",
       "      <td>Cardiovascular Diseases</td>\n",
       "      <td>6</td>\n",
       "      <td>Pharyngitis</td>\n",
       "    </tr>\n",
       "    <tr>\n",
       "      <th>1</th>\n",
       "      <td>Cardiovascular Infections</td>\n",
       "      <td>0</td>\n",
       "      <td>Pharyngitis</td>\n",
       "    </tr>\n",
       "    <tr>\n",
       "      <th>2</th>\n",
       "      <td>Syphilis, Cardiovascular</td>\n",
       "      <td>0</td>\n",
       "      <td>Pharyngitis</td>\n",
       "    </tr>\n",
       "    <tr>\n",
       "      <th>3</th>\n",
       "      <td>Tuberculosis, Cardiovascular</td>\n",
       "      <td>1</td>\n",
       "      <td>Pharyngitis</td>\n",
       "    </tr>\n",
       "    <tr>\n",
       "      <th>4</th>\n",
       "      <td>Heart Diseases</td>\n",
       "      <td>2</td>\n",
       "      <td>Pharyngitis</td>\n",
       "    </tr>\n",
       "  </tbody>\n",
       "</table>\n",
       "</div>"
      ],
      "text/plain": [
       "                           CVD:  Overlap       Signs:\n",
       "0       Cardiovascular Diseases        6  Pharyngitis\n",
       "1     Cardiovascular Infections        0  Pharyngitis\n",
       "2      Syphilis, Cardiovascular        0  Pharyngitis\n",
       "3  Tuberculosis, Cardiovascular        1  Pharyngitis\n",
       "4                Heart Diseases        2  Pharyngitis"
      ]
     },
     "execution_count": 14,
     "metadata": {},
     "output_type": "execute_result"
    }
   ],
   "source": [
    "DF_Sign_CVD.sort_values('Overlap', ascending=False)\n",
    "DF_Sign_CVD.head()"
   ]
  },
  {
   "cell_type": "code",
   "execution_count": 15,
   "metadata": {},
   "outputs": [],
   "source": [
    "DF_Sign_CVD.to_csv('signs_cvd.csv')"
   ]
  },
  {
   "cell_type": "markdown",
   "metadata": {},
   "source": [
    "We want to see the occurance of 'covid 19 sign and symptoms' and 'CardioMyopathy' in a single document"
   ]
  },
  {
   "cell_type": "code",
   "execution_count": 16,
   "metadata": {},
   "outputs": [],
   "source": [
    "with open(\"../cardiomyopathy_id2name.json\",'r')as rf:\n",
    "    cm_id2name = json.load(rf)"
   ]
  },
  {
   "cell_type": "code",
   "execution_count": 17,
   "metadata": {},
   "outputs": [],
   "source": [
    "with open(\"../../cardiomyopathy_paper_ids.json\", 'r') as fcount:\n",
    "    cm_data = json.load(fcount)"
   ]
  },
  {
   "cell_type": "code",
   "execution_count": 18,
   "metadata": {},
   "outputs": [],
   "source": [
    "sign_cm_intersection = []\n",
    "for sign in signs_data:\n",
    "    for cm in cm_data:\n",
    "        overlap = set(signs_data[sign]).intersection(cm_data[cm])\n",
    "        sign_cm_intersection.append({\"Signs:\": sign, \"Cardio Myopathy:\": cm, \\\n",
    "                                      \"Overlap\":len(list(overlap))})"
   ]
  },
  {
   "cell_type": "code",
   "execution_count": 19,
   "metadata": {},
   "outputs": [],
   "source": [
    "DF_Sign_CM = DataFrame(sign_cm_intersection)"
   ]
  },
  {
   "cell_type": "code",
   "execution_count": 20,
   "metadata": {},
   "outputs": [
    {
     "data": {
      "text/html": [
       "<div>\n",
       "<style scoped>\n",
       "    .dataframe tbody tr th:only-of-type {\n",
       "        vertical-align: middle;\n",
       "    }\n",
       "\n",
       "    .dataframe tbody tr th {\n",
       "        vertical-align: top;\n",
       "    }\n",
       "\n",
       "    .dataframe thead th {\n",
       "        text-align: right;\n",
       "    }\n",
       "</style>\n",
       "<table border=\"1\" class=\"dataframe\">\n",
       "  <thead>\n",
       "    <tr style=\"text-align: right;\">\n",
       "      <th></th>\n",
       "      <th>Cardio Myopathy:</th>\n",
       "      <th>Overlap</th>\n",
       "      <th>Signs:</th>\n",
       "    </tr>\n",
       "  </thead>\n",
       "  <tbody>\n",
       "    <tr>\n",
       "      <th>0</th>\n",
       "      <td>Cardiomyopathies</td>\n",
       "      <td>2</td>\n",
       "      <td>Pharyngitis</td>\n",
       "    </tr>\n",
       "    <tr>\n",
       "      <th>1</th>\n",
       "      <td>Arrhythmogenic Right Ventricular Dysplasia</td>\n",
       "      <td>1</td>\n",
       "      <td>Pharyngitis</td>\n",
       "    </tr>\n",
       "    <tr>\n",
       "      <th>2</th>\n",
       "      <td>Cardiomyopathy, Alcoholic</td>\n",
       "      <td>2</td>\n",
       "      <td>Pharyngitis</td>\n",
       "    </tr>\n",
       "    <tr>\n",
       "      <th>3</th>\n",
       "      <td>Cardiomyopathy, Dilated</td>\n",
       "      <td>6</td>\n",
       "      <td>Pharyngitis</td>\n",
       "    </tr>\n",
       "    <tr>\n",
       "      <th>4</th>\n",
       "      <td>Cardiomyopathy, Hypertrophic</td>\n",
       "      <td>7</td>\n",
       "      <td>Pharyngitis</td>\n",
       "    </tr>\n",
       "  </tbody>\n",
       "</table>\n",
       "</div>"
      ],
      "text/plain": [
       "                             Cardio Myopathy:  Overlap       Signs:\n",
       "0                            Cardiomyopathies        2  Pharyngitis\n",
       "1  Arrhythmogenic Right Ventricular Dysplasia        1  Pharyngitis\n",
       "2                   Cardiomyopathy, Alcoholic        2  Pharyngitis\n",
       "3                     Cardiomyopathy, Dilated        6  Pharyngitis\n",
       "4                Cardiomyopathy, Hypertrophic        7  Pharyngitis"
      ]
     },
     "execution_count": 20,
     "metadata": {},
     "output_type": "execute_result"
    }
   ],
   "source": [
    "DF_Sign_CM.sort_values('Overlap', ascending=False)\n",
    "DF_Sign_CM.head()"
   ]
  },
  {
   "cell_type": "code",
   "execution_count": 21,
   "metadata": {},
   "outputs": [],
   "source": [
    "DF_Sign_CM.to_csv('signs_cm.csv')"
   ]
  },
  {
   "cell_type": "markdown",
   "metadata": {},
   "source": [
    "We want to see the occurance of 'covid 19 sign and symptoms' and 'HeartFailure' in a single document"
   ]
  },
  {
   "cell_type": "code",
   "execution_count": 22,
   "metadata": {},
   "outputs": [],
   "source": [
    "with open(\"../heartfailure_id2name.json\",'r')as rf:\n",
    "    hf_id2name = json.load(rf)"
   ]
  },
  {
   "cell_type": "code",
   "execution_count": 23,
   "metadata": {},
   "outputs": [],
   "source": [
    "with open(\"../../heartfailure_paper_ids.json\", 'r') as fcount:\n",
    "    hf_data = json.load(fcount)"
   ]
  },
  {
   "cell_type": "code",
   "execution_count": 24,
   "metadata": {},
   "outputs": [],
   "source": [
    "sign_hf_intersection = []\n",
    "for sign in signs_data:\n",
    "    for hf in hf_data:\n",
    "        overlap = set(signs_data[sign]).intersection(hf_data[hf])\n",
    "        sign_hf_intersection.append({\"Signs:\": sign, \"Heart Failure:\": hf, \\\n",
    "                                      \"Overlap\":len(list(overlap))})"
   ]
  },
  {
   "cell_type": "code",
   "execution_count": 25,
   "metadata": {},
   "outputs": [],
   "source": [
    "DF_Sign_HF = DataFrame(sign_hf_intersection)"
   ]
  },
  {
   "cell_type": "code",
   "execution_count": 26,
   "metadata": {},
   "outputs": [
    {
     "data": {
      "text/html": [
       "<div>\n",
       "<style scoped>\n",
       "    .dataframe tbody tr th:only-of-type {\n",
       "        vertical-align: middle;\n",
       "    }\n",
       "\n",
       "    .dataframe tbody tr th {\n",
       "        vertical-align: top;\n",
       "    }\n",
       "\n",
       "    .dataframe thead th {\n",
       "        text-align: right;\n",
       "    }\n",
       "</style>\n",
       "<table border=\"1\" class=\"dataframe\">\n",
       "  <thead>\n",
       "    <tr style=\"text-align: right;\">\n",
       "      <th></th>\n",
       "      <th>Heart Failure:</th>\n",
       "      <th>Overlap</th>\n",
       "      <th>Signs:</th>\n",
       "    </tr>\n",
       "  </thead>\n",
       "  <tbody>\n",
       "    <tr>\n",
       "      <th>0</th>\n",
       "      <td>Heart Failure</td>\n",
       "      <td>13</td>\n",
       "      <td>Pharyngitis</td>\n",
       "    </tr>\n",
       "    <tr>\n",
       "      <th>1</th>\n",
       "      <td>Cardio-Renal Syndrome</td>\n",
       "      <td>0</td>\n",
       "      <td>Pharyngitis</td>\n",
       "    </tr>\n",
       "    <tr>\n",
       "      <th>2</th>\n",
       "      <td>Dyspnea, Paroxysmal</td>\n",
       "      <td>4</td>\n",
       "      <td>Pharyngitis</td>\n",
       "    </tr>\n",
       "    <tr>\n",
       "      <th>3</th>\n",
       "      <td>Edema, Cardiac</td>\n",
       "      <td>9</td>\n",
       "      <td>Pharyngitis</td>\n",
       "    </tr>\n",
       "    <tr>\n",
       "      <th>4</th>\n",
       "      <td>Heart Failure, Diastolic</td>\n",
       "      <td>6</td>\n",
       "      <td>Pharyngitis</td>\n",
       "    </tr>\n",
       "  </tbody>\n",
       "</table>\n",
       "</div>"
      ],
      "text/plain": [
       "             Heart Failure:  Overlap       Signs:\n",
       "0             Heart Failure       13  Pharyngitis\n",
       "1     Cardio-Renal Syndrome        0  Pharyngitis\n",
       "2       Dyspnea, Paroxysmal        4  Pharyngitis\n",
       "3            Edema, Cardiac        9  Pharyngitis\n",
       "4  Heart Failure, Diastolic        6  Pharyngitis"
      ]
     },
     "execution_count": 26,
     "metadata": {},
     "output_type": "execute_result"
    }
   ],
   "source": [
    "DF_Sign_HF.sort_values('Overlap', ascending=False)\n",
    "DF_Sign_HF.head()"
   ]
  },
  {
   "cell_type": "code",
   "execution_count": 27,
   "metadata": {},
   "outputs": [],
   "source": [
    "DF_Sign_HF.to_csv('signs_hf.csv')"
   ]
  },
  {
   "cell_type": "code",
   "execution_count": null,
   "metadata": {},
   "outputs": [],
   "source": []
  }
 ],
 "metadata": {
  "kernelspec": {
   "display_name": "Python 3",
   "language": "python",
   "name": "python3"
  },
  "language_info": {
   "codemirror_mode": {
    "name": "ipython",
    "version": 3
   },
   "file_extension": ".py",
   "mimetype": "text/x-python",
   "name": "python",
   "nbconvert_exporter": "python",
   "pygments_lexer": "ipython3",
   "version": "3.6.6"
  }
 },
 "nbformat": 4,
 "nbformat_minor": 2
}
