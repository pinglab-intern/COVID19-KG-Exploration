{
 "cells": [
  {
   "cell_type": "markdown",
   "metadata": {},
   "source": [
    "## All Entities Data"
   ]
  },
  {
   "cell_type": "markdown",
   "metadata": {},
   "source": [
    "### Unified search terms dictionary "
   ]
  },
  {
   "cell_type": "code",
   "execution_count": null,
   "metadata": {},
   "outputs": [],
   "source": [
    "searchDataDict = [{\"name\": ...,\"ID\":.....,\"category\": \"Covid19\"},\n",
    "        ......\n",
    "        ......\n",
    "        ......\n",
    "        \n",
    "        {\"name\": ....,\"ID\":.....,\"category\":\"CVD\"},\n",
    "        .......\n",
    "        .......\n",
    "        {\"name\": .....,\"ID\":....,\"category\": \"Comorbidity\"}]"
   ]
  },
  {
   "cell_type": "markdown",
   "metadata": {},
   "source": [
    "### Graph Search Query"
   ]
  },
  {
   "cell_type": "code",
   "execution_count": null,
   "metadata": {},
   "outputs": [],
   "source": []
  },
  {
   "cell_type": "markdown",
   "metadata": {},
   "source": [
    "### Resutl for Query"
   ]
  },
  {
   "cell_type": "code",
   "execution_count": null,
   "metadata": {},
   "outputs": [],
   "source": [
    "resultDataDict = {\"name\" : [\"sjdhf\",\"dr6e\",\"ecfuf\"......],\n",
    "        ......\n",
    "        ......\n",
    "        ......\n",
    "        \n",
    "        \"name\": [\"sjdhf\",\"dr6e\",\"ecfuf\"......],\n",
    "        .......\n",
    "        .......\n",
    "        \"name\":\"docs\" : [\"sjdhf\",\"dr6e\",\"ecfuf\"......]}"
   ]
  },
  {
   "cell_type": "markdown",
   "metadata": {},
   "source": [
    "- Note: Collect unique paper ID - [.....], totle = 234,000 "
   ]
  },
  {
   "cell_type": "markdown",
   "metadata": {},
   "source": [
    "### Paper Detail"
   ]
  },
  {
   "cell_type": "code",
   "execution_count": null,
   "metadata": {},
   "outputs": [],
   "source": [
    "paperDetail = [{\"cordID\": 'sjhfsn',\"title\":..., \"published time\":....,},\n",
    "              {........},{.......}]\n",
    "                cordID, title, publish_time, \n",
    "    \n",
    "    only interested in all 4"
   ]
  },
  {
   "cell_type": "code",
   "execution_count": null,
   "metadata": {},
   "outputs": [],
   "source": [
    "1. create a collection of unique chord IDs\n",
    "2. Create a big Dict with out repeating data.\n",
    "3. Dump the data"
   ]
  },
  {
   "cell_type": "markdown",
   "metadata": {},
   "source": [
    "### Reverse Mapping"
   ]
  },
  {
   "cell_type": "code",
   "execution_count": null,
   "metadata": {},
   "outputs": [],
   "source": [
    "resultDataDict = {\"dskff\" : ['search-term1', 'search-term13',....,....]"
   ]
  },
  {
   "cell_type": "markdown",
   "metadata": {},
   "source": [
    "### Coocurrance data"
   ]
  },
  {
   "cell_type": "markdown",
   "metadata": {},
   "source": [
    "- 1. We want to see the occurance two terms from comorbidities in a single document"
   ]
  },
  {
   "cell_type": "code",
   "execution_count": null,
   "metadata": {},
   "outputs": [],
   "source": [
    "Result = []\n",
    "for name1 in resultDataDict:\n",
    "    for name2 in resultDataDict:\n",
    "        overlap = set(resultDataDict[name1]).intersection(resultDataDict[name2])\n",
    "        Result.({\"name1\":name1,\"name2\":name2, \"overlap\":len(list(overlap))})"
   ]
  },
  {
   "cell_type": "markdown",
   "metadata": {},
   "source": [
    "- 1. We want to see the occurance two terms from 'covid 19 sign and symptoms' and 'CVD' in a single document"
   ]
  },
  {
   "cell_type": "code",
   "execution_count": null,
   "metadata": {},
   "outputs": [],
   "source": [
    "Intersection = []\n",
    "for comorb_1 in comorb_data:\n",
    "    for comorb_2 in comorb_data:\n",
    "        if comorb_1 == comorb_2:\n",
    "            continue\n",
    "        overlap = set(comorb_data[comorb_1]).intersection(comorb_data[comorb_2])\n",
    "        Intersection.append({\"Comorbidity 1:\": comorb_1, comorb_2:len(list(overlap))})"
   ]
  },
  {
   "cell_type": "code",
   "execution_count": null,
   "metadata": {},
   "outputs": [],
   "source": []
  },
  {
   "cell_type": "code",
   "execution_count": null,
   "metadata": {},
   "outputs": [],
   "source": []
  },
  {
   "cell_type": "code",
   "execution_count": null,
   "metadata": {},
   "outputs": [],
   "source": []
  },
  {
   "cell_type": "code",
   "execution_count": null,
   "metadata": {},
   "outputs": [],
   "source": []
  },
  {
   "cell_type": "code",
   "execution_count": null,
   "metadata": {},
   "outputs": [],
   "source": []
  },
  {
   "cell_type": "code",
   "execution_count": null,
   "metadata": {},
   "outputs": [],
   "source": []
  },
  {
   "cell_type": "code",
   "execution_count": null,
   "metadata": {},
   "outputs": [],
   "source": []
  },
  {
   "cell_type": "code",
   "execution_count": null,
   "metadata": {},
   "outputs": [],
   "source": []
  },
  {
   "cell_type": "code",
   "execution_count": null,
   "metadata": {},
   "outputs": [],
   "source": []
  },
  {
   "cell_type": "code",
   "execution_count": null,
   "metadata": {},
   "outputs": [],
   "source": []
  },
  {
   "cell_type": "code",
   "execution_count": null,
   "metadata": {},
   "outputs": [],
   "source": []
  },
  {
   "cell_type": "code",
   "execution_count": null,
   "metadata": {},
   "outputs": [],
   "source": []
  }
 ],
 "metadata": {
  "kernelspec": {
   "display_name": "Python 3",
   "language": "python",
   "name": "python3"
  },
  "language_info": {
   "codemirror_mode": {
    "name": "ipython",
    "version": 3
   },
   "file_extension": ".py",
   "mimetype": "text/x-python",
   "name": "python",
   "nbconvert_exporter": "python",
   "pygments_lexer": "ipython3",
   "version": "3.6.6"
  }
 },
 "nbformat": 4,
 "nbformat_minor": 2
}
