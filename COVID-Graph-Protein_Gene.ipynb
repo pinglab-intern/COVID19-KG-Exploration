{
 "cells": [
  {
   "cell_type": "markdown",
   "metadata": {},
   "source": [
    "### COVID-19 Graph CVD Protein and Gene Analysis"
   ]
  },
  {
   "cell_type": "markdown",
   "metadata": {},
   "source": [
    "This notebook analyzes the list of proteins and associated genes in publications with their associations with cardiovascular diseases. This specific notebook focuses on a small list of proteins from the larger list of 8000+."
   ]
  },
  {
   "cell_type": "markdown",
   "metadata": {},
   "source": [
    "#### Authentication to access covidgraph.org graph"
   ]
  },
  {
   "cell_type": "code",
   "execution_count": 1,
   "metadata": {},
   "outputs": [],
   "source": [
    "import pandas as pd\n",
    "import json\n",
    "from neo4j import GraphDatabase\n",
    "# from neo4j import APOC"
   ]
  },
  {
   "cell_type": "code",
   "execution_count": 2,
   "metadata": {},
   "outputs": [],
   "source": [
    "covid_browser = \"https://covid.petesis.com:7473\"\n",
    "covid_url = \"bolt://covid.petesis.com:7687\"\n",
    "user = \"public\"\n",
    "password = \"corona\"\n",
    "\n",
    "#driver = GraphDatabase.driver(uri, auth=(user, password))\n",
    "driver = GraphDatabase.driver(uri = covid_url,\\\n",
    "                              auth = (user,password))"
   ]
  },
  {
   "cell_type": "markdown",
   "metadata": {},
   "source": [
    "### The queries below focus on proteins with the protein ID and associated genes specified before it\n",
    "- For each protein a list of all its associated names is created\n",
    "- In a loop each name is queried into a dictionary with 5 main publication attributes (journal, publish time, source, title, and url)\n",
    "- This dictionary is appended to a larger dictionary that maps each name to all of its associated papers\n",
    "- This data is then written to a ```json``` file named by its ID"
   ]
  },
  {
   "cell_type": "markdown",
   "metadata": {},
   "source": [
    "#### Protein ID: P45379, Gene: TNNT2"
   ]
  },
  {
   "cell_type": "code",
   "execution_count": 3,
   "metadata": {},
   "outputs": [
    {
     "name": "stdout",
     "output_type": "stream",
     "text": [
      "<Record p=<Node id=52396 labels={'Paper'} properties={'cord_uid': 'txk5z8ub', 'cord19-fulltext_hash': 'dc91750f913c083da70bb7dd1816c0418eaf346d', 'journal': 'Int J Emerg Med', 'publish_time': '2009-04-08', 'source': 'PMC', 'title': 'Analysis of trends in emergency department attendances, hospital admissions and medical staffing in a Hong Kong university hospital: 5-year study', '_hash_id': '4131343e79b0683fbad4ab4e1a77e0d0', 'url': 'https://www.ncbi.nlm.nih.gov/pmc/articles/PMC2760706/'}>>\n"
     ]
    }
   ],
   "source": [
    "query = \"MATCH (p:Paper)-[:PAPER_HAS_BODYTEXTCOLLECTION]-(:BodyTextCollection)\\\n",
    "                                -[:BODYTEXTCOLLECTION_HAS_BODYTEXT]-(a:BodyText) \\\n",
    "                                WHERE (LOWER(a.text) CONTAINS 'troponin t') \\\n",
    "                                    return p LIMIT 1\"\n",
    "with driver.session() as session:\n",
    "    info = session.run(query)\n",
    "    for item in info:\n",
    "        print(item)"
   ]
  },
  {
   "cell_type": "code",
   "execution_count": 4,
   "metadata": {},
   "outputs": [],
   "source": [
    "entities_tnnt2 = ['troponin t','cardiac muscle', 'tntc', 'ctnt']"
   ]
  },
  {
   "cell_type": "code",
   "execution_count": 5,
   "metadata": {},
   "outputs": [],
   "source": [
    "result_tnnt2 = []\n",
    "for entity in entities_tnnt2:\n",
    "    entity_result = []\n",
    "    query = \"MATCH (p:Paper)-[:PAPER_HAS_BODYTEXTCOLLECTION]-(:BodyTextCollection)-\\\n",
    "                                    [:BODYTEXTCOLLECTION_HAS_BODYTEXT]-(a:BodyText) \\\n",
    "                                    WHERE (LOWER(a.text) CONTAINS '\" + entity + \"')\" + \\\n",
    "                                    \"RETURN DISTINCT p.journal, p.publish_time, p.source, p.title, p.url\"\n",
    "    \n",
    "    with driver.session() as session:\n",
    "        info = session.run(query)\n",
    "        for item in info:\n",
    "            entity_result.append({'journal': item.values()[0], \\\n",
    "                                  \"publish_time\": item.values()[1],\\\n",
    "                                  \"source\": item.values()[2],\\\n",
    "                                  \"title\": item.values()[3],\\\n",
    "                                  \"url\": item.values()[4]})\n",
    "            \n",
    "    result_tnnt2.append({entity:entity_result})"
   ]
  },
  {
   "cell_type": "code",
   "execution_count": 7,
   "metadata": {
    "scrolled": false
   },
   "outputs": [],
   "source": [
    "with open(\"output/Data_Protein_Gene/Papers/Gene-TNNT2.json\", 'w') as tnnt2:\n",
    "    json.dump(result_tnnt2, tnnt2)"
   ]
  },
  {
   "cell_type": "markdown",
   "metadata": {},
   "source": [
    "#### Protein ID: P19429, Gene: TNNI3 and TNNC1"
   ]
  },
  {
   "cell_type": "code",
   "execution_count": 8,
   "metadata": {},
   "outputs": [],
   "source": [
    "entities_tnn = ['troponin i', 'cardiac muscle']"
   ]
  },
  {
   "cell_type": "code",
   "execution_count": 9,
   "metadata": {},
   "outputs": [],
   "source": [
    "result_tnn = []\n",
    "for entity in entities_tnn:\n",
    "    entity_result = []\n",
    "    query = \"MATCH (p:Paper)-[:PAPER_HAS_BODYTEXTCOLLECTION]-(:BodyTextCollection)-\\\n",
    "                                    [:BODYTEXTCOLLECTION_HAS_BODYTEXT]-(a:BodyText) \\\n",
    "                                    WHERE (LOWER(a.text) CONTAINS '\" + entity + \"')\" + \\\n",
    "                                    \"RETURN DISTINCT p.journal, p.publish_time, p.source, p.title, p.url\"\n",
    "    \n",
    "    with driver.session() as session:\n",
    "        info = session.run(query)\n",
    "        for item in info:\n",
    "            entity_result.append({'journal': item.values()[0], \\\n",
    "                                  \"publish_time\": item.values()[1],\\\n",
    "                                  \"source\": item.values()[2],\\\n",
    "                                  \"title\": item.values()[3],\\\n",
    "                                  \"url\": item.values()[4]})\n",
    "            \n",
    "    result_tnn.append({entity:entity_result})"
   ]
  },
  {
   "cell_type": "code",
   "execution_count": 10,
   "metadata": {
    "scrolled": false
   },
   "outputs": [],
   "source": [
    "with open(\"output/Data_Protein_Gene/Papers/Gene-TNN.json\", 'w') as tnn:\n",
    "    json.dump(result_tnn, tnn)"
   ]
  },
  {
   "cell_type": "markdown",
   "metadata": {},
   "source": [
    "#### Protein ID: P07550, Gene: ADRB2 and ADRB2R and B2AR"
   ]
  },
  {
   "cell_type": "code",
   "execution_count": 11,
   "metadata": {},
   "outputs": [],
   "source": [
    "entities_adrb2 = ['beta-2 adrenergic receptor','beta-2 adrenoreceptor', 'beta-2 adrenoceptor']"
   ]
  },
  {
   "cell_type": "code",
   "execution_count": 14,
   "metadata": {
    "scrolled": false
   },
   "outputs": [],
   "source": [
    "result_adrb2 = []\n",
    "for entity in entities_adrb2:\n",
    "    entity_result = []\n",
    "    query = \"MATCH (p:Paper)-[:PAPER_HAS_BODYTEXTCOLLECTION]-(:BodyTextCollection)-\\\n",
    "                                    [:BODYTEXTCOLLECTION_HAS_BODYTEXT]-(a:BodyText) \\\n",
    "                                    WHERE (LOWER(a.text) CONTAINS '\" + entity + \"')\" + \\\n",
    "                                    \"RETURN DISTINCT p.journal, p.publish_time, p.source, p.title, p.url\"\n",
    "    \n",
    "    with driver.session() as session:\n",
    "        info = session.run(query)\n",
    "        for item in info:\n",
    "            entity_result.append({'journal': item.values()[0], \\\n",
    "                                  \"publish_time\": item.values()[1],\\\n",
    "                                  \"source\": item.values()[2],\\\n",
    "                                  \"title\": item.values()[3],\\\n",
    "                                  \"url\": item.values()[4]})\n",
    "            \n",
    "    result_adrb2.append({entity:entity_result})"
   ]
  },
  {
   "cell_type": "code",
   "execution_count": 15,
   "metadata": {},
   "outputs": [],
   "source": [
    "with open(\"output/Data_Protein_Gene/Papers/Gene-ADRB2.json\", 'w') as adrb2:\n",
    "    json.dump(result_adrb2, adrb2)"
   ]
  },
  {
   "cell_type": "markdown",
   "metadata": {},
   "source": [
    "#### Protein ID: P08588, Gene: ADRB1 and ADRB1R and B1AR"
   ]
  },
  {
   "cell_type": "code",
   "execution_count": 16,
   "metadata": {},
   "outputs": [],
   "source": [
    "entities_adrb1 = ['beta-1 adrenergic receptor','beta-1 adrenoreceptor', 'beta-1 adrenoceptor']"
   ]
  },
  {
   "cell_type": "code",
   "execution_count": 17,
   "metadata": {},
   "outputs": [],
   "source": [
    "result_adrb1 = []\n",
    "for entity in entities_adrb1:\n",
    "    entity_result = []\n",
    "    query = \"MATCH (p:Paper)-[:PAPER_HAS_BODYTEXTCOLLECTION]-(:BodyTextCollection)-\\\n",
    "                                    [:BODYTEXTCOLLECTION_HAS_BODYTEXT]-(a:BodyText) \\\n",
    "                                    WHERE (LOWER(a.text) CONTAINS '\" + entity + \"')\" + \\\n",
    "                                    \"RETURN DISTINCT p.journal, p.publish_time, p.source, p.title, p.url\"\n",
    "    \n",
    "    with driver.session() as session:\n",
    "        info = session.run(query)\n",
    "        for item in info:\n",
    "            entity_result.append({'journal': item.values()[0], \\\n",
    "                                  \"publish_time\": item.values()[1],\\\n",
    "                                  \"source\": item.values()[2],\\\n",
    "                                  \"title\": item.values()[3],\\\n",
    "                                  \"url\": item.values()[4]})\n",
    "            \n",
    "    result_adrb1.append({entity:entity_result})"
   ]
  },
  {
   "cell_type": "code",
   "execution_count": 18,
   "metadata": {},
   "outputs": [],
   "source": [
    "with open(\"output/Data_Protein_Gene/Papers/Gene-ADRB1.json\", 'w') as adrb1:\n",
    "    json.dump(result_adrb1, adrb1)"
   ]
  },
  {
   "cell_type": "markdown",
   "metadata": {},
   "source": [
    "#### Protein ID: P01130, Gene: LDLR"
   ]
  },
  {
   "cell_type": "code",
   "execution_count": 19,
   "metadata": {},
   "outputs": [],
   "source": [
    "entities_ldlr = ['low-density lipoprotein receptor', 'ldl receptor']"
   ]
  },
  {
   "cell_type": "code",
   "execution_count": 20,
   "metadata": {},
   "outputs": [],
   "source": [
    "result_ldlr = []\n",
    "for entity in entities_ldlr:\n",
    "    entity_result = []\n",
    "    query = \"MATCH (p:Paper)-[:PAPER_HAS_BODYTEXTCOLLECTION]-(:BodyTextCollection)-\\\n",
    "                                    [:BODYTEXTCOLLECTION_HAS_BODYTEXT]-(a:BodyText) \\\n",
    "                                    WHERE (LOWER(a.text) CONTAINS '\" + entity + \"')\" + \\\n",
    "                                    \"RETURN DISTINCT p.journal, p.publish_time, p.source, p.title, p.url\"\n",
    "    \n",
    "    with driver.session() as session:\n",
    "        info = session.run(query)\n",
    "        for item in info:\n",
    "            entity_result.append({'journal': item.values()[0], \\\n",
    "                                  \"publish_time\": item.values()[1],\\\n",
    "                                  \"source\": item.values()[2],\\\n",
    "                                  \"title\": item.values()[3],\\\n",
    "                                  \"url\": item.values()[4]})\n",
    "            \n",
    "    result_ldlr.append({entity:entity_result})"
   ]
  },
  {
   "cell_type": "code",
   "execution_count": 21,
   "metadata": {},
   "outputs": [],
   "source": [
    "with open(\"output/Data_Protein_Gene/Papers/Gene-LDLR.json\", 'w') as ldlr:\n",
    "    json.dump(result_ldlr, ldlr)"
   ]
  },
  {
   "cell_type": "markdown",
   "metadata": {},
   "source": [
    "#### Protein ID: Q8WZ42, Gene: TTN"
   ]
  },
  {
   "cell_type": "code",
   "execution_count": 22,
   "metadata": {},
   "outputs": [],
   "source": [
    "entities_ttn = ['titin', 'connectin', 'ec 2.7.11.1', 'rhabdomyosarcoma antigen mu-rms-40.14']"
   ]
  },
  {
   "cell_type": "code",
   "execution_count": 23,
   "metadata": {},
   "outputs": [],
   "source": [
    "result_ttn = []\n",
    "for entity in entities_ttn:\n",
    "    entity_result = []\n",
    "    query = \"MATCH (p:Paper)-[:PAPER_HAS_BODYTEXTCOLLECTION]-(:BodyTextCollection)-\\\n",
    "                                    [:BODYTEXTCOLLECTION_HAS_BODYTEXT]-(a:BodyText) \\\n",
    "                                    WHERE (LOWER(a.text) CONTAINS '\" + entity + \"')\" + \\\n",
    "                                    \"RETURN DISTINCT p.journal, p.publish_time, p.source, p.title, p.url\"\n",
    "    \n",
    "    with driver.session() as session:\n",
    "        info = session.run(query)\n",
    "        for item in info:\n",
    "            entity_result.append({'journal': item.values()[0], \\\n",
    "                                  \"publish_time\": item.values()[1],\\\n",
    "                                  \"source\": item.values()[2],\\\n",
    "                                  \"title\": item.values()[3],\\\n",
    "                                  \"url\": item.values()[4]})\n",
    "            \n",
    "    result_ttn.append({entity:entity_result})"
   ]
  },
  {
   "cell_type": "code",
   "execution_count": 24,
   "metadata": {},
   "outputs": [],
   "source": [
    "with open(\"output/Data_Protein_Gene/Papers/Gene-TTN.json\", 'w') as ttn:\n",
    "    json.dump(result_ttn, ttn)"
   ]
  },
  {
   "cell_type": "markdown",
   "metadata": {},
   "source": [
    "#### Protein ID: Q9BYF1, Gene: ACE2 and UNQ868/PRO1885"
   ]
  },
  {
   "cell_type": "code",
   "execution_count": 25,
   "metadata": {},
   "outputs": [],
   "source": [
    "entities_ace2 = ['angiotensin-converting enzyme 2', 'ec 3.4.17.23', 'ace-related carboxypeptidase'\\\n",
    "                'angiotensin-converting enzyme homolog', 'aceh', 'metalloprotease mprot15', \\\n",
    "                 'processed angiotensin-converting enzyme 2']"
   ]
  },
  {
   "cell_type": "code",
   "execution_count": 26,
   "metadata": {},
   "outputs": [],
   "source": [
    "result_ace2 = []\n",
    "for entity in entities_ace2:\n",
    "    entity_result = []\n",
    "    query = \"MATCH (p:Paper)-[:PAPER_HAS_BODYTEXTCOLLECTION]-(:BodyTextCollection)-\\\n",
    "                                    [:BODYTEXTCOLLECTION_HAS_BODYTEXT]-(a:BodyText) \\\n",
    "                                    WHERE (LOWER(a.text) CONTAINS '\" + entity + \"')\" + \\\n",
    "                                    \"RETURN DISTINCT p.journal, p.publish_time, p.source, p.title, p.url\"\n",
    "    \n",
    "    with driver.session() as session:\n",
    "        info = session.run(query)\n",
    "        for item in info:\n",
    "            entity_result.append({'journal': item.values()[0], \\\n",
    "                                  \"publish_time\": item.values()[1],\\\n",
    "                                  \"source\": item.values()[2],\\\n",
    "                                  \"title\": item.values()[3],\\\n",
    "                                  \"url\": item.values()[4]})\n",
    "            \n",
    "    result_ace2.append({entity:entity_result})"
   ]
  },
  {
   "cell_type": "code",
   "execution_count": 27,
   "metadata": {},
   "outputs": [],
   "source": [
    "with open(\"output/Data_Protein_Gene/Papers/Gene-ACE2.json\", 'w') as ace2:\n",
    "    json.dump(result_ace2, ace2)"
   ]
  },
  {
   "cell_type": "markdown",
   "metadata": {},
   "source": [
    "#### Protein ID: P01019, Gene: AGT and SERPINA8"
   ]
  },
  {
   "cell_type": "code",
   "execution_count": 28,
   "metadata": {},
   "outputs": [],
   "source": [
    "entities_angt = ['angiotensinogen', 'serpin a8', 'angiotensin']"
   ]
  },
  {
   "cell_type": "code",
   "execution_count": 29,
   "metadata": {},
   "outputs": [],
   "source": [
    "result_angt = []\n",
    "for entity in entities_angt:\n",
    "    entity_result = []\n",
    "    query = \"MATCH (p:Paper)-[:PAPER_HAS_BODYTEXTCOLLECTION]-(:BodyTextCollection)-\\\n",
    "                                    [:BODYTEXTCOLLECTION_HAS_BODYTEXT]-(a:BodyText) \\\n",
    "                                    WHERE (LOWER(a.text) CONTAINS '\" + entity + \"')\" + \\\n",
    "                                    \"RETURN DISTINCT p.journal, p.publish_time, p.source, p.title, p.url\"\n",
    "    \n",
    "    with driver.session() as session:\n",
    "        info = session.run(query)\n",
    "        for item in info:\n",
    "            entity_result.append({'journal': item.values()[0], \\\n",
    "                                  \"publish_time\": item.values()[1],\\\n",
    "                                  \"source\": item.values()[2],\\\n",
    "                                  \"title\": item.values()[3],\\\n",
    "                                  \"url\": item.values()[4]})\n",
    "            \n",
    "    result_angt.append({entity:entity_result})"
   ]
  },
  {
   "cell_type": "code",
   "execution_count": 30,
   "metadata": {},
   "outputs": [],
   "source": [
    "with open(\"output/Data_Protein_Gene/Papers/Gene-ANGT.json\", 'w') as angt:\n",
    "    json.dump(result_angt, angt)"
   ]
  },
  {
   "cell_type": "markdown",
   "metadata": {},
   "source": [
    "#### Protein ID: P30556, Gene: AGTR1 and AGTR1A and AGTR1B and AT2R1 and AT2R1B"
   ]
  },
  {
   "cell_type": "code",
   "execution_count": 33,
   "metadata": {},
   "outputs": [],
   "source": [
    "entities_agt = ['type-1 angiotensin ii receptor', 'at1ar', 'at1br', 'at1', 'angiotensin ii type-1 receptor']"
   ]
  },
  {
   "cell_type": "code",
   "execution_count": 34,
   "metadata": {},
   "outputs": [],
   "source": [
    "result_agt = []\n",
    "for entity in entities_agt:\n",
    "    entity_result = []\n",
    "    query = \"MATCH (p:Paper)-[:PAPER_HAS_BODYTEXTCOLLECTION]-(:BodyTextCollection)-\\\n",
    "                                    [:BODYTEXTCOLLECTION_HAS_BODYTEXT]-(a:BodyText) \\\n",
    "                                    WHERE (LOWER(a.text) CONTAINS '\" + entity + \"')\" + \\\n",
    "                                    \"RETURN DISTINCT p.journal, p.publish_time, p.source, p.title, p.url\"\n",
    "    \n",
    "    with driver.session() as session:\n",
    "        info = session.run(query)\n",
    "        for item in info:\n",
    "            entity_result.append({'journal': item.values()[0], \\\n",
    "                                  \"publish_time\": item.values()[1],\\\n",
    "                                  \"source\": item.values()[2],\\\n",
    "                                  \"title\": item.values()[3],\\\n",
    "                                  \"url\": item.values()[4]})\n",
    "            \n",
    "    result_agt.append({entity:entity_result})"
   ]
  },
  {
   "cell_type": "code",
   "execution_count": 35,
   "metadata": {},
   "outputs": [],
   "source": [
    "with open(\"output/Data_Protein_Gene/Papers/Gene-AGT.json\", 'w') as agt:\n",
    "    json.dump(result_agt, agt)"
   ]
  },
  {
   "cell_type": "markdown",
   "metadata": {},
   "source": [
    "#### Protein ID: P01375, Gene: TNF and TNFA and TNFSF2"
   ]
  },
  {
   "cell_type": "code",
   "execution_count": 36,
   "metadata": {},
   "outputs": [],
   "source": [
    "entities_tnf = ['tumor necrosis factor', 'cachectin', 'tnf-alpha', 'ntf', 'intracellular domain', 'c-domain']"
   ]
  },
  {
   "cell_type": "code",
   "execution_count": 37,
   "metadata": {},
   "outputs": [],
   "source": [
    "result_tnf = []\n",
    "for entity in entities_tnf:\n",
    "    entity_result = []\n",
    "    query = \"MATCH (p:Paper)-[:PAPER_HAS_BODYTEXTCOLLECTION]-(:BodyTextCollection)-\\\n",
    "                                    [:BODYTEXTCOLLECTION_HAS_BODYTEXT]-(a:BodyText) \\\n",
    "                                    WHERE (LOWER(a.text) CONTAINS '\" + entity + \"')\" + \\\n",
    "                                    \"RETURN DISTINCT p.journal, p.publish_time, p.source, p.title, p.url\"\n",
    "    \n",
    "    with driver.session() as session:\n",
    "        info = session.run(query)\n",
    "        for item in info:\n",
    "            entity_result.append({'journal': item.values()[0], \\\n",
    "                                  \"publish_time\": item.values()[1],\\\n",
    "                                  \"source\": item.values()[2],\\\n",
    "                                  \"title\": item.values()[3],\\\n",
    "                                  \"url\": item.values()[4]})\n",
    "            \n",
    "    result_tnf.append({entity:entity_result})"
   ]
  },
  {
   "cell_type": "code",
   "execution_count": 38,
   "metadata": {},
   "outputs": [],
   "source": [
    "with open(\"output/Data_Protein_Gene/Papers/Gene-TNF.json\", 'w') as tnf:\n",
    "    json.dump(result_tnf, tnf)"
   ]
  },
  {
   "cell_type": "markdown",
   "metadata": {},
   "source": [
    "#### Protein ID: P05231, Gene: IL6 and IFNB2"
   ]
  },
  {
   "cell_type": "code",
   "execution_count": 39,
   "metadata": {},
   "outputs": [],
   "source": [
    "entities_il = ['interleukin-6', 'il-6', 'b-cell stimulatory factor 2', 'bsf-2', 'ctl differentiation factor', 'cdf'\\\n",
    "              'hybridoma growth factor', 'interferon beta-2', 'ifn-beta-2']"
   ]
  },
  {
   "cell_type": "code",
   "execution_count": 40,
   "metadata": {},
   "outputs": [],
   "source": [
    "result_il = []\n",
    "for entity in entities_il:\n",
    "    entity_result = []\n",
    "    query = \"MATCH (p:Paper)-[:PAPER_HAS_BODYTEXTCOLLECTION]-(:BodyTextCollection)-\\\n",
    "                                    [:BODYTEXTCOLLECTION_HAS_BODYTEXT]-(a:BodyText) \\\n",
    "                                    WHERE (LOWER(a.text) CONTAINS '\" + entity + \"')\" + \\\n",
    "                                    \"RETURN DISTINCT p.journal, p.publish_time, p.source, p.title, p.url\"\n",
    "    \n",
    "    with driver.session() as session:\n",
    "        info = session.run(query)\n",
    "        for item in info:\n",
    "            entity_result.append({'journal': item.values()[0], \\\n",
    "                                  \"publish_time\": item.values()[1],\\\n",
    "                                  \"source\": item.values()[2],\\\n",
    "                                  \"title\": item.values()[3],\\\n",
    "                                  \"url\": item.values()[4]})\n",
    "            \n",
    "    result_il.append({entity:entity_result})"
   ]
  },
  {
   "cell_type": "code",
   "execution_count": 41,
   "metadata": {},
   "outputs": [],
   "source": [
    "with open(\"output/Data_Protein_Gene/Papers/Gene-IL.json\", 'w') as il:\n",
    "    json.dump(result_il, il)"
   ]
  },
  {
   "cell_type": "markdown",
   "metadata": {},
   "source": [
    "#### Protein ID: P12821, Gene: ACE and DCP and DCP1"
   ]
  },
  {
   "cell_type": "code",
   "execution_count": 42,
   "metadata": {},
   "outputs": [],
   "source": [
    "entities_ace = ['kininase ii', 'ec 3.2.1.-', 'ec 3.4.15.1', 'angiotensin-converting enzyme', 'ace', \\\n",
    "                'dipeptidyl carboxypeptidase i', 'cd antigen cd143']"
   ]
  },
  {
   "cell_type": "code",
   "execution_count": 43,
   "metadata": {},
   "outputs": [],
   "source": [
    "result_ace = []\n",
    "for entity in entities_ace:\n",
    "    entity_result = []\n",
    "    query = \"MATCH (p:Paper)-[:PAPER_HAS_BODYTEXTCOLLECTION]-(:BodyTextCollection)-\\\n",
    "                                    [:BODYTEXTCOLLECTION_HAS_BODYTEXT]-(a:BodyText) \\\n",
    "                                    WHERE (LOWER(a.text) CONTAINS '\" + entity + \"')\" + \\\n",
    "                                    \"RETURN DISTINCT p.journal, p.publish_time, p.source, p.title, p.url\"\n",
    "    \n",
    "    with driver.session() as session:\n",
    "        info = session.run(query)\n",
    "        for item in info:\n",
    "            entity_result.append({'journal': item.values()[0], \\\n",
    "                                  \"publish_time\": item.values()[1],\\\n",
    "                                  \"source\": item.values()[2],\\\n",
    "                                  \"title\": item.values()[3],\\\n",
    "                                  \"url\": item.values()[4]})\n",
    "            \n",
    "    result_ace.append({entity:entity_result})"
   ]
  },
  {
   "cell_type": "code",
   "execution_count": 44,
   "metadata": {},
   "outputs": [],
   "source": [
    "with open(\"output/Data_Protein_Gene/Papers/Gene-ACE.json\", 'w') as ace:\n",
    "    json.dump(result_ace, ace)"
   ]
  },
  {
   "cell_type": "markdown",
   "metadata": {},
   "source": [
    "#### Protein ID: P00797, Gene: REN"
   ]
  },
  {
   "cell_type": "code",
   "execution_count": 45,
   "metadata": {},
   "outputs": [],
   "source": [
    "entities_ren = ['renin', 'ec 3.4.23.15', 'angiotensinogenase']"
   ]
  },
  {
   "cell_type": "code",
   "execution_count": 46,
   "metadata": {},
   "outputs": [],
   "source": [
    "result_ren = []\n",
    "for entity in entities_ren:\n",
    "    entity_result = []\n",
    "    query = \"MATCH (p:Paper)-[:PAPER_HAS_BODYTEXTCOLLECTION]-(:BodyTextCollection)-\\\n",
    "                                    [:BODYTEXTCOLLECTION_HAS_BODYTEXT]-(a:BodyText) \\\n",
    "                                    WHERE (LOWER(a.text) CONTAINS '\" + entity + \"')\" + \\\n",
    "                                    \"RETURN DISTINCT p.journal, p.publish_time, p.source, p.title, p.url\"\n",
    "    \n",
    "    with driver.session() as session:\n",
    "        info = session.run(query)\n",
    "        for item in info:\n",
    "            entity_result.append({'journal': item.values()[0], \\\n",
    "                                  \"publish_time\": item.values()[1],\\\n",
    "                                  \"source\": item.values()[2],\\\n",
    "                                  \"title\": item.values()[3],\\\n",
    "                                  \"url\": item.values()[4]})\n",
    "            \n",
    "    result_ren.append({entity:entity_result})"
   ]
  },
  {
   "cell_type": "code",
   "execution_count": 47,
   "metadata": {},
   "outputs": [],
   "source": [
    "with open(\"output/Data_Protein_Gene/Papers/Gene-REN.json\", 'w') as ren:\n",
    "    json.dump(result_ren, ren)"
   ]
  },
  {
   "cell_type": "markdown",
   "metadata": {},
   "source": [
    "#### Protein ID: Q06481, Gene: APLP2 and APPL2"
   ]
  },
  {
   "cell_type": "code",
   "execution_count": 48,
   "metadata": {},
   "outputs": [],
   "source": [
    "entities_apl = ['amyloid-like protein 2', 'aplp-2', 'apph', 'amyloid protein homolog', 'cdei box-binding protein',\\\n",
    "                'cdebp']"
   ]
  },
  {
   "cell_type": "code",
   "execution_count": 49,
   "metadata": {},
   "outputs": [],
   "source": [
    "result_apl = []\n",
    "for entity in entities_apl:\n",
    "    entity_result = []\n",
    "    query = \"MATCH (p:Paper)-[:PAPER_HAS_BODYTEXTCOLLECTION]-(:BodyTextCollection)-\\\n",
    "                                    [:BODYTEXTCOLLECTION_HAS_BODYTEXT]-(a:BodyText) \\\n",
    "                                    WHERE (LOWER(a.text) CONTAINS '\" + entity + \"')\" + \\\n",
    "                                    \"RETURN DISTINCT p.journal, p.publish_time, p.source, p.title, p.url\"\n",
    "    \n",
    "    with driver.session() as session:\n",
    "        info = session.run(query)\n",
    "        for item in info:\n",
    "            entity_result.append({'journal': item.values()[0], \\\n",
    "                                  \"publish_time\": item.values()[1],\\\n",
    "                                  \"source\": item.values()[2],\\\n",
    "                                  \"title\": item.values()[3],\\\n",
    "                                  \"url\": item.values()[4]})\n",
    "            \n",
    "    result_apl.append({entity:entity_result})"
   ]
  },
  {
   "cell_type": "code",
   "execution_count": 50,
   "metadata": {},
   "outputs": [],
   "source": [
    "with open(\"output/Data_Protein_Gene/Papers/Gene-APL.json\", 'w') as apl:\n",
    "    json.dump(result_apl, apl)"
   ]
  },
  {
   "cell_type": "markdown",
   "metadata": {},
   "source": [
    "#### Protein ID: P12277, Gene: CKB and CKBB"
   ]
  },
  {
   "cell_type": "code",
   "execution_count": 51,
   "metadata": {},
   "outputs": [],
   "source": [
    "entities_kcrb = ['creatine kinase b-type', 'b-ck', 'creatine kinase b chain', 'ec 2.7.3.2']"
   ]
  },
  {
   "cell_type": "code",
   "execution_count": 52,
   "metadata": {},
   "outputs": [],
   "source": [
    "result_kcrb = []\n",
    "for entity in entities_kcrb:\n",
    "    entity_result = []\n",
    "    query = \"MATCH (p:Paper)-[:PAPER_HAS_BODYTEXTCOLLECTION]-(:BodyTextCollection)-\\\n",
    "                                    [:BODYTEXTCOLLECTION_HAS_BODYTEXT]-(a:BodyText) \\\n",
    "                                    WHERE (LOWER(a.text) CONTAINS '\" + entity + \"')\" + \\\n",
    "                                    \"RETURN DISTINCT p.journal, p.publish_time, p.source, p.title, p.url\"\n",
    "    \n",
    "    with driver.session() as session:\n",
    "        info = session.run(query)\n",
    "        for item in info:\n",
    "            entity_result.append({'journal': item.values()[0], \\\n",
    "                                  \"publish_time\": item.values()[1],\\\n",
    "                                  \"source\": item.values()[2],\\\n",
    "                                  \"title\": item.values()[3],\\\n",
    "                                  \"url\": item.values()[4]})\n",
    "            \n",
    "    result_kcrb.append({entity:entity_result})"
   ]
  },
  {
   "cell_type": "code",
   "execution_count": 53,
   "metadata": {},
   "outputs": [],
   "source": [
    "with open(\"output/Data_Protein_Gene/Papers/Gene-KCRB.json\", 'w') as kcrb:\n",
    "    json.dump(result_kcrb, kcrb)"
   ]
  },
  {
   "cell_type": "markdown",
   "metadata": {},
   "source": [
    "#### Protein ID: P17540, Gene: CKMT2"
   ]
  },
  {
   "cell_type": "code",
   "execution_count": 54,
   "metadata": {},
   "outputs": [],
   "source": [
    "entities_kcrs = ['creatine kinase s-type', 'mib-ck', 'basic-type mitochondrial creatine kinase', 'ec 2.7.3.2',\\\n",
    "                'sarcomeric mitochondrial creatine kinase', 's-mtck']"
   ]
  },
  {
   "cell_type": "code",
   "execution_count": 55,
   "metadata": {},
   "outputs": [],
   "source": [
    "result_kcrs = []\n",
    "for entity in entities_kcrs:\n",
    "    entity_result = []\n",
    "    query = \"MATCH (p:Paper)-[:PAPER_HAS_BODYTEXTCOLLECTION]-(:BodyTextCollection)-\\\n",
    "                                    [:BODYTEXTCOLLECTION_HAS_BODYTEXT]-(a:BodyText) \\\n",
    "                                    WHERE (LOWER(a.text) CONTAINS '\" + entity + \"')\" + \\\n",
    "                                    \"RETURN DISTINCT p.journal, p.publish_time, p.source, p.title, p.url\"\n",
    "    \n",
    "    with driver.session() as session:\n",
    "        info = session.run(query)\n",
    "        for item in info:\n",
    "            entity_result.append({'journal': item.values()[0], \\\n",
    "                                  \"publish_time\": item.values()[1],\\\n",
    "                                  \"source\": item.values()[2],\\\n",
    "                                  \"title\": item.values()[3],\\\n",
    "                                  \"url\": item.values()[4]})\n",
    "            \n",
    "    result_kcrs.append({entity:entity_result})"
   ]
  },
  {
   "cell_type": "code",
   "execution_count": 56,
   "metadata": {},
   "outputs": [],
   "source": [
    "with open(\"output/Data_Protein_Gene/Papers/Gene-KCRS.json\", 'w') as kcrs:\n",
    "    json.dump(result_kcrs, kcrs)"
   ]
  }
 ],
 "metadata": {
  "kernelspec": {
   "display_name": "Python 3",
   "language": "python",
   "name": "python3"
  },
  "language_info": {
   "codemirror_mode": {
    "name": "ipython",
    "version": 3
   },
   "file_extension": ".py",
   "mimetype": "text/x-python",
   "name": "python",
   "nbconvert_exporter": "python",
   "pygments_lexer": "ipython3",
   "version": "3.6.6"
  }
 },
 "nbformat": 4,
 "nbformat_minor": 2
}
