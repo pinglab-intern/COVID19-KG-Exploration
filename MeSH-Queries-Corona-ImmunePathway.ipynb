{
 "cells": [
  {
   "cell_type": "markdown",
   "metadata": {},
   "source": [
    "### MeSH Based Query Search"
   ]
  },
  {
   "cell_type": "markdown",
   "metadata": {},
   "source": [
    "In this notebook, we will discuss how to search documents based on the Disease described in the CVD tree."
   ]
  },
  {
   "cell_type": "code",
   "execution_count": 1,
   "metadata": {},
   "outputs": [],
   "source": [
    "import pandas as pd\n",
    "import json\n",
    "from neo4j import GraphDatabase\n",
    "import csv"
   ]
  },
  {
   "cell_type": "markdown",
   "metadata": {},
   "source": [
    "#### Authentication to access covidgraph.org graph"
   ]
  },
  {
   "cell_type": "code",
   "execution_count": 2,
   "metadata": {},
   "outputs": [],
   "source": [
    "covid_browser = \"https://covid.petesis.com:7473\"\n",
    "covid_url = \"bolt://covid.petesis.com:7687\"\n",
    "user = \"public\"\n",
    "password = \"corona\"\n",
    "\n",
    "#driver = GraphDatabase.driver(uri, auth=(user, password))\n",
    "driver = GraphDatabase.driver(uri = covid_url,\\\n",
    "                              auth = (user,password))"
   ]
  },
  {
   "cell_type": "markdown",
   "metadata": {},
   "source": [
    "#### MeSH descriptor to its entity list\n",
    "- Ex. ```C01.925.782.600.550.200.360: [feline infectious peritonitis]```\n",
    "- Pandas Dataframe is very convenient for handeling a CSV file specifically for data transformation with ```lambda``` mapping functon."
   ]
  },
  {
   "cell_type": "markdown",
   "metadata": {},
   "source": [
    "#### First obtain MeSH terms related to corona"
   ]
  },
  {
   "cell_type": "code",
   "execution_count": 3,
   "metadata": {},
   "outputs": [
    {
     "data": {
      "text/html": [
       "<div>\n",
       "<style scoped>\n",
       "    .dataframe tbody tr th:only-of-type {\n",
       "        vertical-align: middle;\n",
       "    }\n",
       "\n",
       "    .dataframe tbody tr th {\n",
       "        vertical-align: top;\n",
       "    }\n",
       "\n",
       "    .dataframe thead th {\n",
       "        text-align: right;\n",
       "    }\n",
       "</style>\n",
       "<table border=\"1\" class=\"dataframe\">\n",
       "  <thead>\n",
       "    <tr style=\"text-align: right;\">\n",
       "      <th></th>\n",
       "      <th>name</th>\n",
       "    </tr>\n",
       "    <tr>\n",
       "      <th>ID</th>\n",
       "      <th></th>\n",
       "    </tr>\n",
       "  </thead>\n",
       "  <tbody>\n",
       "    <tr>\n",
       "      <th>C01.925.782.600.550.200</th>\n",
       "      <td>Coronavirus Infections</td>\n",
       "    </tr>\n",
       "    <tr>\n",
       "      <th>C01.925.782.600.550.200.325</th>\n",
       "      <td>Enteritis, Transmissible, of Turkeys</td>\n",
       "    </tr>\n",
       "    <tr>\n",
       "      <th>C01.925.782.600.550.200.360</th>\n",
       "      <td>Feline Infectious Peritonitis</td>\n",
       "    </tr>\n",
       "    <tr>\n",
       "      <th>C01.925.782.600.550.200.400</th>\n",
       "      <td>Gastroenteritis, Transmissible, of Swine</td>\n",
       "    </tr>\n",
       "    <tr>\n",
       "      <th>C01.925.782.600.550.200.750</th>\n",
       "      <td>Severe Acute Respiratory Syndrome</td>\n",
       "    </tr>\n",
       "  </tbody>\n",
       "</table>\n",
       "</div>"
      ],
      "text/plain": [
       "                                                                 name\n",
       "ID                                                                   \n",
       "C01.925.782.600.550.200                        Coronavirus Infections\n",
       "C01.925.782.600.550.200.325      Enteritis, Transmissible, of Turkeys\n",
       "C01.925.782.600.550.200.360             Feline Infectious Peritonitis\n",
       "C01.925.782.600.550.200.400  Gastroenteritis, Transmissible, of Swine\n",
       "C01.925.782.600.550.200.750         Severe Acute Respiratory Syndrome"
      ]
     },
     "execution_count": 3,
     "metadata": {},
     "output_type": "execute_result"
    }
   ],
   "source": [
    "MeSH_corona = pd.read_csv(\"input/mesh/corona.csv\")\n",
    "MeSH_corona = MeSH_corona.set_index('ID')\n",
    "MeSH_corona.head()"
   ]
  },
  {
   "cell_type": "markdown",
   "metadata": {},
   "source": [
    "- Implementing ```lambda``` function to map one column to another column"
   ]
  },
  {
   "cell_type": "code",
   "execution_count": 4,
   "metadata": {},
   "outputs": [],
   "source": [
    "MeSH_corona['phrases'] = MeSH_corona['name'].apply(lambda x: x.lower().strip())"
   ]
  },
  {
   "cell_type": "code",
   "execution_count": 5,
   "metadata": {},
   "outputs": [
    {
     "data": {
      "text/html": [
       "<div>\n",
       "<style scoped>\n",
       "    .dataframe tbody tr th:only-of-type {\n",
       "        vertical-align: middle;\n",
       "    }\n",
       "\n",
       "    .dataframe tbody tr th {\n",
       "        vertical-align: top;\n",
       "    }\n",
       "\n",
       "    .dataframe thead th {\n",
       "        text-align: right;\n",
       "    }\n",
       "</style>\n",
       "<table border=\"1\" class=\"dataframe\">\n",
       "  <thead>\n",
       "    <tr style=\"text-align: right;\">\n",
       "      <th></th>\n",
       "      <th>name</th>\n",
       "      <th>phrases</th>\n",
       "    </tr>\n",
       "    <tr>\n",
       "      <th>ID</th>\n",
       "      <th></th>\n",
       "      <th></th>\n",
       "    </tr>\n",
       "  </thead>\n",
       "  <tbody>\n",
       "    <tr>\n",
       "      <th>C01.925.782.600.550.200</th>\n",
       "      <td>Coronavirus Infections</td>\n",
       "      <td>coronavirus infections</td>\n",
       "    </tr>\n",
       "    <tr>\n",
       "      <th>C01.925.782.600.550.200.325</th>\n",
       "      <td>Enteritis, Transmissible, of Turkeys</td>\n",
       "      <td>enteritis, transmissible, of turkeys</td>\n",
       "    </tr>\n",
       "    <tr>\n",
       "      <th>C01.925.782.600.550.200.360</th>\n",
       "      <td>Feline Infectious Peritonitis</td>\n",
       "      <td>feline infectious peritonitis</td>\n",
       "    </tr>\n",
       "    <tr>\n",
       "      <th>C01.925.782.600.550.200.400</th>\n",
       "      <td>Gastroenteritis, Transmissible, of Swine</td>\n",
       "      <td>gastroenteritis, transmissible, of swine</td>\n",
       "    </tr>\n",
       "    <tr>\n",
       "      <th>C01.925.782.600.550.200.750</th>\n",
       "      <td>Severe Acute Respiratory Syndrome</td>\n",
       "      <td>severe acute respiratory syndrome</td>\n",
       "    </tr>\n",
       "  </tbody>\n",
       "</table>\n",
       "</div>"
      ],
      "text/plain": [
       "                                                                 name  \\\n",
       "ID                                                                      \n",
       "C01.925.782.600.550.200                        Coronavirus Infections   \n",
       "C01.925.782.600.550.200.325      Enteritis, Transmissible, of Turkeys   \n",
       "C01.925.782.600.550.200.360             Feline Infectious Peritonitis   \n",
       "C01.925.782.600.550.200.400  Gastroenteritis, Transmissible, of Swine   \n",
       "C01.925.782.600.550.200.750         Severe Acute Respiratory Syndrome   \n",
       "\n",
       "                                                              phrases  \n",
       "ID                                                                     \n",
       "C01.925.782.600.550.200                        coronavirus infections  \n",
       "C01.925.782.600.550.200.325      enteritis, transmissible, of turkeys  \n",
       "C01.925.782.600.550.200.360             feline infectious peritonitis  \n",
       "C01.925.782.600.550.200.400  gastroenteritis, transmissible, of swine  \n",
       "C01.925.782.600.550.200.750         severe acute respiratory syndrome  "
      ]
     },
     "execution_count": 5,
     "metadata": {},
     "output_type": "execute_result"
    }
   ],
   "source": [
    "MeSH_corona.head()"
   ]
  },
  {
   "cell_type": "code",
   "execution_count": 6,
   "metadata": {},
   "outputs": [],
   "source": [
    "MeSH_corona['phrases'] = MeSH_corona['phrases'].apply(lambda x:x.split(','))"
   ]
  },
  {
   "cell_type": "code",
   "execution_count": 7,
   "metadata": {},
   "outputs": [
    {
     "data": {
      "text/html": [
       "<div>\n",
       "<style scoped>\n",
       "    .dataframe tbody tr th:only-of-type {\n",
       "        vertical-align: middle;\n",
       "    }\n",
       "\n",
       "    .dataframe tbody tr th {\n",
       "        vertical-align: top;\n",
       "    }\n",
       "\n",
       "    .dataframe thead th {\n",
       "        text-align: right;\n",
       "    }\n",
       "</style>\n",
       "<table border=\"1\" class=\"dataframe\">\n",
       "  <thead>\n",
       "    <tr style=\"text-align: right;\">\n",
       "      <th></th>\n",
       "      <th>name</th>\n",
       "      <th>phrases</th>\n",
       "    </tr>\n",
       "    <tr>\n",
       "      <th>ID</th>\n",
       "      <th></th>\n",
       "      <th></th>\n",
       "    </tr>\n",
       "  </thead>\n",
       "  <tbody>\n",
       "    <tr>\n",
       "      <th>C01.925.782.600.550.200</th>\n",
       "      <td>Coronavirus Infections</td>\n",
       "      <td>[coronavirus infections]</td>\n",
       "    </tr>\n",
       "    <tr>\n",
       "      <th>C01.925.782.600.550.200.325</th>\n",
       "      <td>Enteritis, Transmissible, of Turkeys</td>\n",
       "      <td>[enteritis,  transmissible,  of turkeys]</td>\n",
       "    </tr>\n",
       "    <tr>\n",
       "      <th>C01.925.782.600.550.200.360</th>\n",
       "      <td>Feline Infectious Peritonitis</td>\n",
       "      <td>[feline infectious peritonitis]</td>\n",
       "    </tr>\n",
       "    <tr>\n",
       "      <th>C01.925.782.600.550.200.400</th>\n",
       "      <td>Gastroenteritis, Transmissible, of Swine</td>\n",
       "      <td>[gastroenteritis,  transmissible,  of swine]</td>\n",
       "    </tr>\n",
       "    <tr>\n",
       "      <th>C01.925.782.600.550.200.750</th>\n",
       "      <td>Severe Acute Respiratory Syndrome</td>\n",
       "      <td>[severe acute respiratory syndrome]</td>\n",
       "    </tr>\n",
       "  </tbody>\n",
       "</table>\n",
       "</div>"
      ],
      "text/plain": [
       "                                                                 name  \\\n",
       "ID                                                                      \n",
       "C01.925.782.600.550.200                        Coronavirus Infections   \n",
       "C01.925.782.600.550.200.325      Enteritis, Transmissible, of Turkeys   \n",
       "C01.925.782.600.550.200.360             Feline Infectious Peritonitis   \n",
       "C01.925.782.600.550.200.400  Gastroenteritis, Transmissible, of Swine   \n",
       "C01.925.782.600.550.200.750         Severe Acute Respiratory Syndrome   \n",
       "\n",
       "                                                                  phrases  \n",
       "ID                                                                         \n",
       "C01.925.782.600.550.200                          [coronavirus infections]  \n",
       "C01.925.782.600.550.200.325      [enteritis,  transmissible,  of turkeys]  \n",
       "C01.925.782.600.550.200.360               [feline infectious peritonitis]  \n",
       "C01.925.782.600.550.200.400  [gastroenteritis,  transmissible,  of swine]  \n",
       "C01.925.782.600.550.200.750           [severe acute respiratory syndrome]  "
      ]
     },
     "execution_count": 7,
     "metadata": {},
     "output_type": "execute_result"
    }
   ],
   "source": [
    "MeSH_corona.head()"
   ]
  },
  {
   "cell_type": "markdown",
   "metadata": {},
   "source": [
    "#### Obtaining immune system pathway terms"
   ]
  },
  {
   "cell_type": "code",
   "execution_count": 8,
   "metadata": {},
   "outputs": [
    {
     "data": {
      "text/html": [
       "<div>\n",
       "<style scoped>\n",
       "    .dataframe tbody tr th:only-of-type {\n",
       "        vertical-align: middle;\n",
       "    }\n",
       "\n",
       "    .dataframe tbody tr th {\n",
       "        vertical-align: top;\n",
       "    }\n",
       "\n",
       "    .dataframe thead th {\n",
       "        text-align: right;\n",
       "    }\n",
       "</style>\n",
       "<table border=\"1\" class=\"dataframe\">\n",
       "  <thead>\n",
       "    <tr style=\"text-align: right;\">\n",
       "      <th></th>\n",
       "      <th>name</th>\n",
       "      <th>species</th>\n",
       "    </tr>\n",
       "    <tr>\n",
       "      <th>RID</th>\n",
       "      <th></th>\n",
       "      <th></th>\n",
       "    </tr>\n",
       "  </thead>\n",
       "  <tbody>\n",
       "    <tr>\n",
       "      <th>R-HSA-174577</th>\n",
       "      <td>Activation of C3 and C5</td>\n",
       "      <td>Homo sapiens</td>\n",
       "    </tr>\n",
       "    <tr>\n",
       "      <th>R-HSA-1280218</th>\n",
       "      <td>Adaptive Immune System</td>\n",
       "      <td>Homo sapiens</td>\n",
       "    </tr>\n",
       "    <tr>\n",
       "      <th>R-HSA-879415</th>\n",
       "      <td>Advanced glycosylation endproduct receptor sig...</td>\n",
       "      <td>Homo sapiens</td>\n",
       "    </tr>\n",
       "    <tr>\n",
       "      <th>R-HSA-173736</th>\n",
       "      <td>Alternative complement activation</td>\n",
       "      <td>Homo sapiens</td>\n",
       "    </tr>\n",
       "    <tr>\n",
       "      <th>R-HSA-983170</th>\n",
       "      <td>Antigen Presentation: Folding, assembly and pe...</td>\n",
       "      <td>Homo sapiens</td>\n",
       "    </tr>\n",
       "  </tbody>\n",
       "</table>\n",
       "</div>"
      ],
      "text/plain": [
       "                                                            name       species\n",
       "RID                                                                           \n",
       "R-HSA-174577                             Activation of C3 and C5  Homo sapiens\n",
       "R-HSA-1280218                             Adaptive Immune System  Homo sapiens\n",
       "R-HSA-879415   Advanced glycosylation endproduct receptor sig...  Homo sapiens\n",
       "R-HSA-173736                   Alternative complement activation  Homo sapiens\n",
       "R-HSA-983170   Antigen Presentation: Folding, assembly and pe...  Homo sapiens"
      ]
     },
     "execution_count": 8,
     "metadata": {},
     "output_type": "execute_result"
    }
   ],
   "source": [
    "MeSH_immune = pd.read_csv(\"input/pathways/immune_system_pathways.csv\", index_col=0)\n",
    "MeSH_immune = MeSH_immune.set_index('RID')\n",
    "MeSH_immune.head()"
   ]
  },
  {
   "cell_type": "code",
   "execution_count": 9,
   "metadata": {},
   "outputs": [
    {
     "data": {
      "text/html": [
       "<div>\n",
       "<style scoped>\n",
       "    .dataframe tbody tr th:only-of-type {\n",
       "        vertical-align: middle;\n",
       "    }\n",
       "\n",
       "    .dataframe tbody tr th {\n",
       "        vertical-align: top;\n",
       "    }\n",
       "\n",
       "    .dataframe thead th {\n",
       "        text-align: right;\n",
       "    }\n",
       "</style>\n",
       "<table border=\"1\" class=\"dataframe\">\n",
       "  <thead>\n",
       "    <tr style=\"text-align: right;\">\n",
       "      <th></th>\n",
       "      <th>name</th>\n",
       "    </tr>\n",
       "    <tr>\n",
       "      <th>RID</th>\n",
       "      <th></th>\n",
       "    </tr>\n",
       "  </thead>\n",
       "  <tbody>\n",
       "    <tr>\n",
       "      <th>R-HSA-174577</th>\n",
       "      <td>activation of c3 and c5</td>\n",
       "    </tr>\n",
       "    <tr>\n",
       "      <th>R-HSA-1280218</th>\n",
       "      <td>adaptive immune system</td>\n",
       "    </tr>\n",
       "    <tr>\n",
       "      <th>R-HSA-879415</th>\n",
       "      <td>advanced glycosylation endproduct receptor sig...</td>\n",
       "    </tr>\n",
       "    <tr>\n",
       "      <th>R-HSA-173736</th>\n",
       "      <td>alternative complement activation</td>\n",
       "    </tr>\n",
       "    <tr>\n",
       "      <th>R-HSA-983170</th>\n",
       "      <td>antigen presentation: folding, assembly and pe...</td>\n",
       "    </tr>\n",
       "  </tbody>\n",
       "</table>\n",
       "</div>"
      ],
      "text/plain": [
       "                                                            name\n",
       "RID                                                             \n",
       "R-HSA-174577                             activation of c3 and c5\n",
       "R-HSA-1280218                             adaptive immune system\n",
       "R-HSA-879415   advanced glycosylation endproduct receptor sig...\n",
       "R-HSA-173736                   alternative complement activation\n",
       "R-HSA-983170   antigen presentation: folding, assembly and pe..."
      ]
     },
     "execution_count": 9,
     "metadata": {},
     "output_type": "execute_result"
    }
   ],
   "source": [
    "MeSH_immune['name'] = MeSH_immune['name'].apply(lambda x: x.lower().strip())\n",
    "MeSH_immune = MeSH_immune.drop(columns='species')\n",
    "MeSH_immune.head()"
   ]
  },
  {
   "cell_type": "code",
   "execution_count": 10,
   "metadata": {},
   "outputs": [],
   "source": [
    "MeSH_immune['name'] = MeSH_immune['name'].apply(lambda x: x.split(':')[0].strip())\n",
    "MeSH_immune['name'] = MeSH_immune['name'].apply(lambda x: x.split('&'))"
   ]
  },
  {
   "cell_type": "code",
   "execution_count": 11,
   "metadata": {},
   "outputs": [],
   "source": [
    "for val_list in MeSH_immune['name'].values:\n",
    "    for val in val_list:\n",
    "        val.strip()\n",
    "        if '(' in val:\n",
    "            open_in = val.find('(')\n",
    "            close_in = val.find(')')\n",
    "            val = val[0:open_in].strip() + ' ' + val[close_in+1:len(val)].strip()\n",
    "            val_list.append(val[open_in:close_in].strip())"
   ]
  },
  {
   "cell_type": "code",
   "execution_count": 12,
   "metadata": {},
   "outputs": [
    {
     "data": {
      "text/html": [
       "<div>\n",
       "<style scoped>\n",
       "    .dataframe tbody tr th:only-of-type {\n",
       "        vertical-align: middle;\n",
       "    }\n",
       "\n",
       "    .dataframe tbody tr th {\n",
       "        vertical-align: top;\n",
       "    }\n",
       "\n",
       "    .dataframe thead th {\n",
       "        text-align: right;\n",
       "    }\n",
       "</style>\n",
       "<table border=\"1\" class=\"dataframe\">\n",
       "  <thead>\n",
       "    <tr style=\"text-align: right;\">\n",
       "      <th></th>\n",
       "      <th>name</th>\n",
       "    </tr>\n",
       "    <tr>\n",
       "      <th>RID</th>\n",
       "      <th></th>\n",
       "    </tr>\n",
       "  </thead>\n",
       "  <tbody>\n",
       "    <tr>\n",
       "      <th>R-HSA-174577</th>\n",
       "      <td>[activation of c3 and c5]</td>\n",
       "    </tr>\n",
       "    <tr>\n",
       "      <th>R-HSA-1280218</th>\n",
       "      <td>[adaptive immune system]</td>\n",
       "    </tr>\n",
       "    <tr>\n",
       "      <th>R-HSA-879415</th>\n",
       "      <td>[advanced glycosylation endproduct receptor si...</td>\n",
       "    </tr>\n",
       "    <tr>\n",
       "      <th>R-HSA-173736</th>\n",
       "      <td>[alternative complement activation]</td>\n",
       "    </tr>\n",
       "    <tr>\n",
       "      <th>R-HSA-983170</th>\n",
       "      <td>[antigen presentation]</td>\n",
       "    </tr>\n",
       "  </tbody>\n",
       "</table>\n",
       "</div>"
      ],
      "text/plain": [
       "                                                            name\n",
       "RID                                                             \n",
       "R-HSA-174577                           [activation of c3 and c5]\n",
       "R-HSA-1280218                           [adaptive immune system]\n",
       "R-HSA-879415   [advanced glycosylation endproduct receptor si...\n",
       "R-HSA-173736                 [alternative complement activation]\n",
       "R-HSA-983170                              [antigen presentation]"
      ]
     },
     "execution_count": 12,
     "metadata": {},
     "output_type": "execute_result"
    }
   ],
   "source": [
    "MeSH_immune.head()"
   ]
  },
  {
   "cell_type": "markdown",
   "metadata": {},
   "source": [
    "#### Combine value sets (corona mesh descriptions and immune pathways)"
   ]
  },
  {
   "cell_type": "code",
   "execution_count": 13,
   "metadata": {},
   "outputs": [],
   "source": [
    "all_ = [(x, y) for x in MeSH_corona['phrases'] for y in MeSH_immune['name']]"
   ]
  },
  {
   "cell_type": "code",
   "execution_count": 14,
   "metadata": {},
   "outputs": [
    {
     "data": {
      "text/plain": [
       "[(['coronavirus infections'], ['activation of c3 and c5']),\n",
       " (['coronavirus infections'], ['adaptive immune system']),\n",
       " (['coronavirus infections'],\n",
       "  ['advanced glycosylation endproduct receptor signaling']),\n",
       " (['coronavirus infections'], ['alternative complement activation'])]"
      ]
     },
     "execution_count": 14,
     "metadata": {},
     "output_type": "execute_result"
    }
   ],
   "source": [
    "all_[0:4]"
   ]
  },
  {
   "cell_type": "markdown",
   "metadata": {},
   "source": [
    "#### MeSH to Doc Mapping\n",
    "- Create a dictionary where the key is a MeSH descriptor, and the value is a list of papers (publications) that contains mention of the MeSH terms in its body text\n",
    "- Each paper is represented as dictionary linking each attribute name in the paper (cord_uid, journal, title, etc.) with its actual information"
   ]
  },
  {
   "cell_type": "markdown",
   "metadata": {},
   "source": [
    "##### Example of a paper node in the covid graph"
   ]
  },
  {
   "cell_type": "code",
   "execution_count": 15,
   "metadata": {},
   "outputs": [
    {
     "name": "stdout",
     "output_type": "stream",
     "text": [
      "<Record n=<Node id=3198 labels={'Paper'} properties={'cord_uid': 'zrmkq3mz', 'cord19-fulltext_hash': '41c7a01f11ed47591d99f45774e43e45aeba0619', 'journal': 'BMC Microbiol', 'publish_time': '2009-08-12', 'source': 'PMC', 'title': 'CAPIH: A Web interface for comparative analyses and visualization of host-HIV protein-protein interactions', '_hash_id': '3c4b2ee1430dc9ac53aca87c0fc0f7eb', 'url': 'https://www.ncbi.nlm.nih.gov/pmc/articles/PMC2782265/'}>>\n"
     ]
    }
   ],
   "source": [
    "paper_query = \"MATCH (n:Paper) RETURN n LIMIT 1\"\n",
    "Data = []\n",
    "with driver.session() as session:\n",
    "    info = session.run(paper_query)\n",
    "    for item in info:\n",
    "        print(item)"
   ]
  },
  {
   "cell_type": "markdown",
   "metadata": {},
   "source": [
    "#### Writes data to file"
   ]
  },
  {
   "cell_type": "code",
   "execution_count": 22,
   "metadata": {},
   "outputs": [],
   "source": [
    "ff = open(\"data/mesh_queries_corona_immune.json\", 'w')"
   ]
  },
  {
   "cell_type": "code",
   "execution_count": null,
   "metadata": {},
   "outputs": [],
   "source": [
    "for corona, immune in all_:\n",
    "    #Builds each part of the query based on the MeSH descriptor entity list\n",
    "    query = \"MATCH (p:Paper)-[:PAPER_HAS_BODYTEXTCOLLECTION]-(:BodyTextCollection)-\" \\\n",
    "                                        \"[:BODYTEXTCOLLECTION_HAS_BODYTEXT]-(a:BodyText) WHERE (\"\n",
    "    for i in range(len(corona)):\n",
    "        query += \"LOWER(a.text) CONTAINS '\" + corona[i] + \"' AND \"\n",
    "        for j in range(len(immune)):\n",
    "            if i == len(corona)-1 and j == len(immune)-1 :\n",
    "                query += \"LOWER(a.text) CONTAINS '\" + immune[j] + \"') RETURN DISTINCT p\"\n",
    "            else:\n",
    "                query += \"LOWER(a.text) CONTAINS '\" + immune[j] + \"' AND \"\n",
    "\n",
    "    MeSH_result = []\n",
    "    \n",
    "    with driver.session() as session:\n",
    "        info = session.run(query)\n",
    "        for item in info:\n",
    "            try:\n",
    "                node_keys = list((item.values(0)[0]).keys())\n",
    "                node_values = list((item.values(0)[0]).values())\n",
    "                paper = {}\n",
    "                for i in range(len(node_keys)):\n",
    "                    paper[node_keys[i]] = node_values[i]\n",
    "                MeSH_result.append(paper)\n",
    "            except:\n",
    "                continue\n",
    "    \n",
    "    if MeSH_result != []:\n",
    "        json.dump(MeSH_result, ff)\n",
    "\n",
    "ff.close()"
   ]
  }
 ],
 "metadata": {
  "kernelspec": {
   "display_name": "Python 3",
   "language": "python",
   "name": "python3"
  },
  "language_info": {
   "codemirror_mode": {
    "name": "ipython",
    "version": 3
   },
   "file_extension": ".py",
   "mimetype": "text/x-python",
   "name": "python",
   "nbconvert_exporter": "python",
   "pygments_lexer": "ipython3",
   "version": "3.6.6"
  }
 },
 "nbformat": 4,
 "nbformat_minor": 2
}
