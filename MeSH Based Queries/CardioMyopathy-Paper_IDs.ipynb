{
 "cells": [
  {
   "cell_type": "markdown",
   "metadata": {},
   "source": [
    "### MeSH Based Query Search"
   ]
  },
  {
   "cell_type": "markdown",
   "metadata": {},
   "source": [
    "In this notebook, we will discuss how to search documents based on the Disease described in the CVD tree."
   ]
  },
  {
   "cell_type": "code",
   "execution_count": 1,
   "metadata": {},
   "outputs": [],
   "source": [
    "import pandas as pd\n",
    "import json\n",
    "from neo4j import GraphDatabase\n",
    "import csv"
   ]
  },
  {
   "cell_type": "markdown",
   "metadata": {},
   "source": [
    "#### Authentication to access covidgraph.org graph"
   ]
  },
  {
   "cell_type": "code",
   "execution_count": 2,
   "metadata": {},
   "outputs": [],
   "source": [
    "covid_browser = \"https://covid.petesis.com:7473\"\n",
    "covid_url = \"bolt://covid.petesis.com:7687\"\n",
    "user = \"public\"\n",
    "password = \"corona\"\n",
    "\n",
    "#driver = GraphDatabase.driver(uri, auth=(user, password))\n",
    "driver = GraphDatabase.driver(uri = covid_url,\\\n",
    "                              auth = (user,password))"
   ]
  },
  {
   "cell_type": "markdown",
   "metadata": {},
   "source": [
    "#### MeSH descriptor to its entity list\n",
    "- Ex. ```C14.260.500: [syphilis, cardiovascular]```\n",
    "- Pandas Dataframe is very convenient for handeling a CSV file specifically for data transformation with ```lambda``` mapping functon."
   ]
  },
  {
   "cell_type": "code",
   "execution_count": 3,
   "metadata": {},
   "outputs": [
    {
     "data": {
      "text/html": [
       "<div>\n",
       "<style scoped>\n",
       "    .dataframe tbody tr th:only-of-type {\n",
       "        vertical-align: middle;\n",
       "    }\n",
       "\n",
       "    .dataframe tbody tr th {\n",
       "        vertical-align: top;\n",
       "    }\n",
       "\n",
       "    .dataframe thead th {\n",
       "        text-align: right;\n",
       "    }\n",
       "</style>\n",
       "<table border=\"1\" class=\"dataframe\">\n",
       "  <thead>\n",
       "    <tr style=\"text-align: right;\">\n",
       "      <th></th>\n",
       "      <th>name</th>\n",
       "    </tr>\n",
       "    <tr>\n",
       "      <th>ID</th>\n",
       "      <th></th>\n",
       "    </tr>\n",
       "  </thead>\n",
       "  <tbody>\n",
       "    <tr>\n",
       "      <th>C14.280.238</th>\n",
       "      <td>Cardiomyopathies</td>\n",
       "    </tr>\n",
       "    <tr>\n",
       "      <th>C14.280.238.028</th>\n",
       "      <td>Arrhythmogenic Right Ventricular Dysplasia</td>\n",
       "    </tr>\n",
       "    <tr>\n",
       "      <th>C14.280.238.057</th>\n",
       "      <td>Cardiomyopathy, Alcoholic</td>\n",
       "    </tr>\n",
       "    <tr>\n",
       "      <th>C14.280.238.070</th>\n",
       "      <td>Cardiomyopathy, Dilated</td>\n",
       "    </tr>\n",
       "    <tr>\n",
       "      <th>C14.280.238.100</th>\n",
       "      <td>Cardiomyopathy, Hypertrophic</td>\n",
       "    </tr>\n",
       "  </tbody>\n",
       "</table>\n",
       "</div>"
      ],
      "text/plain": [
       "                                                       name\n",
       "ID                                                         \n",
       "C14.280.238                                Cardiomyopathies\n",
       "C14.280.238.028  Arrhythmogenic Right Ventricular Dysplasia\n",
       "C14.280.238.057                   Cardiomyopathy, Alcoholic\n",
       "C14.280.238.070                     Cardiomyopathy, Dilated\n",
       "C14.280.238.100                Cardiomyopathy, Hypertrophic"
      ]
     },
     "execution_count": 3,
     "metadata": {},
     "output_type": "execute_result"
    }
   ],
   "source": [
    "MeSH = pd.read_csv(\"../Input/mesh/cardio_myopathy.csv\")\n",
    "MeSH = MeSH.set_index('ID')\n",
    "MeSH.head()"
   ]
  },
  {
   "cell_type": "markdown",
   "metadata": {},
   "source": [
    "- Implementing ```lambda``` function to map one column to another column"
   ]
  },
  {
   "cell_type": "code",
   "execution_count": 4,
   "metadata": {},
   "outputs": [],
   "source": [
    "MeSH['phrases'] = MeSH['name'].apply(lambda x: x.lower().strip())"
   ]
  },
  {
   "cell_type": "code",
   "execution_count": 5,
   "metadata": {},
   "outputs": [
    {
     "data": {
      "text/html": [
       "<div>\n",
       "<style scoped>\n",
       "    .dataframe tbody tr th:only-of-type {\n",
       "        vertical-align: middle;\n",
       "    }\n",
       "\n",
       "    .dataframe tbody tr th {\n",
       "        vertical-align: top;\n",
       "    }\n",
       "\n",
       "    .dataframe thead th {\n",
       "        text-align: right;\n",
       "    }\n",
       "</style>\n",
       "<table border=\"1\" class=\"dataframe\">\n",
       "  <thead>\n",
       "    <tr style=\"text-align: right;\">\n",
       "      <th></th>\n",
       "      <th>name</th>\n",
       "      <th>phrases</th>\n",
       "    </tr>\n",
       "    <tr>\n",
       "      <th>ID</th>\n",
       "      <th></th>\n",
       "      <th></th>\n",
       "    </tr>\n",
       "  </thead>\n",
       "  <tbody>\n",
       "    <tr>\n",
       "      <th>C14.280.238</th>\n",
       "      <td>Cardiomyopathies</td>\n",
       "      <td>cardiomyopathies</td>\n",
       "    </tr>\n",
       "    <tr>\n",
       "      <th>C14.280.238.028</th>\n",
       "      <td>Arrhythmogenic Right Ventricular Dysplasia</td>\n",
       "      <td>arrhythmogenic right ventricular dysplasia</td>\n",
       "    </tr>\n",
       "    <tr>\n",
       "      <th>C14.280.238.057</th>\n",
       "      <td>Cardiomyopathy, Alcoholic</td>\n",
       "      <td>cardiomyopathy, alcoholic</td>\n",
       "    </tr>\n",
       "    <tr>\n",
       "      <th>C14.280.238.070</th>\n",
       "      <td>Cardiomyopathy, Dilated</td>\n",
       "      <td>cardiomyopathy, dilated</td>\n",
       "    </tr>\n",
       "    <tr>\n",
       "      <th>C14.280.238.100</th>\n",
       "      <td>Cardiomyopathy, Hypertrophic</td>\n",
       "      <td>cardiomyopathy, hypertrophic</td>\n",
       "    </tr>\n",
       "  </tbody>\n",
       "</table>\n",
       "</div>"
      ],
      "text/plain": [
       "                                                       name  \\\n",
       "ID                                                            \n",
       "C14.280.238                                Cardiomyopathies   \n",
       "C14.280.238.028  Arrhythmogenic Right Ventricular Dysplasia   \n",
       "C14.280.238.057                   Cardiomyopathy, Alcoholic   \n",
       "C14.280.238.070                     Cardiomyopathy, Dilated   \n",
       "C14.280.238.100                Cardiomyopathy, Hypertrophic   \n",
       "\n",
       "                                                    phrases  \n",
       "ID                                                           \n",
       "C14.280.238                                cardiomyopathies  \n",
       "C14.280.238.028  arrhythmogenic right ventricular dysplasia  \n",
       "C14.280.238.057                   cardiomyopathy, alcoholic  \n",
       "C14.280.238.070                     cardiomyopathy, dilated  \n",
       "C14.280.238.100                cardiomyopathy, hypertrophic  "
      ]
     },
     "execution_count": 5,
     "metadata": {},
     "output_type": "execute_result"
    }
   ],
   "source": [
    "MeSH.head()"
   ]
  },
  {
   "cell_type": "code",
   "execution_count": 6,
   "metadata": {},
   "outputs": [],
   "source": [
    "MeSH['phrases'] = MeSH['phrases'].apply(lambda x:x.split(','))"
   ]
  },
  {
   "cell_type": "code",
   "execution_count": 7,
   "metadata": {},
   "outputs": [],
   "source": [
    "for x in MeSH['phrases']:\n",
    "    for val in x:\n",
    "        val = val.strip()"
   ]
  },
  {
   "cell_type": "code",
   "execution_count": 8,
   "metadata": {},
   "outputs": [
    {
     "data": {
      "text/html": [
       "<div>\n",
       "<style scoped>\n",
       "    .dataframe tbody tr th:only-of-type {\n",
       "        vertical-align: middle;\n",
       "    }\n",
       "\n",
       "    .dataframe tbody tr th {\n",
       "        vertical-align: top;\n",
       "    }\n",
       "\n",
       "    .dataframe thead th {\n",
       "        text-align: right;\n",
       "    }\n",
       "</style>\n",
       "<table border=\"1\" class=\"dataframe\">\n",
       "  <thead>\n",
       "    <tr style=\"text-align: right;\">\n",
       "      <th></th>\n",
       "      <th>name</th>\n",
       "      <th>phrases</th>\n",
       "    </tr>\n",
       "    <tr>\n",
       "      <th>ID</th>\n",
       "      <th></th>\n",
       "      <th></th>\n",
       "    </tr>\n",
       "  </thead>\n",
       "  <tbody>\n",
       "    <tr>\n",
       "      <th>C14.280.238</th>\n",
       "      <td>Cardiomyopathies</td>\n",
       "      <td>[cardiomyopathies]</td>\n",
       "    </tr>\n",
       "    <tr>\n",
       "      <th>C14.280.238.028</th>\n",
       "      <td>Arrhythmogenic Right Ventricular Dysplasia</td>\n",
       "      <td>[arrhythmogenic right ventricular dysplasia]</td>\n",
       "    </tr>\n",
       "    <tr>\n",
       "      <th>C14.280.238.057</th>\n",
       "      <td>Cardiomyopathy, Alcoholic</td>\n",
       "      <td>[cardiomyopathy,  alcoholic]</td>\n",
       "    </tr>\n",
       "    <tr>\n",
       "      <th>C14.280.238.070</th>\n",
       "      <td>Cardiomyopathy, Dilated</td>\n",
       "      <td>[cardiomyopathy,  dilated]</td>\n",
       "    </tr>\n",
       "    <tr>\n",
       "      <th>C14.280.238.100</th>\n",
       "      <td>Cardiomyopathy, Hypertrophic</td>\n",
       "      <td>[cardiomyopathy,  hypertrophic]</td>\n",
       "    </tr>\n",
       "  </tbody>\n",
       "</table>\n",
       "</div>"
      ],
      "text/plain": [
       "                                                       name  \\\n",
       "ID                                                            \n",
       "C14.280.238                                Cardiomyopathies   \n",
       "C14.280.238.028  Arrhythmogenic Right Ventricular Dysplasia   \n",
       "C14.280.238.057                   Cardiomyopathy, Alcoholic   \n",
       "C14.280.238.070                     Cardiomyopathy, Dilated   \n",
       "C14.280.238.100                Cardiomyopathy, Hypertrophic   \n",
       "\n",
       "                                                      phrases  \n",
       "ID                                                             \n",
       "C14.280.238                                [cardiomyopathies]  \n",
       "C14.280.238.028  [arrhythmogenic right ventricular dysplasia]  \n",
       "C14.280.238.057                  [cardiomyopathy,  alcoholic]  \n",
       "C14.280.238.070                    [cardiomyopathy,  dilated]  \n",
       "C14.280.238.100               [cardiomyopathy,  hypertrophic]  "
      ]
     },
     "execution_count": 8,
     "metadata": {},
     "output_type": "execute_result"
    }
   ],
   "source": [
    "MeSH.head()"
   ]
  },
  {
   "cell_type": "code",
   "execution_count": 9,
   "metadata": {},
   "outputs": [
    {
     "data": {
      "text/plain": [
       "'C14.280.238'"
      ]
     },
     "execution_count": 9,
     "metadata": {},
     "output_type": "execute_result"
    }
   ],
   "source": [
    "MeSH.index[0]"
   ]
  },
  {
   "cell_type": "code",
   "execution_count": 10,
   "metadata": {},
   "outputs": [],
   "source": [
    "id2name = {}\n",
    "for ID,name in zip(MeSH.index, MeSH['name']):\n",
    "    id2name.update({ID:name})\n",
    "    \n",
    "with open(\"../Data/mesh/statistics/cardiomyopathy_id2name.json\", 'w') as wf:\n",
    "    json.dump(id2name,wf)"
   ]
  },
  {
   "cell_type": "markdown",
   "metadata": {},
   "source": [
    "#### MeSH to Doc Mapping\n",
    "- Create a dictionary where the key is a MeSH descriptor, and the value is a list of papers (publications) that contains mention of the MeSH terms in its body text\n",
    "- Each paper is represented as dictionary linking each attribute name in the paper (cord_uid, journal, title, etc.) with its actual information"
   ]
  },
  {
   "cell_type": "markdown",
   "metadata": {},
   "source": [
    "##### Example of a paper node in the covid graph"
   ]
  },
  {
   "cell_type": "code",
   "execution_count": 11,
   "metadata": {},
   "outputs": [
    {
     "name": "stdout",
     "output_type": "stream",
     "text": [
      "<Record n=<Node id=2385529 labels={'Paper'} properties={'cord_uid': 'ocp6yodg', 'cord19-fulltext_hash': 'b8957d48b6bcf17b7b51e004d19314ce77f653a1', 'journal': 'BMC Infect Dis', 'publish_time': '2011-12-28', 'source': 'PMC', 'title': 'Timeliness of contact tracing among flight passengers for influenza A/H1N1 2009', '_hash_id': '84b069ab23fb0ecebe6925af9c2b18ae', 'url': 'https://www.ncbi.nlm.nih.gov/pmc/articles/PMC3265549/'}>>\n"
     ]
    }
   ],
   "source": [
    "paper_query = \"MATCH (n:Paper) RETURN n LIMIT 1\"\n",
    "Data = []\n",
    "with driver.session() as session:\n",
    "    info = session.run(paper_query)\n",
    "    for item in info:\n",
    "        print(item)"
   ]
  },
  {
   "cell_type": "markdown",
   "metadata": {},
   "source": [
    "#### Writes data to file"
   ]
  },
  {
   "cell_type": "code",
   "execution_count": 12,
   "metadata": {},
   "outputs": [],
   "source": [
    "MeSH_to_result = {}\n",
    "MeSH_number = {}\n",
    "for desc, entities in zip(MeSH.index, MeSH['phrases']):\n",
    "    #Builds each part of the query based on the MeSH descriptor entity list\n",
    "    query = \"MATCH (p:Paper)-[:PAPER_HAS_BODYTEXTCOLLECTION]-(:BodyTextCollection)-\" \\\n",
    "                                        \"[:BODYTEXTCOLLECTION_HAS_BODYTEXT]-(a:BodyText) WHERE (\"\n",
    "    for i in range(len(entities)):\n",
    "        if i == len(entities)-1:\n",
    "            query += \"LOWER(a.text) CONTAINS '\" + entities[i] + \"') RETURN DISTINCT p\"\n",
    "        else:\n",
    "            query += \"LOWER(a.text) CONTAINS '\" + entities[i] + \"' AND \"\n",
    "\n",
    "    MeSH_result = []\n",
    "        \n",
    "    with driver.session() as session:\n",
    "        info = session.run(query)\n",
    "        for item in info:\n",
    "            try:\n",
    "                node_keys = list((item.values(0)[0]).keys())\n",
    "                node_values = list((item.values(0)[0]).values())\n",
    "                paper = {}\n",
    "                for i in range(len(node_keys)):\n",
    "                    if (node_keys[i] == 'cord_uid'):\n",
    "                        MeSH_result.append(node_values[i])\n",
    "            except:\n",
    "                continue\n",
    "    \n",
    "    try:\n",
    "        name = id2name[desc]\n",
    "        MeSH_to_result[name] = MeSH_result\n",
    "        MeSH_number[desc] = len(MeSH_result)\n",
    "    except:\n",
    "        continue"
   ]
  },
  {
   "cell_type": "code",
   "execution_count": 13,
   "metadata": {},
   "outputs": [],
   "source": [
    "ff = open(\"../Data/mesh/cardiomyopathy_paper_ids.json\", 'w')\n",
    "\n",
    "json.dump(MeSH_to_result, ff)\n",
    "\n",
    "ff.close()"
   ]
  },
  {
   "cell_type": "code",
   "execution_count": 14,
   "metadata": {},
   "outputs": [
    {
     "data": {
      "text/plain": [
       "dict_items([('C14.280.238', 14), ('C14.280.238.028', 1), ('C14.280.238.057', 2), ('C14.280.238.070', 39), ('C14.280.238.100', 25), ('C14.280.238.100.500', 2), ('C14.280.238.160', 7), ('C14.280.238.190', 0), ('C14.280.238.235', 0), ('C14.280.238.281', 1), ('C14.280.238.281.500', 0), ('C14.280.238.406', 2), ('C14.280.238.458', 0), ('C14.280.238.510', 3), ('C14.280.238.615', 0), ('C14.280.238.625', 220), ('C14.280.238.812', 0)])"
      ]
     },
     "execution_count": 14,
     "metadata": {},
     "output_type": "execute_result"
    }
   ],
   "source": [
    "MeSH_number.items()"
   ]
  },
  {
   "cell_type": "code",
   "execution_count": null,
   "metadata": {},
   "outputs": [],
   "source": []
  }
 ],
 "metadata": {
  "kernelspec": {
   "display_name": "Python 3",
   "language": "python",
   "name": "python3"
  },
  "language_info": {
   "codemirror_mode": {
    "name": "ipython",
    "version": 3
   },
   "file_extension": ".py",
   "mimetype": "text/x-python",
   "name": "python",
   "nbconvert_exporter": "python",
   "pygments_lexer": "ipython3",
   "version": "3.6.6"
  }
 },
 "nbformat": 4,
 "nbformat_minor": 2
}
