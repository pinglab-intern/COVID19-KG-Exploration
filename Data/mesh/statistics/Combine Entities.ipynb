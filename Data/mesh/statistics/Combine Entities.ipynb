{
 "cells": [
  {
   "cell_type": "markdown",
   "metadata": {},
   "source": [
    "## Combine Entities Data\n",
    "- For every corona virus sign and symptom, sum up the papers for all cardiomyopathy mesh descriptors and list it in one row. Do the same for all heart disease mesh descriptors."
   ]
  },
  {
   "cell_type": "code",
   "execution_count": 1,
   "metadata": {},
   "outputs": [],
   "source": [
    "import pandas as pd\n",
    "from pandas import DataFrame\n",
    "import json as json\n",
    "import csv"
   ]
  },
  {
   "cell_type": "markdown",
   "metadata": {},
   "source": [
    "We want to see the occurance of 'covid 19 sign and symptoms' and 'cardiomyopathy' all summed into a single row"
   ]
  },
  {
   "cell_type": "code",
   "execution_count": 2,
   "metadata": {},
   "outputs": [],
   "source": [
    "with open(\"../corona_signs_id2name.json\",'r')as rf:\n",
    "    signs_id2name = json.load(rf)"
   ]
  },
  {
   "cell_type": "code",
   "execution_count": 3,
   "metadata": {},
   "outputs": [],
   "source": [
    "with open(\"../../corona_signs_paper_ids.json\", 'r') as fcount:\n",
    "    signs_data = json.load(fcount)"
   ]
  },
  {
   "cell_type": "code",
   "execution_count": 4,
   "metadata": {},
   "outputs": [],
   "source": [
    "with open(\"../cardiomyopathy_id2name.json\",'r')as rf:\n",
    "    cm_id2name = json.load(rf)"
   ]
  },
  {
   "cell_type": "code",
   "execution_count": 5,
   "metadata": {},
   "outputs": [],
   "source": [
    "with open(\"../../cardiomyopathy_paper_ids.json\", 'r') as fcount:\n",
    "    cm_data = json.load(fcount)"
   ]
  },
  {
   "cell_type": "code",
   "execution_count": 6,
   "metadata": {},
   "outputs": [],
   "source": [
    "sign_intersection = []"
   ]
  },
  {
   "cell_type": "code",
   "execution_count": 7,
   "metadata": {},
   "outputs": [],
   "source": [
    "all_cm_data = []\n",
    "for cm in cm_data:\n",
    "    all_cm_data.extend(cm_data[cm])"
   ]
  },
  {
   "cell_type": "code",
   "execution_count": 8,
   "metadata": {},
   "outputs": [],
   "source": [
    "cm_data_set = set(all_cm_data)\n",
    "for sign in signs_data:\n",
    "    overlap = set(signs_data[sign]).intersection(cm_data_set)\n",
    "    sign_intersection.append({\"Signs\": sign, \"Disease\": \"Cardio myopathy\", \"Overlap\":len(list(overlap))})"
   ]
  },
  {
   "cell_type": "markdown",
   "metadata": {},
   "source": [
    "We want to see the occurance of 'covid 19 sign and symptoms' and 'HeartFailure' all summed into a single row"
   ]
  },
  {
   "cell_type": "code",
   "execution_count": 9,
   "metadata": {},
   "outputs": [],
   "source": [
    "with open(\"../heartfailure_id2name.json\",'r')as rf:\n",
    "    hf_id2name = json.load(rf)"
   ]
  },
  {
   "cell_type": "code",
   "execution_count": 10,
   "metadata": {},
   "outputs": [],
   "source": [
    "with open(\"../../heartfailure_paper_ids.json\", 'r') as fcount:\n",
    "    hf_data = json.load(fcount)"
   ]
  },
  {
   "cell_type": "code",
   "execution_count": 11,
   "metadata": {},
   "outputs": [],
   "source": [
    "all_hf_data = []\n",
    "for hf in hf_data:\n",
    "    all_hf_data.extend(hf_data[hf])"
   ]
  },
  {
   "cell_type": "code",
   "execution_count": 12,
   "metadata": {},
   "outputs": [],
   "source": [
    "hf_data_set = set(all_hf_data)\n",
    "for sign in signs_data:\n",
    "    overlap = set(signs_data[sign]).intersection(hf_data_set)\n",
    "    sign_intersection.append({\"Signs\": sign, \"Disease\": \"Heart failure\", \"Overlap\":len(list(overlap))})"
   ]
  },
  {
   "cell_type": "code",
   "execution_count": 13,
   "metadata": {},
   "outputs": [],
   "source": [
    "DF_Sign_All = DataFrame(sign_intersection)"
   ]
  },
  {
   "cell_type": "code",
   "execution_count": 14,
   "metadata": {},
   "outputs": [
    {
     "data": {
      "text/html": [
       "<div>\n",
       "<style scoped>\n",
       "    .dataframe tbody tr th:only-of-type {\n",
       "        vertical-align: middle;\n",
       "    }\n",
       "\n",
       "    .dataframe tbody tr th {\n",
       "        vertical-align: top;\n",
       "    }\n",
       "\n",
       "    .dataframe thead th {\n",
       "        text-align: right;\n",
       "    }\n",
       "</style>\n",
       "<table border=\"1\" class=\"dataframe\">\n",
       "  <thead>\n",
       "    <tr style=\"text-align: right;\">\n",
       "      <th></th>\n",
       "      <th>Disease</th>\n",
       "      <th>Overlap</th>\n",
       "      <th>Signs</th>\n",
       "    </tr>\n",
       "  </thead>\n",
       "  <tbody>\n",
       "    <tr>\n",
       "      <th>0</th>\n",
       "      <td>Cardio myopathy</td>\n",
       "      <td>19</td>\n",
       "      <td>Pharyngitis</td>\n",
       "    </tr>\n",
       "    <tr>\n",
       "      <th>1</th>\n",
       "      <td>Cardio myopathy</td>\n",
       "      <td>32</td>\n",
       "      <td>Shock, Septic</td>\n",
       "    </tr>\n",
       "    <tr>\n",
       "      <th>2</th>\n",
       "      <td>Cardio myopathy</td>\n",
       "      <td>40</td>\n",
       "      <td>Myalgia</td>\n",
       "    </tr>\n",
       "    <tr>\n",
       "      <th>3</th>\n",
       "      <td>Cardio myopathy</td>\n",
       "      <td>30</td>\n",
       "      <td>Liver Failure</td>\n",
       "    </tr>\n",
       "    <tr>\n",
       "      <th>4</th>\n",
       "      <td>Cardio myopathy</td>\n",
       "      <td>11</td>\n",
       "      <td>Hemoptysis</td>\n",
       "    </tr>\n",
       "  </tbody>\n",
       "</table>\n",
       "</div>"
      ],
      "text/plain": [
       "           Disease  Overlap          Signs\n",
       "0  Cardio myopathy       19    Pharyngitis\n",
       "1  Cardio myopathy       32  Shock, Septic\n",
       "2  Cardio myopathy       40        Myalgia\n",
       "3  Cardio myopathy       30  Liver Failure\n",
       "4  Cardio myopathy       11     Hemoptysis"
      ]
     },
     "execution_count": 14,
     "metadata": {},
     "output_type": "execute_result"
    }
   ],
   "source": [
    "DF_Sign_All.sort_values('Overlap', ascending=False)\n",
    "DF_Sign_All.head()"
   ]
  },
  {
   "cell_type": "code",
   "execution_count": 15,
   "metadata": {},
   "outputs": [],
   "source": [
    "DF_Sign_All.to_csv('signs_all.csv')"
   ]
  },
  {
   "cell_type": "code",
   "execution_count": null,
   "metadata": {},
   "outputs": [],
   "source": []
  }
 ],
 "metadata": {
  "kernelspec": {
   "display_name": "Python 3",
   "language": "python",
   "name": "python3"
  },
  "language_info": {
   "codemirror_mode": {
    "name": "ipython",
    "version": 3
   },
   "file_extension": ".py",
   "mimetype": "text/x-python",
   "name": "python",
   "nbconvert_exporter": "python",
   "pygments_lexer": "ipython3",
   "version": "3.6.6"
  }
 },
 "nbformat": 4,
 "nbformat_minor": 2
}
