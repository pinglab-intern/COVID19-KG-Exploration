{
 "cells": [
  {
   "cell_type": "markdown",
   "metadata": {},
   "source": [
    "### MeSH Based Query Search"
   ]
  },
  {
   "cell_type": "markdown",
   "metadata": {},
   "source": [
    "In this notebook, we will discuss how to search documents based on the Disease described in the CVD tree."
   ]
  },
  {
   "cell_type": "code",
   "execution_count": 19,
   "metadata": {},
   "outputs": [],
   "source": [
    "import pandas as pd\n",
    "import json\n",
    "from neo4j import GraphDatabase\n",
    "import csv"
   ]
  },
  {
   "cell_type": "markdown",
   "metadata": {},
   "source": [
    "#### Authentication to access covidgraph.org graph"
   ]
  },
  {
   "cell_type": "code",
   "execution_count": 20,
   "metadata": {},
   "outputs": [],
   "source": [
    "covid_browser = \"https://covid.petesis.com:7473\"\n",
    "covid_url = \"bolt://covid.petesis.com:7687\"\n",
    "user = \"public\"\n",
    "password = \"corona\"\n",
    "\n",
    "#driver = GraphDatabase.driver(uri, auth=(user, password))\n",
    "driver = GraphDatabase.driver(uri = covid_url,\\\n",
    "                              auth = (user,password))"
   ]
  },
  {
   "cell_type": "markdown",
   "metadata": {},
   "source": [
    "#### MeSH descriptor to its entity list\n",
    "- Ex. ```C14.260.500: [syphilis, cardiovascular]```\n",
    "- Pandas Dataframe is very convenient for handeling a CSV file specifically for data transformation with ```lambda``` mapping functon."
   ]
  },
  {
   "cell_type": "code",
   "execution_count": 21,
   "metadata": {},
   "outputs": [
    {
     "data": {
      "text/html": [
       "<div>\n",
       "<style scoped>\n",
       "    .dataframe tbody tr th:only-of-type {\n",
       "        vertical-align: middle;\n",
       "    }\n",
       "\n",
       "    .dataframe tbody tr th {\n",
       "        vertical-align: top;\n",
       "    }\n",
       "\n",
       "    .dataframe thead th {\n",
       "        text-align: right;\n",
       "    }\n",
       "</style>\n",
       "<table border=\"1\" class=\"dataframe\">\n",
       "  <thead>\n",
       "    <tr style=\"text-align: right;\">\n",
       "      <th></th>\n",
       "      <th>name</th>\n",
       "    </tr>\n",
       "    <tr>\n",
       "      <th>ID</th>\n",
       "      <th></th>\n",
       "    </tr>\n",
       "  </thead>\n",
       "  <tbody>\n",
       "    <tr>\n",
       "      <th>C14</th>\n",
       "      <td>Cardiovascular Diseases</td>\n",
       "    </tr>\n",
       "    <tr>\n",
       "      <th>C14.260</th>\n",
       "      <td>Cardiovascular Infections</td>\n",
       "    </tr>\n",
       "    <tr>\n",
       "      <th>C14.260.500</th>\n",
       "      <td>Syphilis, Cardiovascular</td>\n",
       "    </tr>\n",
       "    <tr>\n",
       "      <th>C14.260.750</th>\n",
       "      <td>Tuberculosis, Cardiovascular</td>\n",
       "    </tr>\n",
       "    <tr>\n",
       "      <th>C14.280</th>\n",
       "      <td>Heart Diseases</td>\n",
       "    </tr>\n",
       "  </tbody>\n",
       "</table>\n",
       "</div>"
      ],
      "text/plain": [
       "                                     name\n",
       "ID                                       \n",
       "C14               Cardiovascular Diseases\n",
       "C14.260         Cardiovascular Infections\n",
       "C14.260.500      Syphilis, Cardiovascular\n",
       "C14.260.750  Tuberculosis, Cardiovascular\n",
       "C14.280                    Heart Diseases"
      ]
     },
     "execution_count": 21,
     "metadata": {},
     "output_type": "execute_result"
    }
   ],
   "source": [
    "MeSH = pd.read_csv(\"input/mesh/cvd.csv\")\n",
    "MeSH = MeSH.set_index('ID')\n",
    "MeSH.head()"
   ]
  },
  {
   "cell_type": "markdown",
   "metadata": {},
   "source": [
    "- Implementing ```lambda``` function to map one column to another column"
   ]
  },
  {
   "cell_type": "code",
   "execution_count": 22,
   "metadata": {},
   "outputs": [],
   "source": [
    "MeSH['phrases'] = MeSH['name'].apply(lambda x: x.lower().strip())"
   ]
  },
  {
   "cell_type": "code",
   "execution_count": 23,
   "metadata": {},
   "outputs": [
    {
     "data": {
      "text/html": [
       "<div>\n",
       "<style scoped>\n",
       "    .dataframe tbody tr th:only-of-type {\n",
       "        vertical-align: middle;\n",
       "    }\n",
       "\n",
       "    .dataframe tbody tr th {\n",
       "        vertical-align: top;\n",
       "    }\n",
       "\n",
       "    .dataframe thead th {\n",
       "        text-align: right;\n",
       "    }\n",
       "</style>\n",
       "<table border=\"1\" class=\"dataframe\">\n",
       "  <thead>\n",
       "    <tr style=\"text-align: right;\">\n",
       "      <th></th>\n",
       "      <th>name</th>\n",
       "      <th>phrases</th>\n",
       "    </tr>\n",
       "    <tr>\n",
       "      <th>ID</th>\n",
       "      <th></th>\n",
       "      <th></th>\n",
       "    </tr>\n",
       "  </thead>\n",
       "  <tbody>\n",
       "    <tr>\n",
       "      <th>C14</th>\n",
       "      <td>Cardiovascular Diseases</td>\n",
       "      <td>cardiovascular diseases</td>\n",
       "    </tr>\n",
       "    <tr>\n",
       "      <th>C14.260</th>\n",
       "      <td>Cardiovascular Infections</td>\n",
       "      <td>cardiovascular infections</td>\n",
       "    </tr>\n",
       "    <tr>\n",
       "      <th>C14.260.500</th>\n",
       "      <td>Syphilis, Cardiovascular</td>\n",
       "      <td>syphilis, cardiovascular</td>\n",
       "    </tr>\n",
       "    <tr>\n",
       "      <th>C14.260.750</th>\n",
       "      <td>Tuberculosis, Cardiovascular</td>\n",
       "      <td>tuberculosis, cardiovascular</td>\n",
       "    </tr>\n",
       "    <tr>\n",
       "      <th>C14.280</th>\n",
       "      <td>Heart Diseases</td>\n",
       "      <td>heart diseases</td>\n",
       "    </tr>\n",
       "  </tbody>\n",
       "</table>\n",
       "</div>"
      ],
      "text/plain": [
       "                                     name                       phrases\n",
       "ID                                                                     \n",
       "C14               Cardiovascular Diseases       cardiovascular diseases\n",
       "C14.260         Cardiovascular Infections     cardiovascular infections\n",
       "C14.260.500      Syphilis, Cardiovascular      syphilis, cardiovascular\n",
       "C14.260.750  Tuberculosis, Cardiovascular  tuberculosis, cardiovascular\n",
       "C14.280                    Heart Diseases                heart diseases"
      ]
     },
     "execution_count": 23,
     "metadata": {},
     "output_type": "execute_result"
    }
   ],
   "source": [
    "MeSH.head()"
   ]
  },
  {
   "cell_type": "code",
   "execution_count": 24,
   "metadata": {},
   "outputs": [],
   "source": [
    "MeSH['phrases'] = MeSH['phrases'].apply(lambda x:x.split(','))"
   ]
  },
  {
   "cell_type": "code",
   "execution_count": 25,
   "metadata": {},
   "outputs": [
    {
     "data": {
      "text/html": [
       "<div>\n",
       "<style scoped>\n",
       "    .dataframe tbody tr th:only-of-type {\n",
       "        vertical-align: middle;\n",
       "    }\n",
       "\n",
       "    .dataframe tbody tr th {\n",
       "        vertical-align: top;\n",
       "    }\n",
       "\n",
       "    .dataframe thead th {\n",
       "        text-align: right;\n",
       "    }\n",
       "</style>\n",
       "<table border=\"1\" class=\"dataframe\">\n",
       "  <thead>\n",
       "    <tr style=\"text-align: right;\">\n",
       "      <th></th>\n",
       "      <th>name</th>\n",
       "      <th>phrases</th>\n",
       "    </tr>\n",
       "    <tr>\n",
       "      <th>ID</th>\n",
       "      <th></th>\n",
       "      <th></th>\n",
       "    </tr>\n",
       "  </thead>\n",
       "  <tbody>\n",
       "    <tr>\n",
       "      <th>C14</th>\n",
       "      <td>Cardiovascular Diseases</td>\n",
       "      <td>[cardiovascular diseases]</td>\n",
       "    </tr>\n",
       "    <tr>\n",
       "      <th>C14.260</th>\n",
       "      <td>Cardiovascular Infections</td>\n",
       "      <td>[cardiovascular infections]</td>\n",
       "    </tr>\n",
       "    <tr>\n",
       "      <th>C14.260.500</th>\n",
       "      <td>Syphilis, Cardiovascular</td>\n",
       "      <td>[syphilis,  cardiovascular]</td>\n",
       "    </tr>\n",
       "    <tr>\n",
       "      <th>C14.260.750</th>\n",
       "      <td>Tuberculosis, Cardiovascular</td>\n",
       "      <td>[tuberculosis,  cardiovascular]</td>\n",
       "    </tr>\n",
       "    <tr>\n",
       "      <th>C14.280</th>\n",
       "      <td>Heart Diseases</td>\n",
       "      <td>[heart diseases]</td>\n",
       "    </tr>\n",
       "  </tbody>\n",
       "</table>\n",
       "</div>"
      ],
      "text/plain": [
       "                                     name                          phrases\n",
       "ID                                                                        \n",
       "C14               Cardiovascular Diseases        [cardiovascular diseases]\n",
       "C14.260         Cardiovascular Infections      [cardiovascular infections]\n",
       "C14.260.500      Syphilis, Cardiovascular      [syphilis,  cardiovascular]\n",
       "C14.260.750  Tuberculosis, Cardiovascular  [tuberculosis,  cardiovascular]\n",
       "C14.280                    Heart Diseases                 [heart diseases]"
      ]
     },
     "execution_count": 25,
     "metadata": {},
     "output_type": "execute_result"
    }
   ],
   "source": [
    "MeSH.head()"
   ]
  },
  {
   "cell_type": "code",
   "execution_count": 26,
   "metadata": {},
   "outputs": [
    {
     "data": {
      "text/plain": [
       "'C14'"
      ]
     },
     "execution_count": 26,
     "metadata": {},
     "output_type": "execute_result"
    }
   ],
   "source": [
    "MeSH.index[0]"
   ]
  },
  {
   "cell_type": "markdown",
   "metadata": {},
   "source": [
    "#### MeSH to Doc Mapping\n",
    "- Create a dictionary where the key is a MeSH descriptor, and the value is a list of papers (publications) that contains mention of the MeSH terms in its body text\n",
    "- Each paper is represented as dictionary linking each attribute name in the paper (cord_uid, journal, title, etc.) with its actual information"
   ]
  },
  {
   "cell_type": "markdown",
   "metadata": {},
   "source": [
    "##### Example of a paper node in the covid graph"
   ]
  },
  {
   "cell_type": "code",
   "execution_count": 27,
   "metadata": {},
   "outputs": [
    {
     "name": "stdout",
     "output_type": "stream",
     "text": [
      "<Record n=<Node id=3198 labels={'Paper'} properties={'cord_uid': 'zrmkq3mz', 'cord19-fulltext_hash': '41c7a01f11ed47591d99f45774e43e45aeba0619', 'journal': 'BMC Microbiol', 'publish_time': '2009-08-12', 'source': 'PMC', 'title': 'CAPIH: A Web interface for comparative analyses and visualization of host-HIV protein-protein interactions', '_hash_id': '3c4b2ee1430dc9ac53aca87c0fc0f7eb', 'url': 'https://www.ncbi.nlm.nih.gov/pmc/articles/PMC2782265/'}>>\n"
     ]
    }
   ],
   "source": [
    "paper_query = \"MATCH (n:Paper) RETURN n LIMIT 1\"\n",
    "Data = []\n",
    "with driver.session() as session:\n",
    "    info = session.run(paper_query)\n",
    "    for item in info:\n",
    "        print(item)"
   ]
  },
  {
   "cell_type": "markdown",
   "metadata": {},
   "source": [
    "#### Writes data to file"
   ]
  },
  {
   "cell_type": "code",
   "execution_count": 32,
   "metadata": {},
   "outputs": [],
   "source": [
    "ff = open(\"data/mesh_search/mesh_search_queries.json\", 'w')"
   ]
  },
  {
   "cell_type": "code",
   "execution_count": null,
   "metadata": {},
   "outputs": [],
   "source": [
    "MeSH_to_result = {}\n",
    "for desc, entities  in zip(MeSH.index, MeSH['phrases']):\n",
    "    #Builds each part of the query based on the MeSH descriptor entity list\n",
    "    query = \"MATCH (p:Paper)-[:PAPER_HAS_BODYTEXTCOLLECTION]-(:BodyTextCollection)-\" \\\n",
    "                                        \"[:BODYTEXTCOLLECTION_HAS_BODYTEXT]-(a:BodyText) WHERE (\"\n",
    "    for i in range(len(entities)):\n",
    "        if i == len(entities)-1:\n",
    "            query += \"LOWER(a.text) CONTAINS '\" + entities[i] + \"') RETURN DISTINCT p\"\n",
    "        else:\n",
    "            query += \"LOWER(a.text) CONTAINS '\" + entities[i] + \"' AND \"\n",
    "\n",
    "    MeSH_result = []\n",
    "        \n",
    "    with driver.session() as session:\n",
    "        info = session.run(query)\n",
    "        for item in info:\n",
    "            try:\n",
    "                node_keys = list((item.values(0)[0]).keys())\n",
    "                node_values = list((item.values(0)[0]).values())\n",
    "                paper = {}\n",
    "                for i in range(len(node_keys)):\n",
    "                    paper[node_keys[i]] = node_values[i]\n",
    "                MeSH_result.append(paper)\n",
    "            except:\n",
    "                continue\n",
    "    \n",
    "    print(MeSH_result)\n",
    "    try:\n",
    "        MeSH_to_result[desc] = MeSH_result\n",
    "    except:\n",
    "        continue\n",
    "    \n",
    "    json.dump(MeSH_result, ff)\n",
    "\n",
    "ff.close()"
   ]
  },
  {
   "cell_type": "markdown",
   "metadata": {},
   "source": [
    "#### Prints MeSH descriptor to publication list dictionary created above"
   ]
  },
  {
   "cell_type": "code",
   "execution_count": null,
   "metadata": {},
   "outputs": [],
   "source": [
    "MeSH_to_result.items()"
   ]
  }
 ],
 "metadata": {
  "kernelspec": {
   "display_name": "Python 3",
   "language": "python",
   "name": "python3"
  },
  "language_info": {
   "codemirror_mode": {
    "name": "ipython",
    "version": 3
   },
   "file_extension": ".py",
   "mimetype": "text/x-python",
   "name": "python",
   "nbconvert_exporter": "python",
   "pygments_lexer": "ipython3",
   "version": "3.6.6"
  }
 },
 "nbformat": 4,
 "nbformat_minor": 2
}
