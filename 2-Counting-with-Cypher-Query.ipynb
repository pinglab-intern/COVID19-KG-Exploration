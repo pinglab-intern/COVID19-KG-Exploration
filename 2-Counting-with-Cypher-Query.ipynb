{
 "cells": [
  {
   "cell_type": "markdown",
   "metadata": {},
   "source": [
    "### Counting with Cypher Query"
   ]
  },
  {
   "cell_type": "markdown",
   "metadata": {},
   "source": [
    "In this notebook, we will discuss how to search documents based on the Disease described in the CVD tree."
   ]
  },
  {
   "cell_type": "code",
   "execution_count": 1,
   "metadata": {},
   "outputs": [],
   "source": [
    "import pandas as pd\n",
    "import json\n",
    "from neo4j import GraphDatabase\n",
    "import csv"
   ]
  },
  {
   "cell_type": "markdown",
   "metadata": {},
   "source": [
    "#### Authentication to access covidgraph.org graph"
   ]
  },
  {
   "cell_type": "code",
   "execution_count": 2,
   "metadata": {},
   "outputs": [],
   "source": [
    "covid_browser = \"https://db.covidgraph.org/browser/\"\n",
    "covid_url = \"bolt://db.covidgraph.org:7687\"\n",
    "user = \"public\"\n",
    "password = \"corona\"\n",
    "\n",
    "#driver = GraphDatabase.driver(uri, auth=(user, password))\n",
    "driver = GraphDatabase.driver(uri = covid_url,\\\n",
    "                              auth = (user,password))"
   ]
  },
  {
   "cell_type": "markdown",
   "metadata": {},
   "source": [
    "##### Example of a paper node in the covid graph"
   ]
  },
  {
   "cell_type": "code",
   "execution_count": 3,
   "metadata": {},
   "outputs": [
    {
     "name": "stdout",
     "output_type": "stream",
     "text": [
      "<Record n=<Node id=2385529 labels=frozenset({'Paper'}) properties={'cord_uid': 'ocp6yodg', 'cord19-fulltext_hash': 'b8957d48b6bcf17b7b51e004d19314ce77f653a1', 'journal': 'BMC Infect Dis', 'publish_time': '2011-12-28', 'source': 'PMC', 'title': 'Timeliness of contact tracing among flight passengers for influenza A/H1N1 2009', '_hash_id': '84b069ab23fb0ecebe6925af9c2b18ae', 'url': 'https://www.ncbi.nlm.nih.gov/pmc/articles/PMC3265549/'}>>\n"
     ]
    }
   ],
   "source": [
    "paper_query = \"MATCH (n:Paper) RETURN n LIMIT 1\"\n",
    "Data = []\n",
    "with driver.session() as session:\n",
    "    info = session.run(paper_query)\n",
    "    for item in info:\n",
    "        print(item)"
   ]
  },
  {
   "cell_type": "code",
   "execution_count": 39,
   "metadata": {},
   "outputs": [
    {
     "name": "stdout",
     "output_type": "stream",
     "text": [
      "<Record d=<Node id=3655483 labels=frozenset({'Disease'}) properties={'license': 'CC0 1.0', 'name': 'idiopathic pulmonary fibrosis', 'link': 'http://www.disease-ontology.org/?id=DOID:0050156', 'doid': 'DOID:0050156', 'definition': '\"A pulmonary fibrosis that is characterized by scarring of the lung.\" [url:https\\\\://www.pulmonaryfibrosis.org/life-with-pf/about-ipf]', 'source': 'http://www.disease-ontology.org', '_id': 'e44b0dd76d1d22a1e9fe5c6c6dd395ab'}>>\n"
     ]
    }
   ],
   "source": [
    "#query = \"MATCH (g:GeneSymbol)<-[:MAPS]-(gn:Gene)<-[:ASSOCIATES]-(d:Disease) RETURN d LIMIT 10\"\n",
    "query = \"MATCH (d:Disease)-->(gn:Gene) RETURN d LIMIT 1\"\n",
    "\n",
    "with driver.session() as session:\n",
    "    info = session.run(query)\n",
    "    for item in info:\n",
    "        print(item)"
   ]
  },
  {
   "cell_type": "code",
   "execution_count": 43,
   "metadata": {
    "scrolled": false
   },
   "outputs": [
    {
     "name": "stdout",
     "output_type": "stream",
     "text": [
      "<Record gn=<Node id=95261 labels=frozenset({'Gene'}) properties={'Synonyms': 'MG1|MUC-5B|MUC5|MUC9', 'Symbol_from_nomenclature_authority': 'MUC5B', 'Symbol': 'MUC5B', 'chromosome': '11', 'description': 'mucin 5B, oligomeric mucus/gel-forming', 'Other_designations': 'mucin-5B|cervical mucin MUC5B|high molecular weight salivary mucin MG1|mucin 5, subtype B, tracheobronchial|sublingual gland mucin', 'source': 'ncbigene', 'type_of_gene': 'protein-coding', 'dbXrefs': 'MIM:600770|HGNC:HGNC:7516|Ensembl:ENSG00000117983', 'tax_id': '9606', 'sid': '727897', 'Nomenclature_status': 'O', 'map_location': '11p15.5', 'GeneID': '727897', 'Modification_date': '20200614', 'Feature_type': '-', 'LocusTag': '-', 'Full_name_from_nomenclature_authority': 'mucin 5B, oligomeric mucus/gel-forming'}>>\n"
     ]
    }
   ],
   "source": [
    "#query = \"MATCH (g:GeneSymbol)<-[:MAPS]-(gn:Gene)<-[:ASSOCIATES]-(d:Disease) RETURN d LIMIT 10\"\n",
    "query = \"MATCH (d:Disease)-[rel:ASSOCIATES_DaG]->(gn:Gene) RETURN gn LIMIT 1\"\n",
    "\n",
    "with driver.session() as session:\n",
    "    info = session.run(query)\n",
    "    for item in info:\n",
    "        print(item)"
   ]
  },
  {
   "cell_type": "code",
   "execution_count": 50,
   "metadata": {},
   "outputs": [
    {
     "name": "stdout",
     "output_type": "stream",
     "text": [
      "<Record d.name='idiopathic pulmonary fibrosis' type(rel)='ASSOCIATES_DaG' gn.Symbol_from_nomenclature_authority='MUC5B'>\n",
      "<Record d.name='idiopathic pulmonary fibrosis' type(rel)='ASSOCIATES_DaG' gn.Symbol_from_nomenclature_authority='TOLLIP'>\n",
      "<Record d.name='idiopathic pulmonary fibrosis' type(rel)='ASSOCIATES_DaG' gn.Symbol_from_nomenclature_authority='MUC5AC'>\n",
      "<Record d.name='idiopathic pulmonary fibrosis' type(rel)='ASSOCIATES_DaG' gn.Symbol_from_nomenclature_authority='TERT'>\n",
      "<Record d.name='idiopathic pulmonary fibrosis' type(rel)='ASSOCIATES_DaG' gn.Symbol_from_nomenclature_authority='BRSK2'>\n"
     ]
    }
   ],
   "source": [
    "#query = \"MATCH (g:GeneSymbol)<-[:MAPS]-(gn:Gene)<-[:ASSOCIATES]-(d:Disease) RETURN d LIMIT 10\"\n",
    "query = \"MATCH (d:Disease)-[rel:ASSOCIATES_DaG]->(gn:Gene) \\\n",
    "         RETURN d.name,type(rel),gn.Symbol_from_nomenclature_authority LIMIT 5\"\n",
    "\n",
    "with driver.session() as session:\n",
    "    info = session.run(query)\n",
    "    for item in info:\n",
    "        print(item)"
   ]
  },
  {
   "cell_type": "code",
   "execution_count": 56,
   "metadata": {},
   "outputs": [
    {
     "name": "stdout",
     "output_type": "stream",
     "text": [
      "<Record d.name='idiopathic pulmonary fibrosis' gn.Symbol_from_nomenclature_authority='MUC5B' pw.name='Defective GALNT12 causes colorectal cancer 1 (CRCS1)'>\n",
      "<Record d.name='idiopathic pulmonary fibrosis' gn.Symbol_from_nomenclature_authority='MUC5B' pw.name='O-linked glycosylation'>\n",
      "<Record d.name='idiopathic pulmonary fibrosis' gn.Symbol_from_nomenclature_authority='MUC5B' pw.name='Post-translational protein modification'>\n",
      "<Record d.name='idiopathic pulmonary fibrosis' gn.Symbol_from_nomenclature_authority='MUC5B' pw.name='Diseases associated with O-glycosylation of proteins'>\n",
      "<Record d.name='idiopathic pulmonary fibrosis' gn.Symbol_from_nomenclature_authority='MUC5B' pw.name='Defective C1GALT1C1 causes Tn polyagglutination syndrome (TNPS)'>\n"
     ]
    }
   ],
   "source": [
    "#query = \"MATCH (g:GeneSymbol)<-[:MAPS]-(gn:Gene)<-[:ASSOCIATES]-(d:Disease) RETURN d LIMIT 10\"\n",
    "query = \"MATCH (d:Disease)-[rel:ASSOCIATES_DaG]->(gn:Gene)-[mem:MEMBER]->(pw:Pathway) \\\n",
    "         RETURN d.name,gn.Symbol_from_nomenclature_authority, pw.name LIMIT 5\"\n",
    "\n",
    "with driver.session() as session:\n",
    "    info = session.run(query)\n",
    "    for item in info:\n",
    "        print(item)"
   ]
  },
  {
   "cell_type": "code",
   "execution_count": 64,
   "metadata": {},
   "outputs": [
    {
     "name": "stdout",
     "output_type": "stream",
     "text": [
      "<Record pw.name='Hemostasis' gn.synonyms=None t.sid='NM_001001579' p.sid='Q86WN5'>\n",
      "<Record pw.name='Hemostasis' gn.synonyms=None t.sid='NM_001001579' p.sid='Q86SI6'>\n",
      "<Record pw.name='Hemostasis' gn.synonyms=None t.sid='NM_001001579' p.sid='O76083'>\n",
      "<Record pw.name='Hemostasis' gn.synonyms=None t.sid='NM_001001579' p.sid='O95225'>\n",
      "<Record pw.name='Hemostasis' gn.synonyms=None t.sid='NM_001001579' p.sid='Q86SF7'>\n"
     ]
    }
   ],
   "source": [
    "#query = \"MATCH (g:GeneSymbol)<-[:MAPS]-(gn:Gene)<-[:ASSOCIATES]-(d:Disease) RETURN d LIMIT 10\"\n",
    "query = \"MATCH (pw:Pathway)<--(gn:Gene)-->(t:Transcript)-->(p:Protein) \\\n",
    "         RETURN pw.name,gn.synonyms,t.sid,p.sid LIMIT 5\"\n",
    "\n",
    "with driver.session() as session:\n",
    "    info = session.run(query)\n",
    "    for item in info:\n",
    "        print(item)"
   ]
  },
  {
   "cell_type": "code",
   "execution_count": 65,
   "metadata": {},
   "outputs": [
    {
     "name": "stdout",
     "output_type": "stream",
     "text": [
      "<Record d.name='idiopathic pulmonary fibrosis' gn.Symbol_from_nomenclature_authority='MUC5B' t.sid='NM_002458' p.sid='O95451'>\n",
      "<Record d.name='idiopathic pulmonary fibrosis' gn.Symbol_from_nomenclature_authority='MUC5B' t.sid='NM_002458' p.sid='Q9UE28'>\n",
      "<Record d.name='idiopathic pulmonary fibrosis' gn.Symbol_from_nomenclature_authority='MUC5B' t.sid='NM_002458' p.sid='O00573'>\n",
      "<Record d.name='idiopathic pulmonary fibrosis' gn.Symbol_from_nomenclature_authority='MUC5B' t.sid='NM_002458' p.sid='O00447'>\n",
      "<Record d.name='idiopathic pulmonary fibrosis' gn.Symbol_from_nomenclature_authority='MUC5B' t.sid='NM_002458' p.sid='Q99552'>\n"
     ]
    }
   ],
   "source": [
    "#query = \"MATCH (g:GeneSymbol)<-[:MAPS]-(gn:Gene)<-[:ASSOCIATES]-(d:Disease) RETURN d LIMIT 10\"\n",
    "query = \"MATCH (d:Disease)-->(gn:Gene)-->(t:Transcript)-->(p:Protein) \\\n",
    "         RETURN d.name,gn.Symbol_from_nomenclature_authority,t.sid, p.sid LIMIT 5\"\n",
    "\n",
    "with driver.session() as session:\n",
    "    info = session.run(query)\n",
    "    for item in info:\n",
    "        print(item)"
   ]
  },
  {
   "cell_type": "markdown",
   "metadata": {},
   "source": [
    "### Counting"
   ]
  },
  {
   "cell_type": "code",
   "execution_count": 4,
   "metadata": {},
   "outputs": [
    {
     "data": {
      "text/html": [
       "<div>\n",
       "<style scoped>\n",
       "    .dataframe tbody tr th:only-of-type {\n",
       "        vertical-align: middle;\n",
       "    }\n",
       "\n",
       "    .dataframe tbody tr th {\n",
       "        vertical-align: top;\n",
       "    }\n",
       "\n",
       "    .dataframe thead th {\n",
       "        text-align: right;\n",
       "    }\n",
       "</style>\n",
       "<table border=\"1\" class=\"dataframe\">\n",
       "  <thead>\n",
       "    <tr style=\"text-align: right;\">\n",
       "      <th></th>\n",
       "      <th>g-count</th>\n",
       "      <th>p-count</th>\n",
       "      <th>pathway</th>\n",
       "      <th>t-count</th>\n",
       "    </tr>\n",
       "    <tr>\n",
       "      <th>disease</th>\n",
       "      <th></th>\n",
       "      <th></th>\n",
       "      <th></th>\n",
       "      <th></th>\n",
       "    </tr>\n",
       "  </thead>\n",
       "  <tbody>\n",
       "    <tr>\n",
       "      <th>hypertension</th>\n",
       "      <td>43</td>\n",
       "      <td>43</td>\n",
       "      <td>2-LTR circle formation</td>\n",
       "      <td>43</td>\n",
       "    </tr>\n",
       "    <tr>\n",
       "      <th>attention deficit hyperactivity disorder</th>\n",
       "      <td>29</td>\n",
       "      <td>29</td>\n",
       "      <td>2-LTR circle formation</td>\n",
       "      <td>29</td>\n",
       "    </tr>\n",
       "    <tr>\n",
       "      <th>conduct disorder</th>\n",
       "      <td>29</td>\n",
       "      <td>29</td>\n",
       "      <td>2-LTR circle formation</td>\n",
       "      <td>29</td>\n",
       "    </tr>\n",
       "    <tr>\n",
       "      <th>endogenous depression</th>\n",
       "      <td>29</td>\n",
       "      <td>29</td>\n",
       "      <td>2-LTR circle formation</td>\n",
       "      <td>29</td>\n",
       "    </tr>\n",
       "    <tr>\n",
       "      <th>bipolar disorder</th>\n",
       "      <td>29</td>\n",
       "      <td>29</td>\n",
       "      <td>2-LTR circle formation</td>\n",
       "      <td>29</td>\n",
       "    </tr>\n",
       "  </tbody>\n",
       "</table>\n",
       "</div>"
      ],
      "text/plain": [
       "                                          g-count  p-count  \\\n",
       "disease                                                      \n",
       "hypertension                                   43       43   \n",
       "attention deficit hyperactivity disorder       29       29   \n",
       "conduct disorder                               29       29   \n",
       "endogenous depression                          29       29   \n",
       "bipolar disorder                               29       29   \n",
       "\n",
       "                                                         pathway  t-count  \n",
       "disease                                                                    \n",
       "hypertension                              2-LTR circle formation       43  \n",
       "attention deficit hyperactivity disorder  2-LTR circle formation       29  \n",
       "conduct disorder                          2-LTR circle formation       29  \n",
       "endogenous depression                     2-LTR circle formation       29  \n",
       "bipolar disorder                          2-LTR circle formation       29  "
      ]
     },
     "execution_count": 4,
     "metadata": {},
     "output_type": "execute_result"
    }
   ],
   "source": [
    "query = \"MATCH (d:Disease)-->(gn:Gene)-->(t:Transcript)-->(p:Protein),\\\n",
    "        (gn:Gene)-->(pw:Pathway)\\\n",
    "         RETURN d.name, pw.name, count(gn), count(t), count(p) LIMIT 20\"\n",
    "Result = []\n",
    "with driver.session() as session:\n",
    "    info = session.run(query)\n",
    "    for item in info:\n",
    "            Result.append({\"disease\":item.values()[0],\\\n",
    "                     \"pathway\":item.values()[1],\\\n",
    "                     \"g-count\":item.values()[2],\\\n",
    "                    \"t-count\":item.values()[3],\\\n",
    "                    \"p-count\": item.values()[4]})\n",
    "            \n",
    "df = pd.DataFrame(Result)\n",
    "df = df.set_index(\"disease\")\n",
    "df.head()"
   ]
  },
  {
   "cell_type": "code",
   "execution_count": 5,
   "metadata": {},
   "outputs": [
    {
     "data": {
      "text/html": [
       "<div>\n",
       "<style scoped>\n",
       "    .dataframe tbody tr th:only-of-type {\n",
       "        vertical-align: middle;\n",
       "    }\n",
       "\n",
       "    .dataframe tbody tr th {\n",
       "        vertical-align: top;\n",
       "    }\n",
       "\n",
       "    .dataframe thead th {\n",
       "        text-align: right;\n",
       "    }\n",
       "</style>\n",
       "<table border=\"1\" class=\"dataframe\">\n",
       "  <thead>\n",
       "    <tr style=\"text-align: right;\">\n",
       "      <th></th>\n",
       "      <th>anatomy</th>\n",
       "      <th>disease</th>\n",
       "      <th>g-count</th>\n",
       "      <th>p-count</th>\n",
       "      <th>pathway</th>\n",
       "      <th>t-count</th>\n",
       "    </tr>\n",
       "  </thead>\n",
       "  <tbody>\n",
       "    <tr>\n",
       "      <th>0</th>\n",
       "      <td>zona fasciculata of adrenal gland</td>\n",
       "      <td>hypertension</td>\n",
       "      <td>43</td>\n",
       "      <td>43</td>\n",
       "      <td>2-LTR circle formation</td>\n",
       "      <td>43</td>\n",
       "    </tr>\n",
       "    <tr>\n",
       "      <th>1</th>\n",
       "      <td>splenic artery</td>\n",
       "      <td>hypertension</td>\n",
       "      <td>43</td>\n",
       "      <td>43</td>\n",
       "      <td>2-LTR circle formation</td>\n",
       "      <td>43</td>\n",
       "    </tr>\n",
       "    <tr>\n",
       "      <th>2</th>\n",
       "      <td>anterior nucleus of hypothalamus</td>\n",
       "      <td>hypertension</td>\n",
       "      <td>43</td>\n",
       "      <td>43</td>\n",
       "      <td>2-LTR circle formation</td>\n",
       "      <td>43</td>\n",
       "    </tr>\n",
       "    <tr>\n",
       "      <th>3</th>\n",
       "      <td>common carotid artery plus branches</td>\n",
       "      <td>hypertension</td>\n",
       "      <td>43</td>\n",
       "      <td>43</td>\n",
       "      <td>2-LTR circle formation</td>\n",
       "      <td>43</td>\n",
       "    </tr>\n",
       "    <tr>\n",
       "      <th>4</th>\n",
       "      <td>forelimb zeugopod</td>\n",
       "      <td>hypertension</td>\n",
       "      <td>43</td>\n",
       "      <td>43</td>\n",
       "      <td>2-LTR circle formation</td>\n",
       "      <td>43</td>\n",
       "    </tr>\n",
       "  </tbody>\n",
       "</table>\n",
       "</div>"
      ],
      "text/plain": [
       "                               anatomy       disease  g-count  p-count  \\\n",
       "0    zona fasciculata of adrenal gland  hypertension       43       43   \n",
       "1                       splenic artery  hypertension       43       43   \n",
       "2     anterior nucleus of hypothalamus  hypertension       43       43   \n",
       "3  common carotid artery plus branches  hypertension       43       43   \n",
       "4                    forelimb zeugopod  hypertension       43       43   \n",
       "\n",
       "                  pathway  t-count  \n",
       "0  2-LTR circle formation       43  \n",
       "1  2-LTR circle formation       43  \n",
       "2  2-LTR circle formation       43  \n",
       "3  2-LTR circle formation       43  \n",
       "4  2-LTR circle formation       43  "
      ]
     },
     "execution_count": 5,
     "metadata": {},
     "output_type": "execute_result"
    }
   ],
   "source": [
    "query = \"MATCH (d:Disease)-->(gn:Gene)-->(t:Transcript)-->(p:Protein),\\\n",
    "        (pw:Pathway)<--(gn:Gene),\\\n",
    "        (d:Disease)-->(a:Anatomy)\\\n",
    "        RETURN d.name, pw.name,a.name, count(gn), count(t), count(p) LIMIT 20\"\n",
    "\n",
    "Result = []\n",
    "with driver.session() as session:\n",
    "    info = session.run(query)\n",
    "    for item in info:\n",
    "            Result.append({\"disease\":item.values()[0],\\\n",
    "                     \"pathway\":item.values()[1],\\\n",
    "                     \"anatomy\":item.values()[2],\\\n",
    "                     \"g-count\":item.values()[3],\\\n",
    "                    \"t-count\":item.values()[4],\\\n",
    "                    \"p-count\": item.values()[5]})\n",
    "            \n",
    "df = pd.DataFrame(Result)\n",
    "#df = df.set_index(\"disease\")\n",
    "df.head()"
   ]
  },
  {
   "cell_type": "markdown",
   "metadata": {},
   "source": [
    "#### Count Pathways per Disease"
   ]
  },
  {
   "cell_type": "code",
   "execution_count": 6,
   "metadata": {},
   "outputs": [
    {
     "data": {
      "text/html": [
       "<div>\n",
       "<style scoped>\n",
       "    .dataframe tbody tr th:only-of-type {\n",
       "        vertical-align: middle;\n",
       "    }\n",
       "\n",
       "    .dataframe tbody tr th {\n",
       "        vertical-align: top;\n",
       "    }\n",
       "\n",
       "    .dataframe thead th {\n",
       "        text-align: right;\n",
       "    }\n",
       "</style>\n",
       "<table border=\"1\" class=\"dataframe\">\n",
       "  <thead>\n",
       "    <tr style=\"text-align: right;\">\n",
       "      <th></th>\n",
       "      <th>g-count</th>\n",
       "      <th>pathway</th>\n",
       "      <th>pw-count</th>\n",
       "    </tr>\n",
       "    <tr>\n",
       "      <th>disease</th>\n",
       "      <th></th>\n",
       "      <th></th>\n",
       "      <th></th>\n",
       "    </tr>\n",
       "  </thead>\n",
       "  <tbody>\n",
       "    <tr>\n",
       "      <th>hypertension</th>\n",
       "      <td>1</td>\n",
       "      <td>2-LTR circle formation</td>\n",
       "      <td>1</td>\n",
       "    </tr>\n",
       "    <tr>\n",
       "      <th>attention deficit hyperactivity disorder</th>\n",
       "      <td>1</td>\n",
       "      <td>2-LTR circle formation</td>\n",
       "      <td>1</td>\n",
       "    </tr>\n",
       "    <tr>\n",
       "      <th>conduct disorder</th>\n",
       "      <td>1</td>\n",
       "      <td>2-LTR circle formation</td>\n",
       "      <td>1</td>\n",
       "    </tr>\n",
       "    <tr>\n",
       "      <th>endogenous depression</th>\n",
       "      <td>1</td>\n",
       "      <td>2-LTR circle formation</td>\n",
       "      <td>1</td>\n",
       "    </tr>\n",
       "    <tr>\n",
       "      <th>bipolar disorder</th>\n",
       "      <td>1</td>\n",
       "      <td>2-LTR circle formation</td>\n",
       "      <td>1</td>\n",
       "    </tr>\n",
       "  </tbody>\n",
       "</table>\n",
       "</div>"
      ],
      "text/plain": [
       "                                          g-count                 pathway  \\\n",
       "disease                                                                     \n",
       "hypertension                                    1  2-LTR circle formation   \n",
       "attention deficit hyperactivity disorder        1  2-LTR circle formation   \n",
       "conduct disorder                                1  2-LTR circle formation   \n",
       "endogenous depression                           1  2-LTR circle formation   \n",
       "bipolar disorder                                1  2-LTR circle formation   \n",
       "\n",
       "                                          pw-count  \n",
       "disease                                             \n",
       "hypertension                                     1  \n",
       "attention deficit hyperactivity disorder         1  \n",
       "conduct disorder                                 1  \n",
       "endogenous depression                            1  \n",
       "bipolar disorder                                 1  "
      ]
     },
     "execution_count": 6,
     "metadata": {},
     "output_type": "execute_result"
    }
   ],
   "source": [
    "query = \"MATCH (d:Disease)-->(gn:Gene)-->(pw:Pathway)\\\n",
    "         RETURN d.name, pw.name, count(gn), count(pw) LIMIT 20\"\n",
    "Result = []\n",
    "with driver.session() as session:\n",
    "    info = session.run(query)\n",
    "    for item in info:\n",
    "            Result.append({\"disease\":item.values()[0],\\\n",
    "                     \"pathway\":item.values()[1],\\\n",
    "                     \"g-count\":item.values()[2],\\\n",
    "                    \"pw-count\": item.values()[3]})\n",
    "            \n",
    "df = pd.DataFrame(Result)\n",
    "df = df.set_index(\"disease\")\n",
    "df.head()"
   ]
  },
  {
   "cell_type": "code",
   "execution_count": 14,
   "metadata": {},
   "outputs": [
    {
     "data": {
      "text/html": [
       "<div>\n",
       "<style scoped>\n",
       "    .dataframe tbody tr th:only-of-type {\n",
       "        vertical-align: middle;\n",
       "    }\n",
       "\n",
       "    .dataframe tbody tr th {\n",
       "        vertical-align: top;\n",
       "    }\n",
       "\n",
       "    .dataframe thead th {\n",
       "        text-align: right;\n",
       "    }\n",
       "</style>\n",
       "<table border=\"1\" class=\"dataframe\">\n",
       "  <thead>\n",
       "    <tr style=\"text-align: right;\">\n",
       "      <th></th>\n",
       "      <th>pw-collect</th>\n",
       "      <th>pw-count</th>\n",
       "    </tr>\n",
       "    <tr>\n",
       "      <th>disease</th>\n",
       "      <th></th>\n",
       "      <th></th>\n",
       "    </tr>\n",
       "  </thead>\n",
       "  <tbody>\n",
       "    <tr>\n",
       "      <th>hypertension</th>\n",
       "      <td>[2-LTR circle formation, ADORA2B mediated anti...</td>\n",
       "      <td>356</td>\n",
       "    </tr>\n",
       "    <tr>\n",
       "      <th>attention deficit hyperactivity disorder</th>\n",
       "      <td>[2-LTR circle formation, A tetrasaccharide lin...</td>\n",
       "      <td>1215</td>\n",
       "    </tr>\n",
       "    <tr>\n",
       "      <th>conduct disorder</th>\n",
       "      <td>[2-LTR circle formation, ADORA2B mediated anti...</td>\n",
       "      <td>218</td>\n",
       "    </tr>\n",
       "    <tr>\n",
       "      <th>endogenous depression</th>\n",
       "      <td>[2-LTR circle formation, A tetrasaccharide lin...</td>\n",
       "      <td>1291</td>\n",
       "    </tr>\n",
       "    <tr>\n",
       "      <th>bipolar disorder</th>\n",
       "      <td>[2-LTR circle formation, A tetrasaccharide lin...</td>\n",
       "      <td>1791</td>\n",
       "    </tr>\n",
       "    <tr>\n",
       "      <th>schizophrenia</th>\n",
       "      <td>[2-LTR circle formation, A tetrasaccharide lin...</td>\n",
       "      <td>2989</td>\n",
       "    </tr>\n",
       "    <tr>\n",
       "      <th>lung cancer</th>\n",
       "      <td>[A tetrasaccharide linker sequence is required...</td>\n",
       "      <td>818</td>\n",
       "    </tr>\n",
       "    <tr>\n",
       "      <th>refractive error</th>\n",
       "      <td>[A tetrasaccharide linker sequence is required...</td>\n",
       "      <td>693</td>\n",
       "    </tr>\n",
       "    <tr>\n",
       "      <th>breast cancer</th>\n",
       "      <td>[A tetrasaccharide linker sequence is required...</td>\n",
       "      <td>1681</td>\n",
       "    </tr>\n",
       "    <tr>\n",
       "      <th>degenerative disc disease</th>\n",
       "      <td>[A tetrasaccharide linker sequence is required...</td>\n",
       "      <td>92</td>\n",
       "    </tr>\n",
       "  </tbody>\n",
       "</table>\n",
       "</div>"
      ],
      "text/plain": [
       "                                                                                 pw-collect  \\\n",
       "disease                                                                                       \n",
       "hypertension                              [2-LTR circle formation, ADORA2B mediated anti...   \n",
       "attention deficit hyperactivity disorder  [2-LTR circle formation, A tetrasaccharide lin...   \n",
       "conduct disorder                          [2-LTR circle formation, ADORA2B mediated anti...   \n",
       "endogenous depression                     [2-LTR circle formation, A tetrasaccharide lin...   \n",
       "bipolar disorder                          [2-LTR circle formation, A tetrasaccharide lin...   \n",
       "schizophrenia                             [2-LTR circle formation, A tetrasaccharide lin...   \n",
       "lung cancer                               [A tetrasaccharide linker sequence is required...   \n",
       "refractive error                          [A tetrasaccharide linker sequence is required...   \n",
       "breast cancer                             [A tetrasaccharide linker sequence is required...   \n",
       "degenerative disc disease                 [A tetrasaccharide linker sequence is required...   \n",
       "\n",
       "                                          pw-count  \n",
       "disease                                             \n",
       "hypertension                                   356  \n",
       "attention deficit hyperactivity disorder      1215  \n",
       "conduct disorder                               218  \n",
       "endogenous depression                         1291  \n",
       "bipolar disorder                              1791  \n",
       "schizophrenia                                 2989  \n",
       "lung cancer                                    818  \n",
       "refractive error                               693  \n",
       "breast cancer                                 1681  \n",
       "degenerative disc disease                       92  "
      ]
     },
     "execution_count": 14,
     "metadata": {},
     "output_type": "execute_result"
    }
   ],
   "source": [
    "query = \"MATCH (d:Disease)-->(gn:Gene)-->(pw:Pathway)\\\n",
    "         RETURN d.name,collect(pw.name),count(pw.name) LIMIT 100\"\n",
    "Result = []\n",
    "with driver.session() as session:\n",
    "    info = session.run(query)\n",
    "    for item in info:\n",
    "            Result.append({\"disease\":item.values()[0],\\\n",
    "                    \"pw-collect\":item.values()[1],\\\n",
    "                    \"pw-count\": item.values()[2]})\n",
    "            \n",
    "df = pd.DataFrame(Result)\n",
    "df = df.set_index(\"disease\")\n",
    "df.head(10)"
   ]
  },
  {
   "cell_type": "markdown",
   "metadata": {},
   "source": [
    "#### Count Proteins Per Pathways"
   ]
  },
  {
   "cell_type": "code",
   "execution_count": 18,
   "metadata": {},
   "outputs": [
    {
     "data": {
      "text/html": [
       "<div>\n",
       "<style scoped>\n",
       "    .dataframe tbody tr th:only-of-type {\n",
       "        vertical-align: middle;\n",
       "    }\n",
       "\n",
       "    .dataframe tbody tr th {\n",
       "        vertical-align: top;\n",
       "    }\n",
       "\n",
       "    .dataframe thead th {\n",
       "        text-align: right;\n",
       "    }\n",
       "</style>\n",
       "<table border=\"1\" class=\"dataframe\">\n",
       "  <thead>\n",
       "    <tr style=\"text-align: right;\">\n",
       "      <th></th>\n",
       "      <th>p-collect</th>\n",
       "      <th>p-count</th>\n",
       "    </tr>\n",
       "    <tr>\n",
       "      <th>pathway</th>\n",
       "      <th></th>\n",
       "      <th></th>\n",
       "    </tr>\n",
       "  </thead>\n",
       "  <tbody>\n",
       "    <tr>\n",
       "      <th>Hemostasis</th>\n",
       "      <td>[Q86WN5, Q86SI6, O76083, O95225, Q86SF7, Q86SJ...</td>\n",
       "      <td>37326</td>\n",
       "    </tr>\n",
       "    <tr>\n",
       "      <th>Nitric oxide stimulates guanylate cyclase</th>\n",
       "      <td>[Q86WN5, Q86SI6, O76083, O95225, Q86SF7, Q86SJ...</td>\n",
       "      <td>2613</td>\n",
       "    </tr>\n",
       "    <tr>\n",
       "      <th>Platelet homeostasis</th>\n",
       "      <td>[Q86WN5, Q86SI6, O76083, O95225, Q86SF7, Q86SJ...</td>\n",
       "      <td>6859</td>\n",
       "    </tr>\n",
       "    <tr>\n",
       "      <th>cGMP effects</th>\n",
       "      <td>[Q86WN5, Q86SI6, O76083, O95225, Q86SF7, Q86SJ...</td>\n",
       "      <td>2273</td>\n",
       "    </tr>\n",
       "    <tr>\n",
       "      <th>Developmental Biology</th>\n",
       "      <td>[A9IZ92, Q96G25, A9IZ91, Q5JUY8, Q96FQ4, NP_00...</td>\n",
       "      <td>58720</td>\n",
       "    </tr>\n",
       "  </tbody>\n",
       "</table>\n",
       "</div>"
      ],
      "text/plain": [
       "                                                                                   p-collect  \\\n",
       "pathway                                                                                        \n",
       "Hemostasis                                 [Q86WN5, Q86SI6, O76083, O95225, Q86SF7, Q86SJ...   \n",
       "Nitric oxide stimulates guanylate cyclase  [Q86WN5, Q86SI6, O76083, O95225, Q86SF7, Q86SJ...   \n",
       "Platelet homeostasis                       [Q86WN5, Q86SI6, O76083, O95225, Q86SF7, Q86SJ...   \n",
       "cGMP effects                               [Q86WN5, Q86SI6, O76083, O95225, Q86SF7, Q86SJ...   \n",
       "Developmental Biology                      [A9IZ92, Q96G25, A9IZ91, Q5JUY8, Q96FQ4, NP_00...   \n",
       "\n",
       "                                           p-count  \n",
       "pathway                                             \n",
       "Hemostasis                                   37326  \n",
       "Nitric oxide stimulates guanylate cyclase     2613  \n",
       "Platelet homeostasis                          6859  \n",
       "cGMP effects                                  2273  \n",
       "Developmental Biology                        58720  "
      ]
     },
     "execution_count": 18,
     "metadata": {},
     "output_type": "execute_result"
    }
   ],
   "source": [
    "query = \"MATCH (pw:Pathway)<--(gn:Gene)-->(t:Transcript)-->(p:Protein)\\\n",
    "        RETURN pw.name,count(p.sid),collect(p.sid) LIMIT 100\"\n",
    "\n",
    "\n",
    "Result = []\n",
    "with driver.session() as session:\n",
    "    info = session.run(query)\n",
    "    for item in info:\n",
    "            Result.append({\"pathway\":item.values()[0],\\\n",
    "                     \"p-count\":item.values()[1],\\\n",
    "                     \"p-collect\":item.values()[2]})\n",
    "            \n",
    "df = pd.DataFrame(Result)\n",
    "df = df.set_index(\"pathway\")\n",
    "df.head()"
   ]
  },
  {
   "cell_type": "code",
   "execution_count": null,
   "metadata": {},
   "outputs": [],
   "source": []
  },
  {
   "cell_type": "code",
   "execution_count": null,
   "metadata": {},
   "outputs": [],
   "source": []
  },
  {
   "cell_type": "code",
   "execution_count": null,
   "metadata": {},
   "outputs": [],
   "source": []
  }
 ],
 "metadata": {
  "kernelspec": {
   "display_name": "Python 3",
   "language": "python",
   "name": "python3"
  },
  "language_info": {
   "codemirror_mode": {
    "name": "ipython",
    "version": 3
   },
   "file_extension": ".py",
   "mimetype": "text/x-python",
   "name": "python",
   "nbconvert_exporter": "python",
   "pygments_lexer": "ipython3",
   "version": "3.7.1"
  }
 },
 "nbformat": 4,
 "nbformat_minor": 2
}
