{
 "cells": [
  {
   "cell_type": "markdown",
   "metadata": {},
   "source": [
    "### MeSH Based Query Search"
   ]
  },
  {
   "cell_type": "markdown",
   "metadata": {},
   "source": [
    "In this notebook, we will discuss how to search documents based on the Disease described in the CVD tree."
   ]
  },
  {
   "cell_type": "code",
   "execution_count": 1,
   "metadata": {},
   "outputs": [],
   "source": [
    "import pandas as pd\n",
    "import json\n",
    "from neo4j import GraphDatabase\n",
    "import csv"
   ]
  },
  {
   "cell_type": "markdown",
   "metadata": {},
   "source": [
    "#### Authentication to access covidgraph.org graph"
   ]
  },
  {
   "cell_type": "code",
   "execution_count": 2,
   "metadata": {},
   "outputs": [],
   "source": [
    "covid_browser = \"https://covid.petesis.com:7473\"\n",
    "covid_url = \"bolt://covid.petesis.com:7687\"\n",
    "user = \"public\"\n",
    "password = \"corona\"\n",
    "\n",
    "#driver = GraphDatabase.driver(uri, auth=(user, password))\n",
    "driver = GraphDatabase.driver(uri = covid_url,\\\n",
    "                              auth = (user,password))"
   ]
  },
  {
   "cell_type": "markdown",
   "metadata": {},
   "source": [
    "#### MeSH descriptor to its entity list\n",
    "- Ex. ```C14.260.500: [syphilis, cardiovascular]```\n",
    "- Pandas Dataframe is very convenient for handeling a CSV file specifically for data transformation with ```lambda``` mapping functon."
   ]
  },
  {
   "cell_type": "code",
   "execution_count": 3,
   "metadata": {},
   "outputs": [
    {
     "data": {
      "text/html": [
       "<div>\n",
       "<style scoped>\n",
       "    .dataframe tbody tr th:only-of-type {\n",
       "        vertical-align: middle;\n",
       "    }\n",
       "\n",
       "    .dataframe tbody tr th {\n",
       "        vertical-align: top;\n",
       "    }\n",
       "\n",
       "    .dataframe thead th {\n",
       "        text-align: right;\n",
       "    }\n",
       "</style>\n",
       "<table border=\"1\" class=\"dataframe\">\n",
       "  <thead>\n",
       "    <tr style=\"text-align: right;\">\n",
       "      <th></th>\n",
       "      <th>name</th>\n",
       "    </tr>\n",
       "    <tr>\n",
       "      <th>ID</th>\n",
       "      <th></th>\n",
       "    </tr>\n",
       "  </thead>\n",
       "  <tbody>\n",
       "    <tr>\n",
       "      <th>C14</th>\n",
       "      <td>Cardiovascular Diseases</td>\n",
       "    </tr>\n",
       "    <tr>\n",
       "      <th>C14.260</th>\n",
       "      <td>Cardiovascular Infections</td>\n",
       "    </tr>\n",
       "    <tr>\n",
       "      <th>C14.260.500</th>\n",
       "      <td>Syphilis, Cardiovascular</td>\n",
       "    </tr>\n",
       "    <tr>\n",
       "      <th>C14.260.750</th>\n",
       "      <td>Tuberculosis, Cardiovascular</td>\n",
       "    </tr>\n",
       "    <tr>\n",
       "      <th>C14.280</th>\n",
       "      <td>Heart Diseases</td>\n",
       "    </tr>\n",
       "  </tbody>\n",
       "</table>\n",
       "</div>"
      ],
      "text/plain": [
       "                                     name\n",
       "ID                                       \n",
       "C14               Cardiovascular Diseases\n",
       "C14.260         Cardiovascular Infections\n",
       "C14.260.500      Syphilis, Cardiovascular\n",
       "C14.260.750  Tuberculosis, Cardiovascular\n",
       "C14.280                    Heart Diseases"
      ]
     },
     "execution_count": 3,
     "metadata": {},
     "output_type": "execute_result"
    }
   ],
   "source": [
    "MeSH = pd.read_csv(\"../Input/mesh/cvd.csv\")\n",
    "MeSH = MeSH.set_index('ID')\n",
    "MeSH.head()"
   ]
  },
  {
   "cell_type": "markdown",
   "metadata": {},
   "source": [
    "- Implementing ```lambda``` function to map one column to another column"
   ]
  },
  {
   "cell_type": "code",
   "execution_count": 4,
   "metadata": {},
   "outputs": [],
   "source": [
    "MeSH['phrases'] = MeSH['name'].apply(lambda x: x.lower().strip())"
   ]
  },
  {
   "cell_type": "code",
   "execution_count": 5,
   "metadata": {},
   "outputs": [
    {
     "data": {
      "text/html": [
       "<div>\n",
       "<style scoped>\n",
       "    .dataframe tbody tr th:only-of-type {\n",
       "        vertical-align: middle;\n",
       "    }\n",
       "\n",
       "    .dataframe tbody tr th {\n",
       "        vertical-align: top;\n",
       "    }\n",
       "\n",
       "    .dataframe thead th {\n",
       "        text-align: right;\n",
       "    }\n",
       "</style>\n",
       "<table border=\"1\" class=\"dataframe\">\n",
       "  <thead>\n",
       "    <tr style=\"text-align: right;\">\n",
       "      <th></th>\n",
       "      <th>name</th>\n",
       "      <th>phrases</th>\n",
       "    </tr>\n",
       "    <tr>\n",
       "      <th>ID</th>\n",
       "      <th></th>\n",
       "      <th></th>\n",
       "    </tr>\n",
       "  </thead>\n",
       "  <tbody>\n",
       "    <tr>\n",
       "      <th>C14</th>\n",
       "      <td>Cardiovascular Diseases</td>\n",
       "      <td>cardiovascular diseases</td>\n",
       "    </tr>\n",
       "    <tr>\n",
       "      <th>C14.260</th>\n",
       "      <td>Cardiovascular Infections</td>\n",
       "      <td>cardiovascular infections</td>\n",
       "    </tr>\n",
       "    <tr>\n",
       "      <th>C14.260.500</th>\n",
       "      <td>Syphilis, Cardiovascular</td>\n",
       "      <td>syphilis, cardiovascular</td>\n",
       "    </tr>\n",
       "    <tr>\n",
       "      <th>C14.260.750</th>\n",
       "      <td>Tuberculosis, Cardiovascular</td>\n",
       "      <td>tuberculosis, cardiovascular</td>\n",
       "    </tr>\n",
       "    <tr>\n",
       "      <th>C14.280</th>\n",
       "      <td>Heart Diseases</td>\n",
       "      <td>heart diseases</td>\n",
       "    </tr>\n",
       "  </tbody>\n",
       "</table>\n",
       "</div>"
      ],
      "text/plain": [
       "                                     name                       phrases\n",
       "ID                                                                     \n",
       "C14               Cardiovascular Diseases       cardiovascular diseases\n",
       "C14.260         Cardiovascular Infections     cardiovascular infections\n",
       "C14.260.500      Syphilis, Cardiovascular      syphilis, cardiovascular\n",
       "C14.260.750  Tuberculosis, Cardiovascular  tuberculosis, cardiovascular\n",
       "C14.280                    Heart Diseases                heart diseases"
      ]
     },
     "execution_count": 5,
     "metadata": {},
     "output_type": "execute_result"
    }
   ],
   "source": [
    "MeSH.head()"
   ]
  },
  {
   "cell_type": "code",
   "execution_count": 6,
   "metadata": {},
   "outputs": [],
   "source": [
    "MeSH['phrases'] = MeSH['phrases'].apply(lambda x:x.split(','))"
   ]
  },
  {
   "cell_type": "code",
   "execution_count": 7,
   "metadata": {},
   "outputs": [],
   "source": [
    "for x in MeSH['phrases']:\n",
    "    for val in x:\n",
    "        val = val.strip()"
   ]
  },
  {
   "cell_type": "code",
   "execution_count": 8,
   "metadata": {},
   "outputs": [
    {
     "data": {
      "text/html": [
       "<div>\n",
       "<style scoped>\n",
       "    .dataframe tbody tr th:only-of-type {\n",
       "        vertical-align: middle;\n",
       "    }\n",
       "\n",
       "    .dataframe tbody tr th {\n",
       "        vertical-align: top;\n",
       "    }\n",
       "\n",
       "    .dataframe thead th {\n",
       "        text-align: right;\n",
       "    }\n",
       "</style>\n",
       "<table border=\"1\" class=\"dataframe\">\n",
       "  <thead>\n",
       "    <tr style=\"text-align: right;\">\n",
       "      <th></th>\n",
       "      <th>name</th>\n",
       "      <th>phrases</th>\n",
       "    </tr>\n",
       "    <tr>\n",
       "      <th>ID</th>\n",
       "      <th></th>\n",
       "      <th></th>\n",
       "    </tr>\n",
       "  </thead>\n",
       "  <tbody>\n",
       "    <tr>\n",
       "      <th>C14</th>\n",
       "      <td>Cardiovascular Diseases</td>\n",
       "      <td>[cardiovascular diseases]</td>\n",
       "    </tr>\n",
       "    <tr>\n",
       "      <th>C14.260</th>\n",
       "      <td>Cardiovascular Infections</td>\n",
       "      <td>[cardiovascular infections]</td>\n",
       "    </tr>\n",
       "    <tr>\n",
       "      <th>C14.260.500</th>\n",
       "      <td>Syphilis, Cardiovascular</td>\n",
       "      <td>[syphilis,  cardiovascular]</td>\n",
       "    </tr>\n",
       "    <tr>\n",
       "      <th>C14.260.750</th>\n",
       "      <td>Tuberculosis, Cardiovascular</td>\n",
       "      <td>[tuberculosis,  cardiovascular]</td>\n",
       "    </tr>\n",
       "    <tr>\n",
       "      <th>C14.280</th>\n",
       "      <td>Heart Diseases</td>\n",
       "      <td>[heart diseases]</td>\n",
       "    </tr>\n",
       "  </tbody>\n",
       "</table>\n",
       "</div>"
      ],
      "text/plain": [
       "                                     name                          phrases\n",
       "ID                                                                        \n",
       "C14               Cardiovascular Diseases        [cardiovascular diseases]\n",
       "C14.260         Cardiovascular Infections      [cardiovascular infections]\n",
       "C14.260.500      Syphilis, Cardiovascular      [syphilis,  cardiovascular]\n",
       "C14.260.750  Tuberculosis, Cardiovascular  [tuberculosis,  cardiovascular]\n",
       "C14.280                    Heart Diseases                 [heart diseases]"
      ]
     },
     "execution_count": 8,
     "metadata": {},
     "output_type": "execute_result"
    }
   ],
   "source": [
    "MeSH.head()"
   ]
  },
  {
   "cell_type": "code",
   "execution_count": 9,
   "metadata": {},
   "outputs": [
    {
     "data": {
      "text/plain": [
       "'C14'"
      ]
     },
     "execution_count": 9,
     "metadata": {},
     "output_type": "execute_result"
    }
   ],
   "source": [
    "MeSH.index[0]"
   ]
  },
  {
   "cell_type": "code",
   "execution_count": 10,
   "metadata": {},
   "outputs": [],
   "source": [
    "id2name = {}\n",
    "for ID,name in zip(MeSH.index, MeSH['name']):\n",
    "    id2name.update({ID:name})\n",
    "    \n",
    "with open(\"../Data/mesh/statistics/cvd_id2name.json\", 'w') as wf:\n",
    "    json.dump(id2name,wf)"
   ]
  },
  {
   "cell_type": "markdown",
   "metadata": {},
   "source": [
    "#### MeSH to Doc Mapping\n",
    "- Create a dictionary where the key is a MeSH descriptor, and the value is a list of papers (publications) that contains mention of the MeSH terms in its body text\n",
    "- Each paper is represented as dictionary linking each attribute name in the paper (cord_uid, journal, title, etc.) with its actual information"
   ]
  },
  {
   "cell_type": "markdown",
   "metadata": {},
   "source": [
    "##### Example of a paper node in the covid graph"
   ]
  },
  {
   "cell_type": "code",
   "execution_count": 11,
   "metadata": {},
   "outputs": [
    {
     "name": "stdout",
     "output_type": "stream",
     "text": [
      "<Record n=<Node id=2385529 labels={'Paper'} properties={'cord_uid': 'ocp6yodg', 'cord19-fulltext_hash': 'b8957d48b6bcf17b7b51e004d19314ce77f653a1', 'journal': 'BMC Infect Dis', 'publish_time': '2011-12-28', 'source': 'PMC', 'title': 'Timeliness of contact tracing among flight passengers for influenza A/H1N1 2009', '_hash_id': '84b069ab23fb0ecebe6925af9c2b18ae', 'url': 'https://www.ncbi.nlm.nih.gov/pmc/articles/PMC3265549/'}>>\n"
     ]
    }
   ],
   "source": [
    "paper_query = \"MATCH (n:Paper) RETURN n LIMIT 1\"\n",
    "Data = []\n",
    "with driver.session() as session:\n",
    "    info = session.run(paper_query)\n",
    "    for item in info:\n",
    "        print(item)"
   ]
  },
  {
   "cell_type": "markdown",
   "metadata": {},
   "source": [
    "#### Writes data to file"
   ]
  },
  {
   "cell_type": "code",
   "execution_count": 13,
   "metadata": {},
   "outputs": [],
   "source": [
    "MeSH_to_result = {}\n",
    "MeSH_number = {}\n",
    "for desc, entities in zip(MeSH.index, MeSH['phrases']):\n",
    "    #Builds each part of the query based on the MeSH descriptor entity list\n",
    "    query = \"MATCH (p:Paper)-[:PAPER_HAS_BODYTEXTCOLLECTION]-(:BodyTextCollection)-\" \\\n",
    "                                        \"[:BODYTEXTCOLLECTION_HAS_BODYTEXT]-(a:BodyText) WHERE (\"\n",
    "    for i in range(len(entities)):\n",
    "        if i == len(entities)-1:\n",
    "            query += \"LOWER(a.text) CONTAINS '\" + entities[i] + \"') RETURN DISTINCT p\"\n",
    "        else:\n",
    "            query += \"LOWER(a.text) CONTAINS '\" + entities[i] + \"' AND \"\n",
    "\n",
    "    MeSH_result = []\n",
    "        \n",
    "    with driver.session() as session:\n",
    "        info = session.run(query)\n",
    "        for item in info:\n",
    "            try:\n",
    "                node_keys = list((item.values(0)[0]).keys())\n",
    "                node_values = list((item.values(0)[0]).values())\n",
    "                paper = {}\n",
    "                for i in range(len(node_keys)):\n",
    "                    if (node_keys[i] == 'cord_uid'):\n",
    "                        MeSH_result.append(node_values[i])\n",
    "            except:\n",
    "                continue\n",
    "    \n",
    "    try:\n",
    "        name = id2name[desc]\n",
    "        MeSH_to_result[name] = MeSH_result\n",
    "        MeSH_number[desc] = len(MeSH_result)\n",
    "    except:\n",
    "        continue"
   ]
  },
  {
   "cell_type": "code",
   "execution_count": 14,
   "metadata": {},
   "outputs": [],
   "source": [
    "ff = open(\"../Data/mesh/cvd_paper_ids.json\", 'w')\n",
    "\n",
    "json.dump(MeSH_to_result, ff)\n",
    "\n",
    "ff.close()"
   ]
  },
  {
   "cell_type": "code",
   "execution_count": 15,
   "metadata": {},
   "outputs": [
    {
     "data": {
      "text/plain": [
       "dict_items([('C14', 133), ('C14.260', 0), ('C14.260.500', 1), ('C14.260.750', 12), ('C14.280', 35), ('C14.280.104', 0), ('C14.280.123', 0), ('C14.280.123.750', 0), ('C14.280.123.750.560', 0), ('C14.280.123.750.770', 0), ('C14.280.155', 12), ('C14.280.238', 14), ('C14.280.238.070', 39), ('C14.280.238.160', 7), ('C14.280.238.190', 0), ('C14.280.238.281', 1), ('C14.280.238.406', 2), ('C14.280.238.625', 220), ('C14.280.282', 71), ('C14.280.282.407', 17), ('C14.280.282.407.407', 4), ('C14.280.282.703', 1), ('C14.280.383', 0), ('C14.280.383.610', 14), ('C14.280.434', 277), ('C14.280.434.156', 1), ('C14.280.434.611', 22), ('C14.280.434.676', 34), ('C14.280.459', 0), ('C14.280.470', 0), ('C14.280.470.475', 0), ('C14.280.470.475.900', 1), ('C14.280.484', 0), ('C14.280.484.095', 2), ('C14.280.484.150.070.160', 25), ('C14.280.484.400', 0), ('C14.280.484.400.100', 0), ('C14.280.484.400.500', 4), ('C14.280.484.400.875', 0), ('C14.280.484.461', 2), ('C14.280.484.517', 2), ('C14.280.484.660', 1), ('C14.280.484.856', 0), ('C14.280.484.911', 0), ('C14.280.695', 36), ('C14.280.720', 56), ('C14.280.720.595', 7), ('C14.280.720.801', 3), ('C14.280.763', 2), ('C14.280.832', 0), ('C14.280.874', 11), ('C14.280.945', 32), ('C14.280.945.900', 21), ('C14.280.945.900.500', 5), ('C14.280.945.910', 10), ('C14.280.955', 1), ('C14.280.955.249', 2), ('C14.280.955.249.070', 1), ('C14.280.955.249.070.210', 0), ('C14.280.955.249.535', 0), ('C14.280.955.750', 2), ('C14.280.955.750.762', 0), ('C14.583', 3), ('C14.907', 160), ('C14.907.055', 79), ('C14.907.055.050', 3), ('C14.907.055.090', 10), ('C14.907.055.131', 5), ('C14.907.055.185', 9), ('C14.907.055.608', 1), ('C14.907.055.625', 1), ('C14.907.055.817', 4), ('C14.907.075', 2), ('C14.907.075.280', 0), ('C14.907.077', 7), ('C14.907.077.410', 1), ('C14.907.077.850', 3), ('C14.907.109', 2), ('C14.907.109.139', 30), ('C14.907.109.139.075', 20), ('C14.907.109.139.125', 8), ('C14.907.109.239', 0), ('C14.907.137', 1), ('C14.907.137.126', 13), ('C14.907.137.126.056', 1), ('C14.907.137.126.114', 0), ('C14.907.137.126.307', 138), ('C14.907.137.372', 7), ('C14.907.137.427', 0), ('C14.907.137.534', 0), ('C14.907.137.727', 0), ('C14.907.137.780', 1), ('C14.907.137.825', 10), ('C14.907.218', 11), ('C14.907.253', 2), ('C14.907.253.061', 0), ('C14.907.253.092', 16), ('C14.907.253.092.716', 2), ('C14.907.253.092.836', 10), ('C14.907.253.092.956', 0), ('C14.907.253.092.956.700', 1), ('C14.907.253.123', 0), ('C14.907.253.123.360', 4), ('C14.907.253.329', 0), ('C14.907.253.560', 0), ('C14.907.253.560.200', 0), ('C14.907.253.560.200.737', 4), ('C14.907.253.560.300', 8), ('C14.907.253.560.350', 0), ('C14.907.253.573.350', 3), ('C14.907.253.855', 267), ('C14.907.253.937', 0), ('C14.907.253.951', 6), ('C14.907.286', 14), ('C14.907.303', 0), ('C14.907.303.063', 1), ('C14.907.303.297', 7), ('C14.907.303.531', 0), ('C14.907.355', 0), ('C14.907.355.350', 135), ('C14.907.355.350.254', 23), ('C14.907.355.350.354', 2), ('C14.907.355.350.454', 33), ('C14.907.355.350.454.500', 6), ('C14.907.355.350.700', 89), ('C14.907.355.590', 45), ('C14.907.355.590.213', 0), ('C14.907.355.590.213.206', 0), ('C14.907.355.590.213.300', 0), ('C14.907.355.590.213.350', 0), ('C14.907.355.590.213.350.500', 5), ('C14.907.355.590.213.350.500.375', 2), ('C14.907.355.590.213.350.500.562', 1), ('C14.907.355.590.213.350.500.750', 1), ('C14.907.355.590.400', 8), ('C14.907.355.590.700', 22), ('C14.907.355.830', 171), ('C14.907.355.830.925', 35), ('C14.907.355.830.925.275', 5), ('C14.907.355.830.925.885', 0), ('C14.907.449', 7), ('C14.907.460', 11), ('C14.907.474', 35), ('C14.907.489', 412), ('C14.907.489.165', 17), ('C14.907.489.330', 28), ('C14.907.489.480', 1), ('C14.907.489.631', 117), ('C14.907.489.631.485', 5), ('C14.907.489.815', 3), ('C14.907.489.815.500', 0), ('C14.907.489.861', 2), ('C14.907.489.907', 1), ('C14.907.514', 191), ('C14.907.514.482', 7), ('C14.907.514.611', 1), ('C14.907.514.741', 0), ('C14.907.549', 14), ('C14.907.585', 37), ('C14.907.585.124', 40), ('C14.907.585.187.575', 0), ('C14.907.585.250', 23), ('C14.907.585.250.250', 5), ('C14.907.585.250.260', 83), ('C14.907.585.250.272', 3), ('C14.907.585.250.285', 6), ('C14.907.585.250.285.200', 2), ('C14.907.585.250.290', 1), ('C14.907.585.250.295', 2), ('C14.907.601', 3), ('C14.907.609', 1), ('C14.907.617', 0), ('C14.907.617.249', 0), ('C14.907.617.500', 0), ('C14.907.617.671', 10), ('C14.907.617.812', 1), ('C14.907.653', 1), ('C14.907.690', 3), ('C14.907.760', 0), ('C14.907.790', 0), ('C14.907.790.550', 0), ('C14.907.790.550.100', 0), ('C14.907.798', 1), ('C14.907.800', 2), ('C14.907.823', 1), ('C14.907.823.502', 0), ('C14.907.863', 4), ('C14.907.903', 4), ('C14.907.927', 10), ('C14.907.936', 0), ('C14.907.940', 117), ('C14.907.940.080', 6), ('C14.907.940.090', 86), ('C14.907.940.090.340', 0), ('C14.907.940.320', 0), ('C14.907.940.740', 19), ('C14.907.940.740.910', 9), ('C14.907.940.740.910.500', 0), ('C14.907.940.815', 3), ('C14.907.940.897', 29), ('C14.907.940.905', 1), ('C14.907.952', 4), ('C14.907.952.760', 0), ('C14.907.952.880', 1)])"
      ]
     },
     "execution_count": 15,
     "metadata": {},
     "output_type": "execute_result"
    }
   ],
   "source": [
    "MeSH_number.items()"
   ]
  },
  {
   "cell_type": "code",
   "execution_count": null,
   "metadata": {},
   "outputs": [],
   "source": []
  }
 ],
 "metadata": {
  "kernelspec": {
   "display_name": "Python 3",
   "language": "python",
   "name": "python3"
  },
  "language_info": {
   "codemirror_mode": {
    "name": "ipython",
    "version": 3
   },
   "file_extension": ".py",
   "mimetype": "text/x-python",
   "name": "python",
   "nbconvert_exporter": "python",
   "pygments_lexer": "ipython3",
   "version": "3.6.6"
  }
 },
 "nbformat": 4,
 "nbformat_minor": 2
}
