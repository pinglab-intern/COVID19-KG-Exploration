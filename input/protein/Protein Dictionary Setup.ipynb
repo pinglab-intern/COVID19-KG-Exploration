{
 "cells": [
  {
   "cell_type": "markdown",
   "metadata": {},
   "source": [
    "### Protein Cleaner\n",
    "This notebook cleans and parses the protein information from a CSV file"
   ]
  },
  {
   "cell_type": "code",
   "execution_count": 16,
   "metadata": {},
   "outputs": [],
   "source": [
    "import pandas as pd\n",
    "import matplotlib.pyplot as plt\n",
    "%matplotlib inline\n",
    "import json\n",
    "file_path = \"8kProteins.csv\"\n",
    "df = pd.read_csv(file_path)"
   ]
  },
  {
   "cell_type": "markdown",
   "metadata": {},
   "source": [
    "Each protein has 3 components: uniprot ID, entry name, a list of protein names, and gene names associated with the protein"
   ]
  },
  {
   "cell_type": "code",
   "execution_count": 9,
   "metadata": {},
   "outputs": [
    {
     "data": {
      "text/html": [
       "<div>\n",
       "<style scoped>\n",
       "    .dataframe tbody tr th:only-of-type {\n",
       "        vertical-align: middle;\n",
       "    }\n",
       "\n",
       "    .dataframe tbody tr th {\n",
       "        vertical-align: top;\n",
       "    }\n",
       "\n",
       "    .dataframe thead th {\n",
       "        text-align: right;\n",
       "    }\n",
       "</style>\n",
       "<table border=\"1\" class=\"dataframe\">\n",
       "  <thead>\n",
       "    <tr style=\"text-align: right;\">\n",
       "      <th></th>\n",
       "      <th>Entry</th>\n",
       "      <th>Entry name</th>\n",
       "      <th>Protein names</th>\n",
       "      <th>Gene names</th>\n",
       "    </tr>\n",
       "  </thead>\n",
       "  <tbody>\n",
       "    <tr>\n",
       "      <th>0</th>\n",
       "      <td>P16860</td>\n",
       "      <td>ANFB_HUMAN</td>\n",
       "      <td>Natriuretic peptides B (Gamma-brain natriureti...</td>\n",
       "      <td>NPPB</td>\n",
       "    </tr>\n",
       "    <tr>\n",
       "      <th>1</th>\n",
       "      <td>P12821</td>\n",
       "      <td>ACE_HUMAN</td>\n",
       "      <td>Angiotensin-converting enzyme (ACE) (EC 3.2.1....</td>\n",
       "      <td>ACE DCP DCP1</td>\n",
       "    </tr>\n",
       "    <tr>\n",
       "      <th>2</th>\n",
       "      <td>Q14524</td>\n",
       "      <td>SCN5A_HUMAN</td>\n",
       "      <td>Sodium channel protein type 5 subunit alpha (H...</td>\n",
       "      <td>SCN5A</td>\n",
       "    </tr>\n",
       "    <tr>\n",
       "      <th>3</th>\n",
       "      <td>Q12809</td>\n",
       "      <td>KCNH2_HUMAN</td>\n",
       "      <td>Potassium voltage-gated channel subfamily H me...</td>\n",
       "      <td>KCNH2 ERG ERG1 HERG</td>\n",
       "    </tr>\n",
       "    <tr>\n",
       "      <th>4</th>\n",
       "      <td>P02741</td>\n",
       "      <td>CRP_HUMAN</td>\n",
       "      <td>C-reactive protein [Cleaved into: C-reactive p...</td>\n",
       "      <td>CRP PTX1</td>\n",
       "    </tr>\n",
       "  </tbody>\n",
       "</table>\n",
       "</div>"
      ],
      "text/plain": [
       "    Entry   Entry name                                      Protein names  \\\n",
       "0  P16860   ANFB_HUMAN  Natriuretic peptides B (Gamma-brain natriureti...   \n",
       "1  P12821    ACE_HUMAN  Angiotensin-converting enzyme (ACE) (EC 3.2.1....   \n",
       "2  Q14524  SCN5A_HUMAN  Sodium channel protein type 5 subunit alpha (H...   \n",
       "3  Q12809  KCNH2_HUMAN  Potassium voltage-gated channel subfamily H me...   \n",
       "4  P02741    CRP_HUMAN  C-reactive protein [Cleaved into: C-reactive p...   \n",
       "\n",
       "            Gene names  \n",
       "0                 NPPB  \n",
       "1         ACE DCP DCP1  \n",
       "2                SCN5A  \n",
       "3  KCNH2 ERG ERG1 HERG  \n",
       "4             CRP PTX1  "
      ]
     },
     "execution_count": 9,
     "metadata": {},
     "output_type": "execute_result"
    }
   ],
   "source": [
    "df.head()"
   ]
  },
  {
   "cell_type": "markdown",
   "metadata": {},
   "source": [
    "#### Cleans and parses protein names"
   ]
  },
  {
   "cell_type": "code",
   "execution_count": 10,
   "metadata": {},
   "outputs": [],
   "source": [
    "def filter(line):\n",
    "    proteins = set()\n",
    "    line = str(line)\n",
    "    line = line.lower()\n",
    "\n",
    "    '''for lines without () or [] terms'''\n",
    "    if \"(\" not in line or \"[\" not in line:\n",
    "        proteins.add(line.strip().replace(' ', '_'))\n",
    "\n",
    "\n",
    "    '''for line including () terms'''    \n",
    "    if '(' in line:\n",
    "        start = 0\n",
    "        open_in = line.find('(')\n",
    "        tmp = line[start:open_in].strip().replace(' ', '_')\n",
    "        proteins.add(tmp)\n",
    "        while open_in >=0:\n",
    "            start = open_in+1\n",
    "            end = line.find(')', start)\n",
    "            proteins.add(line[start:end].strip().replace(' ', '_'))\n",
    "            open_in = line.find('(', end)\n",
    "\n",
    "    '''for lines including [] trems'''\n",
    "    if '[' in line:\n",
    "        raw = line[line.find('['):line.find(']')]\n",
    "        #print(\"THIS IS RAW:\", raw[15:-1])\n",
    "        raw = raw[15:-1]\n",
    "        lraw = raw.split(\"; \")\n",
    "        for item in lraw:\n",
    "            #print(item)\n",
    "            if '(' in item:\n",
    "                start = 0\n",
    "                open_in = item.find('(')\n",
    "                tmp = item[start:open_in].strip().replace(' ', '_')\n",
    "                proteins.add(tmp)\n",
    "            else:\n",
    "                proteins.add(item.strip().replace(' ', '_'))\n",
    "    return proteins"
   ]
  },
  {
   "cell_type": "markdown",
   "metadata": {},
   "source": [
    "#### Example"
   ]
  },
  {
   "cell_type": "code",
   "execution_count": 11,
   "metadata": {},
   "outputs": [
    {
     "name": "stdout",
     "output_type": "stream",
     "text": [
      "P16860 | Natriuretic peptides B (Gamma-brain natriuretic peptide) [Cleaved into: Brain natriuretic peptide 32 (BNP(1-32)) (BNP-32); BNP(1-30); BNP(1-29); BNP(1-28); BNP(2-31); BNP(3-32); BNP(3-30); BNP(3-29); BNP(4-32); BNP(4-31); BNP(4-30); BNP(4-29); BNP(4-27); BNP(5-32); BNP(5-31); BNP(5-29)]\n",
      "------------\n",
      "P16860 | {'gamma-brain_natriuretic_peptide', 'natriuretic_peptides_b', '4-32', '3-30', 'brain_natriuretic_peptide_32', '5-29', '1-29', '1-30', '2-31', '1-28', 'bnp', '4-30', '4-31', 'bnp-32', '4-27', '3-29', '3-32', '5-31', '4-29', '5-32', 'bnp(1-32'}\n",
      "===================================================\n",
      "P12821 | Angiotensin-converting enzyme (ACE) (EC 3.2.1.-) (EC 3.4.15.1) (Dipeptidyl carboxypeptidase I) (Kininase II) (CD antigen CD143) [Cleaved into: Angiotensin-converting enzyme, soluble form]\n",
      "------------\n",
      "P12821 | {'ec_3.2.1.-', 'cd_antigen_cd143', 'ec_3.4.15.1', 'dipeptidyl_carboxypeptidase_i', 'kininase_ii', 'angiotensin-converting_enzyme,_soluble_for', 'angiotensin-converting_enzyme', 'ace'}\n",
      "===================================================\n"
     ]
    }
   ],
   "source": [
    "allProteins = []\n",
    "i = 0\n",
    "for u,p in zip(df['Entry'],df['Protein names']):\n",
    "    print(u,\"|\",p)\n",
    "    print(\"------------\")\n",
    "    print(u,\"|\",filter(p))\n",
    "    print(\"===================================================\")\n",
    "    i += 1\n",
    "    if i>1:\n",
    "        break"
   ]
  },
  {
   "cell_type": "markdown",
   "metadata": {},
   "source": [
    "#### Cleans and parses gene names"
   ]
  },
  {
   "cell_type": "code",
   "execution_count": 12,
   "metadata": {},
   "outputs": [],
   "source": [
    "def parse_genes(line):\n",
    "    line = str(line)\n",
    "    line = line.lower()\n",
    "    \n",
    "    genes = line.split()\n",
    "\n",
    "    return genes"
   ]
  },
  {
   "cell_type": "markdown",
   "metadata": {},
   "source": [
    "#### Creates protein dictionary\n",
    "- Using the parsing methods, a dictionary for each protein is created\n",
    "- In the format:\n",
    "                        [{\"uniprot_ID\": XXXX,\\\n",
    "                          \"names\" : [xxx,xxx,xxx,xxx],\\\n",
    "                          \"genes\": [xxx,xxx]}]\n",
    "- A list of dictionaries (aka list of proteins) is written to a file"
   ]
  },
  {
   "cell_type": "code",
   "execution_count": 13,
   "metadata": {},
   "outputs": [],
   "source": [
    "allProteins = []\n",
    "for u,p,g in zip(df['Entry'],df['Protein names'], df['Gene names']):\n",
    "    allProteins.append({\"id\":u, \"names\":list(filter(p)), \"genes\":parse_genes(g)})"
   ]
  },
  {
   "cell_type": "code",
   "execution_count": 17,
   "metadata": {},
   "outputs": [],
   "source": [
    "with open(\"protein_dict.json\", 'w') as pd:\n",
    "    json.dump(allProteins, pd)"
   ]
  }
 ],
 "metadata": {
  "kernelspec": {
   "display_name": "Python 3",
   "language": "python",
   "name": "python3"
  },
  "language_info": {
   "codemirror_mode": {
    "name": "ipython",
    "version": 3
   },
   "file_extension": ".py",
   "mimetype": "text/x-python",
   "name": "python",
   "nbconvert_exporter": "python",
   "pygments_lexer": "ipython3",
   "version": "3.6.6"
  }
 },
 "nbformat": 4,
 "nbformat_minor": 2
}
