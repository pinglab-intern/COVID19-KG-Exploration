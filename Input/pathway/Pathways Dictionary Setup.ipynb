{
 "cells": [
  {
   "cell_type": "markdown",
   "metadata": {},
   "source": [
    "## Extraction of Pathways (Reactome)\n",
    "\n",
    "REACTOME is an open-source, open access, manually curated and peer-reviewed pathway database. OuREACTOME is an open-source, open access, manually curated and peer-reviewed pathway database. Our goal is to provide intuitive bioinformatics tools for the visualization, interpretation and analysis of pathway knowledge to support basic and clinical research, genome analysis, modeling, systems biology and education. Founded in 2003, the Reactome project is led by Lincoln Stein of OICR, Peter D’Eustachio of NYULMC, Henning Hermjakob of EMBL-EBI, and Guanming Wu of OHSU.r goal is to provide intuitive bioinformatics tools for the visualization, interpretation and analysis of pathway knowledge to support basic and clinical research, genome analysis, modeling, systems biology and education. Founded in 2003, the Reactome project is led by Lincoln Stein of OICR, Peter D’Eustachio of NYULMC, Henning Hermjakob of EMBL-EBI, and Guanming Wu of OHSU.  [Source](https://reactome.org/)"
   ]
  },
  {
   "cell_type": "markdown",
   "metadata": {},
   "source": [
    "This notebook takes pathways from Reactome and parses its data"
   ]
  },
  {
   "cell_type": "code",
   "execution_count": 1,
   "metadata": {},
   "outputs": [],
   "source": [
    "import json as json\n",
    "import pandas as pd"
   ]
  },
  {
   "cell_type": "markdown",
   "metadata": {},
   "source": [
    "#### Pathway Parsing"
   ]
  },
  {
   "cell_type": "markdown",
   "metadata": {},
   "source": [
    "Each pathway has 3 components: RID, a name, and an associated species. We also distinguish all pathways related to humans."
   ]
  },
  {
   "cell_type": "code",
   "execution_count": 2,
   "metadata": {},
   "outputs": [],
   "source": [
    "DATA = []\n",
    "HUMAN = []\n",
    "with open(\"ReactomePathways.txt\",'r') as f1:\n",
    "    for line in f1:\n",
    "        #print(line.split(\"\\t\"))\n",
    "        sl = line.split(\"\\t\")\n",
    "        RID = sl[0]\n",
    "        name = sl[1]\n",
    "        species = sl[2]\n",
    "        if species[-1] == \"\\n\":\n",
    "            species = species[0:-1]\n",
    "        \n",
    "        DATA.append({\"RID\":RID, \"name\":name, \"species\":species})\n",
    "        if species == \"Homo sapiens\":\n",
    "            HUMAN.append({\"RID\":RID, \"name\":name, \"species\":species})          "
   ]
  },
  {
   "cell_type": "code",
   "execution_count": 3,
   "metadata": {},
   "outputs": [
    {
     "data": {
      "text/plain": [
       "20751"
      ]
     },
     "execution_count": 3,
     "metadata": {},
     "output_type": "execute_result"
    }
   ],
   "source": [
    "len(DATA)"
   ]
  },
  {
   "cell_type": "code",
   "execution_count": 4,
   "metadata": {},
   "outputs": [
    {
     "data": {
      "text/plain": [
       "2255"
      ]
     },
     "execution_count": 4,
     "metadata": {},
     "output_type": "execute_result"
    }
   ],
   "source": [
    "len(HUMAN)"
   ]
  },
  {
   "cell_type": "code",
   "execution_count": 5,
   "metadata": {},
   "outputs": [],
   "source": [
    "df = pd.DataFrame(DATA)\n",
    "hdf = pd.DataFrame(HUMAN)"
   ]
  },
  {
   "cell_type": "code",
   "execution_count": 6,
   "metadata": {},
   "outputs": [
    {
     "data": {
      "text/html": [
       "<div>\n",
       "<style scoped>\n",
       "    .dataframe tbody tr th:only-of-type {\n",
       "        vertical-align: middle;\n",
       "    }\n",
       "\n",
       "    .dataframe tbody tr th {\n",
       "        vertical-align: top;\n",
       "    }\n",
       "\n",
       "    .dataframe thead th {\n",
       "        text-align: right;\n",
       "    }\n",
       "</style>\n",
       "<table border=\"1\" class=\"dataframe\">\n",
       "  <thead>\n",
       "    <tr style=\"text-align: right;\">\n",
       "      <th></th>\n",
       "      <th>RID</th>\n",
       "      <th>name</th>\n",
       "      <th>species</th>\n",
       "    </tr>\n",
       "  </thead>\n",
       "  <tbody>\n",
       "    <tr>\n",
       "      <th>0</th>\n",
       "      <td>R-BTA-73843</td>\n",
       "      <td>5-Phosphoribose 1-diphosphate biosynthesis</td>\n",
       "      <td>Bos taurus</td>\n",
       "    </tr>\n",
       "    <tr>\n",
       "      <th>1</th>\n",
       "      <td>R-BTA-1971475</td>\n",
       "      <td>A tetrasaccharide linker sequence is required ...</td>\n",
       "      <td>Bos taurus</td>\n",
       "    </tr>\n",
       "    <tr>\n",
       "      <th>2</th>\n",
       "      <td>R-BTA-1369062</td>\n",
       "      <td>ABC transporters in lipid homeostasis</td>\n",
       "      <td>Bos taurus</td>\n",
       "    </tr>\n",
       "    <tr>\n",
       "      <th>3</th>\n",
       "      <td>R-BTA-382556</td>\n",
       "      <td>ABC-family proteins mediated transport</td>\n",
       "      <td>Bos taurus</td>\n",
       "    </tr>\n",
       "    <tr>\n",
       "      <th>4</th>\n",
       "      <td>R-BTA-9033807</td>\n",
       "      <td>ABO blood group biosynthesis</td>\n",
       "      <td>Bos taurus</td>\n",
       "    </tr>\n",
       "  </tbody>\n",
       "</table>\n",
       "</div>"
      ],
      "text/plain": [
       "             RID                                               name  \\\n",
       "0    R-BTA-73843         5-Phosphoribose 1-diphosphate biosynthesis   \n",
       "1  R-BTA-1971475  A tetrasaccharide linker sequence is required ...   \n",
       "2  R-BTA-1369062              ABC transporters in lipid homeostasis   \n",
       "3   R-BTA-382556             ABC-family proteins mediated transport   \n",
       "4  R-BTA-9033807                       ABO blood group biosynthesis   \n",
       "\n",
       "      species  \n",
       "0  Bos taurus  \n",
       "1  Bos taurus  \n",
       "2  Bos taurus  \n",
       "3  Bos taurus  \n",
       "4  Bos taurus  "
      ]
     },
     "execution_count": 6,
     "metadata": {},
     "output_type": "execute_result"
    }
   ],
   "source": [
    "df.head()"
   ]
  },
  {
   "cell_type": "code",
   "execution_count": 7,
   "metadata": {},
   "outputs": [
    {
     "data": {
      "text/html": [
       "<div>\n",
       "<style scoped>\n",
       "    .dataframe tbody tr th:only-of-type {\n",
       "        vertical-align: middle;\n",
       "    }\n",
       "\n",
       "    .dataframe tbody tr th {\n",
       "        vertical-align: top;\n",
       "    }\n",
       "\n",
       "    .dataframe thead th {\n",
       "        text-align: right;\n",
       "    }\n",
       "</style>\n",
       "<table border=\"1\" class=\"dataframe\">\n",
       "  <thead>\n",
       "    <tr style=\"text-align: right;\">\n",
       "      <th></th>\n",
       "      <th>RID</th>\n",
       "      <th>name</th>\n",
       "      <th>species</th>\n",
       "    </tr>\n",
       "  </thead>\n",
       "  <tbody>\n",
       "    <tr>\n",
       "      <th>0</th>\n",
       "      <td>R-HSA-164843</td>\n",
       "      <td>2-LTR circle formation</td>\n",
       "      <td>Homo sapiens</td>\n",
       "    </tr>\n",
       "    <tr>\n",
       "      <th>1</th>\n",
       "      <td>R-HSA-73843</td>\n",
       "      <td>5-Phosphoribose 1-diphosphate biosynthesis</td>\n",
       "      <td>Homo sapiens</td>\n",
       "    </tr>\n",
       "    <tr>\n",
       "      <th>2</th>\n",
       "      <td>R-HSA-1971475</td>\n",
       "      <td>A tetrasaccharide linker sequence is required ...</td>\n",
       "      <td>Homo sapiens</td>\n",
       "    </tr>\n",
       "    <tr>\n",
       "      <th>3</th>\n",
       "      <td>R-HSA-5619084</td>\n",
       "      <td>ABC transporter disorders</td>\n",
       "      <td>Homo sapiens</td>\n",
       "    </tr>\n",
       "    <tr>\n",
       "      <th>4</th>\n",
       "      <td>R-HSA-1369062</td>\n",
       "      <td>ABC transporters in lipid homeostasis</td>\n",
       "      <td>Homo sapiens</td>\n",
       "    </tr>\n",
       "  </tbody>\n",
       "</table>\n",
       "</div>"
      ],
      "text/plain": [
       "             RID                                               name  \\\n",
       "0   R-HSA-164843                             2-LTR circle formation   \n",
       "1    R-HSA-73843         5-Phosphoribose 1-diphosphate biosynthesis   \n",
       "2  R-HSA-1971475  A tetrasaccharide linker sequence is required ...   \n",
       "3  R-HSA-5619084                          ABC transporter disorders   \n",
       "4  R-HSA-1369062              ABC transporters in lipid homeostasis   \n",
       "\n",
       "        species  \n",
       "0  Homo sapiens  \n",
       "1  Homo sapiens  \n",
       "2  Homo sapiens  \n",
       "3  Homo sapiens  \n",
       "4  Homo sapiens  "
      ]
     },
     "execution_count": 7,
     "metadata": {},
     "output_type": "execute_result"
    }
   ],
   "source": [
    "hdf.head()"
   ]
  },
  {
   "cell_type": "markdown",
   "metadata": {},
   "source": [
    "#### Creates pathway dictionary\n",
    "- A dictionary for each pathway is created\n",
    "- In the format:\n",
    "                        [{\"rid\": XXXX,\\\n",
    "                          \"name\" : XXXX,\\\n",
    "                          \"species\": XXXX}]\n",
    "- A list of dictionaries (aka list of pathways) is written to a file\n",
    "- Two dictionaries are written, one for all pathways and one for pathways only in humans"
   ]
  },
  {
   "cell_type": "code",
   "execution_count": 8,
   "metadata": {},
   "outputs": [],
   "source": [
    "allPathways = []\n",
    "for r,n,s in zip(df['RID'],df['name'], df['species']):\n",
    "    allPathways.append({\"rid\":r, \"name\":n.lower(), \"species\":s.lower()})"
   ]
  },
  {
   "cell_type": "code",
   "execution_count": 9,
   "metadata": {},
   "outputs": [
    {
     "data": {
      "text/plain": [
       "{'name': '5-phosphoribose 1-diphosphate biosynthesis',\n",
       " 'rid': 'R-BTA-73843',\n",
       " 'species': 'bos taurus'}"
      ]
     },
     "execution_count": 9,
     "metadata": {},
     "output_type": "execute_result"
    }
   ],
   "source": [
    "allPathways[0]"
   ]
  },
  {
   "cell_type": "code",
   "execution_count": 10,
   "metadata": {},
   "outputs": [],
   "source": [
    "with open(\"pathway_dict.json\", 'w') as pd:\n",
    "    json.dump(allPathways, pd)"
   ]
  },
  {
   "cell_type": "code",
   "execution_count": 11,
   "metadata": {},
   "outputs": [],
   "source": [
    "humanPathways = []\n",
    "for r,n,s in zip(hdf['RID'],hdf['name'], hdf['species']):\n",
    "    humanPathways.append({\"rid\":r, \"name\":n.lower(), \"species\":s.lower()})"
   ]
  },
  {
   "cell_type": "code",
   "execution_count": 12,
   "metadata": {},
   "outputs": [],
   "source": [
    "with open(\"human_pathway_dict.json\", 'w') as hpd:\n",
    "    json.dump(humanPathways, hpd)"
   ]
  },
  {
   "cell_type": "code",
   "execution_count": null,
   "metadata": {},
   "outputs": [],
   "source": []
  }
 ],
 "metadata": {
  "kernelspec": {
   "display_name": "Python 3",
   "language": "python",
   "name": "python3"
  },
  "language_info": {
   "codemirror_mode": {
    "name": "ipython",
    "version": 3
   },
   "file_extension": ".py",
   "mimetype": "text/x-python",
   "name": "python",
   "nbconvert_exporter": "python",
   "pygments_lexer": "ipython3",
   "version": "3.6.6"
  }
 },
 "nbformat": 4,
 "nbformat_minor": 2
}
